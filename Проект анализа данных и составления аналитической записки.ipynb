{
 "cells": [
  {
   "cell_type": "markdown",
   "id": "1dc71934",
   "metadata": {
    "id": "e06910dd"
   },
   "source": [
    "# Проверка гипотезы в Python и составление аналитической записки\n",
    "\n",
    "- Автор: Гена Гордиевский\n",
    "- Дата: 10.03.2025"
   ]
  },
  {
   "cell_type": "markdown",
   "id": "33190501",
   "metadata": {
    "id": "4149134c"
   },
   "source": [
    "## Цели и задачи проекта\n",
    "\n",
    "Необходимо проверить гипотезу о активности пользователей из Санкт-Петербурга и Москвы. Посмотреть наличие дубликатов в идентификаторах пользователей. Сравнить размеры групп, их статистики и распределение."
   ]
  },
  {
   "cell_type": "markdown",
   "id": "ec45002e",
   "metadata": {
    "id": "728986ea"
   },
   "source": [
    "## Описание данных\n",
    "\n",
    "Данные включают в себя следующее: \n",
    "\n",
    "puid - идентификатор пользователя;\n",
    "\n",
    "hours - количество часов активности;\n",
    "\n",
    "city - город активности пользователя."
   ]
  },
  {
   "cell_type": "markdown",
   "id": "152e1e42",
   "metadata": {
    "id": "4fecaf95"
   },
   "source": [
    "## Содержимое проекта\n",
    "\n",
    "- Подключение библиотек;\n",
    "\n",
    "- Загрузка данных;\n",
    "\n",
    "- Просмотр данных;\n",
    "\n",
    "- Проверка на дубликаты;\n",
    "\n",
    "- Проверка распределения данных;\n",
    "\n",
    "- Проверка гипотез."
   ]
  },
  {
   "cell_type": "markdown",
   "id": "4a1e71cf",
   "metadata": {
    "id": "6f7d21d6"
   },
   "source": [
    "## 1. Загрузка данных и знакомство с ними\n",
    "\n",
    "Загрузите данные пользователей из Москвы и Санкт-Петербурга c их активностью (суммой часов чтения и прослушивания) из файла `/datasets/yandex_knigi_data.csv`."
   ]
  },
  {
   "cell_type": "code",
   "execution_count": 1,
   "id": "b62d1f47",
   "metadata": {
    "id": "05faf34b"
   },
   "outputs": [],
   "source": [
    "import pandas as pd\n",
    "import matplotlib.pyplot as plt\n",
    "import seaborn as sns\n",
    "import numpy as np\n",
    "from scipy import stats"
   ]
  },
  {
   "cell_type": "code",
   "execution_count": 2,
   "id": "0f509635",
   "metadata": {
    "id": "ce87c1db"
   },
   "outputs": [],
   "source": [
    "PATH = \"https://code.s3.yandex.net/datasets/\" #Сделаем как ссылку\n",
    "knigi = pd.read_csv(PATH + 'yandex_knigi_data.csv')"
   ]
  },
  {
   "cell_type": "code",
   "execution_count": 3,
   "id": "66f0e27b",
   "metadata": {
    "id": "f68a7419"
   },
   "outputs": [
    {
     "data": {
      "text/html": [
       "<div>\n",
       "<style scoped>\n",
       "    .dataframe tbody tr th:only-of-type {\n",
       "        vertical-align: middle;\n",
       "    }\n",
       "\n",
       "    .dataframe tbody tr th {\n",
       "        vertical-align: top;\n",
       "    }\n",
       "\n",
       "    .dataframe thead th {\n",
       "        text-align: right;\n",
       "    }\n",
       "</style>\n",
       "<table border=\"1\" class=\"dataframe\">\n",
       "  <thead>\n",
       "    <tr style=\"text-align: right;\">\n",
       "      <th></th>\n",
       "      <th>Unnamed: 0</th>\n",
       "      <th>city</th>\n",
       "      <th>puid</th>\n",
       "      <th>hours</th>\n",
       "    </tr>\n",
       "  </thead>\n",
       "  <tbody>\n",
       "    <tr>\n",
       "      <th>0</th>\n",
       "      <td>0</td>\n",
       "      <td>Москва</td>\n",
       "      <td>9668</td>\n",
       "      <td>26.167776</td>\n",
       "    </tr>\n",
       "    <tr>\n",
       "      <th>1</th>\n",
       "      <td>1</td>\n",
       "      <td>Москва</td>\n",
       "      <td>16598</td>\n",
       "      <td>82.111217</td>\n",
       "    </tr>\n",
       "    <tr>\n",
       "      <th>2</th>\n",
       "      <td>2</td>\n",
       "      <td>Москва</td>\n",
       "      <td>80401</td>\n",
       "      <td>4.656906</td>\n",
       "    </tr>\n",
       "    <tr>\n",
       "      <th>3</th>\n",
       "      <td>3</td>\n",
       "      <td>Москва</td>\n",
       "      <td>140205</td>\n",
       "      <td>1.840556</td>\n",
       "    </tr>\n",
       "    <tr>\n",
       "      <th>4</th>\n",
       "      <td>4</td>\n",
       "      <td>Москва</td>\n",
       "      <td>248755</td>\n",
       "      <td>151.326434</td>\n",
       "    </tr>\n",
       "  </tbody>\n",
       "</table>\n",
       "</div>"
      ],
      "text/plain": [
       "   Unnamed: 0    city    puid       hours\n",
       "0           0  Москва    9668   26.167776\n",
       "1           1  Москва   16598   82.111217\n",
       "2           2  Москва   80401    4.656906\n",
       "3           3  Москва  140205    1.840556\n",
       "4           4  Москва  248755  151.326434"
      ]
     },
     "metadata": {},
     "output_type": "display_data"
    }
   ],
   "source": [
    "display(knigi.head())"
   ]
  },
  {
   "cell_type": "code",
   "execution_count": 4,
   "id": "0d132c4b",
   "metadata": {},
   "outputs": [
    {
     "data": {
      "text/html": [
       "<div>\n",
       "<style scoped>\n",
       "    .dataframe tbody tr th:only-of-type {\n",
       "        vertical-align: middle;\n",
       "    }\n",
       "\n",
       "    .dataframe tbody tr th {\n",
       "        vertical-align: top;\n",
       "    }\n",
       "\n",
       "    .dataframe thead th {\n",
       "        text-align: right;\n",
       "    }\n",
       "</style>\n",
       "<table border=\"1\" class=\"dataframe\">\n",
       "  <thead>\n",
       "    <tr style=\"text-align: right;\">\n",
       "      <th></th>\n",
       "      <th>Unnamed: 0</th>\n",
       "      <th>puid</th>\n",
       "      <th>hours</th>\n",
       "    </tr>\n",
       "  </thead>\n",
       "  <tbody>\n",
       "    <tr>\n",
       "      <th>count</th>\n",
       "      <td>8784.000000</td>\n",
       "      <td>8.784000e+03</td>\n",
       "      <td>8784.000000</td>\n",
       "    </tr>\n",
       "    <tr>\n",
       "      <th>mean</th>\n",
       "      <td>4391.500000</td>\n",
       "      <td>1.029234e+13</td>\n",
       "      <td>11.087670</td>\n",
       "    </tr>\n",
       "    <tr>\n",
       "      <th>std</th>\n",
       "      <td>2535.866716</td>\n",
       "      <td>1.073532e+14</td>\n",
       "      <td>37.701350</td>\n",
       "    </tr>\n",
       "    <tr>\n",
       "      <th>min</th>\n",
       "      <td>0.000000</td>\n",
       "      <td>9.668000e+03</td>\n",
       "      <td>0.000018</td>\n",
       "    </tr>\n",
       "    <tr>\n",
       "      <th>25%</th>\n",
       "      <td>2195.750000</td>\n",
       "      <td>3.239271e+08</td>\n",
       "      <td>0.066246</td>\n",
       "    </tr>\n",
       "    <tr>\n",
       "      <th>50%</th>\n",
       "      <td>4391.500000</td>\n",
       "      <td>8.828218e+08</td>\n",
       "      <td>0.942344</td>\n",
       "    </tr>\n",
       "    <tr>\n",
       "      <th>75%</th>\n",
       "      <td>6587.250000</td>\n",
       "      <td>1.516464e+09</td>\n",
       "      <td>6.065151</td>\n",
       "    </tr>\n",
       "    <tr>\n",
       "      <th>max</th>\n",
       "      <td>8783.000000</td>\n",
       "      <td>1.130000e+15</td>\n",
       "      <td>978.764775</td>\n",
       "    </tr>\n",
       "  </tbody>\n",
       "</table>\n",
       "</div>"
      ],
      "text/plain": [
       "        Unnamed: 0          puid        hours\n",
       "count  8784.000000  8.784000e+03  8784.000000\n",
       "mean   4391.500000  1.029234e+13    11.087670\n",
       "std    2535.866716  1.073532e+14    37.701350\n",
       "min       0.000000  9.668000e+03     0.000018\n",
       "25%    2195.750000  3.239271e+08     0.066246\n",
       "50%    4391.500000  8.828218e+08     0.942344\n",
       "75%    6587.250000  1.516464e+09     6.065151\n",
       "max    8783.000000  1.130000e+15   978.764775"
      ]
     },
     "metadata": {},
     "output_type": "display_data"
    }
   ],
   "source": [
    "display(knigi.describe())"
   ]
  },
  {
   "cell_type": "code",
   "execution_count": 5,
   "id": "f47acea1",
   "metadata": {},
   "outputs": [
    {
     "data": {
      "text/plain": [
       "'Дубликаты по идентификаторам пользователей:'"
      ]
     },
     "metadata": {},
     "output_type": "display_data"
    },
    {
     "data": {
      "text/html": [
       "<div>\n",
       "<style scoped>\n",
       "    .dataframe tbody tr th:only-of-type {\n",
       "        vertical-align: middle;\n",
       "    }\n",
       "\n",
       "    .dataframe tbody tr th {\n",
       "        vertical-align: top;\n",
       "    }\n",
       "\n",
       "    .dataframe thead th {\n",
       "        text-align: right;\n",
       "    }\n",
       "</style>\n",
       "<table border=\"1\" class=\"dataframe\">\n",
       "  <thead>\n",
       "    <tr style=\"text-align: right;\">\n",
       "      <th></th>\n",
       "      <th>Unnamed: 0</th>\n",
       "      <th>city</th>\n",
       "      <th>puid</th>\n",
       "      <th>hours</th>\n",
       "    </tr>\n",
       "  </thead>\n",
       "  <tbody>\n",
       "    <tr>\n",
       "      <th>35</th>\n",
       "      <td>35</td>\n",
       "      <td>Москва</td>\n",
       "      <td>2637041</td>\n",
       "      <td>10.317371</td>\n",
       "    </tr>\n",
       "    <tr>\n",
       "      <th>134</th>\n",
       "      <td>134</td>\n",
       "      <td>Москва</td>\n",
       "      <td>9979490</td>\n",
       "      <td>32.415573</td>\n",
       "    </tr>\n",
       "    <tr>\n",
       "      <th>145</th>\n",
       "      <td>145</td>\n",
       "      <td>Москва</td>\n",
       "      <td>10597984</td>\n",
       "      <td>42.931506</td>\n",
       "    </tr>\n",
       "    <tr>\n",
       "      <th>150</th>\n",
       "      <td>150</td>\n",
       "      <td>Москва</td>\n",
       "      <td>10815097</td>\n",
       "      <td>9.086655</td>\n",
       "    </tr>\n",
       "    <tr>\n",
       "      <th>187</th>\n",
       "      <td>187</td>\n",
       "      <td>Москва</td>\n",
       "      <td>13626259</td>\n",
       "      <td>21.104167</td>\n",
       "    </tr>\n",
       "    <tr>\n",
       "      <th>...</th>\n",
       "      <td>...</td>\n",
       "      <td>...</td>\n",
       "      <td>...</td>\n",
       "      <td>...</td>\n",
       "    </tr>\n",
       "    <tr>\n",
       "      <th>8771</th>\n",
       "      <td>8771</td>\n",
       "      <td>Санкт-Петербург</td>\n",
       "      <td>1130000018516717</td>\n",
       "      <td>0.517778</td>\n",
       "    </tr>\n",
       "    <tr>\n",
       "      <th>8772</th>\n",
       "      <td>8772</td>\n",
       "      <td>Санкт-Петербург</td>\n",
       "      <td>1130000018954257</td>\n",
       "      <td>33.583294</td>\n",
       "    </tr>\n",
       "    <tr>\n",
       "      <th>8773</th>\n",
       "      <td>8773</td>\n",
       "      <td>Санкт-Петербург</td>\n",
       "      <td>1130000020425037</td>\n",
       "      <td>2.386944</td>\n",
       "    </tr>\n",
       "    <tr>\n",
       "      <th>8775</th>\n",
       "      <td>8775</td>\n",
       "      <td>Санкт-Петербург</td>\n",
       "      <td>1130000023864516</td>\n",
       "      <td>14.384722</td>\n",
       "    </tr>\n",
       "    <tr>\n",
       "      <th>8779</th>\n",
       "      <td>8779</td>\n",
       "      <td>Санкт-Петербург</td>\n",
       "      <td>1130000028554332</td>\n",
       "      <td>4.107774</td>\n",
       "    </tr>\n",
       "  </tbody>\n",
       "</table>\n",
       "<p>488 rows × 4 columns</p>\n",
       "</div>"
      ],
      "text/plain": [
       "      Unnamed: 0             city              puid      hours\n",
       "35            35           Москва           2637041  10.317371\n",
       "134          134           Москва           9979490  32.415573\n",
       "145          145           Москва          10597984  42.931506\n",
       "150          150           Москва          10815097   9.086655\n",
       "187          187           Москва          13626259  21.104167\n",
       "...          ...              ...               ...        ...\n",
       "8771        8771  Санкт-Петербург  1130000018516717   0.517778\n",
       "8772        8772  Санкт-Петербург  1130000018954257  33.583294\n",
       "8773        8773  Санкт-Петербург  1130000020425037   2.386944\n",
       "8775        8775  Санкт-Петербург  1130000023864516  14.384722\n",
       "8779        8779  Санкт-Петербург  1130000028554332   4.107774\n",
       "\n",
       "[488 rows x 4 columns]"
      ]
     },
     "metadata": {},
     "output_type": "display_data"
    },
    {
     "data": {
      "text/plain": [
       "'Количество дубликатов в идентификаторах пользователей:'"
      ]
     },
     "metadata": {},
     "output_type": "display_data"
    },
    {
     "data": {
      "text/plain": [
       "488"
      ]
     },
     "metadata": {},
     "output_type": "display_data"
    }
   ],
   "source": [
    "# Проверяем на дубликаты\n",
    "duplicates = knigi[knigi.duplicated(subset='puid', keep=False)]\n",
    "duplicate_count = knigi['puid'].duplicated(keep=False).sum()\n",
    "display(\"Дубликаты по идентификаторам пользователей:\", duplicates)\n",
    "display(\"Количество дубликатов в идентификаторах пользователей:\", duplicate_count)"
   ]
  },
  {
   "cell_type": "code",
   "execution_count": 6,
   "id": "155a76e5",
   "metadata": {},
   "outputs": [
    {
     "data": {
      "text/plain": [
       "'Размеры групп:'"
      ]
     },
     "metadata": {},
     "output_type": "display_data"
    },
    {
     "data": {
      "text/plain": [
       "Москва             6234\n",
       "Санкт-Петербург    2550\n",
       "Name: city, dtype: int64"
      ]
     },
     "metadata": {},
     "output_type": "display_data"
    }
   ],
   "source": [
    "# Размеры групп пользователей по городам\n",
    "group_sizes = knigi['city'].value_counts()\n",
    "display(\"Размеры групп:\", group_sizes)\n"
   ]
  },
  {
   "cell_type": "code",
   "execution_count": 7,
   "id": "86c00c73",
   "metadata": {},
   "outputs": [
    {
     "data": {
      "image/png": "[encoded data removed]",
      "text/plain": [
       "<Figure size 720x432 with 1 Axes>"
      ]
     },
     "metadata": {
      "needs_background": "light"
     },
     "output_type": "display_data"
    }
   ],
   "source": [
    "# Построим диаграмму \"ящик с усами\", посмотрим выбросы\n",
    "plt.figure(figsize=(10, 6))\n",
    "sns.boxplot(x='city', y='hours', data=knigi)\n",
    "plt.title('Распределение активности пользователей')\n",
    "plt.xlabel('Город пользователей')\n",
    "plt.ylabel('Часы активности пользователей')\n",
    "plt.xticks(rotation=0)\n",
    "plt.show()"
   ]
  },
  {
   "cell_type": "markdown",
   "id": "5d6db47f",
   "metadata": {
    "id": "956e82e2"
   },
   "source": [
    "## 2. Проверка гипотезы в Python\n",
    "\n",
    "Гипотеза звучит так: пользователи из Санкт-Петербурга проводят в среднем больше времени за чтением и прослушиванием книг в приложении, чем пользователи из Москвы. Попробуйте статистически это доказать, используя одностороннюю проверку гипотезы с двумя выборками:\n",
    "\n",
    "- Нулевая гипотеза H₀: Средняя активность пользователей в Санкт-Петербурге не выше, чем средняя активность пользователей в Москве.\n",
    "\n",
    "- Альтернативная гипотеза H₁: Средняя активность пользователей в Санкт-Петербурге выше, чем средняя активность пользователей в Москве."
   ]
  },
  {
   "cell_type": "code",
   "execution_count": 8,
   "id": "027a5e79",
   "metadata": {
    "scrolled": false
   },
   "outputs": [
    {
     "name": "stderr",
     "output_type": "stream",
     "text": [
      "/opt/conda/lib/python3.9/site-packages/scipy/stats/_morestats.py:1800: UserWarning: p-value may not be accurate for N > 5000.\n",
      "  warnings.warn(\"p-value may not be accurate for N > 5000.\")\n"
     ]
    },
    {
     "data": {
      "text/plain": [
       "'Данные для Москвы не распределены нормально.'"
      ]
     },
     "metadata": {},
     "output_type": "display_data"
    },
    {
     "data": {
      "text/plain": [
       "'Данные для Санкт-Петербурга не распределены нормально.'"
      ]
     },
     "metadata": {},
     "output_type": "display_data"
    },
    {
     "data": {
      "text/plain": [
       "Text(0.5, 1.0, 'Q-Q график для Санкт-Петербурга')"
      ]
     },
     "execution_count": 8,
     "metadata": {},
     "output_type": "execute_result"
    },
    {
     "data": {
      "image/png": "[encoded data removed]",
      "text/plain": [
       "<Figure size 864x432 with 2 Axes>"
      ]
     },
     "metadata": {
      "needs_background": "light"
     },
     "output_type": "display_data"
    }
   ],
   "source": [
    "# Проверим нормальность распредление данных\n",
    "moscow_hours = knigi[knigi['city'] == 'Москва']['hours']\n",
    "spb_hours = knigi[knigi['city'] == 'Санкт-Петербург']['hours']\n",
    "\n",
    "# Тест Шапиро-Уилка для проверки нормальности\n",
    "shapiro_moscow = stats.shapiro(moscow_hours)\n",
    "shapiro_spb = stats.shapiro(spb_hours)\n",
    "\n",
    "# Вывод по гипотезе\n",
    "alpha = 0.05\n",
    "if shapiro_moscow.pvalue < alpha:\n",
    "    display(\"Данные для Москвы не распределены нормально.\")\n",
    "else:\n",
    "    display(\"Данные для Москвы распределены нормально.\")\n",
    "\n",
    "if shapiro_spb.pvalue < alpha:\n",
    "    display(\"Данные для Санкт-Петербурга не распределены нормально.\")\n",
    "else:\n",
    "    display(\"Данные для Санкт-Петербурга распределены нормально.\")\n",
    "\n",
    "# Построим Q-Q графики (для более понятного восприятия)\n",
    "plt.figure(figsize=(12, 6))\n",
    "\n",
    "plt.subplot(1, 2, 1)\n",
    "stats.probplot(moscow_hours, dist=\"norm\", plot=plt)\n",
    "plt.title('Q-Q график для Москвы')\n",
    "\n",
    "plt.subplot(1, 2, 2)\n",
    "stats.probplot(spb_hours, dist=\"norm\", plot=plt)\n",
    "plt.title('Q-Q график для Санкт-Петербурга')\n"
   ]
  },
  {
   "cell_type": "code",
   "execution_count": 9,
   "id": "ff680317",
   "metadata": {
    "id": "67956690"
   },
   "outputs": [
    {
     "data": {
      "text/plain": [
       "'P-value для t-теста: 0.21101894136116772'"
      ]
     },
     "metadata": {},
     "output_type": "display_data"
    },
    {
     "data": {
      "text/plain": [
       "'Не можем отвергнуть нулевую гипотезу: различия между группами не статистически значимы.'"
      ]
     },
     "metadata": {},
     "output_type": "display_data"
    }
   ],
   "source": [
    "moscow_hours = knigi[knigi['city'] == 'Москва']['hours']\n",
    "spb_hours = knigi[knigi['city'] == 'Санкт-Петербург']['hours']\n",
    "\n",
    "# Проведем t-тест для независимых выборок\n",
    "t_stat, p_value = stats.ttest_ind(moscow_hours, spb_hours,  alternative='less')\n",
    "\n",
    "# Уровень значимости\n",
    "alpha = 0.05\n",
    "\n",
    "# Результат\n",
    "display(f'P-value для t-теста: {p_value}')\n",
    "\n",
    "# Вывод по гипотезе\n",
    "if p_value < alpha:\n",
    "    display(\"Отвергаем нулевую гипотезу: различия между группами статистически значимы.\")\n",
    "else:\n",
    "    display(\"Не можем отвергнуть нулевую гипотезу: различия между группами не статистически значимы.\")\n",
    "\n"
   ]
  },
  {
   "cell_type": "markdown",
   "id": "f1992757",
   "metadata": {
    "id": "6953e84c"
   },
   "source": [
    "## 3. Аналитическая записка\n",
    "По результатам анализа данных подготовьте аналитическую записку, в которой опишете:\n",
    "\n",
    "- Выбранный тип t-теста и уровень статистической значимости.\n",
    "\n",
    "- Результат теста, или p-value.\n",
    "\n",
    "- Вывод на основе полученного p-value, то есть интерпретацию результатов.\n",
    "\n",
    "- Одну или две возможные причины, объясняющие полученные результаты.\n",
    "\n"
   ]
  },
  {
   "cell_type": "markdown",
   "id": "1e12c333",
   "metadata": {},
   "source": [
    "Для проверки нормальности распределения данных применялся тест Шапиро-Уилка. Он показал нам, что данные не распределены нормально. После был проведена односторонняя проверка гипотезы (t-тест), в которой p-value=0.7889(), что больше alpha=0,05, это говорит о необходимости отвергнуть нулевую гипотезу (часов активности в СПБ не больше чем в МСК).\n",
    "Возможные причины:\n",
    "- В питере больше читают или слушают книги;\n",
    "- Могут быть ошибки в обработке данных, выбраны не правильные методы проверки.\n"
   ]
  }
 ],
 "metadata": {
  "ExecuteTimeLog": [
   {
    "duration": 62,
    "start_time": "2025-03-11T19:20:59.018Z"
   },
   {
    "duration": 420,
    "start_time": "2025-03-11T19:21:09.576Z"
   },
   {
    "duration": 87,
    "start_time": "2025-03-11T19:21:11.432Z"
   },
   {
    "duration": 65,
    "start_time": "2025-03-11T19:22:04.503Z"
   },
   {
    "duration": 41,
    "start_time": "2025-03-11T19:22:13.552Z"
   },
   {
    "duration": 14,
    "start_time": "2025-03-11T19:22:14.146Z"
   },
   {
    "duration": 9,
    "start_time": "2025-03-11T19:22:20.650Z"
   },
   {
    "duration": 13,
    "start_time": "2025-03-11T19:22:25.537Z"
   },
   {
    "duration": 8,
    "start_time": "2025-03-11T19:22:32.033Z"
   },
   {
    "duration": 1604,
    "start_time": "2025-03-11T19:25:01.028Z"
   },
   {
    "duration": 5,
    "start_time": "2025-03-11T19:26:10.916Z"
   },
   {
    "duration": 4,
    "start_time": "2025-03-11T19:26:28.342Z"
   },
   {
    "duration": 18,
    "start_time": "2025-03-11T19:27:05.275Z"
   },
   {
    "duration": 9,
    "start_time": "2025-03-11T19:27:52.529Z"
   },
   {
    "duration": 5,
    "start_time": "2025-03-11T19:28:57.649Z"
   },
   {
    "duration": 28,
    "start_time": "2025-03-11T19:29:30.149Z"
   },
   {
    "duration": 427,
    "start_time": "2025-03-11T19:29:48.983Z"
   },
   {
    "duration": 400,
    "start_time": "2025-03-11T19:29:59.960Z"
   },
   {
    "duration": 22,
    "start_time": "2025-03-11T19:32:15.369Z"
   },
   {
    "duration": 591,
    "start_time": "2025-03-11T19:32:32.299Z"
   },
   {
    "duration": 42,
    "start_time": "2025-03-11T19:32:36.156Z"
   },
   {
    "duration": 18,
    "start_time": "2025-03-11T19:32:51.373Z"
   },
   {
    "duration": 16,
    "start_time": "2025-03-11T19:35:25.520Z"
   },
   {
    "duration": 23,
    "start_time": "2025-03-11T19:35:44.250Z"
   },
   {
    "duration": 17,
    "start_time": "2025-03-11T19:36:01.829Z"
   },
   {
    "duration": 20,
    "start_time": "2025-03-11T19:36:26.623Z"
   },
   {
    "duration": 17,
    "start_time": "2025-03-11T19:36:36.592Z"
   },
   {
    "duration": 39,
    "start_time": "2025-03-11T19:39:22.317Z"
   },
   {
    "duration": 23,
    "start_time": "2025-03-11T19:40:01.626Z"
   },
   {
    "duration": 57,
    "start_time": "2025-03-11T19:42:50.351Z"
   },
   {
    "duration": 7,
    "start_time": "2025-03-11T19:42:57.184Z"
   },
   {
    "duration": 15,
    "start_time": "2025-03-11T19:45:59.431Z"
   },
   {
    "duration": 16,
    "start_time": "2025-03-11T19:46:48.933Z"
   },
   {
    "duration": 239,
    "start_time": "2025-03-11T19:47:28.714Z"
   },
   {
    "duration": 150,
    "start_time": "2025-03-11T19:48:43.068Z"
   },
   {
    "duration": 129,
    "start_time": "2025-03-11T19:51:46.715Z"
   },
   {
    "duration": 17,
    "start_time": "2025-03-11T19:52:51.795Z"
   },
   {
    "duration": 1198,
    "start_time": "2025-03-11T19:54:00.412Z"
   },
   {
    "duration": 1150,
    "start_time": "2025-03-11T19:54:13.733Z"
   },
   {
    "duration": 166,
    "start_time": "2025-03-11T19:54:21.102Z"
   },
   {
    "duration": 171,
    "start_time": "2025-03-11T19:54:32.680Z"
   },
   {
    "duration": 166,
    "start_time": "2025-03-11T19:54:39.472Z"
   },
   {
    "duration": 144,
    "start_time": "2025-03-11T19:54:54.051Z"
   },
   {
    "duration": 154,
    "start_time": "2025-03-11T19:55:58.682Z"
   },
   {
    "duration": 161,
    "start_time": "2025-03-11T19:57:00.762Z"
   },
   {
    "duration": 141,
    "start_time": "2025-03-11T19:57:07.051Z"
   },
   {
    "duration": 151,
    "start_time": "2025-03-11T19:57:16.596Z"
   },
   {
    "duration": 3,
    "start_time": "2025-03-11T19:59:41.421Z"
   },
   {
    "duration": 17,
    "start_time": "2025-03-11T20:01:17.578Z"
   },
   {
    "duration": 128,
    "start_time": "2025-03-11T20:01:32.909Z"
   },
   {
    "duration": 68,
    "start_time": "2025-03-11T20:01:55.391Z"
   },
   {
    "duration": 65,
    "start_time": "2025-03-11T20:02:08.633Z"
   },
   {
    "duration": 62,
    "start_time": "2025-03-11T20:02:43.861Z"
   },
   {
    "duration": 65,
    "start_time": "2025-03-11T20:02:52.950Z"
   },
   {
    "duration": 66,
    "start_time": "2025-03-11T20:03:11.912Z"
   },
   {
    "duration": 15,
    "start_time": "2025-03-11T20:04:49.092Z"
   },
   {
    "duration": 16,
    "start_time": "2025-03-11T20:05:55.372Z"
   },
   {
    "duration": 17,
    "start_time": "2025-03-11T20:06:22.239Z"
   },
   {
    "duration": 149,
    "start_time": "2025-03-11T20:06:51.452Z"
   },
   {
    "duration": 17,
    "start_time": "2025-03-11T20:07:07.381Z"
   },
   {
    "duration": 151,
    "start_time": "2025-03-11T20:07:11.886Z"
   },
   {
    "duration": 61,
    "start_time": "2025-03-11T20:09:04.045Z"
   },
   {
    "duration": 68,
    "start_time": "2025-03-11T20:09:12.557Z"
   },
   {
    "duration": 68,
    "start_time": "2025-03-11T20:09:36.545Z"
   },
   {
    "duration": 72,
    "start_time": "2025-03-11T20:10:37.000Z"
   },
   {
    "duration": 55,
    "start_time": "2025-03-11T20:11:09.323Z"
   },
   {
    "duration": 65,
    "start_time": "2025-03-11T20:11:16.244Z"
   },
   {
    "duration": 19,
    "start_time": "2025-03-11T20:11:59.858Z"
   },
   {
    "duration": 7,
    "start_time": "2025-03-11T20:12:02.610Z"
   },
   {
    "duration": 47,
    "start_time": "2025-03-11T20:12:03.642Z"
   },
   {
    "duration": 19,
    "start_time": "2025-03-11T20:13:24.180Z"
   },
   {
    "duration": 8,
    "start_time": "2025-03-11T20:13:24.612Z"
   },
   {
    "duration": 51,
    "start_time": "2025-03-11T20:13:25.117Z"
   },
   {
    "duration": 47,
    "start_time": "2025-03-11T20:13:53.072Z"
   },
   {
    "duration": 150,
    "start_time": "2025-03-11T20:14:58.027Z"
   },
   {
    "duration": 3,
    "start_time": "2025-03-11T20:16:24.219Z"
   },
   {
    "duration": 94,
    "start_time": "2025-03-11T20:16:24.730Z"
   },
   {
    "duration": 9,
    "start_time": "2025-03-11T20:16:25.147Z"
   },
   {
    "duration": 19,
    "start_time": "2025-03-11T20:16:25.555Z"
   },
   {
    "duration": 18,
    "start_time": "2025-03-11T20:16:25.970Z"
   },
   {
    "duration": 8,
    "start_time": "2025-03-11T20:16:26.379Z"
   },
   {
    "duration": 46,
    "start_time": "2025-03-11T20:16:26.843Z"
   },
   {
    "duration": 152,
    "start_time": "2025-03-11T20:16:27.355Z"
   },
   {
    "duration": 1374,
    "start_time": "2025-03-11T20:16:57.743Z"
   },
   {
    "duration": 9,
    "start_time": "2025-03-11T20:17:12.457Z"
   },
   {
    "duration": 12,
    "start_time": "2025-03-11T20:17:40.484Z"
   },
   {
    "duration": 12,
    "start_time": "2025-03-11T20:18:54.726Z"
   },
   {
    "duration": 12,
    "start_time": "2025-03-11T20:19:08.095Z"
   },
   {
    "duration": 13,
    "start_time": "2025-03-11T20:20:01.590Z"
   },
   {
    "duration": 13,
    "start_time": "2025-03-11T20:22:07.766Z"
   },
   {
    "duration": 11,
    "start_time": "2025-03-11T20:23:22.855Z"
   },
   {
    "duration": 10,
    "start_time": "2025-03-11T20:25:50.026Z"
   },
   {
    "duration": 807,
    "start_time": "2025-03-11T20:26:28.550Z"
   },
   {
    "duration": 775,
    "start_time": "2025-03-11T20:27:00.715Z"
   },
   {
    "duration": 12,
    "start_time": "2025-03-11T20:30:10.019Z"
   },
   {
    "duration": 10,
    "start_time": "2025-03-11T20:30:43.671Z"
   },
   {
    "duration": 11,
    "start_time": "2025-03-11T20:30:58.608Z"
   },
   {
    "duration": 859,
    "start_time": "2025-03-11T20:32:15.177Z"
   },
   {
    "duration": 327,
    "start_time": "2025-03-11T20:32:50.854Z"
   },
   {
    "duration": 11,
    "start_time": "2025-03-11T20:34:17.705Z"
   },
   {
    "duration": 18,
    "start_time": "2025-03-11T20:44:59.217Z"
   },
   {
    "duration": 9,
    "start_time": "2025-03-11T20:45:00.049Z"
   },
   {
    "duration": 50,
    "start_time": "2025-03-11T20:45:00.616Z"
   },
   {
    "duration": 152,
    "start_time": "2025-03-11T20:45:01.065Z"
   },
   {
    "duration": 323,
    "start_time": "2025-03-11T20:45:03.178Z"
   },
   {
    "duration": 1188,
    "start_time": "2025-03-11T20:59:50.435Z"
   },
   {
    "duration": 58,
    "start_time": "2025-03-11T20:59:51.625Z"
   },
   {
    "duration": 12,
    "start_time": "2025-03-11T20:59:51.684Z"
   },
   {
    "duration": 17,
    "start_time": "2025-03-11T20:59:51.698Z"
   },
   {
    "duration": 18,
    "start_time": "2025-03-11T20:59:51.717Z"
   },
   {
    "duration": 7,
    "start_time": "2025-03-11T20:59:51.737Z"
   },
   {
    "duration": 73,
    "start_time": "2025-03-11T20:59:51.745Z"
   },
   {
    "duration": 153,
    "start_time": "2025-03-11T20:59:51.820Z"
   },
   {
    "duration": 278,
    "start_time": "2025-03-11T20:59:51.976Z"
   },
   {
    "duration": 11,
    "start_time": "2025-03-11T20:59:52.258Z"
   },
   {
    "duration": 115,
    "start_time": "2025-03-11T21:00:40.870Z"
   },
   {
    "duration": 19,
    "start_time": "2025-03-11T21:00:48.159Z"
   },
   {
    "duration": 1225,
    "start_time": "2025-03-11T21:15:26.581Z"
   },
   {
    "duration": 57,
    "start_time": "2025-03-11T21:15:27.808Z"
   },
   {
    "duration": 13,
    "start_time": "2025-03-11T21:15:27.867Z"
   },
   {
    "duration": 21,
    "start_time": "2025-03-11T21:15:27.881Z"
   },
   {
    "duration": 16,
    "start_time": "2025-03-11T21:15:27.904Z"
   },
   {
    "duration": 6,
    "start_time": "2025-03-11T21:15:27.922Z"
   },
   {
    "duration": 62,
    "start_time": "2025-03-11T21:15:27.929Z"
   },
   {
    "duration": 168,
    "start_time": "2025-03-11T21:15:27.993Z"
   },
   {
    "duration": 275,
    "start_time": "2025-03-11T21:15:28.163Z"
   },
   {
    "duration": 10,
    "start_time": "2025-03-11T21:15:28.440Z"
   },
   {
    "duration": 1115,
    "start_time": "2025-03-11T21:16:16.632Z"
   },
   {
    "duration": 62,
    "start_time": "2025-03-11T21:16:17.749Z"
   },
   {
    "duration": 11,
    "start_time": "2025-03-11T21:16:17.813Z"
   },
   {
    "duration": 41,
    "start_time": "2025-03-11T21:16:17.826Z"
   },
   {
    "duration": 15,
    "start_time": "2025-03-11T21:16:17.869Z"
   },
   {
    "duration": 13,
    "start_time": "2025-03-11T21:16:17.886Z"
   },
   {
    "duration": 49,
    "start_time": "2025-03-11T21:16:17.904Z"
   },
   {
    "duration": 165,
    "start_time": "2025-03-11T21:16:17.954Z"
   },
   {
    "duration": 269,
    "start_time": "2025-03-11T21:16:18.120Z"
   },
   {
    "duration": 16,
    "start_time": "2025-03-11T21:16:18.391Z"
   },
   {
    "duration": 53,
    "start_time": "2025-03-12T17:38:28.083Z"
   },
   {
    "duration": 1199,
    "start_time": "2025-03-12T17:38:35.090Z"
   },
   {
    "duration": 143,
    "start_time": "2025-03-12T17:38:36.291Z"
   },
   {
    "duration": 13,
    "start_time": "2025-03-12T17:38:36.436Z"
   },
   {
    "duration": 109,
    "start_time": "2025-03-12T17:38:36.451Z"
   },
   {
    "duration": 31,
    "start_time": "2025-03-12T17:38:36.562Z"
   },
   {
    "duration": 41,
    "start_time": "2025-03-12T17:38:36.594Z"
   },
   {
    "duration": 54,
    "start_time": "2025-03-12T17:38:36.637Z"
   },
   {
    "duration": 155,
    "start_time": "2025-03-12T17:38:36.692Z"
   },
   {
    "duration": 303,
    "start_time": "2025-03-12T17:38:36.849Z"
   },
   {
    "duration": 23,
    "start_time": "2025-03-12T17:38:37.154Z"
   },
   {
    "duration": 1339,
    "start_time": "2025-03-12T17:58:32.246Z"
   },
   {
    "duration": 70,
    "start_time": "2025-03-12T17:58:33.587Z"
   },
   {
    "duration": 13,
    "start_time": "2025-03-12T17:58:33.659Z"
   },
   {
    "duration": 19,
    "start_time": "2025-03-12T17:58:33.687Z"
   },
   {
    "duration": 17,
    "start_time": "2025-03-12T17:58:33.708Z"
   },
   {
    "duration": 6,
    "start_time": "2025-03-12T17:58:33.727Z"
   },
   {
    "duration": 85,
    "start_time": "2025-03-12T17:58:33.735Z"
   },
   {
    "duration": 199,
    "start_time": "2025-03-12T17:58:33.821Z"
   },
   {
    "duration": 309,
    "start_time": "2025-03-12T17:58:34.022Z"
   },
   {
    "duration": 11,
    "start_time": "2025-03-12T17:58:34.333Z"
   },
   {
    "duration": 49,
    "start_time": "2025-03-12T18:30:09.114Z"
   },
   {
    "duration": 1295,
    "start_time": "2025-03-12T18:30:16.710Z"
   },
   {
    "duration": 59,
    "start_time": "2025-03-12T18:30:18.007Z"
   },
   {
    "duration": 12,
    "start_time": "2025-03-12T18:30:18.067Z"
   },
   {
    "duration": 20,
    "start_time": "2025-03-12T18:30:18.910Z"
   },
   {
    "duration": 17,
    "start_time": "2025-03-12T18:30:19.486Z"
   },
   {
    "duration": 7,
    "start_time": "2025-03-12T18:30:21.126Z"
   },
   {
    "duration": 47,
    "start_time": "2025-03-12T18:30:21.710Z"
   },
   {
    "duration": 149,
    "start_time": "2025-03-12T18:30:22.911Z"
   },
   {
    "duration": 279,
    "start_time": "2025-03-12T18:30:25.463Z"
   },
   {
    "duration": 12,
    "start_time": "2025-03-12T18:30:27.063Z"
   },
   {
    "duration": 11,
    "start_time": "2025-03-12T19:26:10.724Z"
   },
   {
    "duration": 149,
    "start_time": "2025-03-12T19:27:06.106Z"
   },
   {
    "duration": 97,
    "start_time": "2025-03-12T19:44:54.724Z"
   },
   {
    "duration": 83,
    "start_time": "2025-03-12T19:45:14.582Z"
   },
   {
    "duration": 51,
    "start_time": "2025-03-12T19:45:21.615Z"
   },
   {
    "duration": 19,
    "start_time": "2025-03-12T19:46:53.171Z"
   },
   {
    "duration": 65,
    "start_time": "2025-03-12T19:47:04.284Z"
   },
   {
    "duration": 19,
    "start_time": "2025-03-12T19:47:08.613Z"
   },
   {
    "duration": 46,
    "start_time": "2025-03-12T19:47:16.741Z"
   },
   {
    "duration": 11,
    "start_time": "2025-03-12T19:48:03.924Z"
   },
   {
    "duration": 18,
    "start_time": "2025-03-12T19:48:11.301Z"
   },
   {
    "duration": 9,
    "start_time": "2025-03-12T19:48:34.136Z"
   },
   {
    "duration": 9,
    "start_time": "2025-03-12T19:48:38.543Z"
   },
   {
    "duration": 10,
    "start_time": "2025-03-12T19:48:45.377Z"
   },
   {
    "duration": 8,
    "start_time": "2025-03-12T19:48:53.858Z"
   },
   {
    "duration": 24,
    "start_time": "2025-03-12T19:49:26.557Z"
   },
   {
    "duration": 5,
    "start_time": "2025-03-12T19:51:35.879Z"
   },
   {
    "duration": 77,
    "start_time": "2025-03-12T19:55:22.883Z"
   },
   {
    "duration": 1242,
    "start_time": "2025-03-12T19:59:37.440Z"
   },
   {
    "duration": 44,
    "start_time": "2025-03-12T19:59:38.684Z"
   },
   {
    "duration": 12,
    "start_time": "2025-03-12T19:59:38.729Z"
   },
   {
    "duration": 21,
    "start_time": "2025-03-12T19:59:38.742Z"
   },
   {
    "duration": 18,
    "start_time": "2025-03-12T19:59:38.764Z"
   },
   {
    "duration": 26,
    "start_time": "2025-03-12T19:59:38.783Z"
   },
   {
    "duration": 152,
    "start_time": "2025-03-12T19:59:38.810Z"
   },
   {
    "duration": 308,
    "start_time": "2025-03-12T19:59:38.967Z"
   },
   {
    "duration": 11,
    "start_time": "2025-03-12T19:59:39.276Z"
   },
   {
    "duration": 1785,
    "start_time": "2025-03-13T06:46:22.555Z"
   },
   {
    "duration": 144,
    "start_time": "2025-03-13T06:46:24.342Z"
   },
   {
    "duration": 34,
    "start_time": "2025-03-13T06:46:24.487Z"
   },
   {
    "duration": 18,
    "start_time": "2025-03-13T06:46:24.523Z"
   },
   {
    "duration": 80,
    "start_time": "2025-03-13T06:46:24.543Z"
   },
   {
    "duration": 94,
    "start_time": "2025-03-13T06:46:24.625Z"
   },
   {
    "duration": 403,
    "start_time": "2025-03-13T06:46:24.722Z"
   },
   {
    "duration": 593,
    "start_time": "2025-03-13T06:46:25.127Z"
   },
   {
    "duration": 11,
    "start_time": "2025-03-13T06:46:25.722Z"
   },
   {
    "duration": 24,
    "start_time": "2025-03-13T06:50:28.965Z"
   },
   {
    "duration": 1245,
    "start_time": "2025-03-13T06:53:52.013Z"
   },
   {
    "duration": 83,
    "start_time": "2025-03-13T06:53:53.260Z"
   },
   {
    "duration": 12,
    "start_time": "2025-03-13T06:53:53.344Z"
   },
   {
    "duration": 18,
    "start_time": "2025-03-13T06:53:53.358Z"
   },
   {
    "duration": 17,
    "start_time": "2025-03-13T06:53:53.378Z"
   },
   {
    "duration": 19,
    "start_time": "2025-03-13T06:53:53.397Z"
   },
   {
    "duration": 23,
    "start_time": "2025-03-13T06:53:53.417Z"
   },
   {
    "duration": 172,
    "start_time": "2025-03-13T06:53:53.441Z"
   },
   {
    "duration": 285,
    "start_time": "2025-03-13T06:53:53.615Z"
   },
   {
    "duration": 12,
    "start_time": "2025-03-13T06:53:53.913Z"
   },
   {
    "duration": 1169,
    "start_time": "2025-03-24T17:30:22.008Z"
   },
   {
    "duration": 102,
    "start_time": "2025-03-24T17:30:23.179Z"
   },
   {
    "duration": 12,
    "start_time": "2025-03-24T17:30:23.283Z"
   },
   {
    "duration": 25,
    "start_time": "2025-03-24T17:30:23.297Z"
   },
   {
    "duration": 17,
    "start_time": "2025-03-24T17:30:23.323Z"
   },
   {
    "duration": 21,
    "start_time": "2025-03-24T17:30:23.342Z"
   },
   {
    "duration": 24,
    "start_time": "2025-03-24T17:30:23.364Z"
   },
   {
    "duration": 235,
    "start_time": "2025-03-24T17:30:23.389Z"
   },
   {
    "duration": 291,
    "start_time": "2025-03-24T17:30:23.625Z"
   },
   {
    "duration": 10,
    "start_time": "2025-03-24T17:30:23.918Z"
   },
   {
    "duration": 1190,
    "start_time": "2025-03-24T17:30:52.409Z"
   },
   {
    "duration": 52,
    "start_time": "2025-03-24T17:30:53.601Z"
   },
   {
    "duration": 12,
    "start_time": "2025-03-24T17:30:53.655Z"
   },
   {
    "duration": 47,
    "start_time": "2025-03-24T17:30:53.669Z"
   },
   {
    "duration": 17,
    "start_time": "2025-03-24T17:30:53.718Z"
   },
   {
    "duration": 7,
    "start_time": "2025-03-24T17:30:53.737Z"
   },
   {
    "duration": 159,
    "start_time": "2025-03-24T17:30:53.745Z"
   },
   {
    "duration": 282,
    "start_time": "2025-03-24T17:30:53.906Z"
   },
   {
    "duration": 10,
    "start_time": "2025-03-24T17:30:54.190Z"
   },
   {
    "duration": 1317,
    "start_time": "2025-04-24T21:25:51.442Z"
   },
   {
    "duration": 81,
    "start_time": "2025-04-24T21:25:52.761Z"
   },
   {
    "duration": 11,
    "start_time": "2025-04-24T21:25:52.843Z"
   },
   {
    "duration": 18,
    "start_time": "2025-04-24T21:25:52.855Z"
   },
   {
    "duration": 16,
    "start_time": "2025-04-24T21:25:52.875Z"
   },
   {
    "duration": 8,
    "start_time": "2025-04-24T21:25:52.892Z"
   },
   {
    "duration": 175,
    "start_time": "2025-04-24T21:25:52.902Z"
   },
   {
    "duration": 275,
    "start_time": "2025-04-24T21:25:53.079Z"
   },
   {
    "duration": 12,
    "start_time": "2025-04-24T21:25:53.355Z"
   }
  ],
  "colab": {
   "provenance": []
  },
  "kernelspec": {
   "display_name": "Python 3 (ipykernel)",
   "language": "python",
   "name": "python3"
  },
  "language_info": {
   "codemirror_mode": {
    "name": "ipython",
    "version": 3
   },
   "file_extension": ".py",
   "mimetype": "text/x-python",
   "name": "python",
   "nbconvert_exporter": "python",
   "pygments_lexer": "ipython3",
   "version": "3.9.5"
  },
  "toc": {
   "base_numbering": 1,
   "nav_menu": {},
   "number_sections": true,
   "sideBar": true,
   "skip_h1_title": true,
   "title_cell": "Table of Contents",
   "title_sidebar": "Contents",
   "toc_cell": false,
   "toc_position": {},
   "toc_section_display": true,
   "toc_window_display": false
  }
 },
 "nbformat": 4,
 "nbformat_minor": 5
}
