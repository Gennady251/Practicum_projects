{
 "cells": [
  {
   "cell_type": "markdown",
   "metadata": {
    "id": "4mJbK1knrJgz"
   },
   "source": [
    "# Проект: Исследование стартапов"
   ]
  },
  {
   "cell_type": "markdown",
   "metadata": {},
   "source": [
    "Автор: Геннадий Гордиевский\n",
    "\n",
    "Дата: 01.01.2025"
   ]
  },
  {
   "cell_type": "markdown",
   "metadata": {
    "id": "P6j0r3worJg0"
   },
   "source": [
    "## Введение"
   ]
  },
  {
   "cell_type": "markdown",
   "metadata": {},
   "source": [
    "### Описание данных\n"
   ]
  },
  {
   "cell_type": "markdown",
   "metadata": {},
   "source": [
    "Нам представленны данные о стартапах, которые финансовая компания планирует приобрести для дальнейшего развития и реализации. Нам также известно что данные неполные, необходимо продемострировать навыки и показать, что мы можем даже при недостатке данных предоставить рабочие гипотезы и направления дальнейшего развития."
   ]
  },
  {
   "cell_type": "markdown",
   "metadata": {},
   "source": [
    "### Цели и задачи проекта"
   ]
  },
  {
   "cell_type": "markdown",
   "metadata": {},
   "source": [
    "Основной целью проекта является научиться принимать решения относительно работы. Мы должны научится самостоятельно разбираться в данных и на чем строить свою деятельность. Кроме выше сказанного, нам необходимо будет подготовить датасет и проверить данные (проверить правильность данных). Выполнить предобработку и ответить на ряд вопросов. Научиться выявлять показатели и признаки того, является продукт успешным или нет."
   ]
  },
  {
   "cell_type": "markdown",
   "metadata": {
    "id": "xqr6uttCrJg0"
   },
   "source": [
    "\n",
    "## Шаг 1. Знакомство с данными: загрузка и первичная предобработка\n",
    "\n",
    "Названия файлов:\n",
    "* acquisition.csv\n",
    "* company_and_rounds.csv\n",
    "* degrees.csv\n",
    "* education.csv\n",
    "* fund.csv\n",
    "* investment.csv\n",
    "* people.csv\n",
    "\n",
    "/datasets/` + имя файла.\n",
    "\n",
    "### 1.1. Вывод общей информации, исправление названия столбцов"
   ]
  },
  {
   "cell_type": "code",
   "execution_count": 1,
   "metadata": {},
   "outputs": [],
   "source": [
    "import pandas as pd\n",
    "import matplotlib.pyplot as plt\n",
    "import seaborn as sns # Чтобы было\n",
    "import numpy as np"
   ]
  },
  {
   "cell_type": "code",
   "execution_count": 2,
   "metadata": {},
   "outputs": [],
   "source": [
    "PATH = \"https://code.s3.yandex.net/datasets/\"\n",
    "acquisition = pd.read_csv(PATH + 'acquisition.csv')\n",
    "company_and_rounds = pd.read_csv(PATH + 'company_and_rounds.csv', parse_dates=['founded  at', 'closed  at'])\n",
    "degrees = pd.read_csv(PATH + 'degrees.csv')\n",
    "education = pd.read_csv(PATH + 'education.csv')\n",
    "fund = pd.read_csv(PATH + 'fund.csv')\n",
    "investment = pd.read_csv(PATH + 'investment.csv')\n",
    "people = pd.read_csv(PATH + '/people.csv')"
   ]
  },
  {
   "cell_type": "markdown",
   "metadata": {},
   "source": [
    "    "
   ]
  },
  {
   "cell_type": "code",
   "execution_count": 3,
   "metadata": {},
   "outputs": [],
   "source": [
    "dataframes = {\n",
    "    'Acquisition': acquisition,\n",
    "    'Company and Rounds': company_and_rounds,\n",
    "    'Degrees': degrees,\n",
    "    'Education': education,\n",
    "    'Fund': fund,\n",
    "    'Investment': investment,\n",
    "    'People': people}"
   ]
  },
  {
   "cell_type": "markdown",
   "metadata": {},
   "source": [
    "\n",
    "* Проверьте названия столбцов."
   ]
  },
  {
   "cell_type": "code",
   "execution_count": 4,
   "metadata": {},
   "outputs": [
    {
     "data": {
      "text/plain": [
       "'--- Acquisition ---'"
      ]
     },
     "metadata": {},
     "output_type": "display_data"
    },
    {
     "data": {
      "text/plain": [
       "'Названия столбцов:'"
      ]
     },
     "metadata": {},
     "output_type": "display_data"
    },
    {
     "data": {
      "text/plain": [
       "['id',\n",
       " 'acquiring_company_id',\n",
       " 'acquired_company_id',\n",
       " 'term_code',\n",
       " 'price_amount',\n",
       " 'acquired_at']"
      ]
     },
     "metadata": {},
     "output_type": "display_data"
    },
    {
     "data": {
      "text/plain": [
       "'--- Company and Rounds ---'"
      ]
     },
     "metadata": {},
     "output_type": "display_data"
    },
    {
     "data": {
      "text/plain": [
       "'Названия столбцов:'"
      ]
     },
     "metadata": {},
     "output_type": "display_data"
    },
    {
     "data": {
      "text/plain": [
       "['company  ID',\n",
       " 'name',\n",
       " 'category  code',\n",
       " 'status',\n",
       " 'founded  at',\n",
       " 'closed  at',\n",
       " 'domain',\n",
       " 'network  username',\n",
       " 'country  code',\n",
       " 'investment  rounds',\n",
       " 'funding  rounds',\n",
       " 'funding  total',\n",
       " 'milestones',\n",
       " 'funding  round  id',\n",
       " 'company  id',\n",
       " 'funded  at',\n",
       " 'funding  round  type',\n",
       " 'raised  amount',\n",
       " 'pre  money  valuation',\n",
       " 'participants',\n",
       " 'is  first  round',\n",
       " 'is  last  round']"
      ]
     },
     "metadata": {},
     "output_type": "display_data"
    },
    {
     "data": {
      "text/plain": [
       "'--- Degrees ---'"
      ]
     },
     "metadata": {},
     "output_type": "display_data"
    },
    {
     "data": {
      "text/plain": [
       "'Названия столбцов:'"
      ]
     },
     "metadata": {},
     "output_type": "display_data"
    },
    {
     "data": {
      "text/plain": [
       "['id', 'object_id', 'degree_type', 'subject']"
      ]
     },
     "metadata": {},
     "output_type": "display_data"
    },
    {
     "data": {
      "text/plain": [
       "'--- Education ---'"
      ]
     },
     "metadata": {},
     "output_type": "display_data"
    },
    {
     "data": {
      "text/plain": [
       "'Названия столбцов:'"
      ]
     },
     "metadata": {},
     "output_type": "display_data"
    },
    {
     "data": {
      "text/plain": [
       "['id', 'person_id', 'instituition', 'graduated_at']"
      ]
     },
     "metadata": {},
     "output_type": "display_data"
    },
    {
     "data": {
      "text/plain": [
       "'--- Fund ---'"
      ]
     },
     "metadata": {},
     "output_type": "display_data"
    },
    {
     "data": {
      "text/plain": [
       "'Названия столбцов:'"
      ]
     },
     "metadata": {},
     "output_type": "display_data"
    },
    {
     "data": {
      "text/plain": [
       "['id',\n",
       " 'name',\n",
       " 'founded_at',\n",
       " 'domain',\n",
       " 'network_username',\n",
       " 'country_code',\n",
       " 'investment_rounds',\n",
       " 'invested_companies',\n",
       " 'milestones']"
      ]
     },
     "metadata": {},
     "output_type": "display_data"
    },
    {
     "data": {
      "text/plain": [
       "'--- Investment ---'"
      ]
     },
     "metadata": {},
     "output_type": "display_data"
    },
    {
     "data": {
      "text/plain": [
       "'Названия столбцов:'"
      ]
     },
     "metadata": {},
     "output_type": "display_data"
    },
    {
     "data": {
      "text/plain": [
       "['id', 'funding_round_id', 'company_id', 'fund_id']"
      ]
     },
     "metadata": {},
     "output_type": "display_data"
    },
    {
     "data": {
      "text/plain": [
       "'--- People ---'"
      ]
     },
     "metadata": {},
     "output_type": "display_data"
    },
    {
     "data": {
      "text/plain": [
       "'Названия столбцов:'"
      ]
     },
     "metadata": {},
     "output_type": "display_data"
    },
    {
     "data": {
      "text/plain": [
       "['id', 'first_name', 'last_name', 'company_id', 'network_username']"
      ]
     },
     "metadata": {},
     "output_type": "display_data"
    }
   ],
   "source": [
    "for name, df in dataframes.items():\n",
    "    display(f\"--- {name} ---\")\n",
    "    display(\"Названия столбцов:\")\n",
    "    display(df.columns.tolist())"
   ]
  },
  {
   "cell_type": "code",
   "execution_count": 5,
   "metadata": {},
   "outputs": [
    {
     "data": {
      "text/html": [
       "<div>\n",
       "<style scoped>\n",
       "    .dataframe tbody tr th:only-of-type {\n",
       "        vertical-align: middle;\n",
       "    }\n",
       "\n",
       "    .dataframe tbody tr th {\n",
       "        vertical-align: top;\n",
       "    }\n",
       "\n",
       "    .dataframe thead th {\n",
       "        text-align: right;\n",
       "    }\n",
       "</style>\n",
       "<table border=\"1\" class=\"dataframe\">\n",
       "  <thead>\n",
       "    <tr style=\"text-align: right;\">\n",
       "      <th></th>\n",
       "      <th>id</th>\n",
       "      <th>name</th>\n",
       "      <th>founded_at</th>\n",
       "      <th>domain</th>\n",
       "      <th>network_username</th>\n",
       "      <th>country_code</th>\n",
       "      <th>investment_rounds</th>\n",
       "      <th>invested_companies</th>\n",
       "      <th>milestones</th>\n",
       "    </tr>\n",
       "  </thead>\n",
       "  <tbody>\n",
       "    <tr>\n",
       "      <th>0</th>\n",
       "      <td>13131</td>\n",
       "      <td>NaN</td>\n",
       "      <td>NaT</td>\n",
       "      <td>NaN</td>\n",
       "      <td>NaN</td>\n",
       "      <td>NaN</td>\n",
       "      <td>0</td>\n",
       "      <td>0</td>\n",
       "      <td>0</td>\n",
       "    </tr>\n",
       "    <tr>\n",
       "      <th>1</th>\n",
       "      <td>1</td>\n",
       "      <td>Greylock Partners</td>\n",
       "      <td>1965-01-01</td>\n",
       "      <td>greylock.com</td>\n",
       "      <td>greylockvc</td>\n",
       "      <td>USA</td>\n",
       "      <td>307</td>\n",
       "      <td>196</td>\n",
       "      <td>0</td>\n",
       "    </tr>\n",
       "    <tr>\n",
       "      <th>2</th>\n",
       "      <td>10</td>\n",
       "      <td>Mission Ventures</td>\n",
       "      <td>1996-01-01</td>\n",
       "      <td>missionventures.com</td>\n",
       "      <td>NaN</td>\n",
       "      <td>USA</td>\n",
       "      <td>58</td>\n",
       "      <td>33</td>\n",
       "      <td>0</td>\n",
       "    </tr>\n",
       "    <tr>\n",
       "      <th>3</th>\n",
       "      <td>100</td>\n",
       "      <td>Kapor Enterprises, Inc.</td>\n",
       "      <td>NaT</td>\n",
       "      <td>kei.com</td>\n",
       "      <td>NaN</td>\n",
       "      <td>USA</td>\n",
       "      <td>2</td>\n",
       "      <td>1</td>\n",
       "      <td>0</td>\n",
       "    </tr>\n",
       "    <tr>\n",
       "      <th>4</th>\n",
       "      <td>1000</td>\n",
       "      <td>Speed Ventures</td>\n",
       "      <td>NaT</td>\n",
       "      <td>NaN</td>\n",
       "      <td>NaN</td>\n",
       "      <td>NaN</td>\n",
       "      <td>0</td>\n",
       "      <td>0</td>\n",
       "      <td>1</td>\n",
       "    </tr>\n",
       "  </tbody>\n",
       "</table>\n",
       "</div>"
      ],
      "text/plain": [
       "      id                     name founded_at               domain  \\\n",
       "0  13131                      NaN        NaT                  NaN   \n",
       "1      1        Greylock Partners 1965-01-01         greylock.com   \n",
       "2     10         Mission Ventures 1996-01-01  missionventures.com   \n",
       "3    100  Kapor Enterprises, Inc.        NaT              kei.com   \n",
       "4   1000           Speed Ventures        NaT                  NaN   \n",
       "\n",
       "  network_username country_code  investment_rounds  invested_companies  \\\n",
       "0              NaN          NaN                  0                   0   \n",
       "1       greylockvc          USA                307                 196   \n",
       "2              NaN          USA                 58                  33   \n",
       "3              NaN          USA                  2                   1   \n",
       "4              NaN          NaN                  0                   0   \n",
       "\n",
       "   milestones  \n",
       "0           0  \n",
       "1           0  \n",
       "2           0  \n",
       "3           0  \n",
       "4           1  "
      ]
     },
     "metadata": {},
     "output_type": "display_data"
    }
   ],
   "source": [
    "# Перебор каждого DataFrame и преобразование столбцов с окончанием _at\n",
    "for name, df in dataframes.items():\n",
    "    # Выбираем столбцы, заканчивающиеся на '_at'\n",
    "    date_columns = [col for col in df.columns if col.endswith('_at')]\n",
    "    \n",
    "    for col in date_columns:\n",
    "        # Преобразуем столбец в формат datetime\n",
    "        df[col] = pd.to_datetime(df[col], errors='coerce')\n",
    "    \n",
    "    # Обновляем DataFrame в словаре\n",
    "    dataframes[name] = df\n",
    "\n",
    "# Пример\n",
    "\n",
    "display(dataframes['Fund'].head()) "
   ]
  },
  {
   "cell_type": "markdown",
   "metadata": {},
   "source": [
    "<div class=\"alert alert-primary\">\n",
    "<b>Необходимо привести названия стобцов к одному виду, заменить пробелы нижним подчеркиванием, все сделать строчными буквами. Сделаем это при предобработке данных.</b> \n",
    "</div>\n"
   ]
  },
  {
   "cell_type": "markdown",
   "metadata": {},
   "source": []
  },
  {
   "cell_type": "code",
   "execution_count": 6,
   "metadata": {},
   "outputs": [],
   "source": [
    "# Замена пробелов на нижнее подчеркивание в названиях столбцов для каждого DataFrame\n",
    "acquisition.columns = acquisition.columns.str.replace(' ', '_')\n",
    "company_and_rounds.columns = company_and_rounds.columns.str.replace('  ', '_')\n",
    "degrees.columns = degrees.columns.str.replace(' ', '_')\n",
    "education.columns = education.columns.str.replace(' ', '_')\n",
    "fund.columns = fund.columns.str.replace(' ', '_')\n",
    "investment.columns = investment.columns.str.replace(' ', '_')\n",
    "people.columns = people.columns.str.replace(' ', '_')"
   ]
  },
  {
   "cell_type": "markdown",
   "metadata": {},
   "source": [
    "\n",
    "* Выведите информацию, которая необходима вам для принятия решений о предобработке, для каждого из датасетов."
   ]
  },
  {
   "cell_type": "code",
   "execution_count": 7,
   "metadata": {
    "id": "4u9np9gSnyqT",
    "scrolled": true
   },
   "outputs": [
    {
     "data": {
      "text/plain": [
       "'--- Acquisition ---'"
      ]
     },
     "metadata": {},
     "output_type": "display_data"
    },
    {
     "data": {
      "text/plain": [
       "'Информация о DataFrame:'"
      ]
     },
     "metadata": {},
     "output_type": "display_data"
    },
    {
     "name": "stdout",
     "output_type": "stream",
     "text": [
      "<class 'pandas.core.frame.DataFrame'>\n",
      "RangeIndex: 9407 entries, 0 to 9406\n",
      "Data columns (total 6 columns):\n",
      " #   Column                Non-Null Count  Dtype         \n",
      "---  ------                --------------  -----         \n",
      " 0   id                    9407 non-null   int64         \n",
      " 1   acquiring_company_id  9407 non-null   int64         \n",
      " 2   acquired_company_id   9407 non-null   int64         \n",
      " 3   term_code             1831 non-null   object        \n",
      " 4   price_amount          9407 non-null   int64         \n",
      " 5   acquired_at           9378 non-null   datetime64[ns]\n",
      "dtypes: datetime64[ns](1), int64(4), object(1)\n",
      "memory usage: 441.1+ KB\n"
     ]
    },
    {
     "data": {
      "text/plain": [
       "None"
      ]
     },
     "metadata": {},
     "output_type": "display_data"
    },
    {
     "data": {
      "text/plain": [
       "'\\nПервые 5 строк DataFrame:'"
      ]
     },
     "metadata": {},
     "output_type": "display_data"
    },
    {
     "data": {
      "text/html": [
       "<div>\n",
       "<style scoped>\n",
       "    .dataframe tbody tr th:only-of-type {\n",
       "        vertical-align: middle;\n",
       "    }\n",
       "\n",
       "    .dataframe tbody tr th {\n",
       "        vertical-align: top;\n",
       "    }\n",
       "\n",
       "    .dataframe thead th {\n",
       "        text-align: right;\n",
       "    }\n",
       "</style>\n",
       "<table border=\"1\" class=\"dataframe\">\n",
       "  <thead>\n",
       "    <tr style=\"text-align: right;\">\n",
       "      <th></th>\n",
       "      <th>id</th>\n",
       "      <th>acquiring_company_id</th>\n",
       "      <th>acquired_company_id</th>\n",
       "      <th>term_code</th>\n",
       "      <th>price_amount</th>\n",
       "      <th>acquired_at</th>\n",
       "    </tr>\n",
       "  </thead>\n",
       "  <tbody>\n",
       "    <tr>\n",
       "      <th>0</th>\n",
       "      <td>1</td>\n",
       "      <td>11</td>\n",
       "      <td>10</td>\n",
       "      <td>NaN</td>\n",
       "      <td>20000000</td>\n",
       "      <td>2007-05-30</td>\n",
       "    </tr>\n",
       "    <tr>\n",
       "      <th>1</th>\n",
       "      <td>7</td>\n",
       "      <td>59</td>\n",
       "      <td>72</td>\n",
       "      <td>cash</td>\n",
       "      <td>60000000</td>\n",
       "      <td>2007-07-01</td>\n",
       "    </tr>\n",
       "    <tr>\n",
       "      <th>2</th>\n",
       "      <td>8</td>\n",
       "      <td>24</td>\n",
       "      <td>132</td>\n",
       "      <td>cash</td>\n",
       "      <td>280000000</td>\n",
       "      <td>2007-05-01</td>\n",
       "    </tr>\n",
       "    <tr>\n",
       "      <th>3</th>\n",
       "      <td>9</td>\n",
       "      <td>59</td>\n",
       "      <td>155</td>\n",
       "      <td>cash</td>\n",
       "      <td>100000000</td>\n",
       "      <td>2007-06-01</td>\n",
       "    </tr>\n",
       "    <tr>\n",
       "      <th>4</th>\n",
       "      <td>10</td>\n",
       "      <td>212</td>\n",
       "      <td>215</td>\n",
       "      <td>cash</td>\n",
       "      <td>25000000</td>\n",
       "      <td>2007-07-01</td>\n",
       "    </tr>\n",
       "  </tbody>\n",
       "</table>\n",
       "</div>"
      ],
      "text/plain": [
       "   id  acquiring_company_id  acquired_company_id term_code  price_amount  \\\n",
       "0   1                    11                   10       NaN      20000000   \n",
       "1   7                    59                   72      cash      60000000   \n",
       "2   8                    24                  132      cash     280000000   \n",
       "3   9                    59                  155      cash     100000000   \n",
       "4  10                   212                  215      cash      25000000   \n",
       "\n",
       "  acquired_at  \n",
       "0  2007-05-30  \n",
       "1  2007-07-01  \n",
       "2  2007-05-01  \n",
       "3  2007-06-01  \n",
       "4  2007-07-01  "
      ]
     },
     "metadata": {},
     "output_type": "display_data"
    },
    {
     "data": {
      "text/plain": [
       "'\\nСтатистическое описание:'"
      ]
     },
     "metadata": {},
     "output_type": "display_data"
    },
    {
     "data": {
      "text/html": [
       "<div>\n",
       "<style scoped>\n",
       "    .dataframe tbody tr th:only-of-type {\n",
       "        vertical-align: middle;\n",
       "    }\n",
       "\n",
       "    .dataframe tbody tr th {\n",
       "        vertical-align: top;\n",
       "    }\n",
       "\n",
       "    .dataframe thead th {\n",
       "        text-align: right;\n",
       "    }\n",
       "</style>\n",
       "<table border=\"1\" class=\"dataframe\">\n",
       "  <thead>\n",
       "    <tr style=\"text-align: right;\">\n",
       "      <th></th>\n",
       "      <th>id</th>\n",
       "      <th>acquiring_company_id</th>\n",
       "      <th>acquired_company_id</th>\n",
       "      <th>term_code</th>\n",
       "      <th>price_amount</th>\n",
       "      <th>acquired_at</th>\n",
       "    </tr>\n",
       "  </thead>\n",
       "  <tbody>\n",
       "    <tr>\n",
       "      <th>count</th>\n",
       "      <td>9407.000000</td>\n",
       "      <td>9407.000000</td>\n",
       "      <td>9407.000000</td>\n",
       "      <td>1831</td>\n",
       "      <td>9.407000e+03</td>\n",
       "      <td>9378</td>\n",
       "    </tr>\n",
       "    <tr>\n",
       "      <th>unique</th>\n",
       "      <td>NaN</td>\n",
       "      <td>NaN</td>\n",
       "      <td>NaN</td>\n",
       "      <td>3</td>\n",
       "      <td>NaN</td>\n",
       "      <td>NaN</td>\n",
       "    </tr>\n",
       "    <tr>\n",
       "      <th>top</th>\n",
       "      <td>NaN</td>\n",
       "      <td>NaN</td>\n",
       "      <td>NaN</td>\n",
       "      <td>cash</td>\n",
       "      <td>NaN</td>\n",
       "      <td>NaN</td>\n",
       "    </tr>\n",
       "    <tr>\n",
       "      <th>freq</th>\n",
       "      <td>NaN</td>\n",
       "      <td>NaN</td>\n",
       "      <td>NaN</td>\n",
       "      <td>1195</td>\n",
       "      <td>NaN</td>\n",
       "      <td>NaN</td>\n",
       "    </tr>\n",
       "    <tr>\n",
       "      <th>mean</th>\n",
       "      <td>5256.981822</td>\n",
       "      <td>49787.284575</td>\n",
       "      <td>71693.030722</td>\n",
       "      <td>NaN</td>\n",
       "      <td>3.932965e+08</td>\n",
       "      <td>2009-12-28 16:02:55.047984384</td>\n",
       "    </tr>\n",
       "    <tr>\n",
       "      <th>min</th>\n",
       "      <td>1.000000</td>\n",
       "      <td>4.000000</td>\n",
       "      <td>4.000000</td>\n",
       "      <td>NaN</td>\n",
       "      <td>0.000000e+00</td>\n",
       "      <td>1966-03-24 00:00:00</td>\n",
       "    </tr>\n",
       "    <tr>\n",
       "      <th>25%</th>\n",
       "      <td>2682.500000</td>\n",
       "      <td>3246.000000</td>\n",
       "      <td>23124.000000</td>\n",
       "      <td>NaN</td>\n",
       "      <td>0.000000e+00</td>\n",
       "      <td>2008-10-14 06:00:00</td>\n",
       "    </tr>\n",
       "    <tr>\n",
       "      <th>50%</th>\n",
       "      <td>5178.000000</td>\n",
       "      <td>26107.000000</td>\n",
       "      <td>45126.000000</td>\n",
       "      <td>NaN</td>\n",
       "      <td>0.000000e+00</td>\n",
       "      <td>2010-09-02 00:00:00</td>\n",
       "    </tr>\n",
       "    <tr>\n",
       "      <th>75%</th>\n",
       "      <td>7841.500000</td>\n",
       "      <td>56151.000000</td>\n",
       "      <td>81203.000000</td>\n",
       "      <td>NaN</td>\n",
       "      <td>2.343200e+04</td>\n",
       "      <td>2012-03-14 00:00:00</td>\n",
       "    </tr>\n",
       "    <tr>\n",
       "      <th>max</th>\n",
       "      <td>10529.000000</td>\n",
       "      <td>285984.000000</td>\n",
       "      <td>286176.000000</td>\n",
       "      <td>NaN</td>\n",
       "      <td>2.600000e+12</td>\n",
       "      <td>2013-12-12 00:00:00</td>\n",
       "    </tr>\n",
       "    <tr>\n",
       "      <th>std</th>\n",
       "      <td>3005.794674</td>\n",
       "      <td>69060.422026</td>\n",
       "      <td>73026.433729</td>\n",
       "      <td>NaN</td>\n",
       "      <td>2.682198e+10</td>\n",
       "      <td>NaN</td>\n",
       "    </tr>\n",
       "  </tbody>\n",
       "</table>\n",
       "</div>"
      ],
      "text/plain": [
       "                  id  acquiring_company_id  acquired_company_id term_code  \\\n",
       "count    9407.000000           9407.000000          9407.000000      1831   \n",
       "unique           NaN                   NaN                  NaN         3   \n",
       "top              NaN                   NaN                  NaN      cash   \n",
       "freq             NaN                   NaN                  NaN      1195   \n",
       "mean     5256.981822          49787.284575         71693.030722       NaN   \n",
       "min         1.000000              4.000000             4.000000       NaN   \n",
       "25%      2682.500000           3246.000000         23124.000000       NaN   \n",
       "50%      5178.000000          26107.000000         45126.000000       NaN   \n",
       "75%      7841.500000          56151.000000         81203.000000       NaN   \n",
       "max     10529.000000         285984.000000        286176.000000       NaN   \n",
       "std      3005.794674          69060.422026         73026.433729       NaN   \n",
       "\n",
       "        price_amount                    acquired_at  \n",
       "count   9.407000e+03                           9378  \n",
       "unique           NaN                            NaN  \n",
       "top              NaN                            NaN  \n",
       "freq             NaN                            NaN  \n",
       "mean    3.932965e+08  2009-12-28 16:02:55.047984384  \n",
       "min     0.000000e+00            1966-03-24 00:00:00  \n",
       "25%     0.000000e+00            2008-10-14 06:00:00  \n",
       "50%     0.000000e+00            2010-09-02 00:00:00  \n",
       "75%     2.343200e+04            2012-03-14 00:00:00  \n",
       "max     2.600000e+12            2013-12-12 00:00:00  \n",
       "std     2.682198e+10                            NaN  "
      ]
     },
     "metadata": {},
     "output_type": "display_data"
    },
    {
     "data": {
      "text/plain": [
       "'\\nПропущенные значения:'"
      ]
     },
     "metadata": {},
     "output_type": "display_data"
    },
    {
     "data": {
      "text/plain": [
       "term_code      7576\n",
       "acquired_at      29\n",
       "dtype: int64"
      ]
     },
     "metadata": {},
     "output_type": "display_data"
    },
    {
     "data": {
      "text/plain": [
       "'\\n==================================================\\n'"
      ]
     },
     "metadata": {},
     "output_type": "display_data"
    },
    {
     "data": {
      "text/plain": [
       "'--- Company and Rounds ---'"
      ]
     },
     "metadata": {},
     "output_type": "display_data"
    },
    {
     "data": {
      "text/plain": [
       "'Информация о DataFrame:'"
      ]
     },
     "metadata": {},
     "output_type": "display_data"
    },
    {
     "name": "stdout",
     "output_type": "stream",
     "text": [
      "<class 'pandas.core.frame.DataFrame'>\n",
      "RangeIndex: 217774 entries, 0 to 217773\n",
      "Data columns (total 22 columns):\n",
      " #   Column               Non-Null Count   Dtype         \n",
      "---  ------               --------------   -----         \n",
      " 0   company_ID           217472 non-null  float64       \n",
      " 1   name                 217472 non-null  object        \n",
      " 2   category_code        143886 non-null  object        \n",
      " 3   status               217472 non-null  object        \n",
      " 4   founded_at           109956 non-null  datetime64[ns]\n",
      " 5   closed_at            3449 non-null    datetime64[ns]\n",
      " 6   domain               147159 non-null  object        \n",
      " 7   network_username     95534 non-null   object        \n",
      " 8   country_code         108607 non-null  object        \n",
      " 9   investment_rounds    217472 non-null  float64       \n",
      " 10  funding_rounds       217472 non-null  float64       \n",
      " 11  funding_total        217472 non-null  float64       \n",
      " 12  milestones           217472 non-null  float64       \n",
      " 13  funding_round_id     52928 non-null   float64       \n",
      " 14  company_id           52928 non-null   float64       \n",
      " 15  funded_at            52680 non-null   object        \n",
      " 16  funding_round_type   52928 non-null   object        \n",
      " 17  raised_amount        52928 non-null   float64       \n",
      " 18  pre_money_valuation  52928 non-null   float64       \n",
      " 19  participants         52928 non-null   float64       \n",
      " 20  is_first_round       52928 non-null   float64       \n",
      " 21  is_last_round        52928 non-null   float64       \n",
      "dtypes: datetime64[ns](2), float64(12), object(8)\n",
      "memory usage: 36.6+ MB\n"
     ]
    },
    {
     "data": {
      "text/plain": [
       "None"
      ]
     },
     "metadata": {},
     "output_type": "display_data"
    },
    {
     "data": {
      "text/plain": [
       "'\\nПервые 5 строк DataFrame:'"
      ]
     },
     "metadata": {},
     "output_type": "display_data"
    },
    {
     "data": {
      "text/html": [
       "<div>\n",
       "<style scoped>\n",
       "    .dataframe tbody tr th:only-of-type {\n",
       "        vertical-align: middle;\n",
       "    }\n",
       "\n",
       "    .dataframe tbody tr th {\n",
       "        vertical-align: top;\n",
       "    }\n",
       "\n",
       "    .dataframe thead th {\n",
       "        text-align: right;\n",
       "    }\n",
       "</style>\n",
       "<table border=\"1\" class=\"dataframe\">\n",
       "  <thead>\n",
       "    <tr style=\"text-align: right;\">\n",
       "      <th></th>\n",
       "      <th>company_ID</th>\n",
       "      <th>name</th>\n",
       "      <th>category_code</th>\n",
       "      <th>status</th>\n",
       "      <th>founded_at</th>\n",
       "      <th>closed_at</th>\n",
       "      <th>domain</th>\n",
       "      <th>network_username</th>\n",
       "      <th>country_code</th>\n",
       "      <th>investment_rounds</th>\n",
       "      <th>...</th>\n",
       "      <th>milestones</th>\n",
       "      <th>funding_round_id</th>\n",
       "      <th>company_id</th>\n",
       "      <th>funded_at</th>\n",
       "      <th>funding_round_type</th>\n",
       "      <th>raised_amount</th>\n",
       "      <th>pre_money_valuation</th>\n",
       "      <th>participants</th>\n",
       "      <th>is_first_round</th>\n",
       "      <th>is_last_round</th>\n",
       "    </tr>\n",
       "  </thead>\n",
       "  <tbody>\n",
       "    <tr>\n",
       "      <th>0</th>\n",
       "      <td>1.0</td>\n",
       "      <td>Wetpaint</td>\n",
       "      <td>web</td>\n",
       "      <td>operating</td>\n",
       "      <td>2005-10-17</td>\n",
       "      <td>NaT</td>\n",
       "      <td>wetpaint-inc.com</td>\n",
       "      <td>BachelrWetpaint</td>\n",
       "      <td>USA</td>\n",
       "      <td>0.0</td>\n",
       "      <td>...</td>\n",
       "      <td>5.0</td>\n",
       "      <td>888.0</td>\n",
       "      <td>1.0</td>\n",
       "      <td>2005-10-01</td>\n",
       "      <td>series-a</td>\n",
       "      <td>5250000.0</td>\n",
       "      <td>0.0</td>\n",
       "      <td>2.0</td>\n",
       "      <td>0.0</td>\n",
       "      <td>1.0</td>\n",
       "    </tr>\n",
       "    <tr>\n",
       "      <th>1</th>\n",
       "      <td>1.0</td>\n",
       "      <td>Wetpaint</td>\n",
       "      <td>web</td>\n",
       "      <td>operating</td>\n",
       "      <td>2005-10-17</td>\n",
       "      <td>NaT</td>\n",
       "      <td>wetpaint-inc.com</td>\n",
       "      <td>BachelrWetpaint</td>\n",
       "      <td>USA</td>\n",
       "      <td>0.0</td>\n",
       "      <td>...</td>\n",
       "      <td>5.0</td>\n",
       "      <td>889.0</td>\n",
       "      <td>1.0</td>\n",
       "      <td>2007-01-01</td>\n",
       "      <td>series-b</td>\n",
       "      <td>9500000.0</td>\n",
       "      <td>0.0</td>\n",
       "      <td>3.0</td>\n",
       "      <td>0.0</td>\n",
       "      <td>0.0</td>\n",
       "    </tr>\n",
       "    <tr>\n",
       "      <th>2</th>\n",
       "      <td>1.0</td>\n",
       "      <td>Wetpaint</td>\n",
       "      <td>web</td>\n",
       "      <td>operating</td>\n",
       "      <td>2005-10-17</td>\n",
       "      <td>NaT</td>\n",
       "      <td>wetpaint-inc.com</td>\n",
       "      <td>BachelrWetpaint</td>\n",
       "      <td>USA</td>\n",
       "      <td>0.0</td>\n",
       "      <td>...</td>\n",
       "      <td>5.0</td>\n",
       "      <td>2312.0</td>\n",
       "      <td>1.0</td>\n",
       "      <td>2008-05-19</td>\n",
       "      <td>series-c+</td>\n",
       "      <td>25000000.0</td>\n",
       "      <td>0.0</td>\n",
       "      <td>4.0</td>\n",
       "      <td>1.0</td>\n",
       "      <td>0.0</td>\n",
       "    </tr>\n",
       "    <tr>\n",
       "      <th>3</th>\n",
       "      <td>10.0</td>\n",
       "      <td>Flektor</td>\n",
       "      <td>games_video</td>\n",
       "      <td>acquired</td>\n",
       "      <td>NaT</td>\n",
       "      <td>NaT</td>\n",
       "      <td>flektor.com</td>\n",
       "      <td>NaN</td>\n",
       "      <td>USA</td>\n",
       "      <td>0.0</td>\n",
       "      <td>...</td>\n",
       "      <td>0.0</td>\n",
       "      <td>NaN</td>\n",
       "      <td>NaN</td>\n",
       "      <td>NaN</td>\n",
       "      <td>NaN</td>\n",
       "      <td>NaN</td>\n",
       "      <td>NaN</td>\n",
       "      <td>NaN</td>\n",
       "      <td>NaN</td>\n",
       "      <td>NaN</td>\n",
       "    </tr>\n",
       "    <tr>\n",
       "      <th>4</th>\n",
       "      <td>100.0</td>\n",
       "      <td>There</td>\n",
       "      <td>games_video</td>\n",
       "      <td>acquired</td>\n",
       "      <td>NaT</td>\n",
       "      <td>NaT</td>\n",
       "      <td>there.com</td>\n",
       "      <td>NaN</td>\n",
       "      <td>USA</td>\n",
       "      <td>0.0</td>\n",
       "      <td>...</td>\n",
       "      <td>4.0</td>\n",
       "      <td>NaN</td>\n",
       "      <td>NaN</td>\n",
       "      <td>NaN</td>\n",
       "      <td>NaN</td>\n",
       "      <td>NaN</td>\n",
       "      <td>NaN</td>\n",
       "      <td>NaN</td>\n",
       "      <td>NaN</td>\n",
       "      <td>NaN</td>\n",
       "    </tr>\n",
       "  </tbody>\n",
       "</table>\n",
       "<p>5 rows × 22 columns</p>\n",
       "</div>"
      ],
      "text/plain": [
       "   company_ID      name category_code     status founded_at closed_at  \\\n",
       "0         1.0  Wetpaint           web  operating 2005-10-17       NaT   \n",
       "1         1.0  Wetpaint           web  operating 2005-10-17       NaT   \n",
       "2         1.0  Wetpaint           web  operating 2005-10-17       NaT   \n",
       "3        10.0   Flektor   games_video   acquired        NaT       NaT   \n",
       "4       100.0     There   games_video   acquired        NaT       NaT   \n",
       "\n",
       "             domain network_username country_code  investment_rounds  ...  \\\n",
       "0  wetpaint-inc.com  BachelrWetpaint          USA                0.0  ...   \n",
       "1  wetpaint-inc.com  BachelrWetpaint          USA                0.0  ...   \n",
       "2  wetpaint-inc.com  BachelrWetpaint          USA                0.0  ...   \n",
       "3       flektor.com              NaN          USA                0.0  ...   \n",
       "4         there.com              NaN          USA                0.0  ...   \n",
       "\n",
       "   milestones  funding_round_id  company_id   funded_at  funding_round_type  \\\n",
       "0         5.0             888.0         1.0  2005-10-01            series-a   \n",
       "1         5.0             889.0         1.0  2007-01-01            series-b   \n",
       "2         5.0            2312.0         1.0  2008-05-19           series-c+   \n",
       "3         0.0               NaN         NaN         NaN                 NaN   \n",
       "4         4.0               NaN         NaN         NaN                 NaN   \n",
       "\n",
       "  raised_amount pre_money_valuation  participants  is_first_round  \\\n",
       "0     5250000.0                 0.0           2.0             0.0   \n",
       "1     9500000.0                 0.0           3.0             0.0   \n",
       "2    25000000.0                 0.0           4.0             1.0   \n",
       "3           NaN                 NaN           NaN             NaN   \n",
       "4           NaN                 NaN           NaN             NaN   \n",
       "\n",
       "   is_last_round  \n",
       "0            1.0  \n",
       "1            0.0  \n",
       "2            0.0  \n",
       "3            NaN  \n",
       "4            NaN  \n",
       "\n",
       "[5 rows x 22 columns]"
      ]
     },
     "metadata": {},
     "output_type": "display_data"
    },
    {
     "data": {
      "text/plain": [
       "'\\nСтатистическое описание:'"
      ]
     },
     "metadata": {},
     "output_type": "display_data"
    },
    {
     "data": {
      "text/html": [
       "<div>\n",
       "<style scoped>\n",
       "    .dataframe tbody tr th:only-of-type {\n",
       "        vertical-align: middle;\n",
       "    }\n",
       "\n",
       "    .dataframe tbody tr th {\n",
       "        vertical-align: top;\n",
       "    }\n",
       "\n",
       "    .dataframe thead th {\n",
       "        text-align: right;\n",
       "    }\n",
       "</style>\n",
       "<table border=\"1\" class=\"dataframe\">\n",
       "  <thead>\n",
       "    <tr style=\"text-align: right;\">\n",
       "      <th></th>\n",
       "      <th>company_ID</th>\n",
       "      <th>name</th>\n",
       "      <th>category_code</th>\n",
       "      <th>status</th>\n",
       "      <th>founded_at</th>\n",
       "      <th>closed_at</th>\n",
       "      <th>domain</th>\n",
       "      <th>network_username</th>\n",
       "      <th>country_code</th>\n",
       "      <th>investment_rounds</th>\n",
       "      <th>...</th>\n",
       "      <th>milestones</th>\n",
       "      <th>funding_round_id</th>\n",
       "      <th>company_id</th>\n",
       "      <th>funded_at</th>\n",
       "      <th>funding_round_type</th>\n",
       "      <th>raised_amount</th>\n",
       "      <th>pre_money_valuation</th>\n",
       "      <th>participants</th>\n",
       "      <th>is_first_round</th>\n",
       "      <th>is_last_round</th>\n",
       "    </tr>\n",
       "  </thead>\n",
       "  <tbody>\n",
       "    <tr>\n",
       "      <th>count</th>\n",
       "      <td>217472.000000</td>\n",
       "      <td>217472</td>\n",
       "      <td>143886</td>\n",
       "      <td>217472</td>\n",
       "      <td>109956</td>\n",
       "      <td>3449</td>\n",
       "      <td>147159</td>\n",
       "      <td>95534</td>\n",
       "      <td>108607</td>\n",
       "      <td>217472.000000</td>\n",
       "      <td>...</td>\n",
       "      <td>217472.000000</td>\n",
       "      <td>52928.000000</td>\n",
       "      <td>52928.000000</td>\n",
       "      <td>52680</td>\n",
       "      <td>52928</td>\n",
       "      <td>5.292800e+04</td>\n",
       "      <td>5.292800e+04</td>\n",
       "      <td>52928.000000</td>\n",
       "      <td>52928.000000</td>\n",
       "      <td>52928.000000</td>\n",
       "    </tr>\n",
       "    <tr>\n",
       "      <th>unique</th>\n",
       "      <td>NaN</td>\n",
       "      <td>196506</td>\n",
       "      <td>42</td>\n",
       "      <td>4</td>\n",
       "      <td>NaN</td>\n",
       "      <td>NaN</td>\n",
       "      <td>125498</td>\n",
       "      <td>79571</td>\n",
       "      <td>175</td>\n",
       "      <td>NaN</td>\n",
       "      <td>...</td>\n",
       "      <td>NaN</td>\n",
       "      <td>NaN</td>\n",
       "      <td>NaN</td>\n",
       "      <td>3399</td>\n",
       "      <td>9</td>\n",
       "      <td>NaN</td>\n",
       "      <td>NaN</td>\n",
       "      <td>NaN</td>\n",
       "      <td>NaN</td>\n",
       "      <td>NaN</td>\n",
       "    </tr>\n",
       "    <tr>\n",
       "      <th>top</th>\n",
       "      <td>NaN</td>\n",
       "      <td>Mobivery</td>\n",
       "      <td>software</td>\n",
       "      <td>operating</td>\n",
       "      <td>NaN</td>\n",
       "      <td>NaN</td>\n",
       "      <td>placeshilton.com</td>\n",
       "      <td>Goodman_UK</td>\n",
       "      <td>USA</td>\n",
       "      <td>NaN</td>\n",
       "      <td>...</td>\n",
       "      <td>NaN</td>\n",
       "      <td>NaN</td>\n",
       "      <td>NaN</td>\n",
       "      <td>2008-01-01</td>\n",
       "      <td>venture</td>\n",
       "      <td>NaN</td>\n",
       "      <td>NaN</td>\n",
       "      <td>NaN</td>\n",
       "      <td>NaN</td>\n",
       "      <td>NaN</td>\n",
       "    </tr>\n",
       "    <tr>\n",
       "      <th>freq</th>\n",
       "      <td>NaN</td>\n",
       "      <td>15</td>\n",
       "      <td>20759</td>\n",
       "      <td>200486</td>\n",
       "      <td>NaN</td>\n",
       "      <td>NaN</td>\n",
       "      <td>44</td>\n",
       "      <td>20</td>\n",
       "      <td>68089</td>\n",
       "      <td>NaN</td>\n",
       "      <td>...</td>\n",
       "      <td>NaN</td>\n",
       "      <td>NaN</td>\n",
       "      <td>NaN</td>\n",
       "      <td>462</td>\n",
       "      <td>15342</td>\n",
       "      <td>NaN</td>\n",
       "      <td>NaN</td>\n",
       "      <td>NaN</td>\n",
       "      <td>NaN</td>\n",
       "      <td>NaN</td>\n",
       "    </tr>\n",
       "    <tr>\n",
       "      <th>mean</th>\n",
       "      <td>145287.383723</td>\n",
       "      <td>NaN</td>\n",
       "      <td>NaN</td>\n",
       "      <td>NaN</td>\n",
       "      <td>2005-12-29 22:12:37.481174016</td>\n",
       "      <td>2011-09-14 22:51:06.628007936</td>\n",
       "      <td>NaN</td>\n",
       "      <td>NaN</td>\n",
       "      <td>NaN</td>\n",
       "      <td>0.037711</td>\n",
       "      <td>...</td>\n",
       "      <td>0.650442</td>\n",
       "      <td>28962.894536</td>\n",
       "      <td>98490.888433</td>\n",
       "      <td>NaN</td>\n",
       "      <td>NaN</td>\n",
       "      <td>7.946092e+06</td>\n",
       "      <td>3.294525e+05</td>\n",
       "      <td>1.528567</td>\n",
       "      <td>0.604576</td>\n",
       "      <td>0.604538</td>\n",
       "    </tr>\n",
       "    <tr>\n",
       "      <th>min</th>\n",
       "      <td>1.000000</td>\n",
       "      <td>NaN</td>\n",
       "      <td>NaN</td>\n",
       "      <td>NaN</td>\n",
       "      <td>1901-01-01 00:00:00</td>\n",
       "      <td>1963-05-12 00:00:00</td>\n",
       "      <td>NaN</td>\n",
       "      <td>NaN</td>\n",
       "      <td>NaN</td>\n",
       "      <td>0.000000</td>\n",
       "      <td>...</td>\n",
       "      <td>0.000000</td>\n",
       "      <td>1.000000</td>\n",
       "      <td>1.000000</td>\n",
       "      <td>NaN</td>\n",
       "      <td>NaN</td>\n",
       "      <td>0.000000e+00</td>\n",
       "      <td>0.000000e+00</td>\n",
       "      <td>0.000000</td>\n",
       "      <td>0.000000</td>\n",
       "      <td>0.000000</td>\n",
       "    </tr>\n",
       "    <tr>\n",
       "      <th>25%</th>\n",
       "      <td>51960.750000</td>\n",
       "      <td>NaN</td>\n",
       "      <td>NaN</td>\n",
       "      <td>NaN</td>\n",
       "      <td>2004-01-01 00:00:00</td>\n",
       "      <td>2011-01-01 00:00:00</td>\n",
       "      <td>NaN</td>\n",
       "      <td>NaN</td>\n",
       "      <td>NaN</td>\n",
       "      <td>0.000000</td>\n",
       "      <td>...</td>\n",
       "      <td>0.000000</td>\n",
       "      <td>14343.750000</td>\n",
       "      <td>26598.000000</td>\n",
       "      <td>NaN</td>\n",
       "      <td>NaN</td>\n",
       "      <td>2.463300e+05</td>\n",
       "      <td>0.000000e+00</td>\n",
       "      <td>0.000000</td>\n",
       "      <td>0.000000</td>\n",
       "      <td>0.000000</td>\n",
       "    </tr>\n",
       "    <tr>\n",
       "      <th>50%</th>\n",
       "      <td>165262.500000</td>\n",
       "      <td>NaN</td>\n",
       "      <td>NaN</td>\n",
       "      <td>NaN</td>\n",
       "      <td>2008-08-04 00:00:00</td>\n",
       "      <td>2012-02-02 00:00:00</td>\n",
       "      <td>NaN</td>\n",
       "      <td>NaN</td>\n",
       "      <td>NaN</td>\n",
       "      <td>0.000000</td>\n",
       "      <td>...</td>\n",
       "      <td>0.000000</td>\n",
       "      <td>28885.500000</td>\n",
       "      <td>58080.000000</td>\n",
       "      <td>NaN</td>\n",
       "      <td>NaN</td>\n",
       "      <td>1.600000e+06</td>\n",
       "      <td>0.000000e+00</td>\n",
       "      <td>1.000000</td>\n",
       "      <td>1.000000</td>\n",
       "      <td>1.000000</td>\n",
       "    </tr>\n",
       "    <tr>\n",
       "      <th>75%</th>\n",
       "      <td>228199.250000</td>\n",
       "      <td>NaN</td>\n",
       "      <td>NaN</td>\n",
       "      <td>NaN</td>\n",
       "      <td>2011-01-01 00:00:00</td>\n",
       "      <td>2013-01-01 00:00:00</td>\n",
       "      <td>NaN</td>\n",
       "      <td>NaN</td>\n",
       "      <td>NaN</td>\n",
       "      <td>0.000000</td>\n",
       "      <td>...</td>\n",
       "      <td>1.000000</td>\n",
       "      <td>43561.250000</td>\n",
       "      <td>171610.750000</td>\n",
       "      <td>NaN</td>\n",
       "      <td>NaN</td>\n",
       "      <td>6.700000e+06</td>\n",
       "      <td>0.000000e+00</td>\n",
       "      <td>2.000000</td>\n",
       "      <td>1.000000</td>\n",
       "      <td>1.000000</td>\n",
       "    </tr>\n",
       "    <tr>\n",
       "      <th>max</th>\n",
       "      <td>286215.000000</td>\n",
       "      <td>NaN</td>\n",
       "      <td>NaN</td>\n",
       "      <td>NaN</td>\n",
       "      <td>2014-10-01 00:00:00</td>\n",
       "      <td>2014-01-02 00:00:00</td>\n",
       "      <td>NaN</td>\n",
       "      <td>NaN</td>\n",
       "      <td>NaN</td>\n",
       "      <td>478.000000</td>\n",
       "      <td>...</td>\n",
       "      <td>9.000000</td>\n",
       "      <td>57952.000000</td>\n",
       "      <td>286215.000000</td>\n",
       "      <td>NaN</td>\n",
       "      <td>NaN</td>\n",
       "      <td>3.835050e+09</td>\n",
       "      <td>1.500000e+10</td>\n",
       "      <td>36.000000</td>\n",
       "      <td>1.000000</td>\n",
       "      <td>1.000000</td>\n",
       "    </tr>\n",
       "    <tr>\n",
       "      <th>std</th>\n",
       "      <td>91998.156087</td>\n",
       "      <td>NaN</td>\n",
       "      <td>NaN</td>\n",
       "      <td>NaN</td>\n",
       "      <td>NaN</td>\n",
       "      <td>NaN</td>\n",
       "      <td>NaN</td>\n",
       "      <td>NaN</td>\n",
       "      <td>NaN</td>\n",
       "      <td>1.962712</td>\n",
       "      <td>...</td>\n",
       "      <td>0.826408</td>\n",
       "      <td>16821.871803</td>\n",
       "      <td>88429.084864</td>\n",
       "      <td>NaN</td>\n",
       "      <td>NaN</td>\n",
       "      <td>4.216821e+07</td>\n",
       "      <td>6.531803e+07</td>\n",
       "      <td>2.060192</td>\n",
       "      <td>0.488946</td>\n",
       "      <td>0.488954</td>\n",
       "    </tr>\n",
       "  </tbody>\n",
       "</table>\n",
       "<p>11 rows × 22 columns</p>\n",
       "</div>"
      ],
      "text/plain": [
       "           company_ID      name category_code     status  \\\n",
       "count   217472.000000    217472        143886     217472   \n",
       "unique            NaN    196506            42          4   \n",
       "top               NaN  Mobivery      software  operating   \n",
       "freq              NaN        15         20759     200486   \n",
       "mean    145287.383723       NaN           NaN        NaN   \n",
       "min          1.000000       NaN           NaN        NaN   \n",
       "25%      51960.750000       NaN           NaN        NaN   \n",
       "50%     165262.500000       NaN           NaN        NaN   \n",
       "75%     228199.250000       NaN           NaN        NaN   \n",
       "max     286215.000000       NaN           NaN        NaN   \n",
       "std      91998.156087       NaN           NaN        NaN   \n",
       "\n",
       "                           founded_at                      closed_at  \\\n",
       "count                          109956                           3449   \n",
       "unique                            NaN                            NaN   \n",
       "top                               NaN                            NaN   \n",
       "freq                              NaN                            NaN   \n",
       "mean    2005-12-29 22:12:37.481174016  2011-09-14 22:51:06.628007936   \n",
       "min               1901-01-01 00:00:00            1963-05-12 00:00:00   \n",
       "25%               2004-01-01 00:00:00            2011-01-01 00:00:00   \n",
       "50%               2008-08-04 00:00:00            2012-02-02 00:00:00   \n",
       "75%               2011-01-01 00:00:00            2013-01-01 00:00:00   \n",
       "max               2014-10-01 00:00:00            2014-01-02 00:00:00   \n",
       "std                               NaN                            NaN   \n",
       "\n",
       "                  domain network_username country_code  investment_rounds  \\\n",
       "count             147159            95534       108607      217472.000000   \n",
       "unique            125498            79571          175                NaN   \n",
       "top     placeshilton.com       Goodman_UK          USA                NaN   \n",
       "freq                  44               20        68089                NaN   \n",
       "mean                 NaN              NaN          NaN           0.037711   \n",
       "min                  NaN              NaN          NaN           0.000000   \n",
       "25%                  NaN              NaN          NaN           0.000000   \n",
       "50%                  NaN              NaN          NaN           0.000000   \n",
       "75%                  NaN              NaN          NaN           0.000000   \n",
       "max                  NaN              NaN          NaN         478.000000   \n",
       "std                  NaN              NaN          NaN           1.962712   \n",
       "\n",
       "        ...     milestones  funding_round_id     company_id   funded_at  \\\n",
       "count   ...  217472.000000      52928.000000   52928.000000       52680   \n",
       "unique  ...            NaN               NaN            NaN        3399   \n",
       "top     ...            NaN               NaN            NaN  2008-01-01   \n",
       "freq    ...            NaN               NaN            NaN         462   \n",
       "mean    ...       0.650442      28962.894536   98490.888433         NaN   \n",
       "min     ...       0.000000          1.000000       1.000000         NaN   \n",
       "25%     ...       0.000000      14343.750000   26598.000000         NaN   \n",
       "50%     ...       0.000000      28885.500000   58080.000000         NaN   \n",
       "75%     ...       1.000000      43561.250000  171610.750000         NaN   \n",
       "max     ...       9.000000      57952.000000  286215.000000         NaN   \n",
       "std     ...       0.826408      16821.871803   88429.084864         NaN   \n",
       "\n",
       "        funding_round_type raised_amount pre_money_valuation  participants  \\\n",
       "count                52928  5.292800e+04        5.292800e+04  52928.000000   \n",
       "unique                   9           NaN                 NaN           NaN   \n",
       "top                venture           NaN                 NaN           NaN   \n",
       "freq                 15342           NaN                 NaN           NaN   \n",
       "mean                   NaN  7.946092e+06        3.294525e+05      1.528567   \n",
       "min                    NaN  0.000000e+00        0.000000e+00      0.000000   \n",
       "25%                    NaN  2.463300e+05        0.000000e+00      0.000000   \n",
       "50%                    NaN  1.600000e+06        0.000000e+00      1.000000   \n",
       "75%                    NaN  6.700000e+06        0.000000e+00      2.000000   \n",
       "max                    NaN  3.835050e+09        1.500000e+10     36.000000   \n",
       "std                    NaN  4.216821e+07        6.531803e+07      2.060192   \n",
       "\n",
       "        is_first_round  is_last_round  \n",
       "count     52928.000000   52928.000000  \n",
       "unique             NaN            NaN  \n",
       "top                NaN            NaN  \n",
       "freq               NaN            NaN  \n",
       "mean          0.604576       0.604538  \n",
       "min           0.000000       0.000000  \n",
       "25%           0.000000       0.000000  \n",
       "50%           1.000000       1.000000  \n",
       "75%           1.000000       1.000000  \n",
       "max           1.000000       1.000000  \n",
       "std           0.488946       0.488954  \n",
       "\n",
       "[11 rows x 22 columns]"
      ]
     },
     "metadata": {},
     "output_type": "display_data"
    },
    {
     "data": {
      "text/plain": [
       "'\\nПропущенные значения:'"
      ]
     },
     "metadata": {},
     "output_type": "display_data"
    },
    {
     "data": {
      "text/plain": [
       "company_ID                302\n",
       "name                      302\n",
       "category_code           73888\n",
       "status                    302\n",
       "founded_at             107818\n",
       "closed_at              214325\n",
       "domain                  70615\n",
       "network_username       122240\n",
       "country_code           109167\n",
       "investment_rounds         302\n",
       "funding_rounds            302\n",
       "funding_total             302\n",
       "milestones                302\n",
       "funding_round_id       164846\n",
       "company_id             164846\n",
       "funded_at              165094\n",
       "funding_round_type     164846\n",
       "raised_amount          164846\n",
       "pre_money_valuation    164846\n",
       "participants           164846\n",
       "is_first_round         164846\n",
       "is_last_round          164846\n",
       "dtype: int64"
      ]
     },
     "metadata": {},
     "output_type": "display_data"
    },
    {
     "data": {
      "text/plain": [
       "'\\n==================================================\\n'"
      ]
     },
     "metadata": {},
     "output_type": "display_data"
    },
    {
     "data": {
      "text/plain": [
       "'--- Degrees ---'"
      ]
     },
     "metadata": {},
     "output_type": "display_data"
    },
    {
     "data": {
      "text/plain": [
       "'Информация о DataFrame:'"
      ]
     },
     "metadata": {},
     "output_type": "display_data"
    },
    {
     "name": "stdout",
     "output_type": "stream",
     "text": [
      "<class 'pandas.core.frame.DataFrame'>\n",
      "RangeIndex: 109610 entries, 0 to 109609\n",
      "Data columns (total 4 columns):\n",
      " #   Column       Non-Null Count   Dtype \n",
      "---  ------       --------------   ----- \n",
      " 0   id           109610 non-null  int64 \n",
      " 1   object_id    109610 non-null  object\n",
      " 2   degree_type  98392 non-null   object\n",
      " 3   subject      81298 non-null   object\n",
      "dtypes: int64(1), object(3)\n",
      "memory usage: 3.3+ MB\n"
     ]
    },
    {
     "data": {
      "text/plain": [
       "None"
      ]
     },
     "metadata": {},
     "output_type": "display_data"
    },
    {
     "data": {
      "text/plain": [
       "'\\nПервые 5 строк DataFrame:'"
      ]
     },
     "metadata": {},
     "output_type": "display_data"
    },
    {
     "data": {
      "text/html": [
       "<div>\n",
       "<style scoped>\n",
       "    .dataframe tbody tr th:only-of-type {\n",
       "        vertical-align: middle;\n",
       "    }\n",
       "\n",
       "    .dataframe tbody tr th {\n",
       "        vertical-align: top;\n",
       "    }\n",
       "\n",
       "    .dataframe thead th {\n",
       "        text-align: right;\n",
       "    }\n",
       "</style>\n",
       "<table border=\"1\" class=\"dataframe\">\n",
       "  <thead>\n",
       "    <tr style=\"text-align: right;\">\n",
       "      <th></th>\n",
       "      <th>id</th>\n",
       "      <th>object_id</th>\n",
       "      <th>degree_type</th>\n",
       "      <th>subject</th>\n",
       "    </tr>\n",
       "  </thead>\n",
       "  <tbody>\n",
       "    <tr>\n",
       "      <th>0</th>\n",
       "      <td>1</td>\n",
       "      <td>p:6117</td>\n",
       "      <td>MBA</td>\n",
       "      <td>NaN</td>\n",
       "    </tr>\n",
       "    <tr>\n",
       "      <th>1</th>\n",
       "      <td>2</td>\n",
       "      <td>p:6136</td>\n",
       "      <td>BA</td>\n",
       "      <td>English, French</td>\n",
       "    </tr>\n",
       "    <tr>\n",
       "      <th>2</th>\n",
       "      <td>3</td>\n",
       "      <td>p:6136</td>\n",
       "      <td>MS</td>\n",
       "      <td>Mass Communication</td>\n",
       "    </tr>\n",
       "    <tr>\n",
       "      <th>3</th>\n",
       "      <td>4</td>\n",
       "      <td>p:6005</td>\n",
       "      <td>MS</td>\n",
       "      <td>Internet Technology</td>\n",
       "    </tr>\n",
       "    <tr>\n",
       "      <th>4</th>\n",
       "      <td>5</td>\n",
       "      <td>p:5832</td>\n",
       "      <td>BCS</td>\n",
       "      <td>Computer Science, Psychology</td>\n",
       "    </tr>\n",
       "  </tbody>\n",
       "</table>\n",
       "</div>"
      ],
      "text/plain": [
       "   id object_id degree_type                       subject\n",
       "0   1    p:6117         MBA                           NaN\n",
       "1   2    p:6136          BA               English, French\n",
       "2   3    p:6136          MS            Mass Communication\n",
       "3   4    p:6005          MS           Internet Technology\n",
       "4   5    p:5832         BCS  Computer Science, Psychology"
      ]
     },
     "metadata": {},
     "output_type": "display_data"
    },
    {
     "data": {
      "text/plain": [
       "'\\nСтатистическое описание:'"
      ]
     },
     "metadata": {},
     "output_type": "display_data"
    },
    {
     "data": {
      "text/html": [
       "<div>\n",
       "<style scoped>\n",
       "    .dataframe tbody tr th:only-of-type {\n",
       "        vertical-align: middle;\n",
       "    }\n",
       "\n",
       "    .dataframe tbody tr th {\n",
       "        vertical-align: top;\n",
       "    }\n",
       "\n",
       "    .dataframe thead th {\n",
       "        text-align: right;\n",
       "    }\n",
       "</style>\n",
       "<table border=\"1\" class=\"dataframe\">\n",
       "  <thead>\n",
       "    <tr style=\"text-align: right;\">\n",
       "      <th></th>\n",
       "      <th>id</th>\n",
       "      <th>object_id</th>\n",
       "      <th>degree_type</th>\n",
       "      <th>subject</th>\n",
       "    </tr>\n",
       "  </thead>\n",
       "  <tbody>\n",
       "    <tr>\n",
       "      <th>count</th>\n",
       "      <td>109610.00000</td>\n",
       "      <td>109610</td>\n",
       "      <td>98392</td>\n",
       "      <td>81298</td>\n",
       "    </tr>\n",
       "    <tr>\n",
       "      <th>unique</th>\n",
       "      <td>NaN</td>\n",
       "      <td>68451</td>\n",
       "      <td>7148</td>\n",
       "      <td>20050</td>\n",
       "    </tr>\n",
       "    <tr>\n",
       "      <th>top</th>\n",
       "      <td>NaN</td>\n",
       "      <td>p:183805</td>\n",
       "      <td>BS</td>\n",
       "      <td>Computer Science</td>\n",
       "    </tr>\n",
       "    <tr>\n",
       "      <th>freq</th>\n",
       "      <td>NaN</td>\n",
       "      <td>10</td>\n",
       "      <td>23425</td>\n",
       "      <td>6001</td>\n",
       "    </tr>\n",
       "    <tr>\n",
       "      <th>mean</th>\n",
       "      <td>54805.50000</td>\n",
       "      <td>NaN</td>\n",
       "      <td>NaN</td>\n",
       "      <td>NaN</td>\n",
       "    </tr>\n",
       "    <tr>\n",
       "      <th>std</th>\n",
       "      <td>31641.82584</td>\n",
       "      <td>NaN</td>\n",
       "      <td>NaN</td>\n",
       "      <td>NaN</td>\n",
       "    </tr>\n",
       "    <tr>\n",
       "      <th>min</th>\n",
       "      <td>1.00000</td>\n",
       "      <td>NaN</td>\n",
       "      <td>NaN</td>\n",
       "      <td>NaN</td>\n",
       "    </tr>\n",
       "    <tr>\n",
       "      <th>25%</th>\n",
       "      <td>27403.25000</td>\n",
       "      <td>NaN</td>\n",
       "      <td>NaN</td>\n",
       "      <td>NaN</td>\n",
       "    </tr>\n",
       "    <tr>\n",
       "      <th>50%</th>\n",
       "      <td>54805.50000</td>\n",
       "      <td>NaN</td>\n",
       "      <td>NaN</td>\n",
       "      <td>NaN</td>\n",
       "    </tr>\n",
       "    <tr>\n",
       "      <th>75%</th>\n",
       "      <td>82207.75000</td>\n",
       "      <td>NaN</td>\n",
       "      <td>NaN</td>\n",
       "      <td>NaN</td>\n",
       "    </tr>\n",
       "    <tr>\n",
       "      <th>max</th>\n",
       "      <td>109610.00000</td>\n",
       "      <td>NaN</td>\n",
       "      <td>NaN</td>\n",
       "      <td>NaN</td>\n",
       "    </tr>\n",
       "  </tbody>\n",
       "</table>\n",
       "</div>"
      ],
      "text/plain": [
       "                  id object_id degree_type           subject\n",
       "count   109610.00000    109610       98392             81298\n",
       "unique           NaN     68451        7148             20050\n",
       "top              NaN  p:183805          BS  Computer Science\n",
       "freq             NaN        10       23425              6001\n",
       "mean     54805.50000       NaN         NaN               NaN\n",
       "std      31641.82584       NaN         NaN               NaN\n",
       "min          1.00000       NaN         NaN               NaN\n",
       "25%      27403.25000       NaN         NaN               NaN\n",
       "50%      54805.50000       NaN         NaN               NaN\n",
       "75%      82207.75000       NaN         NaN               NaN\n",
       "max     109610.00000       NaN         NaN               NaN"
      ]
     },
     "metadata": {},
     "output_type": "display_data"
    },
    {
     "data": {
      "text/plain": [
       "'\\nПропущенные значения:'"
      ]
     },
     "metadata": {},
     "output_type": "display_data"
    },
    {
     "data": {
      "text/plain": [
       "degree_type    11218\n",
       "subject        28312\n",
       "dtype: int64"
      ]
     },
     "metadata": {},
     "output_type": "display_data"
    },
    {
     "data": {
      "text/plain": [
       "'\\n==================================================\\n'"
      ]
     },
     "metadata": {},
     "output_type": "display_data"
    },
    {
     "data": {
      "text/plain": [
       "'--- Education ---'"
      ]
     },
     "metadata": {},
     "output_type": "display_data"
    },
    {
     "data": {
      "text/plain": [
       "'Информация о DataFrame:'"
      ]
     },
     "metadata": {},
     "output_type": "display_data"
    },
    {
     "name": "stdout",
     "output_type": "stream",
     "text": [
      "<class 'pandas.core.frame.DataFrame'>\n",
      "RangeIndex: 109610 entries, 0 to 109609\n",
      "Data columns (total 4 columns):\n",
      " #   Column        Non-Null Count   Dtype         \n",
      "---  ------        --------------   -----         \n",
      " 0   id            109610 non-null  int64         \n",
      " 1   person_id     109610 non-null  int64         \n",
      " 2   instituition  109555 non-null  object        \n",
      " 3   graduated_at  58054 non-null   datetime64[ns]\n",
      "dtypes: datetime64[ns](1), int64(2), object(1)\n",
      "memory usage: 3.3+ MB\n"
     ]
    },
    {
     "data": {
      "text/plain": [
       "None"
      ]
     },
     "metadata": {},
     "output_type": "display_data"
    },
    {
     "data": {
      "text/plain": [
       "'\\nПервые 5 строк DataFrame:'"
      ]
     },
     "metadata": {},
     "output_type": "display_data"
    },
    {
     "data": {
      "text/html": [
       "<div>\n",
       "<style scoped>\n",
       "    .dataframe tbody tr th:only-of-type {\n",
       "        vertical-align: middle;\n",
       "    }\n",
       "\n",
       "    .dataframe tbody tr th {\n",
       "        vertical-align: top;\n",
       "    }\n",
       "\n",
       "    .dataframe thead th {\n",
       "        text-align: right;\n",
       "    }\n",
       "</style>\n",
       "<table border=\"1\" class=\"dataframe\">\n",
       "  <thead>\n",
       "    <tr style=\"text-align: right;\">\n",
       "      <th></th>\n",
       "      <th>id</th>\n",
       "      <th>person_id</th>\n",
       "      <th>instituition</th>\n",
       "      <th>graduated_at</th>\n",
       "    </tr>\n",
       "  </thead>\n",
       "  <tbody>\n",
       "    <tr>\n",
       "      <th>0</th>\n",
       "      <td>1</td>\n",
       "      <td>6117</td>\n",
       "      <td>NaN</td>\n",
       "      <td>NaT</td>\n",
       "    </tr>\n",
       "    <tr>\n",
       "      <th>1</th>\n",
       "      <td>2</td>\n",
       "      <td>6136</td>\n",
       "      <td>Washington University, St. Louis</td>\n",
       "      <td>1990-01-01</td>\n",
       "    </tr>\n",
       "    <tr>\n",
       "      <th>2</th>\n",
       "      <td>3</td>\n",
       "      <td>6136</td>\n",
       "      <td>Boston University</td>\n",
       "      <td>1992-01-01</td>\n",
       "    </tr>\n",
       "    <tr>\n",
       "      <th>3</th>\n",
       "      <td>4</td>\n",
       "      <td>6005</td>\n",
       "      <td>University of Greenwich</td>\n",
       "      <td>2006-01-01</td>\n",
       "    </tr>\n",
       "    <tr>\n",
       "      <th>4</th>\n",
       "      <td>5</td>\n",
       "      <td>5832</td>\n",
       "      <td>Rice University</td>\n",
       "      <td>NaT</td>\n",
       "    </tr>\n",
       "  </tbody>\n",
       "</table>\n",
       "</div>"
      ],
      "text/plain": [
       "   id  person_id                      instituition graduated_at\n",
       "0   1       6117                               NaN          NaT\n",
       "1   2       6136  Washington University, St. Louis   1990-01-01\n",
       "2   3       6136                 Boston University   1992-01-01\n",
       "3   4       6005           University of Greenwich   2006-01-01\n",
       "4   5       5832                   Rice University          NaT"
      ]
     },
     "metadata": {},
     "output_type": "display_data"
    },
    {
     "data": {
      "text/plain": [
       "'\\nСтатистическое описание:'"
      ]
     },
     "metadata": {},
     "output_type": "display_data"
    },
    {
     "data": {
      "text/html": [
       "<div>\n",
       "<style scoped>\n",
       "    .dataframe tbody tr th:only-of-type {\n",
       "        vertical-align: middle;\n",
       "    }\n",
       "\n",
       "    .dataframe tbody tr th {\n",
       "        vertical-align: top;\n",
       "    }\n",
       "\n",
       "    .dataframe thead th {\n",
       "        text-align: right;\n",
       "    }\n",
       "</style>\n",
       "<table border=\"1\" class=\"dataframe\">\n",
       "  <thead>\n",
       "    <tr style=\"text-align: right;\">\n",
       "      <th></th>\n",
       "      <th>id</th>\n",
       "      <th>person_id</th>\n",
       "      <th>instituition</th>\n",
       "      <th>graduated_at</th>\n",
       "    </tr>\n",
       "  </thead>\n",
       "  <tbody>\n",
       "    <tr>\n",
       "      <th>count</th>\n",
       "      <td>109610.00000</td>\n",
       "      <td>109610.000000</td>\n",
       "      <td>109555</td>\n",
       "      <td>58054</td>\n",
       "    </tr>\n",
       "    <tr>\n",
       "      <th>unique</th>\n",
       "      <td>NaN</td>\n",
       "      <td>NaN</td>\n",
       "      <td>21067</td>\n",
       "      <td>NaN</td>\n",
       "    </tr>\n",
       "    <tr>\n",
       "      <th>top</th>\n",
       "      <td>NaN</td>\n",
       "      <td>NaN</td>\n",
       "      <td>Stanford University</td>\n",
       "      <td>NaN</td>\n",
       "    </tr>\n",
       "    <tr>\n",
       "      <th>freq</th>\n",
       "      <td>NaN</td>\n",
       "      <td>NaN</td>\n",
       "      <td>2990</td>\n",
       "      <td>NaN</td>\n",
       "    </tr>\n",
       "    <tr>\n",
       "      <th>mean</th>\n",
       "      <td>54805.50000</td>\n",
       "      <td>152625.077429</td>\n",
       "      <td>NaN</td>\n",
       "      <td>1997-10-17 07:09:27.898852992</td>\n",
       "    </tr>\n",
       "    <tr>\n",
       "      <th>min</th>\n",
       "      <td>1.00000</td>\n",
       "      <td>2.000000</td>\n",
       "      <td>NaN</td>\n",
       "      <td>1920-01-01 00:00:00</td>\n",
       "    </tr>\n",
       "    <tr>\n",
       "      <th>25%</th>\n",
       "      <td>27403.25000</td>\n",
       "      <td>72994.750000</td>\n",
       "      <td>NaN</td>\n",
       "      <td>1991-01-01 00:00:00</td>\n",
       "    </tr>\n",
       "    <tr>\n",
       "      <th>50%</th>\n",
       "      <td>54805.50000</td>\n",
       "      <td>180628.500000</td>\n",
       "      <td>NaN</td>\n",
       "      <td>1999-01-01 00:00:00</td>\n",
       "    </tr>\n",
       "    <tr>\n",
       "      <th>75%</th>\n",
       "      <td>82207.75000</td>\n",
       "      <td>227104.750000</td>\n",
       "      <td>NaN</td>\n",
       "      <td>2006-01-01 00:00:00</td>\n",
       "    </tr>\n",
       "    <tr>\n",
       "      <th>max</th>\n",
       "      <td>109610.00000</td>\n",
       "      <td>268589.000000</td>\n",
       "      <td>NaN</td>\n",
       "      <td>2015-01-01 00:00:00</td>\n",
       "    </tr>\n",
       "    <tr>\n",
       "      <th>std</th>\n",
       "      <td>31641.82584</td>\n",
       "      <td>83943.634014</td>\n",
       "      <td>NaN</td>\n",
       "      <td>NaN</td>\n",
       "    </tr>\n",
       "  </tbody>\n",
       "</table>\n",
       "</div>"
      ],
      "text/plain": [
       "                  id      person_id         instituition  \\\n",
       "count   109610.00000  109610.000000               109555   \n",
       "unique           NaN            NaN                21067   \n",
       "top              NaN            NaN  Stanford University   \n",
       "freq             NaN            NaN                 2990   \n",
       "mean     54805.50000  152625.077429                  NaN   \n",
       "min          1.00000       2.000000                  NaN   \n",
       "25%      27403.25000   72994.750000                  NaN   \n",
       "50%      54805.50000  180628.500000                  NaN   \n",
       "75%      82207.75000  227104.750000                  NaN   \n",
       "max     109610.00000  268589.000000                  NaN   \n",
       "std      31641.82584   83943.634014                  NaN   \n",
       "\n",
       "                         graduated_at  \n",
       "count                           58054  \n",
       "unique                            NaN  \n",
       "top                               NaN  \n",
       "freq                              NaN  \n",
       "mean    1997-10-17 07:09:27.898852992  \n",
       "min               1920-01-01 00:00:00  \n",
       "25%               1991-01-01 00:00:00  \n",
       "50%               1999-01-01 00:00:00  \n",
       "75%               2006-01-01 00:00:00  \n",
       "max               2015-01-01 00:00:00  \n",
       "std                               NaN  "
      ]
     },
     "metadata": {},
     "output_type": "display_data"
    },
    {
     "data": {
      "text/plain": [
       "'\\nПропущенные значения:'"
      ]
     },
     "metadata": {},
     "output_type": "display_data"
    },
    {
     "data": {
      "text/plain": [
       "instituition       55\n",
       "graduated_at    51556\n",
       "dtype: int64"
      ]
     },
     "metadata": {},
     "output_type": "display_data"
    },
    {
     "data": {
      "text/plain": [
       "'\\n==================================================\\n'"
      ]
     },
     "metadata": {},
     "output_type": "display_data"
    },
    {
     "data": {
      "text/plain": [
       "'--- Fund ---'"
      ]
     },
     "metadata": {},
     "output_type": "display_data"
    },
    {
     "data": {
      "text/plain": [
       "'Информация о DataFrame:'"
      ]
     },
     "metadata": {},
     "output_type": "display_data"
    },
    {
     "name": "stdout",
     "output_type": "stream",
     "text": [
      "<class 'pandas.core.frame.DataFrame'>\n",
      "RangeIndex: 11652 entries, 0 to 11651\n",
      "Data columns (total 9 columns):\n",
      " #   Column              Non-Null Count  Dtype         \n",
      "---  ------              --------------  -----         \n",
      " 0   id                  11652 non-null  int64         \n",
      " 1   name                11650 non-null  object        \n",
      " 2   founded_at          4605 non-null   datetime64[ns]\n",
      " 3   domain              7362 non-null   object        \n",
      " 4   network_username    2149 non-null   object        \n",
      " 5   country_code        7053 non-null   object        \n",
      " 6   investment_rounds   11652 non-null  int64         \n",
      " 7   invested_companies  11652 non-null  int64         \n",
      " 8   milestones          11652 non-null  int64         \n",
      "dtypes: datetime64[ns](1), int64(4), object(4)\n",
      "memory usage: 819.4+ KB\n"
     ]
    },
    {
     "data": {
      "text/plain": [
       "None"
      ]
     },
     "metadata": {},
     "output_type": "display_data"
    },
    {
     "data": {
      "text/plain": [
       "'\\nПервые 5 строк DataFrame:'"
      ]
     },
     "metadata": {},
     "output_type": "display_data"
    },
    {
     "data": {
      "text/html": [
       "<div>\n",
       "<style scoped>\n",
       "    .dataframe tbody tr th:only-of-type {\n",
       "        vertical-align: middle;\n",
       "    }\n",
       "\n",
       "    .dataframe tbody tr th {\n",
       "        vertical-align: top;\n",
       "    }\n",
       "\n",
       "    .dataframe thead th {\n",
       "        text-align: right;\n",
       "    }\n",
       "</style>\n",
       "<table border=\"1\" class=\"dataframe\">\n",
       "  <thead>\n",
       "    <tr style=\"text-align: right;\">\n",
       "      <th></th>\n",
       "      <th>id</th>\n",
       "      <th>name</th>\n",
       "      <th>founded_at</th>\n",
       "      <th>domain</th>\n",
       "      <th>network_username</th>\n",
       "      <th>country_code</th>\n",
       "      <th>investment_rounds</th>\n",
       "      <th>invested_companies</th>\n",
       "      <th>milestones</th>\n",
       "    </tr>\n",
       "  </thead>\n",
       "  <tbody>\n",
       "    <tr>\n",
       "      <th>0</th>\n",
       "      <td>13131</td>\n",
       "      <td>NaN</td>\n",
       "      <td>NaT</td>\n",
       "      <td>NaN</td>\n",
       "      <td>NaN</td>\n",
       "      <td>NaN</td>\n",
       "      <td>0</td>\n",
       "      <td>0</td>\n",
       "      <td>0</td>\n",
       "    </tr>\n",
       "    <tr>\n",
       "      <th>1</th>\n",
       "      <td>1</td>\n",
       "      <td>Greylock Partners</td>\n",
       "      <td>1965-01-01</td>\n",
       "      <td>greylock.com</td>\n",
       "      <td>greylockvc</td>\n",
       "      <td>USA</td>\n",
       "      <td>307</td>\n",
       "      <td>196</td>\n",
       "      <td>0</td>\n",
       "    </tr>\n",
       "    <tr>\n",
       "      <th>2</th>\n",
       "      <td>10</td>\n",
       "      <td>Mission Ventures</td>\n",
       "      <td>1996-01-01</td>\n",
       "      <td>missionventures.com</td>\n",
       "      <td>NaN</td>\n",
       "      <td>USA</td>\n",
       "      <td>58</td>\n",
       "      <td>33</td>\n",
       "      <td>0</td>\n",
       "    </tr>\n",
       "    <tr>\n",
       "      <th>3</th>\n",
       "      <td>100</td>\n",
       "      <td>Kapor Enterprises, Inc.</td>\n",
       "      <td>NaT</td>\n",
       "      <td>kei.com</td>\n",
       "      <td>NaN</td>\n",
       "      <td>USA</td>\n",
       "      <td>2</td>\n",
       "      <td>1</td>\n",
       "      <td>0</td>\n",
       "    </tr>\n",
       "    <tr>\n",
       "      <th>4</th>\n",
       "      <td>1000</td>\n",
       "      <td>Speed Ventures</td>\n",
       "      <td>NaT</td>\n",
       "      <td>NaN</td>\n",
       "      <td>NaN</td>\n",
       "      <td>NaN</td>\n",
       "      <td>0</td>\n",
       "      <td>0</td>\n",
       "      <td>1</td>\n",
       "    </tr>\n",
       "  </tbody>\n",
       "</table>\n",
       "</div>"
      ],
      "text/plain": [
       "      id                     name founded_at               domain  \\\n",
       "0  13131                      NaN        NaT                  NaN   \n",
       "1      1        Greylock Partners 1965-01-01         greylock.com   \n",
       "2     10         Mission Ventures 1996-01-01  missionventures.com   \n",
       "3    100  Kapor Enterprises, Inc.        NaT              kei.com   \n",
       "4   1000           Speed Ventures        NaT                  NaN   \n",
       "\n",
       "  network_username country_code  investment_rounds  invested_companies  \\\n",
       "0              NaN          NaN                  0                   0   \n",
       "1       greylockvc          USA                307                 196   \n",
       "2              NaN          USA                 58                  33   \n",
       "3              NaN          USA                  2                   1   \n",
       "4              NaN          NaN                  0                   0   \n",
       "\n",
       "   milestones  \n",
       "0           0  \n",
       "1           0  \n",
       "2           0  \n",
       "3           0  \n",
       "4           1  "
      ]
     },
     "metadata": {},
     "output_type": "display_data"
    },
    {
     "data": {
      "text/plain": [
       "'\\nСтатистическое описание:'"
      ]
     },
     "metadata": {},
     "output_type": "display_data"
    },
    {
     "data": {
      "text/html": [
       "<div>\n",
       "<style scoped>\n",
       "    .dataframe tbody tr th:only-of-type {\n",
       "        vertical-align: middle;\n",
       "    }\n",
       "\n",
       "    .dataframe tbody tr th {\n",
       "        vertical-align: top;\n",
       "    }\n",
       "\n",
       "    .dataframe thead th {\n",
       "        text-align: right;\n",
       "    }\n",
       "</style>\n",
       "<table border=\"1\" class=\"dataframe\">\n",
       "  <thead>\n",
       "    <tr style=\"text-align: right;\">\n",
       "      <th></th>\n",
       "      <th>id</th>\n",
       "      <th>name</th>\n",
       "      <th>founded_at</th>\n",
       "      <th>domain</th>\n",
       "      <th>network_username</th>\n",
       "      <th>country_code</th>\n",
       "      <th>investment_rounds</th>\n",
       "      <th>invested_companies</th>\n",
       "      <th>milestones</th>\n",
       "    </tr>\n",
       "  </thead>\n",
       "  <tbody>\n",
       "    <tr>\n",
       "      <th>count</th>\n",
       "      <td>11652.000000</td>\n",
       "      <td>11650</td>\n",
       "      <td>4605</td>\n",
       "      <td>7362</td>\n",
       "      <td>2149</td>\n",
       "      <td>7053</td>\n",
       "      <td>11652.000000</td>\n",
       "      <td>11652.000000</td>\n",
       "      <td>11652.000000</td>\n",
       "    </tr>\n",
       "    <tr>\n",
       "      <th>unique</th>\n",
       "      <td>NaN</td>\n",
       "      <td>11648</td>\n",
       "      <td>NaN</td>\n",
       "      <td>7231</td>\n",
       "      <td>2098</td>\n",
       "      <td>96</td>\n",
       "      <td>NaN</td>\n",
       "      <td>NaN</td>\n",
       "      <td>NaN</td>\n",
       "    </tr>\n",
       "    <tr>\n",
       "      <th>top</th>\n",
       "      <td>NaN</td>\n",
       "      <td>KfW Bankengruppe</td>\n",
       "      <td>NaN</td>\n",
       "      <td>morganstanley.com</td>\n",
       "      <td>GrowthWorks</td>\n",
       "      <td>USA</td>\n",
       "      <td>NaN</td>\n",
       "      <td>NaN</td>\n",
       "      <td>NaN</td>\n",
       "    </tr>\n",
       "    <tr>\n",
       "      <th>freq</th>\n",
       "      <td>NaN</td>\n",
       "      <td>2</td>\n",
       "      <td>NaN</td>\n",
       "      <td>5</td>\n",
       "      <td>4</td>\n",
       "      <td>3947</td>\n",
       "      <td>NaN</td>\n",
       "      <td>NaN</td>\n",
       "      <td>NaN</td>\n",
       "    </tr>\n",
       "    <tr>\n",
       "      <th>mean</th>\n",
       "      <td>7513.346035</td>\n",
       "      <td>NaN</td>\n",
       "      <td>1997-07-11 11:33:15.830618880</td>\n",
       "      <td>NaN</td>\n",
       "      <td>NaN</td>\n",
       "      <td>NaN</td>\n",
       "      <td>5.250515</td>\n",
       "      <td>3.932715</td>\n",
       "      <td>0.210179</td>\n",
       "    </tr>\n",
       "    <tr>\n",
       "      <th>min</th>\n",
       "      <td>1.000000</td>\n",
       "      <td>NaN</td>\n",
       "      <td>1901-01-01 00:00:00</td>\n",
       "      <td>NaN</td>\n",
       "      <td>NaN</td>\n",
       "      <td>NaN</td>\n",
       "      <td>0.000000</td>\n",
       "      <td>0.000000</td>\n",
       "      <td>0.000000</td>\n",
       "    </tr>\n",
       "    <tr>\n",
       "      <th>25%</th>\n",
       "      <td>3638.750000</td>\n",
       "      <td>NaN</td>\n",
       "      <td>1994-10-01 00:00:00</td>\n",
       "      <td>NaN</td>\n",
       "      <td>NaN</td>\n",
       "      <td>NaN</td>\n",
       "      <td>0.000000</td>\n",
       "      <td>0.000000</td>\n",
       "      <td>0.000000</td>\n",
       "    </tr>\n",
       "    <tr>\n",
       "      <th>50%</th>\n",
       "      <td>7243.000000</td>\n",
       "      <td>NaN</td>\n",
       "      <td>2001-01-01 00:00:00</td>\n",
       "      <td>NaN</td>\n",
       "      <td>NaN</td>\n",
       "      <td>NaN</td>\n",
       "      <td>1.000000</td>\n",
       "      <td>1.000000</td>\n",
       "      <td>0.000000</td>\n",
       "    </tr>\n",
       "    <tr>\n",
       "      <th>75%</th>\n",
       "      <td>11505.250000</td>\n",
       "      <td>NaN</td>\n",
       "      <td>2007-07-01 00:00:00</td>\n",
       "      <td>NaN</td>\n",
       "      <td>NaN</td>\n",
       "      <td>NaN</td>\n",
       "      <td>3.000000</td>\n",
       "      <td>2.000000</td>\n",
       "      <td>0.000000</td>\n",
       "    </tr>\n",
       "    <tr>\n",
       "      <th>max</th>\n",
       "      <td>15098.000000</td>\n",
       "      <td>NaN</td>\n",
       "      <td>2014-01-01 00:00:00</td>\n",
       "      <td>NaN</td>\n",
       "      <td>NaN</td>\n",
       "      <td>NaN</td>\n",
       "      <td>529.000000</td>\n",
       "      <td>441.000000</td>\n",
       "      <td>7.000000</td>\n",
       "    </tr>\n",
       "    <tr>\n",
       "      <th>std</th>\n",
       "      <td>4445.404028</td>\n",
       "      <td>NaN</td>\n",
       "      <td>NaN</td>\n",
       "      <td>NaN</td>\n",
       "      <td>NaN</td>\n",
       "      <td>NaN</td>\n",
       "      <td>21.292164</td>\n",
       "      <td>14.255757</td>\n",
       "      <td>0.708609</td>\n",
       "    </tr>\n",
       "  </tbody>\n",
       "</table>\n",
       "</div>"
      ],
      "text/plain": [
       "                  id              name                     founded_at  \\\n",
       "count   11652.000000             11650                           4605   \n",
       "unique           NaN             11648                            NaN   \n",
       "top              NaN  KfW Bankengruppe                            NaN   \n",
       "freq             NaN                 2                            NaN   \n",
       "mean     7513.346035               NaN  1997-07-11 11:33:15.830618880   \n",
       "min         1.000000               NaN            1901-01-01 00:00:00   \n",
       "25%      3638.750000               NaN            1994-10-01 00:00:00   \n",
       "50%      7243.000000               NaN            2001-01-01 00:00:00   \n",
       "75%     11505.250000               NaN            2007-07-01 00:00:00   \n",
       "max     15098.000000               NaN            2014-01-01 00:00:00   \n",
       "std      4445.404028               NaN                            NaN   \n",
       "\n",
       "                   domain network_username country_code  investment_rounds  \\\n",
       "count                7362             2149         7053       11652.000000   \n",
       "unique               7231             2098           96                NaN   \n",
       "top     morganstanley.com      GrowthWorks          USA                NaN   \n",
       "freq                    5                4         3947                NaN   \n",
       "mean                  NaN              NaN          NaN           5.250515   \n",
       "min                   NaN              NaN          NaN           0.000000   \n",
       "25%                   NaN              NaN          NaN           0.000000   \n",
       "50%                   NaN              NaN          NaN           1.000000   \n",
       "75%                   NaN              NaN          NaN           3.000000   \n",
       "max                   NaN              NaN          NaN         529.000000   \n",
       "std                   NaN              NaN          NaN          21.292164   \n",
       "\n",
       "        invested_companies    milestones  \n",
       "count         11652.000000  11652.000000  \n",
       "unique                 NaN           NaN  \n",
       "top                    NaN           NaN  \n",
       "freq                   NaN           NaN  \n",
       "mean              3.932715      0.210179  \n",
       "min               0.000000      0.000000  \n",
       "25%               0.000000      0.000000  \n",
       "50%               1.000000      0.000000  \n",
       "75%               2.000000      0.000000  \n",
       "max             441.000000      7.000000  \n",
       "std              14.255757      0.708609  "
      ]
     },
     "metadata": {},
     "output_type": "display_data"
    },
    {
     "data": {
      "text/plain": [
       "'\\nПропущенные значения:'"
      ]
     },
     "metadata": {},
     "output_type": "display_data"
    },
    {
     "data": {
      "text/plain": [
       "name                   2\n",
       "founded_at          7047\n",
       "domain              4290\n",
       "network_username    9503\n",
       "country_code        4599\n",
       "dtype: int64"
      ]
     },
     "metadata": {},
     "output_type": "display_data"
    },
    {
     "data": {
      "text/plain": [
       "'\\n==================================================\\n'"
      ]
     },
     "metadata": {},
     "output_type": "display_data"
    },
    {
     "data": {
      "text/plain": [
       "'--- Investment ---'"
      ]
     },
     "metadata": {},
     "output_type": "display_data"
    },
    {
     "data": {
      "text/plain": [
       "'Информация о DataFrame:'"
      ]
     },
     "metadata": {},
     "output_type": "display_data"
    },
    {
     "name": "stdout",
     "output_type": "stream",
     "text": [
      "<class 'pandas.core.frame.DataFrame'>\n",
      "RangeIndex: 61403 entries, 0 to 61402\n",
      "Data columns (total 4 columns):\n",
      " #   Column            Non-Null Count  Dtype\n",
      "---  ------            --------------  -----\n",
      " 0   id                61403 non-null  int64\n",
      " 1   funding_round_id  61403 non-null  int64\n",
      " 2   company_id        61403 non-null  int64\n",
      " 3   fund_id           61403 non-null  int64\n",
      "dtypes: int64(4)\n",
      "memory usage: 1.9 MB\n"
     ]
    },
    {
     "data": {
      "text/plain": [
       "None"
      ]
     },
     "metadata": {},
     "output_type": "display_data"
    },
    {
     "data": {
      "text/plain": [
       "'\\nПервые 5 строк DataFrame:'"
      ]
     },
     "metadata": {},
     "output_type": "display_data"
    },
    {
     "data": {
      "text/html": [
       "<div>\n",
       "<style scoped>\n",
       "    .dataframe tbody tr th:only-of-type {\n",
       "        vertical-align: middle;\n",
       "    }\n",
       "\n",
       "    .dataframe tbody tr th {\n",
       "        vertical-align: top;\n",
       "    }\n",
       "\n",
       "    .dataframe thead th {\n",
       "        text-align: right;\n",
       "    }\n",
       "</style>\n",
       "<table border=\"1\" class=\"dataframe\">\n",
       "  <thead>\n",
       "    <tr style=\"text-align: right;\">\n",
       "      <th></th>\n",
       "      <th>id</th>\n",
       "      <th>funding_round_id</th>\n",
       "      <th>company_id</th>\n",
       "      <th>fund_id</th>\n",
       "    </tr>\n",
       "  </thead>\n",
       "  <tbody>\n",
       "    <tr>\n",
       "      <th>0</th>\n",
       "      <td>1</td>\n",
       "      <td>1</td>\n",
       "      <td>4</td>\n",
       "      <td>1</td>\n",
       "    </tr>\n",
       "    <tr>\n",
       "      <th>1</th>\n",
       "      <td>2</td>\n",
       "      <td>1</td>\n",
       "      <td>4</td>\n",
       "      <td>2</td>\n",
       "    </tr>\n",
       "    <tr>\n",
       "      <th>2</th>\n",
       "      <td>3</td>\n",
       "      <td>3</td>\n",
       "      <td>5</td>\n",
       "      <td>4</td>\n",
       "    </tr>\n",
       "    <tr>\n",
       "      <th>3</th>\n",
       "      <td>4</td>\n",
       "      <td>4</td>\n",
       "      <td>5</td>\n",
       "      <td>1</td>\n",
       "    </tr>\n",
       "    <tr>\n",
       "      <th>4</th>\n",
       "      <td>5</td>\n",
       "      <td>4</td>\n",
       "      <td>5</td>\n",
       "      <td>5</td>\n",
       "    </tr>\n",
       "  </tbody>\n",
       "</table>\n",
       "</div>"
      ],
      "text/plain": [
       "   id  funding_round_id  company_id  fund_id\n",
       "0   1                 1           4        1\n",
       "1   2                 1           4        2\n",
       "2   3                 3           5        4\n",
       "3   4                 4           5        1\n",
       "4   5                 4           5        5"
      ]
     },
     "metadata": {},
     "output_type": "display_data"
    },
    {
     "data": {
      "text/plain": [
       "'\\nСтатистическое описание:'"
      ]
     },
     "metadata": {},
     "output_type": "display_data"
    },
    {
     "data": {
      "text/html": [
       "<div>\n",
       "<style scoped>\n",
       "    .dataframe tbody tr th:only-of-type {\n",
       "        vertical-align: middle;\n",
       "    }\n",
       "\n",
       "    .dataframe tbody tr th {\n",
       "        vertical-align: top;\n",
       "    }\n",
       "\n",
       "    .dataframe thead th {\n",
       "        text-align: right;\n",
       "    }\n",
       "</style>\n",
       "<table border=\"1\" class=\"dataframe\">\n",
       "  <thead>\n",
       "    <tr style=\"text-align: right;\">\n",
       "      <th></th>\n",
       "      <th>id</th>\n",
       "      <th>funding_round_id</th>\n",
       "      <th>company_id</th>\n",
       "      <th>fund_id</th>\n",
       "    </tr>\n",
       "  </thead>\n",
       "  <tbody>\n",
       "    <tr>\n",
       "      <th>count</th>\n",
       "      <td>61403.000000</td>\n",
       "      <td>61403.000000</td>\n",
       "      <td>61403.000000</td>\n",
       "      <td>61403.000000</td>\n",
       "    </tr>\n",
       "    <tr>\n",
       "      <th>mean</th>\n",
       "      <td>30702.000000</td>\n",
       "      <td>22687.272006</td>\n",
       "      <td>64626.998925</td>\n",
       "      <td>2620.820872</td>\n",
       "    </tr>\n",
       "    <tr>\n",
       "      <th>std</th>\n",
       "      <td>17725.663627</td>\n",
       "      <td>14895.634423</td>\n",
       "      <td>68795.693962</td>\n",
       "      <td>3169.131407</td>\n",
       "    </tr>\n",
       "    <tr>\n",
       "      <th>min</th>\n",
       "      <td>1.000000</td>\n",
       "      <td>1.000000</td>\n",
       "      <td>1.000000</td>\n",
       "      <td>1.000000</td>\n",
       "    </tr>\n",
       "    <tr>\n",
       "      <th>25%</th>\n",
       "      <td>15351.500000</td>\n",
       "      <td>10364.500000</td>\n",
       "      <td>18161.500000</td>\n",
       "      <td>262.000000</td>\n",
       "    </tr>\n",
       "    <tr>\n",
       "      <th>50%</th>\n",
       "      <td>30702.000000</td>\n",
       "      <td>19844.000000</td>\n",
       "      <td>39715.000000</td>\n",
       "      <td>1312.000000</td>\n",
       "    </tr>\n",
       "    <tr>\n",
       "      <th>75%</th>\n",
       "      <td>46052.500000</td>\n",
       "      <td>33325.500000</td>\n",
       "      <td>74961.000000</td>\n",
       "      <td>3769.000000</td>\n",
       "    </tr>\n",
       "    <tr>\n",
       "      <th>max</th>\n",
       "      <td>61403.000000</td>\n",
       "      <td>57948.000000</td>\n",
       "      <td>286178.000000</td>\n",
       "      <td>15098.000000</td>\n",
       "    </tr>\n",
       "  </tbody>\n",
       "</table>\n",
       "</div>"
      ],
      "text/plain": [
       "                 id  funding_round_id     company_id       fund_id\n",
       "count  61403.000000      61403.000000   61403.000000  61403.000000\n",
       "mean   30702.000000      22687.272006   64626.998925   2620.820872\n",
       "std    17725.663627      14895.634423   68795.693962   3169.131407\n",
       "min        1.000000          1.000000       1.000000      1.000000\n",
       "25%    15351.500000      10364.500000   18161.500000    262.000000\n",
       "50%    30702.000000      19844.000000   39715.000000   1312.000000\n",
       "75%    46052.500000      33325.500000   74961.000000   3769.000000\n",
       "max    61403.000000      57948.000000  286178.000000  15098.000000"
      ]
     },
     "metadata": {},
     "output_type": "display_data"
    },
    {
     "data": {
      "text/plain": [
       "'\\nПропущенные значения:'"
      ]
     },
     "metadata": {},
     "output_type": "display_data"
    },
    {
     "data": {
      "text/plain": [
       "Series([], dtype: int64)"
      ]
     },
     "metadata": {},
     "output_type": "display_data"
    },
    {
     "data": {
      "text/plain": [
       "'\\n==================================================\\n'"
      ]
     },
     "metadata": {},
     "output_type": "display_data"
    },
    {
     "data": {
      "text/plain": [
       "'--- People ---'"
      ]
     },
     "metadata": {},
     "output_type": "display_data"
    },
    {
     "data": {
      "text/plain": [
       "'Информация о DataFrame:'"
      ]
     },
     "metadata": {},
     "output_type": "display_data"
    },
    {
     "name": "stdout",
     "output_type": "stream",
     "text": [
      "<class 'pandas.core.frame.DataFrame'>\n",
      "RangeIndex: 226709 entries, 0 to 226708\n",
      "Data columns (total 5 columns):\n",
      " #   Column            Non-Null Count   Dtype  \n",
      "---  ------            --------------   -----  \n",
      " 0   id                226709 non-null  int64  \n",
      " 1   first_name        226704 non-null  object \n",
      " 2   last_name         226708 non-null  object \n",
      " 3   company_id        34615 non-null   float64\n",
      " 4   network_username  38867 non-null   object \n",
      "dtypes: float64(1), int64(1), object(3)\n",
      "memory usage: 8.6+ MB\n"
     ]
    },
    {
     "data": {
      "text/plain": [
       "None"
      ]
     },
     "metadata": {},
     "output_type": "display_data"
    },
    {
     "data": {
      "text/plain": [
       "'\\nПервые 5 строк DataFrame:'"
      ]
     },
     "metadata": {},
     "output_type": "display_data"
    },
    {
     "data": {
      "text/html": [
       "<div>\n",
       "<style scoped>\n",
       "    .dataframe tbody tr th:only-of-type {\n",
       "        vertical-align: middle;\n",
       "    }\n",
       "\n",
       "    .dataframe tbody tr th {\n",
       "        vertical-align: top;\n",
       "    }\n",
       "\n",
       "    .dataframe thead th {\n",
       "        text-align: right;\n",
       "    }\n",
       "</style>\n",
       "<table border=\"1\" class=\"dataframe\">\n",
       "  <thead>\n",
       "    <tr style=\"text-align: right;\">\n",
       "      <th></th>\n",
       "      <th>id</th>\n",
       "      <th>first_name</th>\n",
       "      <th>last_name</th>\n",
       "      <th>company_id</th>\n",
       "      <th>network_username</th>\n",
       "    </tr>\n",
       "  </thead>\n",
       "  <tbody>\n",
       "    <tr>\n",
       "      <th>0</th>\n",
       "      <td>10</td>\n",
       "      <td>Mark</td>\n",
       "      <td>Zuckerberg</td>\n",
       "      <td>5.0</td>\n",
       "      <td>NaN</td>\n",
       "    </tr>\n",
       "    <tr>\n",
       "      <th>1</th>\n",
       "      <td>100</td>\n",
       "      <td>Peter</td>\n",
       "      <td>Lester</td>\n",
       "      <td>27.0</td>\n",
       "      <td>NaN</td>\n",
       "    </tr>\n",
       "    <tr>\n",
       "      <th>2</th>\n",
       "      <td>1000</td>\n",
       "      <td>Dr. Steven</td>\n",
       "      <td>E. Saunders</td>\n",
       "      <td>292.0</td>\n",
       "      <td>NaN</td>\n",
       "    </tr>\n",
       "    <tr>\n",
       "      <th>3</th>\n",
       "      <td>10000</td>\n",
       "      <td>Neil</td>\n",
       "      <td>Capel</td>\n",
       "      <td>2526.0</td>\n",
       "      <td>NaN</td>\n",
       "    </tr>\n",
       "    <tr>\n",
       "      <th>4</th>\n",
       "      <td>100000</td>\n",
       "      <td>Sue</td>\n",
       "      <td>Pilsch</td>\n",
       "      <td>NaN</td>\n",
       "      <td>NaN</td>\n",
       "    </tr>\n",
       "  </tbody>\n",
       "</table>\n",
       "</div>"
      ],
      "text/plain": [
       "       id  first_name    last_name  company_id network_username\n",
       "0      10        Mark   Zuckerberg         5.0              NaN\n",
       "1     100       Peter       Lester        27.0              NaN\n",
       "2    1000  Dr. Steven  E. Saunders       292.0              NaN\n",
       "3   10000        Neil        Capel      2526.0              NaN\n",
       "4  100000         Sue       Pilsch         NaN              NaN"
      ]
     },
     "metadata": {},
     "output_type": "display_data"
    },
    {
     "data": {
      "text/plain": [
       "'\\nСтатистическое описание:'"
      ]
     },
     "metadata": {},
     "output_type": "display_data"
    },
    {
     "data": {
      "text/html": [
       "<div>\n",
       "<style scoped>\n",
       "    .dataframe tbody tr th:only-of-type {\n",
       "        vertical-align: middle;\n",
       "    }\n",
       "\n",
       "    .dataframe tbody tr th {\n",
       "        vertical-align: top;\n",
       "    }\n",
       "\n",
       "    .dataframe thead th {\n",
       "        text-align: right;\n",
       "    }\n",
       "</style>\n",
       "<table border=\"1\" class=\"dataframe\">\n",
       "  <thead>\n",
       "    <tr style=\"text-align: right;\">\n",
       "      <th></th>\n",
       "      <th>id</th>\n",
       "      <th>first_name</th>\n",
       "      <th>last_name</th>\n",
       "      <th>company_id</th>\n",
       "      <th>network_username</th>\n",
       "    </tr>\n",
       "  </thead>\n",
       "  <tbody>\n",
       "    <tr>\n",
       "      <th>count</th>\n",
       "      <td>226709.000000</td>\n",
       "      <td>226704</td>\n",
       "      <td>226708</td>\n",
       "      <td>34615.000000</td>\n",
       "      <td>38867</td>\n",
       "    </tr>\n",
       "    <tr>\n",
       "      <th>unique</th>\n",
       "      <td>NaN</td>\n",
       "      <td>28422</td>\n",
       "      <td>107772</td>\n",
       "      <td>NaN</td>\n",
       "      <td>38421</td>\n",
       "    </tr>\n",
       "    <tr>\n",
       "      <th>top</th>\n",
       "      <td>NaN</td>\n",
       "      <td>David</td>\n",
       "      <td>Smith</td>\n",
       "      <td>NaN</td>\n",
       "      <td>iWatchLife</td>\n",
       "    </tr>\n",
       "    <tr>\n",
       "      <th>freq</th>\n",
       "      <td>NaN</td>\n",
       "      <td>4495</td>\n",
       "      <td>797</td>\n",
       "      <td>NaN</td>\n",
       "      <td>6</td>\n",
       "    </tr>\n",
       "    <tr>\n",
       "      <th>mean</th>\n",
       "      <td>135421.343921</td>\n",
       "      <td>NaN</td>\n",
       "      <td>NaN</td>\n",
       "      <td>83338.840012</td>\n",
       "      <td>NaN</td>\n",
       "    </tr>\n",
       "    <tr>\n",
       "      <th>std</th>\n",
       "      <td>79749.283786</td>\n",
       "      <td>NaN</td>\n",
       "      <td>NaN</td>\n",
       "      <td>84316.535268</td>\n",
       "      <td>NaN</td>\n",
       "    </tr>\n",
       "    <tr>\n",
       "      <th>min</th>\n",
       "      <td>2.000000</td>\n",
       "      <td>NaN</td>\n",
       "      <td>NaN</td>\n",
       "      <td>1.000000</td>\n",
       "      <td>NaN</td>\n",
       "    </tr>\n",
       "    <tr>\n",
       "      <th>25%</th>\n",
       "      <td>63355.000000</td>\n",
       "      <td>NaN</td>\n",
       "      <td>NaN</td>\n",
       "      <td>9771.500000</td>\n",
       "      <td>NaN</td>\n",
       "    </tr>\n",
       "    <tr>\n",
       "      <th>50%</th>\n",
       "      <td>138864.000000</td>\n",
       "      <td>NaN</td>\n",
       "      <td>NaN</td>\n",
       "      <td>51837.000000</td>\n",
       "      <td>NaN</td>\n",
       "    </tr>\n",
       "    <tr>\n",
       "      <th>75%</th>\n",
       "      <td>206548.000000</td>\n",
       "      <td>NaN</td>\n",
       "      <td>NaN</td>\n",
       "      <td>158522.000000</td>\n",
       "      <td>NaN</td>\n",
       "    </tr>\n",
       "    <tr>\n",
       "      <th>max</th>\n",
       "      <td>268593.000000</td>\n",
       "      <td>NaN</td>\n",
       "      <td>NaN</td>\n",
       "      <td>286091.000000</td>\n",
       "      <td>NaN</td>\n",
       "    </tr>\n",
       "  </tbody>\n",
       "</table>\n",
       "</div>"
      ],
      "text/plain": [
       "                   id first_name last_name     company_id network_username\n",
       "count   226709.000000     226704    226708   34615.000000            38867\n",
       "unique            NaN      28422    107772            NaN            38421\n",
       "top               NaN      David     Smith            NaN       iWatchLife\n",
       "freq              NaN       4495       797            NaN                6\n",
       "mean    135421.343921        NaN       NaN   83338.840012              NaN\n",
       "std      79749.283786        NaN       NaN   84316.535268              NaN\n",
       "min          2.000000        NaN       NaN       1.000000              NaN\n",
       "25%      63355.000000        NaN       NaN    9771.500000              NaN\n",
       "50%     138864.000000        NaN       NaN   51837.000000              NaN\n",
       "75%     206548.000000        NaN       NaN  158522.000000              NaN\n",
       "max     268593.000000        NaN       NaN  286091.000000              NaN"
      ]
     },
     "metadata": {},
     "output_type": "display_data"
    },
    {
     "data": {
      "text/plain": [
       "'\\nПропущенные значения:'"
      ]
     },
     "metadata": {},
     "output_type": "display_data"
    },
    {
     "data": {
      "text/plain": [
       "first_name               5\n",
       "last_name                1\n",
       "company_id          192094\n",
       "network_username    187842\n",
       "dtype: int64"
      ]
     },
     "metadata": {},
     "output_type": "display_data"
    },
    {
     "data": {
      "text/plain": [
       "'\\n==================================================\\n'"
      ]
     },
     "metadata": {},
     "output_type": "display_data"
    }
   ],
   "source": [
    "# Проверка информации о каждом датафрейме\n",
    "for name, df in dataframes.items():\n",
    "    display(f\"--- {name} ---\")\n",
    "    \n",
    "    # Общая инфа о датафрейме\n",
    "    display(\"Информация о DataFrame:\")\n",
    "    display(df.info())\n",
    "    \n",
    "    # Первые строки чтобы посмотреть на данные, что они представляют\n",
    "    display(\"\\nПервые 5 строк DataFrame:\")\n",
    "    display(df.head())\n",
    "    \n",
    "    # Статистическое описание числовых данных\n",
    "    display(\"\\nСтатистическое описание:\")\n",
    "    display(df.describe(include='all', datetime_is_numeric=True))  # Включает описания для всех типов данных\n",
    "    \n",
    "    # Проверим, есть ли пропущенные значения\n",
    "    missing_values = df.isnull().sum()\n",
    "    display(\"\\nПропущенные значения:\")\n",
    "    display(missing_values[missing_values > 0])\n",
    "    \n",
    "    display(\"\\n\" + \"=\"*50 + \"\\n\")  # Разделитель для удобства"
   ]
  },
  {
   "cell_type": "code",
   "execution_count": 8,
   "metadata": {},
   "outputs": [
    {
     "data": {
      "text/plain": [
       "Index(['company_ID', 'name', 'category_code', 'status', 'founded_at',\n",
       "       'closed_at', 'domain', 'network_username', 'country_code',\n",
       "       'investment_rounds', 'funding_rounds', 'funding_total', 'milestones',\n",
       "       'funding_round_id', 'company_id', 'funded_at', 'funding_round_type',\n",
       "       'raised_amount', 'pre_money_valuation', 'participants',\n",
       "       'is_first_round', 'is_last_round'],\n",
       "      dtype='object')"
      ]
     },
     "metadata": {},
     "output_type": "display_data"
    }
   ],
   "source": [
    "# Посмотрим как изменились названия стобцов в датафрейме компаний\n",
    "display(company_and_rounds.columns)"
   ]
  },
  {
   "cell_type": "markdown",
   "metadata": {},
   "source": [
    "<div class=\"alert alert-primary\">\n",
    "<b>Надо поработать с пропусками и типами данных.</b> \n",
    "</div>"
   ]
  },
  {
   "cell_type": "code",
   "execution_count": 9,
   "metadata": {},
   "outputs": [
    {
     "data": {
      "text/html": [
       "<div>\n",
       "<style scoped>\n",
       "    .dataframe tbody tr th:only-of-type {\n",
       "        vertical-align: middle;\n",
       "    }\n",
       "\n",
       "    .dataframe tbody tr th {\n",
       "        vertical-align: top;\n",
       "    }\n",
       "\n",
       "    .dataframe thead th {\n",
       "        text-align: right;\n",
       "    }\n",
       "</style>\n",
       "<table border=\"1\" class=\"dataframe\">\n",
       "  <thead>\n",
       "    <tr style=\"text-align: right;\">\n",
       "      <th></th>\n",
       "      <th>company_ID</th>\n",
       "      <th>name</th>\n",
       "      <th>category_code</th>\n",
       "      <th>status</th>\n",
       "      <th>founded_at</th>\n",
       "      <th>closed_at</th>\n",
       "      <th>domain</th>\n",
       "      <th>network_username</th>\n",
       "      <th>country_code</th>\n",
       "      <th>investment_rounds</th>\n",
       "      <th>...</th>\n",
       "      <th>funding_round_id</th>\n",
       "      <th>company_id</th>\n",
       "      <th>funded_at</th>\n",
       "      <th>funding_round_type</th>\n",
       "      <th>raised_amount</th>\n",
       "      <th>pre_money_valuation</th>\n",
       "      <th>participants</th>\n",
       "      <th>is_first_round</th>\n",
       "      <th>is_last_round</th>\n",
       "      <th>match</th>\n",
       "    </tr>\n",
       "  </thead>\n",
       "  <tbody>\n",
       "    <tr>\n",
       "      <th>0</th>\n",
       "      <td>1.0</td>\n",
       "      <td>Wetpaint</td>\n",
       "      <td>web</td>\n",
       "      <td>operating</td>\n",
       "      <td>2005-10-17</td>\n",
       "      <td>NaT</td>\n",
       "      <td>wetpaint-inc.com</td>\n",
       "      <td>BachelrWetpaint</td>\n",
       "      <td>USA</td>\n",
       "      <td>0.0</td>\n",
       "      <td>...</td>\n",
       "      <td>888.0</td>\n",
       "      <td>1.0</td>\n",
       "      <td>2005-10-01</td>\n",
       "      <td>series-a</td>\n",
       "      <td>5250000.0</td>\n",
       "      <td>0.0</td>\n",
       "      <td>2.0</td>\n",
       "      <td>0.0</td>\n",
       "      <td>1.0</td>\n",
       "      <td>True</td>\n",
       "    </tr>\n",
       "    <tr>\n",
       "      <th>1</th>\n",
       "      <td>1.0</td>\n",
       "      <td>Wetpaint</td>\n",
       "      <td>web</td>\n",
       "      <td>operating</td>\n",
       "      <td>2005-10-17</td>\n",
       "      <td>NaT</td>\n",
       "      <td>wetpaint-inc.com</td>\n",
       "      <td>BachelrWetpaint</td>\n",
       "      <td>USA</td>\n",
       "      <td>0.0</td>\n",
       "      <td>...</td>\n",
       "      <td>889.0</td>\n",
       "      <td>1.0</td>\n",
       "      <td>2007-01-01</td>\n",
       "      <td>series-b</td>\n",
       "      <td>9500000.0</td>\n",
       "      <td>0.0</td>\n",
       "      <td>3.0</td>\n",
       "      <td>0.0</td>\n",
       "      <td>0.0</td>\n",
       "      <td>True</td>\n",
       "    </tr>\n",
       "    <tr>\n",
       "      <th>2</th>\n",
       "      <td>1.0</td>\n",
       "      <td>Wetpaint</td>\n",
       "      <td>web</td>\n",
       "      <td>operating</td>\n",
       "      <td>2005-10-17</td>\n",
       "      <td>NaT</td>\n",
       "      <td>wetpaint-inc.com</td>\n",
       "      <td>BachelrWetpaint</td>\n",
       "      <td>USA</td>\n",
       "      <td>0.0</td>\n",
       "      <td>...</td>\n",
       "      <td>2312.0</td>\n",
       "      <td>1.0</td>\n",
       "      <td>2008-05-19</td>\n",
       "      <td>series-c+</td>\n",
       "      <td>25000000.0</td>\n",
       "      <td>0.0</td>\n",
       "      <td>4.0</td>\n",
       "      <td>1.0</td>\n",
       "      <td>0.0</td>\n",
       "      <td>True</td>\n",
       "    </tr>\n",
       "    <tr>\n",
       "      <th>3</th>\n",
       "      <td>10.0</td>\n",
       "      <td>Flektor</td>\n",
       "      <td>games_video</td>\n",
       "      <td>acquired</td>\n",
       "      <td>NaT</td>\n",
       "      <td>NaT</td>\n",
       "      <td>flektor.com</td>\n",
       "      <td>NaN</td>\n",
       "      <td>USA</td>\n",
       "      <td>0.0</td>\n",
       "      <td>...</td>\n",
       "      <td>NaN</td>\n",
       "      <td>NaN</td>\n",
       "      <td>NaN</td>\n",
       "      <td>NaN</td>\n",
       "      <td>NaN</td>\n",
       "      <td>NaN</td>\n",
       "      <td>NaN</td>\n",
       "      <td>NaN</td>\n",
       "      <td>NaN</td>\n",
       "      <td>False</td>\n",
       "    </tr>\n",
       "    <tr>\n",
       "      <th>4</th>\n",
       "      <td>100.0</td>\n",
       "      <td>There</td>\n",
       "      <td>games_video</td>\n",
       "      <td>acquired</td>\n",
       "      <td>NaT</td>\n",
       "      <td>NaT</td>\n",
       "      <td>there.com</td>\n",
       "      <td>NaN</td>\n",
       "      <td>USA</td>\n",
       "      <td>0.0</td>\n",
       "      <td>...</td>\n",
       "      <td>NaN</td>\n",
       "      <td>NaN</td>\n",
       "      <td>NaN</td>\n",
       "      <td>NaN</td>\n",
       "      <td>NaN</td>\n",
       "      <td>NaN</td>\n",
       "      <td>NaN</td>\n",
       "      <td>NaN</td>\n",
       "      <td>NaN</td>\n",
       "      <td>False</td>\n",
       "    </tr>\n",
       "    <tr>\n",
       "      <th>...</th>\n",
       "      <td>...</td>\n",
       "      <td>...</td>\n",
       "      <td>...</td>\n",
       "      <td>...</td>\n",
       "      <td>...</td>\n",
       "      <td>...</td>\n",
       "      <td>...</td>\n",
       "      <td>...</td>\n",
       "      <td>...</td>\n",
       "      <td>...</td>\n",
       "      <td>...</td>\n",
       "      <td>...</td>\n",
       "      <td>...</td>\n",
       "      <td>...</td>\n",
       "      <td>...</td>\n",
       "      <td>...</td>\n",
       "      <td>...</td>\n",
       "      <td>...</td>\n",
       "      <td>...</td>\n",
       "      <td>...</td>\n",
       "      <td>...</td>\n",
       "    </tr>\n",
       "    <tr>\n",
       "      <th>217769</th>\n",
       "      <td>NaN</td>\n",
       "      <td>NaN</td>\n",
       "      <td>NaN</td>\n",
       "      <td>NaN</td>\n",
       "      <td>NaT</td>\n",
       "      <td>NaT</td>\n",
       "      <td>NaN</td>\n",
       "      <td>NaN</td>\n",
       "      <td>NaN</td>\n",
       "      <td>NaN</td>\n",
       "      <td>...</td>\n",
       "      <td>56454.0</td>\n",
       "      <td>282847.0</td>\n",
       "      <td>2011-01-31</td>\n",
       "      <td>other</td>\n",
       "      <td>5500000.0</td>\n",
       "      <td>0.0</td>\n",
       "      <td>0.0</td>\n",
       "      <td>1.0</td>\n",
       "      <td>1.0</td>\n",
       "      <td>False</td>\n",
       "    </tr>\n",
       "    <tr>\n",
       "      <th>217770</th>\n",
       "      <td>NaN</td>\n",
       "      <td>NaN</td>\n",
       "      <td>NaN</td>\n",
       "      <td>NaN</td>\n",
       "      <td>NaT</td>\n",
       "      <td>NaT</td>\n",
       "      <td>NaN</td>\n",
       "      <td>NaN</td>\n",
       "      <td>NaN</td>\n",
       "      <td>NaN</td>\n",
       "      <td>...</td>\n",
       "      <td>56542.0</td>\n",
       "      <td>55477.0</td>\n",
       "      <td>2011-01-13</td>\n",
       "      <td>venture</td>\n",
       "      <td>10633300.0</td>\n",
       "      <td>0.0</td>\n",
       "      <td>0.0</td>\n",
       "      <td>0.0</td>\n",
       "      <td>1.0</td>\n",
       "      <td>False</td>\n",
       "    </tr>\n",
       "    <tr>\n",
       "      <th>217771</th>\n",
       "      <td>NaN</td>\n",
       "      <td>NaN</td>\n",
       "      <td>NaN</td>\n",
       "      <td>NaN</td>\n",
       "      <td>NaT</td>\n",
       "      <td>NaT</td>\n",
       "      <td>NaN</td>\n",
       "      <td>NaN</td>\n",
       "      <td>NaN</td>\n",
       "      <td>NaN</td>\n",
       "      <td>...</td>\n",
       "      <td>56543.0</td>\n",
       "      <td>55477.0</td>\n",
       "      <td>2012-05-31</td>\n",
       "      <td>venture</td>\n",
       "      <td>2125720.0</td>\n",
       "      <td>0.0</td>\n",
       "      <td>0.0</td>\n",
       "      <td>1.0</td>\n",
       "      <td>0.0</td>\n",
       "      <td>False</td>\n",
       "    </tr>\n",
       "    <tr>\n",
       "      <th>217772</th>\n",
       "      <td>NaN</td>\n",
       "      <td>NaN</td>\n",
       "      <td>NaN</td>\n",
       "      <td>NaN</td>\n",
       "      <td>NaT</td>\n",
       "      <td>NaT</td>\n",
       "      <td>NaN</td>\n",
       "      <td>NaN</td>\n",
       "      <td>NaN</td>\n",
       "      <td>NaN</td>\n",
       "      <td>...</td>\n",
       "      <td>56928.0</td>\n",
       "      <td>283492.0</td>\n",
       "      <td>2013-12-03</td>\n",
       "      <td>venture</td>\n",
       "      <td>3602480.0</td>\n",
       "      <td>0.0</td>\n",
       "      <td>5.0</td>\n",
       "      <td>1.0</td>\n",
       "      <td>1.0</td>\n",
       "      <td>False</td>\n",
       "    </tr>\n",
       "    <tr>\n",
       "      <th>217773</th>\n",
       "      <td>NaN</td>\n",
       "      <td>NaN</td>\n",
       "      <td>NaN</td>\n",
       "      <td>NaN</td>\n",
       "      <td>NaT</td>\n",
       "      <td>NaT</td>\n",
       "      <td>NaN</td>\n",
       "      <td>NaN</td>\n",
       "      <td>NaN</td>\n",
       "      <td>NaN</td>\n",
       "      <td>...</td>\n",
       "      <td>57063.0</td>\n",
       "      <td>284191.0</td>\n",
       "      <td>2013-12-04</td>\n",
       "      <td>venture</td>\n",
       "      <td>7000000.0</td>\n",
       "      <td>0.0</td>\n",
       "      <td>4.0</td>\n",
       "      <td>1.0</td>\n",
       "      <td>1.0</td>\n",
       "      <td>False</td>\n",
       "    </tr>\n",
       "  </tbody>\n",
       "</table>\n",
       "<p>217774 rows × 23 columns</p>\n",
       "</div>"
      ],
      "text/plain": [
       "        company_ID      name category_code     status founded_at closed_at  \\\n",
       "0              1.0  Wetpaint           web  operating 2005-10-17       NaT   \n",
       "1              1.0  Wetpaint           web  operating 2005-10-17       NaT   \n",
       "2              1.0  Wetpaint           web  operating 2005-10-17       NaT   \n",
       "3             10.0   Flektor   games_video   acquired        NaT       NaT   \n",
       "4            100.0     There   games_video   acquired        NaT       NaT   \n",
       "...            ...       ...           ...        ...        ...       ...   \n",
       "217769         NaN       NaN           NaN        NaN        NaT       NaT   \n",
       "217770         NaN       NaN           NaN        NaN        NaT       NaT   \n",
       "217771         NaN       NaN           NaN        NaN        NaT       NaT   \n",
       "217772         NaN       NaN           NaN        NaN        NaT       NaT   \n",
       "217773         NaN       NaN           NaN        NaN        NaT       NaT   \n",
       "\n",
       "                  domain network_username country_code  investment_rounds  \\\n",
       "0       wetpaint-inc.com  BachelrWetpaint          USA                0.0   \n",
       "1       wetpaint-inc.com  BachelrWetpaint          USA                0.0   \n",
       "2       wetpaint-inc.com  BachelrWetpaint          USA                0.0   \n",
       "3            flektor.com              NaN          USA                0.0   \n",
       "4              there.com              NaN          USA                0.0   \n",
       "...                  ...              ...          ...                ...   \n",
       "217769               NaN              NaN          NaN                NaN   \n",
       "217770               NaN              NaN          NaN                NaN   \n",
       "217771               NaN              NaN          NaN                NaN   \n",
       "217772               NaN              NaN          NaN                NaN   \n",
       "217773               NaN              NaN          NaN                NaN   \n",
       "\n",
       "        ...  funding_round_id  company_id   funded_at  funding_round_type  \\\n",
       "0       ...             888.0         1.0  2005-10-01            series-a   \n",
       "1       ...             889.0         1.0  2007-01-01            series-b   \n",
       "2       ...            2312.0         1.0  2008-05-19           series-c+   \n",
       "3       ...               NaN         NaN         NaN                 NaN   \n",
       "4       ...               NaN         NaN         NaN                 NaN   \n",
       "...     ...               ...         ...         ...                 ...   \n",
       "217769  ...           56454.0    282847.0  2011-01-31               other   \n",
       "217770  ...           56542.0     55477.0  2011-01-13             venture   \n",
       "217771  ...           56543.0     55477.0  2012-05-31             venture   \n",
       "217772  ...           56928.0    283492.0  2013-12-03             venture   \n",
       "217773  ...           57063.0    284191.0  2013-12-04             venture   \n",
       "\n",
       "        raised_amount pre_money_valuation participants  is_first_round  \\\n",
       "0           5250000.0                 0.0          2.0             0.0   \n",
       "1           9500000.0                 0.0          3.0             0.0   \n",
       "2          25000000.0                 0.0          4.0             1.0   \n",
       "3                 NaN                 NaN          NaN             NaN   \n",
       "4                 NaN                 NaN          NaN             NaN   \n",
       "...               ...                 ...          ...             ...   \n",
       "217769      5500000.0                 0.0          0.0             1.0   \n",
       "217770     10633300.0                 0.0          0.0             0.0   \n",
       "217771      2125720.0                 0.0          0.0             1.0   \n",
       "217772      3602480.0                 0.0          5.0             1.0   \n",
       "217773      7000000.0                 0.0          4.0             1.0   \n",
       "\n",
       "        is_last_round  match  \n",
       "0                 1.0   True  \n",
       "1                 0.0   True  \n",
       "2                 0.0   True  \n",
       "3                 NaN  False  \n",
       "4                 NaN  False  \n",
       "...               ...    ...  \n",
       "217769            1.0  False  \n",
       "217770            1.0  False  \n",
       "217771            0.0  False  \n",
       "217772            1.0  False  \n",
       "217773            1.0  False  \n",
       "\n",
       "[217774 rows x 23 columns]"
      ]
     },
     "metadata": {},
     "output_type": "display_data"
    }
   ],
   "source": [
    "company_and_rounds['match'] = company_and_rounds['company_ID'] == company_and_rounds['company_id']\n",
    "\n",
    "# Вывод результатов\n",
    "display(company_and_rounds)\n"
   ]
  },
  {
   "cell_type": "markdown",
   "metadata": {
    "id": "mg2gEwh0rJg0"
   },
   "source": [
    "### 1.2. Смена типов и анализ пропусков\n",
    "\n",
    "* Обработайте типы данных в столбцах, которые хранят значения даты и времени, если это необходимо."
   ]
  },
  {
   "cell_type": "code",
   "execution_count": 10,
   "metadata": {},
   "outputs": [],
   "source": [
    "# В таблице acquisition\n",
    "acquisition['acquired_at'] = pd.to_datetime(acquisition['acquired_at'], errors='coerce')\n",
    "\n",
    "# В таблице company_and_rounds\n",
    "company_and_rounds['founded_at'] = pd.to_datetime(company_and_rounds['founded_at'], errors='coerce')\n",
    "company_and_rounds['closed_at'] = pd.to_datetime(company_and_rounds['closed_at'], errors='coerce')\n",
    "company_and_rounds['funded_at'] = pd.to_datetime(company_and_rounds['funded_at'], errors='coerce')\n",
    "\n",
    "# В таблице education\n",
    "education['graduated_at'] = pd.to_datetime(education['graduated_at'], errors='coerce')\n",
    "    "
   ]
  },
  {
   "cell_type": "code",
   "execution_count": 11,
   "metadata": {},
   "outputs": [
    {
     "data": {
      "text/plain": [
       "29"
      ]
     },
     "metadata": {},
     "output_type": "display_data"
    },
    {
     "data": {
      "text/plain": [
       "107818"
      ]
     },
     "metadata": {},
     "output_type": "display_data"
    },
    {
     "data": {
      "text/plain": [
       "214325"
      ]
     },
     "metadata": {},
     "output_type": "display_data"
    },
    {
     "data": {
      "text/plain": [
       "165094"
      ]
     },
     "metadata": {},
     "output_type": "display_data"
    },
    {
     "data": {
      "text/plain": [
       "51556"
      ]
     },
     "metadata": {},
     "output_type": "display_data"
    }
   ],
   "source": [
    "# Подсчитаем количество пропусков в столбцах содержащих данные о датах\n",
    "display(acquisition['acquired_at'].isnull().sum())\n",
    "display(company_and_rounds['founded_at'].isnull().sum())\n",
    "display(company_and_rounds['closed_at'].isnull().sum())\n",
    "display(company_and_rounds['funded_at'].isnull().sum())\n",
    "display(education['graduated_at'].isnull().sum())"
   ]
  },
  {
   "cell_type": "code",
   "execution_count": 12,
   "metadata": {},
   "outputs": [],
   "source": [
    "# Очистка столбцов\n",
    "company_and_rounds['category_code'] = company_and_rounds['category_code'].str.strip().str.lower()\n",
    "degrees['degree_type'] = degrees['degree_type'].str.strip().str.lower()"
   ]
  },
  {
   "cell_type": "code",
   "execution_count": 13,
   "metadata": {
    "scrolled": true
   },
   "outputs": [
    {
     "name": "stderr",
     "output_type": "stream",
     "text": [
      "/opt/conda/lib/python3.9/site-packages/fuzzywuzzy/fuzz.py:11: UserWarning: Using slow pure-python SequenceMatcher. Install python-Levenshtein to remove this warning\n",
      "  warnings.warn('Using slow pure-python SequenceMatcher. Install python-Levenshtein to remove this warning')\n"
     ]
    }
   ],
   "source": [
    "from fuzzywuzzy import fuzz\n"
   ]
  },
  {
   "cell_type": "code",
   "execution_count": 14,
   "metadata": {
    "scrolled": true
   },
   "outputs": [
    {
     "data": {
      "text/plain": [
       "'Найденные дубликаты:'"
      ]
     },
     "metadata": {},
     "output_type": "display_data"
    },
    {
     "data": {
      "text/plain": [
       "[]"
      ]
     },
     "metadata": {},
     "output_type": "display_data"
    }
   ],
   "source": [
    "def find_duplicates(series):\n",
    "    duplicates = []\n",
    "    # Приводим все значения к строке\n",
    "    series = series.astype(str)\n",
    "    for i in range(len(series)):\n",
    "        for j in range(i + 1, len(series)):\n",
    "            if fuzz.ratio(series[i], series[j]) > 85:  # если 85% схожесть\n",
    "                duplicates.append((series[i], series[j]))\n",
    "    return duplicates\n",
    "\n",
    "# Применение функции к category_code\n",
    "duplicates_found = find_duplicates(company_and_rounds['category_code'].unique())\n",
    "display(\"Найденные дубликаты:\", duplicates_found)"
   ]
  },
  {
   "cell_type": "code",
   "execution_count": 15,
   "metadata": {},
   "outputs": [],
   "source": [
    "company_and_rounds = company_and_rounds.dropna(subset=['funding_total', 'name'])\n"
   ]
  },
  {
   "cell_type": "code",
   "execution_count": 16,
   "metadata": {},
   "outputs": [
    {
     "data": {
      "text/plain": [
       "'--- Acquisition ---'"
      ]
     },
     "metadata": {},
     "output_type": "display_data"
    },
    {
     "data": {
      "text/plain": [
       "'Информация о DataFrame:'"
      ]
     },
     "metadata": {},
     "output_type": "display_data"
    },
    {
     "name": "stdout",
     "output_type": "stream",
     "text": [
      "<class 'pandas.core.frame.DataFrame'>\n",
      "RangeIndex: 9407 entries, 0 to 9406\n",
      "Data columns (total 6 columns):\n",
      " #   Column                Non-Null Count  Dtype         \n",
      "---  ------                --------------  -----         \n",
      " 0   id                    9407 non-null   int64         \n",
      " 1   acquiring_company_id  9407 non-null   int64         \n",
      " 2   acquired_company_id   9407 non-null   int64         \n",
      " 3   term_code             1831 non-null   object        \n",
      " 4   price_amount          9407 non-null   int64         \n",
      " 5   acquired_at           9378 non-null   datetime64[ns]\n",
      "dtypes: datetime64[ns](1), int64(4), object(1)\n",
      "memory usage: 441.1+ KB\n"
     ]
    },
    {
     "data": {
      "text/plain": [
       "None"
      ]
     },
     "metadata": {},
     "output_type": "display_data"
    },
    {
     "data": {
      "text/plain": [
       "'--- Company and Rounds ---'"
      ]
     },
     "metadata": {},
     "output_type": "display_data"
    },
    {
     "data": {
      "text/plain": [
       "'Информация о DataFrame:'"
      ]
     },
     "metadata": {},
     "output_type": "display_data"
    },
    {
     "name": "stdout",
     "output_type": "stream",
     "text": [
      "<class 'pandas.core.frame.DataFrame'>\n",
      "RangeIndex: 217774 entries, 0 to 217773\n",
      "Data columns (total 23 columns):\n",
      " #   Column               Non-Null Count   Dtype         \n",
      "---  ------               --------------   -----         \n",
      " 0   company_ID           217472 non-null  float64       \n",
      " 1   name                 217472 non-null  object        \n",
      " 2   category_code        143886 non-null  object        \n",
      " 3   status               217472 non-null  object        \n",
      " 4   founded_at           109956 non-null  datetime64[ns]\n",
      " 5   closed_at            3449 non-null    datetime64[ns]\n",
      " 6   domain               147159 non-null  object        \n",
      " 7   network_username     95534 non-null   object        \n",
      " 8   country_code         108607 non-null  object        \n",
      " 9   investment_rounds    217472 non-null  float64       \n",
      " 10  funding_rounds       217472 non-null  float64       \n",
      " 11  funding_total        217472 non-null  float64       \n",
      " 12  milestones           217472 non-null  float64       \n",
      " 13  funding_round_id     52928 non-null   float64       \n",
      " 14  company_id           52928 non-null   float64       \n",
      " 15  funded_at            52680 non-null   datetime64[ns]\n",
      " 16  funding_round_type   52928 non-null   object        \n",
      " 17  raised_amount        52928 non-null   float64       \n",
      " 18  pre_money_valuation  52928 non-null   float64       \n",
      " 19  participants         52928 non-null   float64       \n",
      " 20  is_first_round       52928 non-null   float64       \n",
      " 21  is_last_round        52928 non-null   float64       \n",
      " 22  match                217774 non-null  bool          \n",
      "dtypes: bool(1), datetime64[ns](3), float64(12), object(7)\n",
      "memory usage: 36.8+ MB\n"
     ]
    },
    {
     "data": {
      "text/plain": [
       "None"
      ]
     },
     "metadata": {},
     "output_type": "display_data"
    },
    {
     "data": {
      "text/plain": [
       "'--- Degrees ---'"
      ]
     },
     "metadata": {},
     "output_type": "display_data"
    },
    {
     "data": {
      "text/plain": [
       "'Информация о DataFrame:'"
      ]
     },
     "metadata": {},
     "output_type": "display_data"
    },
    {
     "name": "stdout",
     "output_type": "stream",
     "text": [
      "<class 'pandas.core.frame.DataFrame'>\n",
      "RangeIndex: 109610 entries, 0 to 109609\n",
      "Data columns (total 4 columns):\n",
      " #   Column       Non-Null Count   Dtype \n",
      "---  ------       --------------   ----- \n",
      " 0   id           109610 non-null  int64 \n",
      " 1   object_id    109610 non-null  object\n",
      " 2   degree_type  98392 non-null   object\n",
      " 3   subject      81298 non-null   object\n",
      "dtypes: int64(1), object(3)\n",
      "memory usage: 3.3+ MB\n"
     ]
    },
    {
     "data": {
      "text/plain": [
       "None"
      ]
     },
     "metadata": {},
     "output_type": "display_data"
    },
    {
     "data": {
      "text/plain": [
       "'--- Education ---'"
      ]
     },
     "metadata": {},
     "output_type": "display_data"
    },
    {
     "data": {
      "text/plain": [
       "'Информация о DataFrame:'"
      ]
     },
     "metadata": {},
     "output_type": "display_data"
    },
    {
     "name": "stdout",
     "output_type": "stream",
     "text": [
      "<class 'pandas.core.frame.DataFrame'>\n",
      "RangeIndex: 109610 entries, 0 to 109609\n",
      "Data columns (total 4 columns):\n",
      " #   Column        Non-Null Count   Dtype         \n",
      "---  ------        --------------   -----         \n",
      " 0   id            109610 non-null  int64         \n",
      " 1   person_id     109610 non-null  int64         \n",
      " 2   instituition  109555 non-null  object        \n",
      " 3   graduated_at  58054 non-null   datetime64[ns]\n",
      "dtypes: datetime64[ns](1), int64(2), object(1)\n",
      "memory usage: 3.3+ MB\n"
     ]
    },
    {
     "data": {
      "text/plain": [
       "None"
      ]
     },
     "metadata": {},
     "output_type": "display_data"
    },
    {
     "data": {
      "text/plain": [
       "'--- Fund ---'"
      ]
     },
     "metadata": {},
     "output_type": "display_data"
    },
    {
     "data": {
      "text/plain": [
       "'Информация о DataFrame:'"
      ]
     },
     "metadata": {},
     "output_type": "display_data"
    },
    {
     "name": "stdout",
     "output_type": "stream",
     "text": [
      "<class 'pandas.core.frame.DataFrame'>\n",
      "RangeIndex: 11652 entries, 0 to 11651\n",
      "Data columns (total 9 columns):\n",
      " #   Column              Non-Null Count  Dtype         \n",
      "---  ------              --------------  -----         \n",
      " 0   id                  11652 non-null  int64         \n",
      " 1   name                11650 non-null  object        \n",
      " 2   founded_at          4605 non-null   datetime64[ns]\n",
      " 3   domain              7362 non-null   object        \n",
      " 4   network_username    2149 non-null   object        \n",
      " 5   country_code        7053 non-null   object        \n",
      " 6   investment_rounds   11652 non-null  int64         \n",
      " 7   invested_companies  11652 non-null  int64         \n",
      " 8   milestones          11652 non-null  int64         \n",
      "dtypes: datetime64[ns](1), int64(4), object(4)\n",
      "memory usage: 819.4+ KB\n"
     ]
    },
    {
     "data": {
      "text/plain": [
       "None"
      ]
     },
     "metadata": {},
     "output_type": "display_data"
    },
    {
     "data": {
      "text/plain": [
       "'--- Investment ---'"
      ]
     },
     "metadata": {},
     "output_type": "display_data"
    },
    {
     "data": {
      "text/plain": [
       "'Информация о DataFrame:'"
      ]
     },
     "metadata": {},
     "output_type": "display_data"
    },
    {
     "name": "stdout",
     "output_type": "stream",
     "text": [
      "<class 'pandas.core.frame.DataFrame'>\n",
      "RangeIndex: 61403 entries, 0 to 61402\n",
      "Data columns (total 4 columns):\n",
      " #   Column            Non-Null Count  Dtype\n",
      "---  ------            --------------  -----\n",
      " 0   id                61403 non-null  int64\n",
      " 1   funding_round_id  61403 non-null  int64\n",
      " 2   company_id        61403 non-null  int64\n",
      " 3   fund_id           61403 non-null  int64\n",
      "dtypes: int64(4)\n",
      "memory usage: 1.9 MB\n"
     ]
    },
    {
     "data": {
      "text/plain": [
       "None"
      ]
     },
     "metadata": {},
     "output_type": "display_data"
    },
    {
     "data": {
      "text/plain": [
       "'--- People ---'"
      ]
     },
     "metadata": {},
     "output_type": "display_data"
    },
    {
     "data": {
      "text/plain": [
       "'Информация о DataFrame:'"
      ]
     },
     "metadata": {},
     "output_type": "display_data"
    },
    {
     "name": "stdout",
     "output_type": "stream",
     "text": [
      "<class 'pandas.core.frame.DataFrame'>\n",
      "RangeIndex: 226709 entries, 0 to 226708\n",
      "Data columns (total 5 columns):\n",
      " #   Column            Non-Null Count   Dtype  \n",
      "---  ------            --------------   -----  \n",
      " 0   id                226709 non-null  int64  \n",
      " 1   first_name        226704 non-null  object \n",
      " 2   last_name         226708 non-null  object \n",
      " 3   company_id        34615 non-null   float64\n",
      " 4   network_username  38867 non-null   object \n",
      "dtypes: float64(1), int64(1), object(3)\n",
      "memory usage: 8.6+ MB\n"
     ]
    },
    {
     "data": {
      "text/plain": [
       "None"
      ]
     },
     "metadata": {},
     "output_type": "display_data"
    }
   ],
   "source": [
    "for name, df in dataframes.items():\n",
    "    display(f\"--- {name} ---\")\n",
    "    \n",
    "    # Общая инфа о датафрейме\n",
    "    display(\"Информация о DataFrame:\")\n",
    "    display(df.info())"
   ]
  },
  {
   "cell_type": "markdown",
   "metadata": {},
   "source": [
    "<div class=\"alert alert-primary\">\n",
    "<b>Количество пропусков в некоторых стобцах 50% и более. В стобце closed__at 98,5% пропусков. Отсутствие колосального количества данных даст нерезультативный анализ если будем привязывться к к некоторым датам. Можно взять в расчет только даты сделок, там количество пропусков минимально (0,4% от общего количества данных в данном датафрейме).</b> \n",
    "</div>"
   ]
  },
  {
   "cell_type": "markdown",
   "metadata": {
    "id": "u60cHsn6rJg1"
   },
   "source": [
    "## Шаг 2. Предобработка данных, предварительное исследование"
   ]
  },
  {
   "cell_type": "markdown",
   "metadata": {
    "id": "g2bHIIjcrJg1"
   },
   "source": [
    "\n",
    "### 2.1. Раунды финансирования по годам\n",
    "\n",
    "Задание необходимо выполнить без объединения и дополнительной предобработки на основе датасета `company_and_rounds.csv`.\n",
    "\n",
    "* Составьте сводную таблицу по годам, в которой на основании столбца `raised_amount` для каждого года указан:\n",
    "\n",
    "  * типичный размер средств, выделяемый в рамках одного раунда;\n",
    "  * общее количество раундов финансирования за этот год.\n",
    "\n",
    "* Оставьте в таблице информацию только для тех лет, для которых есть информация о более чем 50 раундах финансирования.\n",
    "\n",
    "* На основе получившейся таблицы постройте график, который будет отражать динамику типичного размера средств, которые стартапы получали в рамках одного раунда финансирования.\n",
    "\n",
    "На основе полученных данных ответьте на вопросы:\n",
    "\n",
    "* В каком году типичный размер собранных в рамках одного раунда средств был максимален?\n",
    "\n",
    "* Какая тенденция по количеству раундов и выделяемых в рамках каждого раунда средств наблюдалась в 2013 году?"
   ]
  },
  {
   "cell_type": "code",
   "execution_count": 17,
   "metadata": {},
   "outputs": [
    {
     "data": {
      "text/plain": [
       "Index(['company_ID', 'name', 'category_code', 'status', 'founded_at',\n",
       "       'closed_at', 'domain', 'network_username', 'country_code',\n",
       "       'investment_rounds', 'funding_rounds', 'funding_total', 'milestones',\n",
       "       'funding_round_id', 'company_id', 'funded_at', 'funding_round_type',\n",
       "       'raised_amount', 'pre_money_valuation', 'participants',\n",
       "       'is_first_round', 'is_last_round', 'match'],\n",
       "      dtype='object')"
      ]
     },
     "metadata": {},
     "output_type": "display_data"
    }
   ],
   "source": [
    "# Проверка названий для себя\n",
    "display(company_and_rounds.columns)\n"
   ]
  },
  {
   "cell_type": "code",
   "execution_count": 18,
   "metadata": {},
   "outputs": [
    {
     "name": "stderr",
     "output_type": "stream",
     "text": [
      "/tmp/ipykernel_169/2997663026.py:2: SettingWithCopyWarning: \n",
      "A value is trying to be set on a copy of a slice from a DataFrame.\n",
      "Try using .loc[row_indexer,col_indexer] = value instead\n",
      "\n",
      "See the caveats in the documentation: https://pandas.pydata.org/pandas-docs/stable/user_guide/indexing.html#returning-a-view-versus-a-copy\n",
      "  company_and_rounds['funded_at'] = pd.to_datetime(company_and_rounds['funded_at'], errors='coerce')\n",
      "/tmp/ipykernel_169/2997663026.py:5: SettingWithCopyWarning: \n",
      "A value is trying to be set on a copy of a slice from a DataFrame.\n",
      "Try using .loc[row_indexer,col_indexer] = value instead\n",
      "\n",
      "See the caveats in the documentation: https://pandas.pydata.org/pandas-docs/stable/user_guide/indexing.html#returning-a-view-versus-a-copy\n",
      "  company_and_rounds['year'] = company_and_rounds['funded_at'].dt.year\n"
     ]
    },
    {
     "data": {
      "image/png": "[encoded data removed]",
      "text/plain": [
       "<Figure size 720x432 with 1 Axes>"
      ]
     },
     "metadata": {
      "needs_background": "light"
     },
     "output_type": "display_data"
    }
   ],
   "source": [
    "\n",
    "# Преобразуем столбец 'funded_at' в формат даты\n",
    "company_and_rounds['funded_at'] = pd.to_datetime(company_and_rounds['funded_at'], errors='coerce')\n",
    "\n",
    "# Извлекаеме год из даты\n",
    "company_and_rounds['year'] = company_and_rounds['funded_at'].dt.year\n",
    "\n",
    "summary_table = company_and_rounds.pivot_table(\n",
    "    index='year',\n",
    "    values='raised_amount',\n",
    "    aggfunc=['median', 'count']\n",
    ").reset_index()\n",
    "\n",
    "# Переименуем столбцы сводной таблицы\n",
    "summary_table.columns = ['year', 'median_raised_amount', 'total_rounds']\n",
    "\n",
    "# Отфильтруем года с более чем 50 раундами финансирования\n",
    "filtered_summary = summary_table[summary_table['total_rounds'] > 50]\n",
    "\n",
    "# Построим график\n",
    "plt.figure(figsize=(10, 6))\n",
    "plt.plot(filtered_summary['year'], filtered_summary['median_raised_amount'], marker='o')\n",
    "plt.title('Динамика типичного размера средств по годам (медиана)')\n",
    "plt.xlabel('Год')\n",
    "plt.ylabel('Типичный размер средств, выделяемых на один раунд (медиана)')\n",
    "plt.grid()\n",
    "plt.xticks(filtered_summary['year']) \n",
    "plt.show()"
   ]
  },
  {
   "cell_type": "markdown",
   "metadata": {
    "id": "HB81GTA9n04M"
   },
   "source": [
    "<div class=\"alert alert-primary\">\n",
    "<b>По графику видно что в начале 2000 годов размер средств выделяемых на 1 раунд финансирования колебался, но потом в течение двух лет шел в верх с последующим падением вплоть до 2012 года. С 2012 года замечен небольшой рост финансирования.</b> \n",
    "</div>"
   ]
  },
  {
   "cell_type": "markdown",
   "metadata": {
    "id": "45if1en1rJg2"
   },
   "source": [
    "\n",
    "### 2.2. Люди и их образование\n",
    "\n",
    "Заказчик хочет понять, зависит ли полнота сведений о сотрудниках (например, об их образовании) от размера компаний.\n",
    "\n",
    "* Оцените, насколько информация об образовании сотрудников полна. Используя датасеты `people.csv` и `education.csv`, разделите все компании на несколько групп по количеству сотрудников и оцените среднюю долю сотрудников без информации об образовании в каждой из групп. Обоснуйте выбранные границы групп.\n",
    "\n",
    "* Оцените, возможно ли для выполнения задания присоединить к этим таблицам ещё и таблицу `degrees.csv`."
   ]
  },
  {
   "cell_type": "code",
   "execution_count": 19,
   "metadata": {
    "id": "psPO7C4MrJg2"
   },
   "outputs": [
    {
     "data": {
      "text/plain": [
       "Index(['id', 'person_id', 'instituition', 'graduated_at'], dtype='object')"
      ]
     },
     "metadata": {},
     "output_type": "display_data"
    },
    {
     "data": {
      "text/plain": [
       "Index(['id', 'first_name', 'last_name', 'company_id', 'network_username'], dtype='object')"
      ]
     },
     "metadata": {},
     "output_type": "display_data"
    }
   ],
   "source": [
    "\n",
    "display(education.columns) #Проверка\n",
    "display(people.columns) #Проверка\n",
    " "
   ]
  },
  {
   "cell_type": "code",
   "execution_count": 20,
   "metadata": {
    "id": "xdQ6H5ZSn1ZM"
   },
   "outputs": [],
   "source": [
    "#Объединение данных людей и компаний\n",
    "merged_data = pd.merge(people, education, left_on='id', right_on='person_id', how='left')"
   ]
  },
  {
   "cell_type": "code",
   "execution_count": 21,
   "metadata": {},
   "outputs": [],
   "source": [
    "# Удаляем дубликаты сотрудников по company_id и person_id (или любому уникальному идентификатору сотрудника)\n",
    "unique_people = people.drop_duplicates(subset=['company_id', 'id'])\n",
    "# Подсчитаем сотрудников в каждой компании\n",
    "company_sizes = people.groupby('company_id').size().reset_index(name='employee_count')\n",
    "\n",
    "# Объединим размер компании с merged_data\n",
    "merged_data = merged_data.merge(company_sizes, left_on='company_id', right_on='company_id', how='left')\n"
   ]
  },
  {
   "cell_type": "code",
   "execution_count": 22,
   "metadata": {},
   "outputs": [
    {
     "data": {
      "text/html": [
       "<div>\n",
       "<style scoped>\n",
       "    .dataframe tbody tr th:only-of-type {\n",
       "        vertical-align: middle;\n",
       "    }\n",
       "\n",
       "    .dataframe tbody tr th {\n",
       "        vertical-align: top;\n",
       "    }\n",
       "\n",
       "    .dataframe thead th {\n",
       "        text-align: right;\n",
       "    }\n",
       "</style>\n",
       "<table border=\"1\" class=\"dataframe\">\n",
       "  <thead>\n",
       "    <tr style=\"text-align: right;\">\n",
       "      <th></th>\n",
       "      <th>employee_count</th>\n",
       "      <th>total_employees</th>\n",
       "      <th>employees_without_education</th>\n",
       "      <th>proportion_without_education</th>\n",
       "    </tr>\n",
       "  </thead>\n",
       "  <tbody>\n",
       "    <tr>\n",
       "      <th>0</th>\n",
       "      <td>1.0</td>\n",
       "      <td>14911</td>\n",
       "      <td>11606</td>\n",
       "      <td>0.778352</td>\n",
       "    </tr>\n",
       "    <tr>\n",
       "      <th>1</th>\n",
       "      <td>2.0</td>\n",
       "      <td>4399</td>\n",
       "      <td>3632</td>\n",
       "      <td>0.825642</td>\n",
       "    </tr>\n",
       "    <tr>\n",
       "      <th>2</th>\n",
       "      <td>3.0</td>\n",
       "      <td>2243</td>\n",
       "      <td>1994</td>\n",
       "      <td>0.888988</td>\n",
       "    </tr>\n",
       "    <tr>\n",
       "      <th>3</th>\n",
       "      <td>4.0</td>\n",
       "      <td>1449</td>\n",
       "      <td>1342</td>\n",
       "      <td>0.926156</td>\n",
       "    </tr>\n",
       "    <tr>\n",
       "      <th>4</th>\n",
       "      <td>5.0</td>\n",
       "      <td>865</td>\n",
       "      <td>895</td>\n",
       "      <td>1.034682</td>\n",
       "    </tr>\n",
       "    <tr>\n",
       "      <th>5</th>\n",
       "      <td>6.0</td>\n",
       "      <td>604</td>\n",
       "      <td>645</td>\n",
       "      <td>1.067881</td>\n",
       "    </tr>\n",
       "    <tr>\n",
       "      <th>6</th>\n",
       "      <td>7.0</td>\n",
       "      <td>563</td>\n",
       "      <td>581</td>\n",
       "      <td>1.031972</td>\n",
       "    </tr>\n",
       "    <tr>\n",
       "      <th>7</th>\n",
       "      <td>8.0</td>\n",
       "      <td>347</td>\n",
       "      <td>384</td>\n",
       "      <td>1.106628</td>\n",
       "    </tr>\n",
       "    <tr>\n",
       "      <th>8</th>\n",
       "      <td>9.0</td>\n",
       "      <td>310</td>\n",
       "      <td>352</td>\n",
       "      <td>1.135484</td>\n",
       "    </tr>\n",
       "    <tr>\n",
       "      <th>9</th>\n",
       "      <td>10.0</td>\n",
       "      <td>163</td>\n",
       "      <td>187</td>\n",
       "      <td>1.147239</td>\n",
       "    </tr>\n",
       "    <tr>\n",
       "      <th>10</th>\n",
       "      <td>11.0</td>\n",
       "      <td>271</td>\n",
       "      <td>277</td>\n",
       "      <td>1.022140</td>\n",
       "    </tr>\n",
       "    <tr>\n",
       "      <th>11</th>\n",
       "      <td>12.0</td>\n",
       "      <td>198</td>\n",
       "      <td>153</td>\n",
       "      <td>0.772727</td>\n",
       "    </tr>\n",
       "    <tr>\n",
       "      <th>12</th>\n",
       "      <td>13.0</td>\n",
       "      <td>206</td>\n",
       "      <td>176</td>\n",
       "      <td>0.854369</td>\n",
       "    </tr>\n",
       "    <tr>\n",
       "      <th>13</th>\n",
       "      <td>14.0</td>\n",
       "      <td>113</td>\n",
       "      <td>95</td>\n",
       "      <td>0.840708</td>\n",
       "    </tr>\n",
       "    <tr>\n",
       "      <th>14</th>\n",
       "      <td>15.0</td>\n",
       "      <td>39</td>\n",
       "      <td>39</td>\n",
       "      <td>1.000000</td>\n",
       "    </tr>\n",
       "    <tr>\n",
       "      <th>15</th>\n",
       "      <td>16.0</td>\n",
       "      <td>66</td>\n",
       "      <td>56</td>\n",
       "      <td>0.848485</td>\n",
       "    </tr>\n",
       "    <tr>\n",
       "      <th>16</th>\n",
       "      <td>17.0</td>\n",
       "      <td>56</td>\n",
       "      <td>68</td>\n",
       "      <td>1.214286</td>\n",
       "    </tr>\n",
       "    <tr>\n",
       "      <th>17</th>\n",
       "      <td>18.0</td>\n",
       "      <td>49</td>\n",
       "      <td>64</td>\n",
       "      <td>1.306122</td>\n",
       "    </tr>\n",
       "    <tr>\n",
       "      <th>18</th>\n",
       "      <td>19.0</td>\n",
       "      <td>37</td>\n",
       "      <td>47</td>\n",
       "      <td>1.270270</td>\n",
       "    </tr>\n",
       "    <tr>\n",
       "      <th>19</th>\n",
       "      <td>20.0</td>\n",
       "      <td>76</td>\n",
       "      <td>83</td>\n",
       "      <td>1.092105</td>\n",
       "    </tr>\n",
       "    <tr>\n",
       "      <th>20</th>\n",
       "      <td>21.0</td>\n",
       "      <td>34</td>\n",
       "      <td>41</td>\n",
       "      <td>1.205882</td>\n",
       "    </tr>\n",
       "    <tr>\n",
       "      <th>21</th>\n",
       "      <td>22.0</td>\n",
       "      <td>35</td>\n",
       "      <td>45</td>\n",
       "      <td>1.285714</td>\n",
       "    </tr>\n",
       "    <tr>\n",
       "      <th>22</th>\n",
       "      <td>23.0</td>\n",
       "      <td>67</td>\n",
       "      <td>69</td>\n",
       "      <td>1.029851</td>\n",
       "    </tr>\n",
       "    <tr>\n",
       "      <th>23</th>\n",
       "      <td>25.0</td>\n",
       "      <td>53</td>\n",
       "      <td>30</td>\n",
       "      <td>0.566038</td>\n",
       "    </tr>\n",
       "    <tr>\n",
       "      <th>24</th>\n",
       "      <td>26.0</td>\n",
       "      <td>38</td>\n",
       "      <td>21</td>\n",
       "      <td>0.552632</td>\n",
       "    </tr>\n",
       "    <tr>\n",
       "      <th>25</th>\n",
       "      <td>29.0</td>\n",
       "      <td>52</td>\n",
       "      <td>53</td>\n",
       "      <td>1.019231</td>\n",
       "    </tr>\n",
       "    <tr>\n",
       "      <th>26</th>\n",
       "      <td>31.0</td>\n",
       "      <td>38</td>\n",
       "      <td>9</td>\n",
       "      <td>0.236842</td>\n",
       "    </tr>\n",
       "    <tr>\n",
       "      <th>27</th>\n",
       "      <td>32.0</td>\n",
       "      <td>42</td>\n",
       "      <td>14</td>\n",
       "      <td>0.333333</td>\n",
       "    </tr>\n",
       "    <tr>\n",
       "      <th>28</th>\n",
       "      <td>35.0</td>\n",
       "      <td>72</td>\n",
       "      <td>36</td>\n",
       "      <td>0.500000</td>\n",
       "    </tr>\n",
       "    <tr>\n",
       "      <th>29</th>\n",
       "      <td>36.0</td>\n",
       "      <td>44</td>\n",
       "      <td>28</td>\n",
       "      <td>0.636364</td>\n",
       "    </tr>\n",
       "    <tr>\n",
       "      <th>30</th>\n",
       "      <td>39.0</td>\n",
       "      <td>48</td>\n",
       "      <td>37</td>\n",
       "      <td>0.770833</td>\n",
       "    </tr>\n",
       "    <tr>\n",
       "      <th>31</th>\n",
       "      <td>47.0</td>\n",
       "      <td>54</td>\n",
       "      <td>26</td>\n",
       "      <td>0.481481</td>\n",
       "    </tr>\n",
       "    <tr>\n",
       "      <th>32</th>\n",
       "      <td>48.0</td>\n",
       "      <td>64</td>\n",
       "      <td>27</td>\n",
       "      <td>0.421875</td>\n",
       "    </tr>\n",
       "    <tr>\n",
       "      <th>33</th>\n",
       "      <td>51.0</td>\n",
       "      <td>39</td>\n",
       "      <td>42</td>\n",
       "      <td>1.076923</td>\n",
       "    </tr>\n",
       "    <tr>\n",
       "      <th>34</th>\n",
       "      <td>56.0</td>\n",
       "      <td>132</td>\n",
       "      <td>118</td>\n",
       "      <td>0.893939</td>\n",
       "    </tr>\n",
       "    <tr>\n",
       "      <th>35</th>\n",
       "      <td>61.0</td>\n",
       "      <td>68</td>\n",
       "      <td>49</td>\n",
       "      <td>0.720588</td>\n",
       "    </tr>\n",
       "    <tr>\n",
       "      <th>36</th>\n",
       "      <td>63.0</td>\n",
       "      <td>60</td>\n",
       "      <td>38</td>\n",
       "      <td>0.633333</td>\n",
       "    </tr>\n",
       "    <tr>\n",
       "      <th>37</th>\n",
       "      <td>72.0</td>\n",
       "      <td>97</td>\n",
       "      <td>111</td>\n",
       "      <td>1.144330</td>\n",
       "    </tr>\n",
       "    <tr>\n",
       "      <th>38</th>\n",
       "      <td>138.0</td>\n",
       "      <td>155</td>\n",
       "      <td>76</td>\n",
       "      <td>0.490323</td>\n",
       "    </tr>\n",
       "    <tr>\n",
       "      <th>39</th>\n",
       "      <td>150.0</td>\n",
       "      <td>181</td>\n",
       "      <td>108</td>\n",
       "      <td>0.596685</td>\n",
       "    </tr>\n",
       "    <tr>\n",
       "      <th>40</th>\n",
       "      <td>244.0</td>\n",
       "      <td>300</td>\n",
       "      <td>181</td>\n",
       "      <td>0.603333</td>\n",
       "    </tr>\n",
       "  </tbody>\n",
       "</table>\n",
       "</div>"
      ],
      "text/plain": [
       "    employee_count  total_employees  employees_without_education  \\\n",
       "0              1.0            14911                        11606   \n",
       "1              2.0             4399                         3632   \n",
       "2              3.0             2243                         1994   \n",
       "3              4.0             1449                         1342   \n",
       "4              5.0              865                          895   \n",
       "5              6.0              604                          645   \n",
       "6              7.0              563                          581   \n",
       "7              8.0              347                          384   \n",
       "8              9.0              310                          352   \n",
       "9             10.0              163                          187   \n",
       "10            11.0              271                          277   \n",
       "11            12.0              198                          153   \n",
       "12            13.0              206                          176   \n",
       "13            14.0              113                           95   \n",
       "14            15.0               39                           39   \n",
       "15            16.0               66                           56   \n",
       "16            17.0               56                           68   \n",
       "17            18.0               49                           64   \n",
       "18            19.0               37                           47   \n",
       "19            20.0               76                           83   \n",
       "20            21.0               34                           41   \n",
       "21            22.0               35                           45   \n",
       "22            23.0               67                           69   \n",
       "23            25.0               53                           30   \n",
       "24            26.0               38                           21   \n",
       "25            29.0               52                           53   \n",
       "26            31.0               38                            9   \n",
       "27            32.0               42                           14   \n",
       "28            35.0               72                           36   \n",
       "29            36.0               44                           28   \n",
       "30            39.0               48                           37   \n",
       "31            47.0               54                           26   \n",
       "32            48.0               64                           27   \n",
       "33            51.0               39                           42   \n",
       "34            56.0              132                          118   \n",
       "35            61.0               68                           49   \n",
       "36            63.0               60                           38   \n",
       "37            72.0               97                          111   \n",
       "38           138.0              155                           76   \n",
       "39           150.0              181                          108   \n",
       "40           244.0              300                          181   \n",
       "\n",
       "    proportion_without_education  \n",
       "0                       0.778352  \n",
       "1                       0.825642  \n",
       "2                       0.888988  \n",
       "3                       0.926156  \n",
       "4                       1.034682  \n",
       "5                       1.067881  \n",
       "6                       1.031972  \n",
       "7                       1.106628  \n",
       "8                       1.135484  \n",
       "9                       1.147239  \n",
       "10                      1.022140  \n",
       "11                      0.772727  \n",
       "12                      0.854369  \n",
       "13                      0.840708  \n",
       "14                      1.000000  \n",
       "15                      0.848485  \n",
       "16                      1.214286  \n",
       "17                      1.306122  \n",
       "18                      1.270270  \n",
       "19                      1.092105  \n",
       "20                      1.205882  \n",
       "21                      1.285714  \n",
       "22                      1.029851  \n",
       "23                      0.566038  \n",
       "24                      0.552632  \n",
       "25                      1.019231  \n",
       "26                      0.236842  \n",
       "27                      0.333333  \n",
       "28                      0.500000  \n",
       "29                      0.636364  \n",
       "30                      0.770833  \n",
       "31                      0.481481  \n",
       "32                      0.421875  \n",
       "33                      1.076923  \n",
       "34                      0.893939  \n",
       "35                      0.720588  \n",
       "36                      0.633333  \n",
       "37                      1.144330  \n",
       "38                      0.490323  \n",
       "39                      0.596685  \n",
       "40                      0.603333  "
      ]
     },
     "metadata": {},
     "output_type": "display_data"
    }
   ],
   "source": [
    "# Определяем, есть ли информация об образовании\n",
    "merged_data['has_education'] = merged_data['graduated_at'].notnull()\n",
    "\n",
    "# Подсчитаем количество сотрудников без информации об образовании\n",
    "education_summary = merged_data.groupby('employee_count').agg(\n",
    "    total_employees=('person_id', 'count'),\n",
    "    employees_without_education=('has_education', lambda x: (x == False).sum())\n",
    ").reset_index()\n",
    "\n",
    "# Рассчитаем долю сотрудников без образования\n",
    "education_summary['proportion_without_education'] = education_summary['employees_without_education'] / education_summary['total_employees']\n",
    "\n",
    "display(education_summary)\n"
   ]
  },
  {
   "cell_type": "code",
   "execution_count": 23,
   "metadata": {},
   "outputs": [
    {
     "data": {
      "image/png": "[encoded data removed]",
      "text/plain": [
       "<Figure size 720x432 with 1 Axes>"
      ]
     },
     "metadata": {
      "needs_background": "light"
     },
     "output_type": "display_data"
    }
   ],
   "source": [
    "# Построим график\n",
    "plt.figure(figsize=(10, 6))\n",
    "plt.bar(education_summary['employee_count'], education_summary['proportion_without_education'])\n",
    "plt.xlabel('Количество сотрудников')\n",
    "plt.ylabel('Доля сотрудников без образования')\n",
    "plt.title('Доля сотрудников без информации об образовании по группам компаний')\n",
    "plt.xticks(rotation=45)\n",
    "plt.show()\n",
    "\n"
   ]
  },
  {
   "cell_type": "code",
   "execution_count": 24,
   "metadata": {},
   "outputs": [
    {
     "data": {
      "image/png": "[encoded data removed]",
      "text/plain": [
       "<Figure size 720x432 with 1 Axes>"
      ]
     },
     "metadata": {
      "needs_background": "light"
     },
     "output_type": "display_data"
    }
   ],
   "source": [
    "education_summary = merged_data.groupby(['company_id', 'has_education']).size().reset_index(name='employee_count')\n",
    "\n",
    "# Определяем границы и метки\n",
    "bins = [0, 3, 6, 11, 21, 51, 1000]  # 6 границ\n",
    "labels = ['1-2', '3-5', '6-10', '11-20', '21-50', '51+']  # 6 меток\n",
    "\n",
    "# Создаем категории для employee_count\n",
    "education_summary['employee_bins'] = pd.cut(education_summary['employee_count'], bins=bins, labels=labels, right=False)\n",
    "\n",
    "# Теперь можно построить график\n",
    "plt.figure(figsize=(10, 6))\n",
    "sns.countplot(data=education_summary, x='employee_bins')\n",
    "plt.xlabel('Количество сотрудников (категории)')\n",
    "plt.ylabel('Число компаний')\n",
    "plt.title('Распределение компаний по количеству сотрудников и наличию информации об образовании')\n",
    "plt.xticks(rotation=45)\n",
    "plt.legend(title='Наличие информации об образовании', loc='upper right', labels=['С информацией', 'Без информации'])\n",
    "plt.show()"
   ]
  },
  {
   "cell_type": "markdown",
   "metadata": {},
   "source": [
    "<div class=\"alert alert-primary\">\n",
    "<b>По графику можно сказать, что большинство стартапов состоит из 1-2 человек, количество компаний больше 20 человек в составе, почти нет. Да и состояших из 6 и более человек достаточно мало.</b> \n",
    "</div>"
   ]
  },
  {
   "cell_type": "code",
   "execution_count": 25,
   "metadata": {},
   "outputs": [
    {
     "data": {
      "image/png": "[encoded data removed]",
      "text/plain": [
       "<Figure size 720x432 with 1 Axes>"
      ]
     },
     "metadata": {
      "needs_background": "light"
     },
     "output_type": "display_data"
    }
   ],
   "source": [
    "# Вычисляем доли\n",
    "# Группируем по employee_bins и has_education, считаем количество\n",
    "grouped = education_summary.groupby(['employee_bins', 'has_education']).size().unstack(fill_value=0)\n",
    "\n",
    "# Вычисляем доли (процентное соотношение)\n",
    "grouped_percentage = grouped.div(grouped.sum(axis=1), axis=0) * 100\n",
    "\n",
    "# Вычисляем средний процент для каждой категории employee_bins\n",
    "# Берем только столбец с информацией об образовании (например, has_education = True)\n",
    "average_percentage = grouped_percentage[True]  # Замените True на нужное значение, если оно другое\n",
    "\n",
    "# Построение графика\n",
    "plt.figure(figsize=(10, 6))\n",
    "sns.barplot(x=average_percentage.index, y=average_percentage.values)\n",
    "plt.xlabel('Количество сотрудников (категории)')\n",
    "plt.ylabel('Средний процент компаний с информацией об образовании (%)')\n",
    "plt.title('Средний процент компаний с информацией об образовании по количеству сотрудников')\n",
    "plt.xticks(rotation=45)\n",
    "plt.show()"
   ]
  },
  {
   "cell_type": "markdown",
   "metadata": {},
   "source": [
    "### 2.3. Объединять или не объединять — вот в чём вопрос\n",
    "\n",
    "Некоторые названия столбцов встречаются в датасетах чаще других. И, например, в результате предварительной проверки датасетов было выяснено, что столбец `company_id` подходит для объединения данных, так как большая часть значений встречается в разных датасетах не один, а несколько раз. Этот столбец может быть использован для объединения данных.\n",
    "\n",
    "* Установите, подходит ли для объединения данных столбец `network_username`, который встречается в нескольких датасетах. Нам необходимо понимать, дублируется ли для разных датасетов информация в столбцах с таким названием, и если да — то насколько часто.\n",
    "\n",
    "* Оцените, можно ли использовать столбцы с именем `network_username` для объединения данных."
   ]
  },
  {
   "cell_type": "code",
   "execution_count": 26,
   "metadata": {
    "id": "Cf5IjfOQrJg1"
   },
   "outputs": [
    {
     "data": {
      "text/plain": [
       "array([nan, 'jobsbostontech', 'fbroulette', ..., 'itechsocialnet',\n",
       "       'socialnethubs', 'esocialnetlike'], dtype=object)"
      ]
     },
     "metadata": {},
     "output_type": "display_data"
    },
    {
     "data": {
      "text/plain": [
       "array([5.00000e+00, 2.70000e+01, 2.92000e+02, ..., 8.36510e+04,\n",
       "       1.88200e+05, 1.43419e+05])"
      ]
     },
     "metadata": {},
     "output_type": "display_data"
    }
   ],
   "source": [
    "unique_netw = df['network_username'].unique()\n",
    "unique_id = df['company_id'].unique()\n",
    "display(unique_netw)  \n",
    "display(unique_id) # Посмотрим уникальные значения ников компании и id компаний"
   ]
  },
  {
   "cell_type": "code",
   "execution_count": 27,
   "metadata": {
    "scrolled": true
   },
   "outputs": [
    {
     "data": {
      "text/plain": [
       "Index(['company_ID', 'name', 'category_code', 'status', 'founded_at',\n",
       "       'closed_at', 'domain', 'network_username', 'country_code',\n",
       "       'investment_rounds', 'funding_rounds', 'funding_total', 'milestones',\n",
       "       'funding_round_id', 'company_id', 'funded_at', 'funding_round_type',\n",
       "       'raised_amount', 'pre_money_valuation', 'participants',\n",
       "       'is_first_round', 'is_last_round', 'match', 'year'],\n",
       "      dtype='object')"
      ]
     },
     "metadata": {},
     "output_type": "display_data"
    },
    {
     "data": {
      "text/plain": [
       "Index(['id', 'name', 'founded_at', 'domain', 'network_username',\n",
       "       'country_code', 'investment_rounds', 'invested_companies',\n",
       "       'milestones'],\n",
       "      dtype='object')"
      ]
     },
     "metadata": {},
     "output_type": "display_data"
    },
    {
     "data": {
      "text/plain": [
       "Index(['id', 'first_name', 'last_name', 'company_id', 'network_username'], dtype='object')"
      ]
     },
     "metadata": {},
     "output_type": "display_data"
    },
    {
     "data": {
      "text/plain": [
       "Goodman_UK       20\n",
       "IndiaMART        17\n",
       "mobivery         15\n",
       "tyropayments     15\n",
       "AviirLabs        14\n",
       "                 ..\n",
       "tarynsullivan     2\n",
       "Mytravelo         2\n",
       "MarroneBio        2\n",
       "abnamro           2\n",
       "BizDevAngel       2\n",
       "Name: network_username, Length: 10961, dtype: int64"
      ]
     },
     "metadata": {},
     "output_type": "display_data"
    }
   ],
   "source": [
    "# Проверяем названия столбцов\n",
    "display(company_and_rounds.columns)\n",
    "display(fund.columns)\n",
    "display(people.columns)\n",
    "\n",
    "# Объединяем три DataFrame по столбцу 'network_username'\n",
    "merged_data = pd.concat([\n",
    "    company_and_rounds[['network_username']], \n",
    "    fund[['network_username']],\n",
    "    people[['network_username']]\n",
    "], ignore_index=True)\n",
    "\n",
    "# Проверим дубликаты\n",
    "duplicate_counts = merged_data['network_username'].value_counts()\n",
    "\n",
    "# Фильтруем только те, которые встречаются более одного раза\n",
    "duplicates = duplicate_counts[duplicate_counts > 1]\n",
    "\n",
    "# Выводим результаты\n",
    "display(duplicates)"
   ]
  },
  {
   "cell_type": "code",
   "execution_count": 28,
   "metadata": {},
   "outputs": [
    {
     "data": {
      "image/png": "[encoded data removed]",
      "text/plain": [
       "<Figure size 432x288 with 1 Axes>"
      ]
     },
     "metadata": {},
     "output_type": "display_data"
    }
   ],
   "source": [
    "!pip install matplotlib-venn -q\n",
    "\n",
    "from matplotlib_venn import venn3    # Берем три множества, проверим сразу 3 датасета\n",
    "\n",
    "company_users = set(company_and_rounds['network_username'])  # Пользователи компании\n",
    "fund_users = set(fund['network_username'])  # Пользователи фонда\n",
    "network_users = set(people['network_username'])  # Пользователи сети\n",
    "\n",
    "# Строим диаграмму Венна\n",
    "venn3([company_users, fund_users, network_users], set_labels=('Пользователи компании', 'Пользователи фонда', 'Пользователи сети'))\n",
    "\n",
    "# Отображаем график\n",
    "plt.title(\"Пересечение пользователей компании, фонда и сети\")\n",
    "plt.show()"
   ]
  },
  {
   "cell_type": "markdown",
   "metadata": {},
   "source": [
    "<div class=\"alert alert-primary\">\n",
    "<b>Столбцы network_username из разных датасетов неподходят для объединения, потому что они означают совсем разные вещи. network_username из датасета company_and_rounds - это ник компании в соцсетях, а network username из датасэта people - это ник человека в соцсетях, network username из датасета fund - это ник фонда финансирования в соцсетях. На основе этой информации можно с уверенностью сказать, что объединение по этим столбцам недопустипо. Если дубликаты и есть, то это могут быть просто совпадения. По графику видно, что среди общего количества данных, пересечений немного, объединять нет смысла.</b> \n",
    "</div>"
   ]
  },
  {
   "cell_type": "markdown",
   "metadata": {
    "id": "EHcODomVrJg1"
   },
   "source": [
    "\n",
    "### 2.4. Проблемный датасет и причина возникновения пропусков\n",
    "\n",
    "Во время собственного анализа данных у заказчика больше всего вопросов возникло к датасету `company_and_rounds.csv`. В нём много пропусков как раз в информации о раундах, которая заказчику важна. Хотя информация об общем объёме финансирования по раундам присутствует в других датасетах, заказчик считает данные `company_and_rounds.csv` о размере средств наиболее верными.\n",
    "\n",
    "* Любым удобным способом приведите данные в вид, который позволяет проводить анализ в разрезе отдельных компаний. Можно изменять форму данных, порядок их хранения. Обратите внимание на структуру датасета, порядок и названия столбцов, проанализируйте значения.\n",
    "\n",
    "По гипотезе заказчика данные по компаниям из этой таблицы раньше хранились иначе, более удобным для исследования образом.\n",
    "\n",
    "* Максимальным образом сохраняя данные, сохранив их связность и исключив возможные возникающие при этом ошибки, подготовьте данные так, чтобы удобно было отобрать компании по параметрам и рассчитать показатели из расчёта на одну компанию."
   ]
  },
  {
   "cell_type": "code",
   "execution_count": 29,
   "metadata": {
    "id": "tJ6Sl6MKrJg1"
   },
   "outputs": [
    {
     "data": {
      "text/html": [
       "<div>\n",
       "<style scoped>\n",
       "    .dataframe tbody tr th:only-of-type {\n",
       "        vertical-align: middle;\n",
       "    }\n",
       "\n",
       "    .dataframe tbody tr th {\n",
       "        vertical-align: top;\n",
       "    }\n",
       "\n",
       "    .dataframe thead th {\n",
       "        text-align: right;\n",
       "    }\n",
       "</style>\n",
       "<table border=\"1\" class=\"dataframe\">\n",
       "  <thead>\n",
       "    <tr style=\"text-align: right;\">\n",
       "      <th></th>\n",
       "      <th>company_ID</th>\n",
       "      <th>name</th>\n",
       "      <th>category_code</th>\n",
       "      <th>status</th>\n",
       "      <th>founded_at</th>\n",
       "      <th>closed_at</th>\n",
       "      <th>domain</th>\n",
       "      <th>network_username</th>\n",
       "      <th>country_code</th>\n",
       "      <th>investment_rounds</th>\n",
       "      <th>...</th>\n",
       "      <th>company_id</th>\n",
       "      <th>funded_at</th>\n",
       "      <th>funding_round_type</th>\n",
       "      <th>raised_amount</th>\n",
       "      <th>pre_money_valuation</th>\n",
       "      <th>participants</th>\n",
       "      <th>is_first_round</th>\n",
       "      <th>is_last_round</th>\n",
       "      <th>match</th>\n",
       "      <th>year</th>\n",
       "    </tr>\n",
       "  </thead>\n",
       "  <tbody>\n",
       "    <tr>\n",
       "      <th>0</th>\n",
       "      <td>1.0</td>\n",
       "      <td>Wetpaint</td>\n",
       "      <td>web</td>\n",
       "      <td>operating</td>\n",
       "      <td>2005-10-17</td>\n",
       "      <td>NaT</td>\n",
       "      <td>wetpaint-inc.com</td>\n",
       "      <td>BachelrWetpaint</td>\n",
       "      <td>USA</td>\n",
       "      <td>0.0</td>\n",
       "      <td>...</td>\n",
       "      <td>1.0</td>\n",
       "      <td>2005-10-01</td>\n",
       "      <td>series-a</td>\n",
       "      <td>5250000.0</td>\n",
       "      <td>0.0</td>\n",
       "      <td>2.0</td>\n",
       "      <td>0.0</td>\n",
       "      <td>1.0</td>\n",
       "      <td>True</td>\n",
       "      <td>2005.0</td>\n",
       "    </tr>\n",
       "    <tr>\n",
       "      <th>1</th>\n",
       "      <td>1.0</td>\n",
       "      <td>Wetpaint</td>\n",
       "      <td>web</td>\n",
       "      <td>operating</td>\n",
       "      <td>2005-10-17</td>\n",
       "      <td>NaT</td>\n",
       "      <td>wetpaint-inc.com</td>\n",
       "      <td>BachelrWetpaint</td>\n",
       "      <td>USA</td>\n",
       "      <td>0.0</td>\n",
       "      <td>...</td>\n",
       "      <td>1.0</td>\n",
       "      <td>2007-01-01</td>\n",
       "      <td>series-b</td>\n",
       "      <td>9500000.0</td>\n",
       "      <td>0.0</td>\n",
       "      <td>3.0</td>\n",
       "      <td>0.0</td>\n",
       "      <td>0.0</td>\n",
       "      <td>True</td>\n",
       "      <td>2007.0</td>\n",
       "    </tr>\n",
       "    <tr>\n",
       "      <th>2</th>\n",
       "      <td>1.0</td>\n",
       "      <td>Wetpaint</td>\n",
       "      <td>web</td>\n",
       "      <td>operating</td>\n",
       "      <td>2005-10-17</td>\n",
       "      <td>NaT</td>\n",
       "      <td>wetpaint-inc.com</td>\n",
       "      <td>BachelrWetpaint</td>\n",
       "      <td>USA</td>\n",
       "      <td>0.0</td>\n",
       "      <td>...</td>\n",
       "      <td>1.0</td>\n",
       "      <td>2008-05-19</td>\n",
       "      <td>series-c+</td>\n",
       "      <td>25000000.0</td>\n",
       "      <td>0.0</td>\n",
       "      <td>4.0</td>\n",
       "      <td>1.0</td>\n",
       "      <td>0.0</td>\n",
       "      <td>True</td>\n",
       "      <td>2008.0</td>\n",
       "    </tr>\n",
       "    <tr>\n",
       "      <th>3</th>\n",
       "      <td>10.0</td>\n",
       "      <td>Flektor</td>\n",
       "      <td>games_video</td>\n",
       "      <td>acquired</td>\n",
       "      <td>NaT</td>\n",
       "      <td>NaT</td>\n",
       "      <td>flektor.com</td>\n",
       "      <td>NaN</td>\n",
       "      <td>USA</td>\n",
       "      <td>0.0</td>\n",
       "      <td>...</td>\n",
       "      <td>NaN</td>\n",
       "      <td>NaT</td>\n",
       "      <td>NaN</td>\n",
       "      <td>NaN</td>\n",
       "      <td>NaN</td>\n",
       "      <td>NaN</td>\n",
       "      <td>NaN</td>\n",
       "      <td>NaN</td>\n",
       "      <td>False</td>\n",
       "      <td>NaN</td>\n",
       "    </tr>\n",
       "    <tr>\n",
       "      <th>4</th>\n",
       "      <td>100.0</td>\n",
       "      <td>There</td>\n",
       "      <td>games_video</td>\n",
       "      <td>acquired</td>\n",
       "      <td>NaT</td>\n",
       "      <td>NaT</td>\n",
       "      <td>there.com</td>\n",
       "      <td>NaN</td>\n",
       "      <td>USA</td>\n",
       "      <td>0.0</td>\n",
       "      <td>...</td>\n",
       "      <td>NaN</td>\n",
       "      <td>NaT</td>\n",
       "      <td>NaN</td>\n",
       "      <td>NaN</td>\n",
       "      <td>NaN</td>\n",
       "      <td>NaN</td>\n",
       "      <td>NaN</td>\n",
       "      <td>NaN</td>\n",
       "      <td>False</td>\n",
       "      <td>NaN</td>\n",
       "    </tr>\n",
       "  </tbody>\n",
       "</table>\n",
       "<p>5 rows × 24 columns</p>\n",
       "</div>"
      ],
      "text/plain": [
       "   company_ID      name category_code     status founded_at closed_at  \\\n",
       "0         1.0  Wetpaint           web  operating 2005-10-17       NaT   \n",
       "1         1.0  Wetpaint           web  operating 2005-10-17       NaT   \n",
       "2         1.0  Wetpaint           web  operating 2005-10-17       NaT   \n",
       "3        10.0   Flektor   games_video   acquired        NaT       NaT   \n",
       "4       100.0     There   games_video   acquired        NaT       NaT   \n",
       "\n",
       "             domain network_username country_code  investment_rounds  ...  \\\n",
       "0  wetpaint-inc.com  BachelrWetpaint          USA                0.0  ...   \n",
       "1  wetpaint-inc.com  BachelrWetpaint          USA                0.0  ...   \n",
       "2  wetpaint-inc.com  BachelrWetpaint          USA                0.0  ...   \n",
       "3       flektor.com              NaN          USA                0.0  ...   \n",
       "4         there.com              NaN          USA                0.0  ...   \n",
       "\n",
       "   company_id  funded_at  funding_round_type  raised_amount  \\\n",
       "0         1.0 2005-10-01            series-a      5250000.0   \n",
       "1         1.0 2007-01-01            series-b      9500000.0   \n",
       "2         1.0 2008-05-19           series-c+     25000000.0   \n",
       "3         NaN        NaT                 NaN            NaN   \n",
       "4         NaN        NaT                 NaN            NaN   \n",
       "\n",
       "   pre_money_valuation participants is_first_round  is_last_round  match  \\\n",
       "0                  0.0          2.0            0.0            1.0   True   \n",
       "1                  0.0          3.0            0.0            0.0   True   \n",
       "2                  0.0          4.0            1.0            0.0   True   \n",
       "3                  NaN          NaN            NaN            NaN  False   \n",
       "4                  NaN          NaN            NaN            NaN  False   \n",
       "\n",
       "     year  \n",
       "0  2005.0  \n",
       "1  2007.0  \n",
       "2  2008.0  \n",
       "3     NaN  \n",
       "4     NaN  \n",
       "\n",
       "[5 rows x 24 columns]"
      ]
     },
     "metadata": {},
     "output_type": "display_data"
    },
    {
     "name": "stdout",
     "output_type": "stream",
     "text": [
      "<class 'pandas.core.frame.DataFrame'>\n",
      "Int64Index: 217472 entries, 0 to 217471\n",
      "Data columns (total 24 columns):\n",
      " #   Column               Non-Null Count   Dtype         \n",
      "---  ------               --------------   -----         \n",
      " 0   company_ID           217472 non-null  float64       \n",
      " 1   name                 217472 non-null  object        \n",
      " 2   category_code        143886 non-null  object        \n",
      " 3   status               217472 non-null  object        \n",
      " 4   founded_at           109956 non-null  datetime64[ns]\n",
      " 5   closed_at            3449 non-null    datetime64[ns]\n",
      " 6   domain               147159 non-null  object        \n",
      " 7   network_username     95534 non-null   object        \n",
      " 8   country_code         108607 non-null  object        \n",
      " 9   investment_rounds    217472 non-null  float64       \n",
      " 10  funding_rounds       217472 non-null  float64       \n",
      " 11  funding_total        217472 non-null  float64       \n",
      " 12  milestones           217472 non-null  float64       \n",
      " 13  funding_round_id     52626 non-null   float64       \n",
      " 14  company_id           52626 non-null   float64       \n",
      " 15  funded_at            52382 non-null   datetime64[ns]\n",
      " 16  funding_round_type   52626 non-null   object        \n",
      " 17  raised_amount        52626 non-null   float64       \n",
      " 18  pre_money_valuation  52626 non-null   float64       \n",
      " 19  participants         52626 non-null   float64       \n",
      " 20  is_first_round       52626 non-null   float64       \n",
      " 21  is_last_round        52626 non-null   float64       \n",
      " 22  match                217472 non-null  bool          \n",
      " 23  year                 52382 non-null   float64       \n",
      "dtypes: bool(1), datetime64[ns](3), float64(13), object(7)\n",
      "memory usage: 40.0+ MB\n"
     ]
    },
    {
     "data": {
      "text/plain": [
       "None"
      ]
     },
     "metadata": {},
     "output_type": "display_data"
    }
   ],
   "source": [
    "# Просматриваем первые несколько строк таблицы и информацию о столбцах\n",
    "display(company_and_rounds.head())\n",
    "display(company_and_rounds.info())"
   ]
  },
  {
   "cell_type": "code",
   "execution_count": 30,
   "metadata": {},
   "outputs": [
    {
     "data": {
      "text/plain": [
       "'Пропуски в таблице с информацией о компаниях:'"
      ]
     },
     "metadata": {},
     "output_type": "display_data"
    },
    {
     "data": {
      "text/plain": [
       "company_ID                0\n",
       "name                      0\n",
       "category_code         73367\n",
       "status                    0\n",
       "founded_at           105326\n",
       "closed_at            193933\n",
       "domain                70008\n",
       "network_username     115962\n",
       "country_code         108563\n",
       "investment_rounds         0\n",
       "funding_rounds            0\n",
       "funding_total             0\n",
       "milestones                0\n",
       "dtype: int64"
      ]
     },
     "metadata": {},
     "output_type": "display_data"
    },
    {
     "data": {
      "text/plain": [
       "'\\nПропуски в таблице с информацией о раундах:'"
      ]
     },
     "metadata": {},
     "output_type": "display_data"
    },
    {
     "data": {
      "text/plain": [
       "funding_round_id         1\n",
       "company_id               1\n",
       "funded_at              245\n",
       "funding_round_type       1\n",
       "raised_amount            1\n",
       "pre_money_valuation      1\n",
       "participants             1\n",
       "is_first_round           1\n",
       "is_last_round            1\n",
       "dtype: int64"
      ]
     },
     "metadata": {},
     "output_type": "display_data"
    }
   ],
   "source": [
    "# Разделим один датасет на два (комании и раунды финансирования)\n",
    "\n",
    "# Создаем DataFrame для информации о компаниях\n",
    "company_info_columns = [\n",
    "    'company_ID', 'name', 'category_code', 'status', 'founded_at', 'closed_at',\n",
    "    'domain', 'network_username', 'country_code', 'investment_rounds', 'funding_rounds', 'funding_total', 'milestones'\n",
    "]\n",
    "company_info_df = company_and_rounds[company_info_columns].drop_duplicates()\n",
    "\n",
    "# Создаем DataFrame для информации о раундах\n",
    "rounds_info_columns = [\n",
    "    'funding_round_id', 'company_id', 'funded_at', 'funding_round_type', \n",
    "    'raised_amount', 'pre_money_valuation', 'participants', 'is_first_round', \n",
    "    'is_last_round'\n",
    "]\n",
    "rounds_info_df = company_and_rounds[rounds_info_columns].drop_duplicates()\n",
    "\n",
    "# Проверка на пропуски\n",
    "display(\"Пропуски в таблице с информацией о компаниях:\")\n",
    "display(company_info_df.isnull().sum())\n",
    "display(\"\\nПропуски в таблице с информацией о раундах:\")\n",
    "display(rounds_info_df.isnull().sum())\n",
    "\n",
    "\n",
    "# Сохранение новых DataFrame в CSV    (Пусть будет)\n",
    "company_info_df.to_csv('company_info.csv', index=False)\n",
    "rounds_info_df.to_csv('rounds_info.csv', index=False)"
   ]
  },
  {
   "cell_type": "code",
   "execution_count": 31,
   "metadata": {},
   "outputs": [
    {
     "data": {
      "text/html": [
       "<div>\n",
       "<style scoped>\n",
       "    .dataframe tbody tr th:only-of-type {\n",
       "        vertical-align: middle;\n",
       "    }\n",
       "\n",
       "    .dataframe tbody tr th {\n",
       "        vertical-align: top;\n",
       "    }\n",
       "\n",
       "    .dataframe thead th {\n",
       "        text-align: right;\n",
       "    }\n",
       "</style>\n",
       "<table border=\"1\" class=\"dataframe\">\n",
       "  <thead>\n",
       "    <tr style=\"text-align: right;\">\n",
       "      <th></th>\n",
       "      <th>company_ID</th>\n",
       "      <th>name</th>\n",
       "      <th>category_code</th>\n",
       "      <th>status</th>\n",
       "      <th>founded_at</th>\n",
       "      <th>closed_at</th>\n",
       "      <th>domain</th>\n",
       "      <th>network_username</th>\n",
       "      <th>country_code</th>\n",
       "      <th>investment_rounds</th>\n",
       "      <th>funding_rounds</th>\n",
       "      <th>funding_total</th>\n",
       "      <th>milestones</th>\n",
       "    </tr>\n",
       "  </thead>\n",
       "  <tbody>\n",
       "    <tr>\n",
       "      <th>0</th>\n",
       "      <td>1.0</td>\n",
       "      <td>Wetpaint</td>\n",
       "      <td>web</td>\n",
       "      <td>operating</td>\n",
       "      <td>2005-10-17</td>\n",
       "      <td>NaT</td>\n",
       "      <td>wetpaint-inc.com</td>\n",
       "      <td>BachelrWetpaint</td>\n",
       "      <td>USA</td>\n",
       "      <td>0.0</td>\n",
       "      <td>3.0</td>\n",
       "      <td>39750000.0</td>\n",
       "      <td>5.0</td>\n",
       "    </tr>\n",
       "    <tr>\n",
       "      <th>3</th>\n",
       "      <td>10.0</td>\n",
       "      <td>Flektor</td>\n",
       "      <td>games_video</td>\n",
       "      <td>acquired</td>\n",
       "      <td>NaT</td>\n",
       "      <td>NaT</td>\n",
       "      <td>flektor.com</td>\n",
       "      <td>NaN</td>\n",
       "      <td>USA</td>\n",
       "      <td>0.0</td>\n",
       "      <td>0.0</td>\n",
       "      <td>0.0</td>\n",
       "      <td>0.0</td>\n",
       "    </tr>\n",
       "    <tr>\n",
       "      <th>4</th>\n",
       "      <td>100.0</td>\n",
       "      <td>There</td>\n",
       "      <td>games_video</td>\n",
       "      <td>acquired</td>\n",
       "      <td>NaT</td>\n",
       "      <td>NaT</td>\n",
       "      <td>there.com</td>\n",
       "      <td>NaN</td>\n",
       "      <td>USA</td>\n",
       "      <td>0.0</td>\n",
       "      <td>0.0</td>\n",
       "      <td>0.0</td>\n",
       "      <td>4.0</td>\n",
       "    </tr>\n",
       "    <tr>\n",
       "      <th>5</th>\n",
       "      <td>10000.0</td>\n",
       "      <td>MYWEBBO</td>\n",
       "      <td>network_hosting</td>\n",
       "      <td>operating</td>\n",
       "      <td>2008-07-26</td>\n",
       "      <td>NaT</td>\n",
       "      <td>mywebbo.com</td>\n",
       "      <td>NaN</td>\n",
       "      <td>NaN</td>\n",
       "      <td>0.0</td>\n",
       "      <td>0.0</td>\n",
       "      <td>0.0</td>\n",
       "      <td>0.0</td>\n",
       "    </tr>\n",
       "    <tr>\n",
       "      <th>6</th>\n",
       "      <td>10001.0</td>\n",
       "      <td>THE Movie Streamer</td>\n",
       "      <td>games_video</td>\n",
       "      <td>operating</td>\n",
       "      <td>2008-07-26</td>\n",
       "      <td>NaT</td>\n",
       "      <td>themoviestreamer.com</td>\n",
       "      <td>NaN</td>\n",
       "      <td>NaN</td>\n",
       "      <td>0.0</td>\n",
       "      <td>0.0</td>\n",
       "      <td>0.0</td>\n",
       "      <td>0.0</td>\n",
       "    </tr>\n",
       "  </tbody>\n",
       "</table>\n",
       "</div>"
      ],
      "text/plain": [
       "   company_ID                name    category_code     status founded_at  \\\n",
       "0         1.0            Wetpaint              web  operating 2005-10-17   \n",
       "3        10.0             Flektor      games_video   acquired        NaT   \n",
       "4       100.0               There      games_video   acquired        NaT   \n",
       "5     10000.0             MYWEBBO  network_hosting  operating 2008-07-26   \n",
       "6     10001.0  THE Movie Streamer      games_video  operating 2008-07-26   \n",
       "\n",
       "  closed_at                domain network_username country_code  \\\n",
       "0       NaT      wetpaint-inc.com  BachelrWetpaint          USA   \n",
       "3       NaT           flektor.com              NaN          USA   \n",
       "4       NaT             there.com              NaN          USA   \n",
       "5       NaT           mywebbo.com              NaN          NaN   \n",
       "6       NaT  themoviestreamer.com              NaN          NaN   \n",
       "\n",
       "   investment_rounds  funding_rounds  funding_total  milestones  \n",
       "0                0.0             3.0     39750000.0         5.0  \n",
       "3                0.0             0.0            0.0         0.0  \n",
       "4                0.0             0.0            0.0         4.0  \n",
       "5                0.0             0.0            0.0         0.0  \n",
       "6                0.0             0.0            0.0         0.0  "
      ]
     },
     "metadata": {},
     "output_type": "display_data"
    },
    {
     "name": "stdout",
     "output_type": "stream",
     "text": [
      "<class 'pandas.core.frame.DataFrame'>\n",
      "Int64Index: 196553 entries, 0 to 217469\n",
      "Data columns (total 13 columns):\n",
      " #   Column             Non-Null Count   Dtype         \n",
      "---  ------             --------------   -----         \n",
      " 0   company_ID         196553 non-null  float64       \n",
      " 1   name               196553 non-null  object        \n",
      " 2   category_code      123186 non-null  object        \n",
      " 3   status             196553 non-null  object        \n",
      " 4   founded_at         91227 non-null   datetime64[ns]\n",
      " 5   closed_at          2620 non-null    datetime64[ns]\n",
      " 6   domain             126545 non-null  object        \n",
      " 7   network_username   80591 non-null   object        \n",
      " 8   country_code       87990 non-null   object        \n",
      " 9   investment_rounds  196553 non-null  float64       \n",
      " 10  funding_rounds     196553 non-null  float64       \n",
      " 11  funding_total      196553 non-null  float64       \n",
      " 12  milestones         196553 non-null  float64       \n",
      "dtypes: datetime64[ns](2), float64(5), object(6)\n",
      "memory usage: 21.0+ MB\n"
     ]
    },
    {
     "data": {
      "text/plain": [
       "None"
      ]
     },
     "metadata": {},
     "output_type": "display_data"
    },
    {
     "data": {
      "text/html": [
       "<div>\n",
       "<style scoped>\n",
       "    .dataframe tbody tr th:only-of-type {\n",
       "        vertical-align: middle;\n",
       "    }\n",
       "\n",
       "    .dataframe tbody tr th {\n",
       "        vertical-align: top;\n",
       "    }\n",
       "\n",
       "    .dataframe thead th {\n",
       "        text-align: right;\n",
       "    }\n",
       "</style>\n",
       "<table border=\"1\" class=\"dataframe\">\n",
       "  <thead>\n",
       "    <tr style=\"text-align: right;\">\n",
       "      <th></th>\n",
       "      <th>funding_round_id</th>\n",
       "      <th>company_id</th>\n",
       "      <th>funded_at</th>\n",
       "      <th>funding_round_type</th>\n",
       "      <th>raised_amount</th>\n",
       "      <th>pre_money_valuation</th>\n",
       "      <th>participants</th>\n",
       "      <th>is_first_round</th>\n",
       "      <th>is_last_round</th>\n",
       "    </tr>\n",
       "  </thead>\n",
       "  <tbody>\n",
       "    <tr>\n",
       "      <th>0</th>\n",
       "      <td>888.0</td>\n",
       "      <td>1.0</td>\n",
       "      <td>2005-10-01</td>\n",
       "      <td>series-a</td>\n",
       "      <td>5250000.0</td>\n",
       "      <td>0.0</td>\n",
       "      <td>2.0</td>\n",
       "      <td>0.0</td>\n",
       "      <td>1.0</td>\n",
       "    </tr>\n",
       "    <tr>\n",
       "      <th>1</th>\n",
       "      <td>889.0</td>\n",
       "      <td>1.0</td>\n",
       "      <td>2007-01-01</td>\n",
       "      <td>series-b</td>\n",
       "      <td>9500000.0</td>\n",
       "      <td>0.0</td>\n",
       "      <td>3.0</td>\n",
       "      <td>0.0</td>\n",
       "      <td>0.0</td>\n",
       "    </tr>\n",
       "    <tr>\n",
       "      <th>2</th>\n",
       "      <td>2312.0</td>\n",
       "      <td>1.0</td>\n",
       "      <td>2008-05-19</td>\n",
       "      <td>series-c+</td>\n",
       "      <td>25000000.0</td>\n",
       "      <td>0.0</td>\n",
       "      <td>4.0</td>\n",
       "      <td>1.0</td>\n",
       "      <td>0.0</td>\n",
       "    </tr>\n",
       "    <tr>\n",
       "      <th>3</th>\n",
       "      <td>NaN</td>\n",
       "      <td>NaN</td>\n",
       "      <td>NaT</td>\n",
       "      <td>NaN</td>\n",
       "      <td>NaN</td>\n",
       "      <td>NaN</td>\n",
       "      <td>NaN</td>\n",
       "      <td>NaN</td>\n",
       "      <td>NaN</td>\n",
       "    </tr>\n",
       "    <tr>\n",
       "      <th>15</th>\n",
       "      <td>1644.0</td>\n",
       "      <td>1001.0</td>\n",
       "      <td>2008-02-26</td>\n",
       "      <td>series-a</td>\n",
       "      <td>5000000.0</td>\n",
       "      <td>0.0</td>\n",
       "      <td>3.0</td>\n",
       "      <td>1.0</td>\n",
       "      <td>1.0</td>\n",
       "    </tr>\n",
       "  </tbody>\n",
       "</table>\n",
       "</div>"
      ],
      "text/plain": [
       "    funding_round_id  company_id  funded_at funding_round_type  raised_amount  \\\n",
       "0              888.0         1.0 2005-10-01           series-a      5250000.0   \n",
       "1              889.0         1.0 2007-01-01           series-b      9500000.0   \n",
       "2             2312.0         1.0 2008-05-19          series-c+     25000000.0   \n",
       "3                NaN         NaN        NaT                NaN            NaN   \n",
       "15            1644.0      1001.0 2008-02-26           series-a      5000000.0   \n",
       "\n",
       "    pre_money_valuation  participants  is_first_round  is_last_round  \n",
       "0                   0.0           2.0             0.0            1.0  \n",
       "1                   0.0           3.0             0.0            0.0  \n",
       "2                   0.0           4.0             1.0            0.0  \n",
       "3                   NaN           NaN             NaN            NaN  \n",
       "15                  0.0           3.0             1.0            1.0  "
      ]
     },
     "metadata": {},
     "output_type": "display_data"
    },
    {
     "name": "stdout",
     "output_type": "stream",
     "text": [
      "<class 'pandas.core.frame.DataFrame'>\n",
      "Int64Index: 52627 entries, 0 to 217471\n",
      "Data columns (total 9 columns):\n",
      " #   Column               Non-Null Count  Dtype         \n",
      "---  ------               --------------  -----         \n",
      " 0   funding_round_id     52626 non-null  float64       \n",
      " 1   company_id           52626 non-null  float64       \n",
      " 2   funded_at            52382 non-null  datetime64[ns]\n",
      " 3   funding_round_type   52626 non-null  object        \n",
      " 4   raised_amount        52626 non-null  float64       \n",
      " 5   pre_money_valuation  52626 non-null  float64       \n",
      " 6   participants         52626 non-null  float64       \n",
      " 7   is_first_round       52626 non-null  float64       \n",
      " 8   is_last_round        52626 non-null  float64       \n",
      "dtypes: datetime64[ns](1), float64(7), object(1)\n",
      "memory usage: 4.0+ MB\n"
     ]
    },
    {
     "data": {
      "text/plain": [
       "None"
      ]
     },
     "metadata": {},
     "output_type": "display_data"
    }
   ],
   "source": [
    "display(company_info_df.head())\n",
    "display(company_info_df.info())\n",
    "display(rounds_info_df.head())\n",
    "display(rounds_info_df.info())"
   ]
  },
  {
   "cell_type": "markdown",
   "metadata": {
    "id": "SFfUmzron0Tc"
   },
   "source": [
    "<div class=\"alert alert-primary\">\n",
    "<b>Теперь на основе полученных данных, мы можем сделать более качественный анализ.</b> \n",
    "</div>"
   ]
  },
  {
   "cell_type": "markdown",
   "metadata": {
    "id": "bmVYhphNrJg2"
   },
   "source": [
    "\n",
    "## Шаг 3. Исследовательский анализ объединённых таблиц\n",
    "\n",
    "<big>Приступите к шагу 3 после проверки ревьюера.</big>"
   ]
  },
  {
   "cell_type": "markdown",
   "metadata": {
    "id": "3Di6tCT3rJg2"
   },
   "source": [
    "\n",
    "### 3.1. Объединение данных\n",
    "\n",
    "Объедините данные для ответа на вопросы заказчика, которые касаются интересующих его компаний.\n",
    "\n",
    "В качестве основы для объединённой таблицы возьмите данные из обработанного датасета `company_and_rounds.csv` — выберите только те компании, у которых указаны значения `funding_rounds` или `investment_rounds` больше нуля, и те, у которых в колонке `status` указано `acquired`.\n",
    "\n",
    "Далее работайте только с этими данными."
   ]
  },
  {
   "cell_type": "markdown",
   "metadata": {
    "id": "mGYqoHS7rJg2"
   },
   "source": []
  },
  {
   "cell_type": "code",
   "execution_count": 32,
   "metadata": {
    "id": "vJZ4mO2Un1yt"
   },
   "outputs": [
    {
     "data": {
      "text/html": [
       "<div>\n",
       "<style scoped>\n",
       "    .dataframe tbody tr th:only-of-type {\n",
       "        vertical-align: middle;\n",
       "    }\n",
       "\n",
       "    .dataframe tbody tr th {\n",
       "        vertical-align: top;\n",
       "    }\n",
       "\n",
       "    .dataframe thead th {\n",
       "        text-align: right;\n",
       "    }\n",
       "</style>\n",
       "<table border=\"1\" class=\"dataframe\">\n",
       "  <thead>\n",
       "    <tr style=\"text-align: right;\">\n",
       "      <th></th>\n",
       "      <th>company_ID</th>\n",
       "      <th>name</th>\n",
       "      <th>category_code</th>\n",
       "      <th>status</th>\n",
       "      <th>founded_at</th>\n",
       "      <th>closed_at</th>\n",
       "      <th>domain</th>\n",
       "      <th>network_username</th>\n",
       "      <th>country_code</th>\n",
       "      <th>investment_rounds</th>\n",
       "      <th>funding_rounds</th>\n",
       "      <th>funding_total</th>\n",
       "      <th>milestones</th>\n",
       "    </tr>\n",
       "  </thead>\n",
       "  <tbody>\n",
       "    <tr>\n",
       "      <th>0</th>\n",
       "      <td>1.0</td>\n",
       "      <td>Wetpaint</td>\n",
       "      <td>web</td>\n",
       "      <td>operating</td>\n",
       "      <td>2005-10-17</td>\n",
       "      <td>NaT</td>\n",
       "      <td>wetpaint-inc.com</td>\n",
       "      <td>BachelrWetpaint</td>\n",
       "      <td>USA</td>\n",
       "      <td>0.0</td>\n",
       "      <td>3.0</td>\n",
       "      <td>39750000.0</td>\n",
       "      <td>5.0</td>\n",
       "    </tr>\n",
       "    <tr>\n",
       "      <th>3</th>\n",
       "      <td>10.0</td>\n",
       "      <td>Flektor</td>\n",
       "      <td>games_video</td>\n",
       "      <td>acquired</td>\n",
       "      <td>NaT</td>\n",
       "      <td>NaT</td>\n",
       "      <td>flektor.com</td>\n",
       "      <td>NaN</td>\n",
       "      <td>USA</td>\n",
       "      <td>0.0</td>\n",
       "      <td>0.0</td>\n",
       "      <td>0.0</td>\n",
       "      <td>0.0</td>\n",
       "    </tr>\n",
       "    <tr>\n",
       "      <th>4</th>\n",
       "      <td>100.0</td>\n",
       "      <td>There</td>\n",
       "      <td>games_video</td>\n",
       "      <td>acquired</td>\n",
       "      <td>NaT</td>\n",
       "      <td>NaT</td>\n",
       "      <td>there.com</td>\n",
       "      <td>NaN</td>\n",
       "      <td>USA</td>\n",
       "      <td>0.0</td>\n",
       "      <td>0.0</td>\n",
       "      <td>0.0</td>\n",
       "      <td>4.0</td>\n",
       "    </tr>\n",
       "    <tr>\n",
       "      <th>15</th>\n",
       "      <td>1001.0</td>\n",
       "      <td>FriendFeed</td>\n",
       "      <td>web</td>\n",
       "      <td>acquired</td>\n",
       "      <td>2007-10-01</td>\n",
       "      <td>NaT</td>\n",
       "      <td>friendfeed.com</td>\n",
       "      <td>friendfeed</td>\n",
       "      <td>USA</td>\n",
       "      <td>0.0</td>\n",
       "      <td>1.0</td>\n",
       "      <td>5000000.0</td>\n",
       "      <td>3.0</td>\n",
       "    </tr>\n",
       "    <tr>\n",
       "      <th>20</th>\n",
       "      <td>10014.0</td>\n",
       "      <td>Mobclix</td>\n",
       "      <td>mobile</td>\n",
       "      <td>acquired</td>\n",
       "      <td>2008-03-01</td>\n",
       "      <td>NaT</td>\n",
       "      <td>mobclix.com</td>\n",
       "      <td>mobclix</td>\n",
       "      <td>USA</td>\n",
       "      <td>0.0</td>\n",
       "      <td>1.0</td>\n",
       "      <td>0.0</td>\n",
       "      <td>4.0</td>\n",
       "    </tr>\n",
       "    <tr>\n",
       "      <th>21</th>\n",
       "      <td>10015.0</td>\n",
       "      <td>Fitbit</td>\n",
       "      <td>health</td>\n",
       "      <td>operating</td>\n",
       "      <td>2007-10-01</td>\n",
       "      <td>NaT</td>\n",
       "      <td>fitbit.com</td>\n",
       "      <td>fitbit</td>\n",
       "      <td>USA</td>\n",
       "      <td>0.0</td>\n",
       "      <td>5.0</td>\n",
       "      <td>68069200.0</td>\n",
       "      <td>0.0</td>\n",
       "    </tr>\n",
       "    <tr>\n",
       "      <th>26</th>\n",
       "      <td>100155.0</td>\n",
       "      <td>MTPV</td>\n",
       "      <td>cleantech</td>\n",
       "      <td>operating</td>\n",
       "      <td>2003-01-01</td>\n",
       "      <td>NaT</td>\n",
       "      <td>mtpv.com</td>\n",
       "      <td>NaN</td>\n",
       "      <td>USA</td>\n",
       "      <td>0.0</td>\n",
       "      <td>3.0</td>\n",
       "      <td>10125300.0</td>\n",
       "      <td>1.0</td>\n",
       "    </tr>\n",
       "    <tr>\n",
       "      <th>32</th>\n",
       "      <td>10018.0</td>\n",
       "      <td>Demandbase</td>\n",
       "      <td>analytics</td>\n",
       "      <td>operating</td>\n",
       "      <td>2006-01-01</td>\n",
       "      <td>NaT</td>\n",
       "      <td>demandbase.com</td>\n",
       "      <td>Demandbase</td>\n",
       "      <td>USA</td>\n",
       "      <td>0.0</td>\n",
       "      <td>3.0</td>\n",
       "      <td>33000000.0</td>\n",
       "      <td>3.0</td>\n",
       "    </tr>\n",
       "    <tr>\n",
       "      <th>36</th>\n",
       "      <td>100189.0</td>\n",
       "      <td>Locatrix Communications</td>\n",
       "      <td>mobile</td>\n",
       "      <td>operating</td>\n",
       "      <td>2003-11-01</td>\n",
       "      <td>NaT</td>\n",
       "      <td>locatrix.com</td>\n",
       "      <td>NaN</td>\n",
       "      <td>AUS</td>\n",
       "      <td>0.0</td>\n",
       "      <td>1.0</td>\n",
       "      <td>250000.0</td>\n",
       "      <td>1.0</td>\n",
       "    </tr>\n",
       "    <tr>\n",
       "      <th>37</th>\n",
       "      <td>10020.0</td>\n",
       "      <td>Threebrix E-services Pvt Ltd</td>\n",
       "      <td>NaN</td>\n",
       "      <td>operating</td>\n",
       "      <td>NaT</td>\n",
       "      <td>NaT</td>\n",
       "      <td>NaN</td>\n",
       "      <td>NaN</td>\n",
       "      <td>NaN</td>\n",
       "      <td>1.0</td>\n",
       "      <td>0.0</td>\n",
       "      <td>0.0</td>\n",
       "      <td>0.0</td>\n",
       "    </tr>\n",
       "  </tbody>\n",
       "</table>\n",
       "</div>"
      ],
      "text/plain": [
       "    company_ID                          name category_code     status  \\\n",
       "0          1.0                      Wetpaint           web  operating   \n",
       "3         10.0                       Flektor   games_video   acquired   \n",
       "4        100.0                         There   games_video   acquired   \n",
       "15      1001.0                    FriendFeed           web   acquired   \n",
       "20     10014.0                       Mobclix        mobile   acquired   \n",
       "21     10015.0                        Fitbit        health  operating   \n",
       "26    100155.0                          MTPV     cleantech  operating   \n",
       "32     10018.0                    Demandbase     analytics  operating   \n",
       "36    100189.0       Locatrix Communications        mobile  operating   \n",
       "37     10020.0  Threebrix E-services Pvt Ltd           NaN  operating   \n",
       "\n",
       "   founded_at closed_at            domain network_username country_code  \\\n",
       "0  2005-10-17       NaT  wetpaint-inc.com  BachelrWetpaint          USA   \n",
       "3         NaT       NaT       flektor.com              NaN          USA   \n",
       "4         NaT       NaT         there.com              NaN          USA   \n",
       "15 2007-10-01       NaT    friendfeed.com       friendfeed          USA   \n",
       "20 2008-03-01       NaT       mobclix.com          mobclix          USA   \n",
       "21 2007-10-01       NaT        fitbit.com           fitbit          USA   \n",
       "26 2003-01-01       NaT          mtpv.com              NaN          USA   \n",
       "32 2006-01-01       NaT    demandbase.com       Demandbase          USA   \n",
       "36 2003-11-01       NaT      locatrix.com              NaN          AUS   \n",
       "37        NaT       NaT               NaN              NaN          NaN   \n",
       "\n",
       "    investment_rounds  funding_rounds  funding_total  milestones  \n",
       "0                 0.0             3.0     39750000.0         5.0  \n",
       "3                 0.0             0.0            0.0         0.0  \n",
       "4                 0.0             0.0            0.0         4.0  \n",
       "15                0.0             1.0      5000000.0         3.0  \n",
       "20                0.0             1.0            0.0         4.0  \n",
       "21                0.0             5.0     68069200.0         0.0  \n",
       "26                0.0             3.0     10125300.0         1.0  \n",
       "32                0.0             3.0     33000000.0         3.0  \n",
       "36                0.0             1.0       250000.0         1.0  \n",
       "37                1.0             0.0            0.0         0.0  "
      ]
     },
     "metadata": {},
     "output_type": "display_data"
    },
    {
     "name": "stdout",
     "output_type": "stream",
     "text": [
      "<class 'pandas.core.frame.DataFrame'>\n",
      "Int64Index: 40747 entries, 0 to 217469\n",
      "Data columns (total 13 columns):\n",
      " #   Column             Non-Null Count  Dtype         \n",
      "---  ------             --------------  -----         \n",
      " 0   company_ID         40747 non-null  float64       \n",
      " 1   name               40747 non-null  object        \n",
      " 2   category_code      35315 non-null  object        \n",
      " 3   status             40747 non-null  object        \n",
      " 4   founded_at         27807 non-null  datetime64[ns]\n",
      " 5   closed_at          2128 non-null   datetime64[ns]\n",
      " 6   domain             35754 non-null  object        \n",
      " 7   network_username   20850 non-null  object        \n",
      " 8   country_code       34742 non-null  object        \n",
      " 9   investment_rounds  40747 non-null  float64       \n",
      " 10  funding_rounds     40747 non-null  float64       \n",
      " 11  funding_total      40747 non-null  float64       \n",
      " 12  milestones         40747 non-null  float64       \n",
      "dtypes: datetime64[ns](2), float64(5), object(6)\n",
      "memory usage: 4.4+ MB\n"
     ]
    },
    {
     "data": {
      "text/plain": [
       "None"
      ]
     },
     "metadata": {},
     "output_type": "display_data"
    }
   ],
   "source": [
    "\n",
    "company_df = company_info_df[['company_ID', 'name', 'category_code', 'status',\n",
    "    'founded_at', 'closed_at', 'domain', 'network_username',\n",
    "    'country_code', 'investment_rounds', 'funding_rounds', 'funding_total']].copy()\n",
    "\n",
    "filtered_company_df = company_info_df[\n",
    "    ((company_df['funding_rounds'] > 0) |\n",
    "    (company_df['investment_rounds'] > 0)) |\n",
    "    (company_df['status'] == 'acquired')]\n",
    "\n",
    "# Вывод первых нескольких строк итоговой таблицы\n",
    "display(filtered_company_df.head(10))\n",
    "display(filtered_company_df.info())\n"
   ]
  },
  {
   "cell_type": "markdown",
   "metadata": {
    "id": "DFHINkV3rJg2"
   },
   "source": [
    "\n",
    "### 3.2. Анализ выбросов\n",
    "\n",
    "Заказчика интересует обычный для рассматриваемого периода размер средств, который предоставлялся компаниям.\n",
    "\n",
    "* По предобработанному столбцу `funding_total` графическим способом оцените, какой размер общего финансирования для одной компании будет типичным, а какой — выбивающимся.\n",
    "\n",
    "* В процессе расчёта значений обратите внимание, например, на показатели, возвращаемые методом `.describe()`, — объясните их. Применимы ли к таким данным обычные способы нахождения типичных значений?"
   ]
  },
  {
   "cell_type": "markdown",
   "metadata": {
    "id": "dIWqyEomn2MU"
   },
   "source": [
    "   Среднее значение и медиана могут дать представление о типичном размере финансирования. Если среднее значительно выше медианы, это может указывать на наличие выбросов.\n",
    "   Ящик с усами поможет визуально определить выбросы. Значения, находящиеся за пределами \"усов\", считаются выбросами. Гистограмма также может показать, как распределены данные и есть ли длинные хвосты.\n",
    "\n",
    "Таким образом, для анализа столбца funding_total можно использовать как статистические методы, так и визуализацию. Это поможет понять распределение данных, типичные значения и выбросы.\n"
   ]
  },
  {
   "cell_type": "code",
   "execution_count": 33,
   "metadata": {},
   "outputs": [
    {
     "data": {
      "text/plain": [
       "count    4.074700e+04\n",
       "mean     1.013561e+07\n",
       "std      5.646436e+07\n",
       "min      0.000000e+00\n",
       "25%      0.000000e+00\n",
       "50%      6.000000e+05\n",
       "75%      5.650650e+06\n",
       "max      5.700000e+09\n",
       "Name: funding_total, dtype: float64"
      ]
     },
     "metadata": {},
     "output_type": "display_data"
    },
    {
     "data": {
      "image/png": "[encoded data removed]",
      "text/plain": [
       "<Figure size 720x432 with 1 Axes>"
      ]
     },
     "metadata": {
      "needs_background": "light"
     },
     "output_type": "display_data"
    },
    {
     "data": {
      "image/png": "[encoded data removed]",
      "text/plain": [
       "<Figure size 720x432 with 1 Axes>"
      ]
     },
     "metadata": {
      "needs_background": "light"
     },
     "output_type": "display_data"
    },
    {
     "data": {
      "image/png": "[encoded data removed]",
      "text/plain": [
       "<Figure size 720x432 with 1 Axes>"
      ]
     },
     "metadata": {
      "needs_background": "light"
     },
     "output_type": "display_data"
    }
   ],
   "source": [
    "summary = filtered_company_df['funding_total'].describe()    # Посмотрим сводку значений\n",
    "display(summary)     #Псмотрим значения\n",
    "# Усы с выбросами\n",
    "plt.figure(figsize=(10, 6))\n",
    "sns.boxplot(x=filtered_company_df['funding_total'])\n",
    "plt.axvline(summary['50%'], color='red', linestyle='--', label='Медиана')\n",
    "plt.title('Диаграмма всего финансирования с медианой')\n",
    "plt.xlabel('Общее финансирование')\n",
    "plt.legend()\n",
    "plt.show()\n",
    "\n",
    "# Усы без выбросов (посмотреть)\n",
    "plt.figure(figsize=(10, 6))\n",
    "sns.boxplot(x=filtered_company_df['funding_total'], showfliers=False)\n",
    "plt.axvline(summary['50%'], color='red', linestyle='--', label='Медиана')\n",
    "plt.title('Диаграмма всего финансирования с медианой (без выбросов)')\n",
    "plt.xlabel('Общее финансирование')\n",
    "plt.legend()\n",
    "plt.show()\n",
    "\n",
    "# Гистограмма с лого шкалой\n",
    "plt.figure(figsize=(10, 6))\n",
    "sns.histplot(filtered_company_df['funding_total'], bins=35, kde=True)\n",
    "plt.xscale('log')  # Применяем логарифмическую шкалу\n",
    "plt.title('Гистограмма общего финансирования')\n",
    "plt.xlabel('Общее финансирование')\n",
    "plt.ylabel('Частота')\n",
    "plt.show()\n",
    "\n"
   ]
  },
  {
   "cell_type": "code",
   "execution_count": 34,
   "metadata": {},
   "outputs": [
    {
     "data": {
      "text/plain": [
       "count    4.074700e+04\n",
       "mean     1.013561e+07\n",
       "std      5.646436e+07\n",
       "min      0.000000e+00\n",
       "25%      0.000000e+00\n",
       "50%      6.000000e+05\n",
       "75%      5.650650e+06\n",
       "max      5.700000e+09\n",
       "Name: funding_total, dtype: float64"
      ]
     },
     "metadata": {},
     "output_type": "display_data"
    },
    {
     "data": {
      "image/png": "[encoded data removed]",
      "text/plain": [
       "<Figure size 720x432 with 1 Axes>"
      ]
     },
     "metadata": {
      "needs_background": "light"
     },
     "output_type": "display_data"
    },
    {
     "data": {
      "image/png": "[encoded data removed]",
      "text/plain": [
       "<Figure size 720x432 with 1 Axes>"
      ]
     },
     "metadata": {
      "needs_background": "light"
     },
     "output_type": "display_data"
    },
    {
     "data": {
      "image/png": "[encoded data removed]",
      "text/plain": [
       "<Figure size 720x432 with 1 Axes>"
      ]
     },
     "metadata": {
      "needs_background": "light"
     },
     "output_type": "display_data"
    }
   ],
   "source": [
    "summary = filtered_company_df['funding_total'].describe()    # Посмотрим сводку значений\n",
    "display(summary)     #Псмотрим значения\n",
    "# Усы с выбросами\n",
    "plt.figure(figsize=(10, 6))\n",
    "sns.boxplot(x=filtered_company_df['funding_total'])\n",
    "plt.axvline(summary['50%'], color='red', linestyle='--', label='Медиана')\n",
    "plt.title('Диаграмма всего финансирования с медианой')\n",
    "plt.xlabel('Общее финансирование')\n",
    "plt.legend()\n",
    "plt.show()\n",
    "\n",
    "# Усы без выбросов (посмотреть)\n",
    "plt.figure(figsize=(10, 6))\n",
    "sns.boxplot(x=filtered_company_df['funding_total'], showfliers=False)\n",
    "plt.axvline(summary['50%'], color='red', linestyle='--', label='Медиана')\n",
    "plt.title('Диаграмма всего финансирования с медианой (без выбросов)')\n",
    "plt.xlabel('Общее финансирование')\n",
    "plt.legend()\n",
    "plt.show()\n",
    "\n",
    "# Гистограмма с лого шкалой\n",
    "plt.figure(figsize=(10, 6))\n",
    "sns.histplot(filtered_company_df['funding_total'], bins=30, kde=True)\n",
    "plt.xscale('log')  # Применяем логарифмическую шкалу\n",
    "plt.title('Гистограмма общего финансирования')\n",
    "plt.xlabel('Общее финансирование')\n",
    "plt.ylabel('Частота')\n",
    "plt.show()\n",
    "\n"
   ]
  },
  {
   "cell_type": "markdown",
   "metadata": {
    "id": "JqkRAQrIrJg2"
   },
   "source": [
    "\n",
    "### 3.3. Куплены забесплатно?\n",
    "\n",
    "* Исследуйте компании, которые были проданы за ноль или за один доллар, и при этом известно, что у них был ненулевой общий объём финансирования.\n",
    "\n",
    "* Рассчитайте аналитически верхнюю и нижнюю границу выбросов для столбца `funding_total` и укажите, каким процентилям границы соответствуют. Учитывая озвученные выше предпосылки и собственные соображения, сделайте выводы о корректности планируемой заказчиком замены нижней и верхней границы выбросов на значения, рассчитанные по процентилям."
   ]
  },
  {
   "cell_type": "code",
   "execution_count": 35,
   "metadata": {
    "id": "wJHXCBwwrJg2"
   },
   "outputs": [
    {
     "data": {
      "text/plain": [
       "'Количество компаний, проданных за 0 или 1 доллар с ненулевым объемом финансирования:'"
      ]
     },
     "metadata": {},
     "output_type": "display_data"
    },
    {
     "data": {
      "text/plain": [
       "1618"
      ]
     },
     "metadata": {},
     "output_type": "display_data"
    }
   ],
   "source": [
    "merged_df = pd.merge(acquisition, filtered_company_df, left_on='acquired_company_id', right_on='company_ID', how='inner')\n",
    "companies_sold_zero_or_one_dollar = merged_df[\n",
    "    (merged_df.status == \"acquired\") &\n",
    "    (merged_df.price_amount < 2) &\n",
    "    (merged_df.funding_total != 0)\n",
    "]\n",
    "\n",
    "# Вывод количества таких компаний\n",
    "display(\"Количество компаний, проданных за 0 или 1 доллар с ненулевым объемом финансирования:\", len(companies_sold_zero_or_one_dollar))"
   ]
  },
  {
   "cell_type": "code",
   "execution_count": 36,
   "metadata": {
    "id": "-kA4CO27n2ql"
   },
   "outputs": [
    {
     "data": {
      "text/plain": [
       "'Нижняя граница выбросов: 0'"
      ]
     },
     "metadata": {},
     "output_type": "display_data"
    },
    {
     "data": {
      "text/plain": [
       "'Верхняя граница выбросов: 9843.75'"
      ]
     },
     "metadata": {},
     "output_type": "display_data"
    }
   ],
   "source": [
    "\n",
    "# Расчет квартилей и IQR\n",
    "Q1 = merged_df['funding_total'].quantile(0.25)\n",
    "Q3 = merged_df['funding_total'].quantile(0.75)\n",
    "IQR = Q3 - Q1\n",
    "\n",
    "# Определение границ выбросов\n",
    "lower_bound = Q1 - 1.5 * IQR\n",
    "upper_bound = Q3 + 1.5 * IQR\n",
    "# Заменяем отрицательные значения на 0\n",
    "if lower_bound < 0:\n",
    "    lower_bound = 0\n",
    "# Заменяем отрицательные значения на 0\n",
    "if upper_bound < 0:\n",
    "    upper_bound = 0\n",
    "\n",
    "\n",
    "display(f\"Нижняя граница выбросов: {lower_bound}\")\n",
    "display(f\"Верхняя граница выбросов: {upper_bound}\")"
   ]
  },
  {
   "cell_type": "code",
   "execution_count": 37,
   "metadata": {
    "scrolled": true
   },
   "outputs": [
    {
     "data": {
      "text/plain": [
       "'Нижняя граница выбросов соответствует 37.49733759318424 процентилю.'"
      ]
     },
     "metadata": {},
     "output_type": "display_data"
    },
    {
     "data": {
      "text/plain": [
       "'Верхняя граница выбросов соответствует 75.00532481363152 процентилю.'"
      ]
     },
     "metadata": {},
     "output_type": "display_data"
    }
   ],
   "source": [
    "from scipy import stats\n",
    "\n",
    "# Вычисление процентиля для нижней границы\n",
    "lower_percentile = stats.percentileofscore(merged_df['funding_total'], lower_bound)\n",
    "upper_percentile = stats.percentileofscore(merged_df['funding_total'], upper_bound)\n",
    "\n",
    "display(f\"Нижняя граница выбросов соответствует {lower_percentile} процентилю.\")\n",
    "display(f\"Верхняя граница выбросов соответствует {upper_percentile} процентилю.\")"
   ]
  },
  {
   "cell_type": "markdown",
   "metadata": {
    "id": "mEiWpROjrJg2"
   },
   "source": [
    "\n",
    "### 3.4. Цены стартапов по категориям\n",
    "\n",
    "Категории стартапов с наибольшими ценами и значительным разбросом цен могут быть наиболее привлекательными для крупных инвесторов, которые готовы к высоким рискам ради потенциально больших доходов. Среди категорий стартапов выделите категории стартапов, характеризующиеся:\n",
    "\n",
    "* наибольшими ценами;\n",
    "* и наибольшим разбросом цен за стартап.\n",
    "\n",
    "Объясните, почему решили составить топ именно из такого числа категорий и почему рассчитывали именно так."
   ]
  },
  {
   "cell_type": "code",
   "execution_count": 38,
   "metadata": {
    "id": "jQ09dYUWrJg2"
   },
   "outputs": [
    {
     "data": {
      "text/plain": [
       "'Категории с наибольшими ценами:'"
      ]
     },
     "metadata": {},
     "output_type": "display_data"
    },
    {
     "data": {
      "text/html": [
       "<div>\n",
       "<style scoped>\n",
       "    .dataframe tbody tr th:only-of-type {\n",
       "        vertical-align: middle;\n",
       "    }\n",
       "\n",
       "    .dataframe tbody tr th {\n",
       "        vertical-align: top;\n",
       "    }\n",
       "\n",
       "    .dataframe thead th {\n",
       "        text-align: right;\n",
       "    }\n",
       "</style>\n",
       "<table border=\"1\" class=\"dataframe\">\n",
       "  <thead>\n",
       "    <tr style=\"text-align: right;\">\n",
       "      <th></th>\n",
       "      <th>category_code</th>\n",
       "      <th>average_price</th>\n",
       "      <th>price_stddev</th>\n",
       "    </tr>\n",
       "  </thead>\n",
       "  <tbody>\n",
       "    <tr>\n",
       "      <th>23</th>\n",
       "      <td>nanotech</td>\n",
       "      <td>584000000</td>\n",
       "      <td>NaN</td>\n",
       "    </tr>\n",
       "    <tr>\n",
       "      <th>18</th>\n",
       "      <td>manufacturing</td>\n",
       "      <td>72000000</td>\n",
       "      <td>9.696580e+08</td>\n",
       "    </tr>\n",
       "    <tr>\n",
       "      <th>30</th>\n",
       "      <td>real_estate</td>\n",
       "      <td>50000000</td>\n",
       "      <td>2.505123e+09</td>\n",
       "    </tr>\n",
       "    <tr>\n",
       "      <th>2</th>\n",
       "      <td>automotive</td>\n",
       "      <td>43000000</td>\n",
       "      <td>2.297758e+09</td>\n",
       "    </tr>\n",
       "    <tr>\n",
       "      <th>3</th>\n",
       "      <td>biotech</td>\n",
       "      <td>13200000</td>\n",
       "      <td>1.540374e+09</td>\n",
       "    </tr>\n",
       "  </tbody>\n",
       "</table>\n",
       "</div>"
      ],
      "text/plain": [
       "    category_code  average_price  price_stddev\n",
       "23       nanotech      584000000           NaN\n",
       "18  manufacturing       72000000  9.696580e+08\n",
       "30    real_estate       50000000  2.505123e+09\n",
       "2      automotive       43000000  2.297758e+09\n",
       "3         biotech       13200000  1.540374e+09"
      ]
     },
     "metadata": {},
     "output_type": "display_data"
    },
    {
     "data": {
      "text/plain": [
       "'\\nКатегории с наибольшим разбросом цен:'"
      ]
     },
     "metadata": {},
     "output_type": "display_data"
    },
    {
     "data": {
      "text/html": [
       "<div>\n",
       "<style scoped>\n",
       "    .dataframe tbody tr th:only-of-type {\n",
       "        vertical-align: middle;\n",
       "    }\n",
       "\n",
       "    .dataframe tbody tr th {\n",
       "        vertical-align: top;\n",
       "    }\n",
       "\n",
       "    .dataframe thead th {\n",
       "        text-align: right;\n",
       "    }\n",
       "</style>\n",
       "<table border=\"1\" class=\"dataframe\">\n",
       "  <thead>\n",
       "    <tr style=\"text-align: right;\">\n",
       "      <th></th>\n",
       "      <th>category_code</th>\n",
       "      <th>average_price</th>\n",
       "      <th>price_stddev</th>\n",
       "    </tr>\n",
       "  </thead>\n",
       "  <tbody>\n",
       "    <tr>\n",
       "      <th>9</th>\n",
       "      <td>enterprise</td>\n",
       "      <td>0</td>\n",
       "      <td>1.280882e+11</td>\n",
       "    </tr>\n",
       "    <tr>\n",
       "      <th>29</th>\n",
       "      <td>public_relations</td>\n",
       "      <td>0</td>\n",
       "      <td>4.059244e+09</td>\n",
       "    </tr>\n",
       "    <tr>\n",
       "      <th>30</th>\n",
       "      <td>real_estate</td>\n",
       "      <td>50000000</td>\n",
       "      <td>2.505123e+09</td>\n",
       "    </tr>\n",
       "    <tr>\n",
       "      <th>2</th>\n",
       "      <td>automotive</td>\n",
       "      <td>43000000</td>\n",
       "      <td>2.297758e+09</td>\n",
       "    </tr>\n",
       "    <tr>\n",
       "      <th>3</th>\n",
       "      <td>biotech</td>\n",
       "      <td>13200000</td>\n",
       "      <td>1.540374e+09</td>\n",
       "    </tr>\n",
       "  </tbody>\n",
       "</table>\n",
       "</div>"
      ],
      "text/plain": [
       "       category_code  average_price  price_stddev\n",
       "9         enterprise              0  1.280882e+11\n",
       "29  public_relations              0  4.059244e+09\n",
       "30       real_estate       50000000  2.505123e+09\n",
       "2         automotive       43000000  2.297758e+09\n",
       "3            biotech       13200000  1.540374e+09"
      ]
     },
     "metadata": {},
     "output_type": "display_data"
    }
   ],
   "source": [
    "category_stats = merged_df.groupby('category_code').agg(\n",
    "    average_price=('price_amount', 'median'),\n",
    "    price_stddev=('price_amount', 'std')\n",
    ").reset_index()\n",
    "\n",
    "# Наиболее привлекательные категории с наибольшей средней ценой\n",
    "top_categories_by_average_price = category_stats.sort_values(by='average_price', ascending=False)\n",
    "\n",
    "# Наиболее привлекательные категории с наибольшим разбросом цен\n",
    "top_categories_by_price_stddev = category_stats.sort_values(by='price_stddev', ascending=False)\n",
    "\n",
    "# Вывод результатов\n",
    "display(\"Категории с наибольшими ценами:\")\n",
    "display(top_categories_by_average_price.head())\n",
    "\n",
    "display(\"\\nКатегории с наибольшим разбросом цен:\")\n",
    "display(top_categories_by_price_stddev.head())"
   ]
  },
  {
   "cell_type": "markdown",
   "metadata": {
    "id": "ADOfyVY_rJg3"
   },
   "source": [
    "\n",
    "### 3.5. Сколько раундов продержится стартап перед покупкой\n",
    "\n",
    "* Необходимо проанализировать столбец `funding_rounds`. Исследуйте значения столбца. Заказчика интересует типичное значение количества раундов для каждого возможного статуса стартапа.\n",
    "\n",
    "* Постройте график, который отображает, сколько в среднем раундов финансирования проходило для стартапов из каждой группы. Сделайте выводы."
   ]
  },
  {
   "cell_type": "code",
   "execution_count": 39,
   "metadata": {
    "id": "hgXMPC4WrJg3"
   },
   "outputs": [
    {
     "data": {
      "image/png": "[encoded data removed]",
      "text/plain": [
       "<Figure size 720x432 with 1 Axes>"
      ]
     },
     "metadata": {
      "needs_background": "light"
     },
     "output_type": "display_data"
    },
    {
     "data": {
      "image/png": "[encoded data removed]",
      "text/plain": [
       "<Figure size 720x432 with 1 Axes>"
      ]
     },
     "metadata": {
      "needs_background": "light"
     },
     "output_type": "display_data"
    },
    {
     "data": {
      "text/html": [
       "<div>\n",
       "<style scoped>\n",
       "    .dataframe tbody tr th:only-of-type {\n",
       "        vertical-align: middle;\n",
       "    }\n",
       "\n",
       "    .dataframe tbody tr th {\n",
       "        vertical-align: top;\n",
       "    }\n",
       "\n",
       "    .dataframe thead th {\n",
       "        text-align: right;\n",
       "    }\n",
       "</style>\n",
       "<table border=\"1\" class=\"dataframe\">\n",
       "  <thead>\n",
       "    <tr style=\"text-align: right;\">\n",
       "      <th></th>\n",
       "      <th>status</th>\n",
       "      <th>mean_funding_rounds</th>\n",
       "      <th>median_funding_rounds</th>\n",
       "    </tr>\n",
       "  </thead>\n",
       "  <tbody>\n",
       "    <tr>\n",
       "      <th>2</th>\n",
       "      <td>ipo</td>\n",
       "      <td>1.934375</td>\n",
       "      <td>1.0</td>\n",
       "    </tr>\n",
       "    <tr>\n",
       "      <th>3</th>\n",
       "      <td>operating</td>\n",
       "      <td>1.522658</td>\n",
       "      <td>1.0</td>\n",
       "    </tr>\n",
       "    <tr>\n",
       "      <th>1</th>\n",
       "      <td>closed</td>\n",
       "      <td>1.381453</td>\n",
       "      <td>1.0</td>\n",
       "    </tr>\n",
       "    <tr>\n",
       "      <th>0</th>\n",
       "      <td>acquired</td>\n",
       "      <td>0.523526</td>\n",
       "      <td>0.0</td>\n",
       "    </tr>\n",
       "  </tbody>\n",
       "</table>\n",
       "</div>"
      ],
      "text/plain": [
       "      status  mean_funding_rounds  median_funding_rounds\n",
       "2        ipo             1.934375                    1.0\n",
       "3  operating             1.522658                    1.0\n",
       "1     closed             1.381453                    1.0\n",
       "0   acquired             0.523526                    0.0"
      ]
     },
     "metadata": {},
     "output_type": "display_data"
    }
   ],
   "source": [
    "# Группировка данных по статусу и расчет среднего и медианного количества раундов\n",
    "status_funding_rounds = filtered_company_df.groupby('status')['funding_rounds'].agg(['mean', 'median']).reset_index()\n",
    "\n",
    "# Переименование столбцов для удобства\n",
    "status_funding_rounds.columns = ['status', 'mean_funding_rounds', 'median_funding_rounds']\n",
    "\n",
    "# Сортировка по среднему количеству раундов\n",
    "status_funding_rounds = status_funding_rounds.sort_values(by='mean_funding_rounds', ascending=False)\n",
    "\n",
    "# Визуализация среднего количества раундов\n",
    "plt.figure(figsize=(10, 6))\n",
    "sns.barplot(x='mean_funding_rounds', y='status', data=status_funding_rounds, palette='viridis')\n",
    "plt.title('Среднее количество раундов финансирования по статусу стартапа')\n",
    "plt.xlabel('Среднее количество раундов финансирования')\n",
    "plt.ylabel('Статус стартапа')\n",
    "plt.show()\n",
    "\n",
    "# Визуализация медианного количества раундов\n",
    "plt.figure(figsize=(10, 6))\n",
    "sns.barplot(x='median_funding_rounds', y='status', data=status_funding_rounds, palette='plasma')\n",
    "plt.title('Медианное количество раундов финансирования по статусу стартапа')\n",
    "plt.xlabel('Медианное количество раундов финансирования')\n",
    "plt.ylabel('Статус стартапа')\n",
    "plt.show()\n",
    "\n",
    "# Вывод результатов\n",
    "display(status_funding_rounds)"
   ]
  },
  {
   "cell_type": "markdown",
   "metadata": {
    "id": "VAFEZ2HBrJg3"
   },
   "source": [
    "\n",
    "## Шаг 4. Итоговый вывод и рекомендации\n",
    "\n",
    "Опишите, что было сделано в проекте, какие были сделаны выводы, подкрепляют ли они друг друга или заставляют сомневаться в полученных результатах."
   ]
  },
  {
   "cell_type": "markdown",
   "metadata": {},
   "source": [
    "В данном проекте были проведены исследования данных предоставленных заказчиком. Данные требовали значительных преобразований, из-за их \"корявости\". Были созданы несколько дополнительных датасетов из другого. Проанализовароны раунды финансирования и сделаны выводы как это может влиять на стартапы. Но чтобы быть более уверенными, я считаю что надо смотреть источник данных, потому что предоставленные данные были коряво объеденины, что может служить искривлению результатов. Если данные были предоставлены некорректные, то все наши выводы могут оказаться неправильными. \n",
    "Рекомендации: Инвесторы могут использовать полученную от нас информацию для оценки рисков и возможностей, связанных с различными статусами стартапов. Стартапы с большим количеством раундов могут быть более зрелыми и готовыми к расширению, в то время как стартапы с меньшим количеством раундов могут представлять более высокий риск, но и потенциально более высокую прибыль (надо дополнительно исследовать именно те стартапы, которые имеют мало раундов финанисрования, может там есть что-то, что сделает их очень прибыльными)."
   ]
  }
 ],
 "metadata": {
  "ExecuteTimeLog": [
   {
    "duration": 4,
    "start_time": "2025-01-13T17:37:02.492Z"
   },
   {
    "duration": 520,
    "start_time": "2025-01-13T17:53:05.954Z"
   },
   {
    "duration": 109,
    "start_time": "2025-01-13T17:53:06.519Z"
   },
   {
    "duration": 2480,
    "start_time": "2025-01-13T17:53:30.529Z"
   },
   {
    "duration": 3,
    "start_time": "2025-01-13T17:54:30.561Z"
   },
   {
    "duration": 1264,
    "start_time": "2025-01-13T17:54:30.565Z"
   },
   {
    "duration": 1286,
    "start_time": "2025-01-13T17:55:11.899Z"
   },
   {
    "duration": 255,
    "start_time": "2025-01-13T17:55:13.188Z"
   },
   {
    "duration": 299,
    "start_time": "2025-01-13T17:55:28.900Z"
   },
   {
    "duration": 393,
    "start_time": "2025-01-13T17:55:49.400Z"
   },
   {
    "duration": 358,
    "start_time": "2025-01-13T17:56:23.421Z"
   },
   {
    "duration": 8,
    "start_time": "2025-01-13T17:57:55.591Z"
   },
   {
    "duration": 33,
    "start_time": "2025-01-13T17:58:15.951Z"
   },
   {
    "duration": 23,
    "start_time": "2025-01-13T17:58:24.367Z"
   },
   {
    "duration": 80,
    "start_time": "2025-01-13T18:13:30.705Z"
   },
   {
    "duration": 25,
    "start_time": "2025-01-13T18:21:45.772Z"
   },
   {
    "duration": 66,
    "start_time": "2025-01-13T18:23:40.224Z"
   },
   {
    "duration": 65,
    "start_time": "2025-01-13T18:23:49.526Z"
   },
   {
    "duration": 1789,
    "start_time": "2025-01-13T18:31:18.090Z"
   },
   {
    "duration": 1981,
    "start_time": "2025-01-13T18:31:59.853Z"
   },
   {
    "duration": 2017,
    "start_time": "2025-01-13T18:34:34.222Z"
   },
   {
    "duration": 19115,
    "start_time": "2025-01-13T18:41:20.250Z"
   },
   {
    "duration": 382,
    "start_time": "2025-01-13T18:45:05.022Z"
   },
   {
    "duration": 3,
    "start_time": "2025-01-13T18:45:16.276Z"
   },
   {
    "duration": 1318,
    "start_time": "2025-01-13T18:45:16.486Z"
   },
   {
    "duration": 59,
    "start_time": "2025-01-13T18:45:17.806Z"
   },
   {
    "duration": 1361,
    "start_time": "2025-01-13T18:45:17.867Z"
   },
   {
    "duration": 344,
    "start_time": "2025-01-13T18:45:28.384Z"
   },
   {
    "duration": 359,
    "start_time": "2025-01-13T18:45:36.720Z"
   },
   {
    "duration": 364,
    "start_time": "2025-01-13T18:46:14.167Z"
   },
   {
    "duration": 3,
    "start_time": "2025-01-13T18:46:24.419Z"
   },
   {
    "duration": 1258,
    "start_time": "2025-01-13T18:46:24.840Z"
   },
   {
    "duration": 26,
    "start_time": "2025-01-13T18:46:26.100Z"
   },
   {
    "duration": 1247,
    "start_time": "2025-01-13T18:46:28.391Z"
   },
   {
    "duration": 355,
    "start_time": "2025-01-13T18:46:31.751Z"
   },
   {
    "duration": 1271,
    "start_time": "2025-01-13T18:46:45.122Z"
   },
   {
    "duration": 393,
    "start_time": "2025-01-13T18:46:47.669Z"
   },
   {
    "duration": 355,
    "start_time": "2025-01-13T18:47:23.666Z"
   },
   {
    "duration": 366,
    "start_time": "2025-01-13T18:47:44.537Z"
   },
   {
    "duration": 392,
    "start_time": "2025-01-13T18:48:23.372Z"
   },
   {
    "duration": 379,
    "start_time": "2025-01-13T18:48:33.885Z"
   },
   {
    "duration": 381,
    "start_time": "2025-01-13T18:50:18.391Z"
   },
   {
    "duration": 2,
    "start_time": "2025-01-13T18:50:26.589Z"
   },
   {
    "duration": 1324,
    "start_time": "2025-01-13T18:50:26.801Z"
   },
   {
    "duration": 47,
    "start_time": "2025-01-13T18:50:28.127Z"
   },
   {
    "duration": 1306,
    "start_time": "2025-01-13T18:50:28.209Z"
   },
   {
    "duration": 388,
    "start_time": "2025-01-13T18:51:57.038Z"
   },
   {
    "duration": 367,
    "start_time": "2025-01-13T19:01:52.813Z"
   },
   {
    "duration": 371,
    "start_time": "2025-01-13T19:05:16.865Z"
   },
   {
    "duration": 410,
    "start_time": "2025-01-13T19:06:36.422Z"
   },
   {
    "duration": 355,
    "start_time": "2025-01-13T19:06:43.034Z"
   },
   {
    "duration": 3,
    "start_time": "2025-01-13T19:07:08.602Z"
   },
   {
    "duration": 1265,
    "start_time": "2025-01-13T19:07:09.070Z"
   },
   {
    "duration": 47,
    "start_time": "2025-01-13T19:07:10.338Z"
   },
   {
    "duration": 529,
    "start_time": "2025-01-13T19:07:12.255Z"
   },
   {
    "duration": 353,
    "start_time": "2025-01-13T19:07:15.086Z"
   },
   {
    "duration": 362,
    "start_time": "2025-01-13T19:07:32.737Z"
   },
   {
    "duration": 358,
    "start_time": "2025-01-13T19:07:37.083Z"
   },
   {
    "duration": 371,
    "start_time": "2025-01-13T19:07:59.415Z"
   },
   {
    "duration": 396,
    "start_time": "2025-01-13T19:08:11.632Z"
   },
   {
    "duration": 355,
    "start_time": "2025-01-13T19:08:32.450Z"
   },
   {
    "duration": 360,
    "start_time": "2025-01-13T19:10:05.321Z"
   },
   {
    "duration": 356,
    "start_time": "2025-01-13T19:10:39.772Z"
   },
   {
    "duration": 383,
    "start_time": "2025-01-13T19:10:43.485Z"
   },
   {
    "duration": 360,
    "start_time": "2025-01-13T19:15:25.885Z"
   },
   {
    "duration": 3,
    "start_time": "2025-01-13T19:15:32.465Z"
   },
   {
    "duration": 1223,
    "start_time": "2025-01-13T19:15:32.646Z"
   },
   {
    "duration": 23,
    "start_time": "2025-01-13T19:15:33.871Z"
   },
   {
    "duration": 409,
    "start_time": "2025-01-13T19:15:34.027Z"
   },
   {
    "duration": 372,
    "start_time": "2025-01-13T19:15:36.568Z"
   },
   {
    "duration": 358,
    "start_time": "2025-01-13T19:15:51.965Z"
   },
   {
    "duration": 353,
    "start_time": "2025-01-13T19:15:58.733Z"
   },
   {
    "duration": 372,
    "start_time": "2025-01-13T19:16:12.791Z"
   },
   {
    "duration": 376,
    "start_time": "2025-01-13T19:17:52.984Z"
   },
   {
    "duration": 373,
    "start_time": "2025-01-13T19:18:19.946Z"
   },
   {
    "duration": 376,
    "start_time": "2025-01-13T19:23:13.685Z"
   },
   {
    "duration": 1294,
    "start_time": "2025-01-13T19:24:55.123Z"
   },
   {
    "duration": 1218,
    "start_time": "2025-01-13T19:25:06.049Z"
   },
   {
    "duration": 384,
    "start_time": "2025-01-13T19:25:10.823Z"
   },
   {
    "duration": 1287,
    "start_time": "2025-01-13T19:26:55.983Z"
   },
   {
    "duration": 370,
    "start_time": "2025-01-13T19:27:02.475Z"
   },
   {
    "duration": 66,
    "start_time": "2025-01-13T19:30:40.304Z"
   },
   {
    "duration": 5,
    "start_time": "2025-01-13T19:30:48.305Z"
   },
   {
    "duration": 7,
    "start_time": "2025-01-13T19:31:00.660Z"
   },
   {
    "duration": 5,
    "start_time": "2025-01-13T19:31:12.152Z"
   },
   {
    "duration": 347,
    "start_time": "2025-01-13T19:31:22.294Z"
   },
   {
    "duration": 16,
    "start_time": "2025-01-13T19:33:57.733Z"
   },
   {
    "duration": 12,
    "start_time": "2025-01-13T19:35:02.358Z"
   },
   {
    "duration": 15,
    "start_time": "2025-01-13T19:36:04.598Z"
   },
   {
    "duration": 17,
    "start_time": "2025-01-13T19:36:16.951Z"
   },
   {
    "duration": 14,
    "start_time": "2025-01-13T19:37:03.027Z"
   },
   {
    "duration": 2,
    "start_time": "2025-01-13T19:37:08.169Z"
   },
   {
    "duration": 1244,
    "start_time": "2025-01-13T19:37:08.365Z"
   },
   {
    "duration": 51,
    "start_time": "2025-01-13T19:37:09.612Z"
   },
   {
    "duration": 1225,
    "start_time": "2025-01-13T19:37:09.664Z"
   },
   {
    "duration": 93,
    "start_time": "2025-01-13T19:37:24.431Z"
   },
   {
    "duration": 68,
    "start_time": "2025-01-13T19:46:15.335Z"
   },
   {
    "duration": 1564,
    "start_time": "2025-01-13T19:46:49.267Z"
   },
   {
    "duration": 1276,
    "start_time": "2025-01-13T19:47:12.317Z"
   },
   {
    "duration": 1442,
    "start_time": "2025-01-13T19:47:17.632Z"
   },
   {
    "duration": 1468,
    "start_time": "2025-01-13T19:47:49.685Z"
   },
   {
    "duration": 1319,
    "start_time": "2025-01-13T19:48:14.729Z"
   },
   {
    "duration": 1233,
    "start_time": "2025-01-13T19:49:17.022Z"
   },
   {
    "duration": 1189,
    "start_time": "2025-01-13T19:49:30.598Z"
   },
   {
    "duration": 104,
    "start_time": "2025-01-13T19:50:19.499Z"
   },
   {
    "duration": 1144,
    "start_time": "2025-01-13T19:50:27.067Z"
   },
   {
    "duration": 1514,
    "start_time": "2025-01-13T19:50:47.616Z"
   },
   {
    "duration": 7,
    "start_time": "2025-01-13T19:52:47.126Z"
   },
   {
    "duration": 980,
    "start_time": "2025-01-13T19:52:53.771Z"
   },
   {
    "duration": 1424,
    "start_time": "2025-01-13T19:53:14.652Z"
   },
   {
    "duration": 4,
    "start_time": "2025-01-13T19:54:23.817Z"
   },
   {
    "duration": 1324,
    "start_time": "2025-01-13T19:54:53.319Z"
   },
   {
    "duration": 7,
    "start_time": "2025-01-13T19:55:52.201Z"
   },
   {
    "duration": 972,
    "start_time": "2025-01-13T19:55:58.605Z"
   },
   {
    "duration": 3,
    "start_time": "2025-01-13T19:55:59.645Z"
   },
   {
    "duration": 4,
    "start_time": "2025-01-13T19:56:08.204Z"
   },
   {
    "duration": 1755,
    "start_time": "2025-01-13T19:56:10.881Z"
   },
   {
    "duration": 12,
    "start_time": "2025-01-13T19:56:26.065Z"
   },
   {
    "duration": 1005,
    "start_time": "2025-01-13T19:56:26.604Z"
   },
   {
    "duration": 4,
    "start_time": "2025-01-13T19:56:27.610Z"
   },
   {
    "duration": 2346,
    "start_time": "2025-01-13T19:56:28.651Z"
   },
   {
    "duration": 0,
    "start_time": "2025-01-13T19:56:31.000Z"
   },
   {
    "duration": 1083,
    "start_time": "2025-01-13T19:56:42.283Z"
   },
   {
    "duration": 4,
    "start_time": "2025-01-13T19:56:43.666Z"
   },
   {
    "duration": 4,
    "start_time": "2025-01-13T19:56:55.745Z"
   },
   {
    "duration": 12,
    "start_time": "2025-01-13T19:57:35.632Z"
   },
   {
    "duration": 2,
    "start_time": "2025-01-13T19:57:40.502Z"
   },
   {
    "duration": 1186,
    "start_time": "2025-01-13T19:57:40.665Z"
   },
   {
    "duration": 34,
    "start_time": "2025-01-13T19:57:41.853Z"
   },
   {
    "duration": 7,
    "start_time": "2025-01-13T19:57:42.350Z"
   },
   {
    "duration": 1059,
    "start_time": "2025-01-13T19:57:45.671Z"
   },
   {
    "duration": 4,
    "start_time": "2025-01-13T19:57:46.732Z"
   },
   {
    "duration": 8,
    "start_time": "2025-01-13T19:59:00.094Z"
   },
   {
    "duration": 1071,
    "start_time": "2025-01-13T19:59:02.353Z"
   },
   {
    "duration": 5,
    "start_time": "2025-01-13T19:59:03.427Z"
   },
   {
    "duration": 7,
    "start_time": "2025-01-13T20:00:40.705Z"
   },
   {
    "duration": 1125,
    "start_time": "2025-01-13T20:00:44.374Z"
   },
   {
    "duration": 5,
    "start_time": "2025-01-13T20:01:21.637Z"
   },
   {
    "duration": 167,
    "start_time": "2025-01-13T20:02:04.466Z"
   },
   {
    "duration": 1269,
    "start_time": "2025-01-13T20:02:11.537Z"
   },
   {
    "duration": 13,
    "start_time": "2025-01-13T20:02:22.369Z"
   },
   {
    "duration": 129,
    "start_time": "2025-01-13T20:03:23.503Z"
   },
   {
    "duration": 14,
    "start_time": "2025-01-13T20:14:09.240Z"
   },
   {
    "duration": 144,
    "start_time": "2025-01-13T20:14:51.382Z"
   },
   {
    "duration": 432,
    "start_time": "2025-01-13T20:14:54.882Z"
   },
   {
    "duration": 26,
    "start_time": "2025-01-13T20:14:55.566Z"
   },
   {
    "duration": 15,
    "start_time": "2025-01-13T20:15:17.216Z"
   },
   {
    "duration": 13,
    "start_time": "2025-01-13T20:15:40.333Z"
   },
   {
    "duration": 85,
    "start_time": "2025-01-13T20:17:37.750Z"
   },
   {
    "duration": 856,
    "start_time": "2025-01-13T20:18:11.501Z"
   },
   {
    "duration": 2009,
    "start_time": "2025-01-13T20:18:48.707Z"
   },
   {
    "duration": 2046,
    "start_time": "2025-01-13T20:19:10.434Z"
   },
   {
    "duration": 808,
    "start_time": "2025-01-13T20:19:31.984Z"
   },
   {
    "duration": 827,
    "start_time": "2025-01-13T20:19:47.724Z"
   },
   {
    "duration": 785,
    "start_time": "2025-01-13T20:20:22.133Z"
   },
   {
    "duration": 1923,
    "start_time": "2025-01-13T20:20:38.724Z"
   },
   {
    "duration": 842,
    "start_time": "2025-01-13T20:20:57.330Z"
   },
   {
    "duration": 914,
    "start_time": "2025-01-13T20:23:09.171Z"
   },
   {
    "duration": 4,
    "start_time": "2025-01-13T20:24:24.785Z"
   },
   {
    "duration": 687,
    "start_time": "2025-01-13T20:24:25.355Z"
   },
   {
    "duration": 74,
    "start_time": "2025-01-13T20:24:26.701Z"
   },
   {
    "duration": 5,
    "start_time": "2025-01-13T20:24:52.418Z"
   },
   {
    "duration": 323,
    "start_time": "2025-01-13T20:25:07.171Z"
   },
   {
    "duration": 309,
    "start_time": "2025-01-13T20:34:58.666Z"
   },
   {
    "duration": 102,
    "start_time": "2025-01-13T20:34:59.374Z"
   },
   {
    "duration": 90,
    "start_time": "2025-01-13T20:35:00.189Z"
   },
   {
    "duration": 28,
    "start_time": "2025-01-13T20:35:01.040Z"
   },
   {
    "duration": 314,
    "start_time": "2025-01-13T20:36:05.982Z"
   },
   {
    "duration": 327,
    "start_time": "2025-01-13T20:36:34.839Z"
   },
   {
    "duration": 95,
    "start_time": "2025-01-13T20:39:21.938Z"
   },
   {
    "duration": 85,
    "start_time": "2025-01-13T20:39:22.273Z"
   },
   {
    "duration": 27,
    "start_time": "2025-01-13T20:39:22.522Z"
   },
   {
    "duration": 53,
    "start_time": "2025-01-13T20:41:03.534Z"
   },
   {
    "duration": 396,
    "start_time": "2025-01-13T20:42:40.973Z"
   },
   {
    "duration": 1777,
    "start_time": "2025-01-13T20:43:50.927Z"
   },
   {
    "duration": 325,
    "start_time": "2025-01-13T20:44:34.749Z"
   },
   {
    "duration": 102,
    "start_time": "2025-01-13T20:44:35.185Z"
   },
   {
    "duration": 88,
    "start_time": "2025-01-13T20:44:35.858Z"
   },
   {
    "duration": 47,
    "start_time": "2025-01-13T20:44:36.411Z"
   },
   {
    "duration": 1724,
    "start_time": "2025-01-13T20:44:37.197Z"
   },
   {
    "duration": 3,
    "start_time": "2025-01-13T20:45:54.358Z"
   },
   {
    "duration": 1174,
    "start_time": "2025-01-13T20:45:54.554Z"
   },
   {
    "duration": 39,
    "start_time": "2025-01-13T20:45:55.731Z"
   },
   {
    "duration": 7,
    "start_time": "2025-01-13T20:45:55.771Z"
   },
   {
    "duration": 1081,
    "start_time": "2025-01-13T20:45:55.811Z"
   },
   {
    "duration": 4,
    "start_time": "2025-01-13T20:45:56.894Z"
   },
   {
    "duration": 183,
    "start_time": "2025-01-13T20:45:56.900Z"
   },
   {
    "duration": 15,
    "start_time": "2025-01-13T20:45:57.085Z"
   },
   {
    "duration": 199,
    "start_time": "2025-01-13T20:45:57.101Z"
   },
   {
    "duration": 3,
    "start_time": "2025-01-13T20:45:58.670Z"
   },
   {
    "duration": 656,
    "start_time": "2025-01-13T20:45:58.888Z"
   },
   {
    "duration": 12,
    "start_time": "2025-01-13T20:45:59.547Z"
   },
   {
    "duration": 297,
    "start_time": "2025-01-13T20:45:59.562Z"
   },
   {
    "duration": 316,
    "start_time": "2025-01-13T20:46:00.424Z"
   },
   {
    "duration": 109,
    "start_time": "2025-01-13T20:46:01.108Z"
   },
   {
    "duration": 87,
    "start_time": "2025-01-13T20:46:01.876Z"
   },
   {
    "duration": 47,
    "start_time": "2025-01-13T20:46:02.576Z"
   },
   {
    "duration": 1816,
    "start_time": "2025-01-13T20:46:03.776Z"
   },
   {
    "duration": 2024,
    "start_time": "2025-01-13T20:46:25.939Z"
   },
   {
    "duration": 1863,
    "start_time": "2025-01-13T20:47:07.638Z"
   },
   {
    "duration": 1820,
    "start_time": "2025-01-13T20:49:11.569Z"
   },
   {
    "duration": 1888,
    "start_time": "2025-01-13T20:51:24.523Z"
   },
   {
    "duration": 1915,
    "start_time": "2025-01-13T20:51:59.120Z"
   },
   {
    "duration": 53,
    "start_time": "2025-01-13T20:53:20.405Z"
   },
   {
    "duration": 1749,
    "start_time": "2025-01-13T20:54:20.123Z"
   },
   {
    "duration": 54,
    "start_time": "2025-01-13T20:54:36.139Z"
   },
   {
    "duration": 55,
    "start_time": "2025-01-13T21:00:01.945Z"
   },
   {
    "duration": 1864,
    "start_time": "2025-01-13T21:00:13.509Z"
   },
   {
    "duration": 53,
    "start_time": "2025-01-13T21:00:29.271Z"
   },
   {
    "duration": 129,
    "start_time": "2025-01-13T21:00:51.120Z"
   },
   {
    "duration": 99,
    "start_time": "2025-01-13T21:01:22.819Z"
   },
   {
    "duration": 1853,
    "start_time": "2025-01-13T21:01:23.874Z"
   },
   {
    "duration": 1790,
    "start_time": "2025-01-13T21:02:33.690Z"
   },
   {
    "duration": 1869,
    "start_time": "2025-01-13T21:02:44.790Z"
   },
   {
    "duration": 51,
    "start_time": "2025-01-13T21:03:10.875Z"
   },
   {
    "duration": 51,
    "start_time": "2025-01-13T21:03:23.592Z"
   },
   {
    "duration": 52,
    "start_time": "2025-01-13T21:07:08.385Z"
   },
   {
    "duration": 252,
    "start_time": "2025-01-13T21:07:29.239Z"
   },
   {
    "duration": 54,
    "start_time": "2025-01-13T21:08:31.035Z"
   },
   {
    "duration": 20,
    "start_time": "2025-01-13T21:19:46.968Z"
   },
   {
    "duration": 21,
    "start_time": "2025-01-13T21:20:00.500Z"
   },
   {
    "duration": 1237,
    "start_time": "2025-01-13T21:21:52.900Z"
   },
   {
    "duration": 1602,
    "start_time": "2025-01-13T21:22:03.992Z"
   },
   {
    "duration": 1299,
    "start_time": "2025-01-13T21:22:12.526Z"
   },
   {
    "duration": 2368,
    "start_time": "2025-01-13T21:22:19.424Z"
   },
   {
    "duration": 25,
    "start_time": "2025-01-13T21:22:36.005Z"
   },
   {
    "duration": 64,
    "start_time": "2025-01-13T21:23:02.145Z"
   },
   {
    "duration": 29,
    "start_time": "2025-01-13T21:23:08.736Z"
   },
   {
    "duration": 31,
    "start_time": "2025-01-13T21:23:16.425Z"
   },
   {
    "duration": 27,
    "start_time": "2025-01-13T21:23:25.175Z"
   },
   {
    "duration": 132,
    "start_time": "2025-01-13T21:25:29.293Z"
   },
   {
    "duration": 26,
    "start_time": "2025-01-13T21:27:59.507Z"
   },
   {
    "duration": 887,
    "start_time": "2025-01-13T21:37:10.374Z"
   },
   {
    "duration": 942,
    "start_time": "2025-01-13T21:37:46.768Z"
   },
   {
    "duration": 916,
    "start_time": "2025-01-13T21:38:37.970Z"
   },
   {
    "duration": 971,
    "start_time": "2025-01-13T21:38:54.310Z"
   },
   {
    "duration": 895,
    "start_time": "2025-01-13T21:39:23.806Z"
   },
   {
    "duration": 970,
    "start_time": "2025-01-13T21:40:10.273Z"
   },
   {
    "duration": 1001,
    "start_time": "2025-01-13T21:42:36.460Z"
   },
   {
    "duration": 823,
    "start_time": "2025-01-13T21:47:52.769Z"
   },
   {
    "duration": 39,
    "start_time": "2025-01-13T21:48:27.605Z"
   },
   {
    "duration": 42,
    "start_time": "2025-01-13T21:49:06.885Z"
   },
   {
    "duration": 93,
    "start_time": "2025-01-13T21:50:25.210Z"
   },
   {
    "duration": 1430,
    "start_time": "2025-01-13T21:50:54.838Z"
   },
   {
    "duration": 64,
    "start_time": "2025-01-13T21:51:15.856Z"
   },
   {
    "duration": 476,
    "start_time": "2025-01-13T21:56:56.126Z"
   },
   {
    "duration": 1285,
    "start_time": "2025-01-13T21:56:56.603Z"
   },
   {
    "duration": 94,
    "start_time": "2025-01-13T21:56:57.889Z"
   },
   {
    "duration": 0,
    "start_time": "2025-01-13T21:56:57.985Z"
   },
   {
    "duration": 0,
    "start_time": "2025-01-13T21:56:57.987Z"
   },
   {
    "duration": 0,
    "start_time": "2025-01-13T21:56:57.988Z"
   },
   {
    "duration": 0,
    "start_time": "2025-01-13T21:56:57.989Z"
   },
   {
    "duration": 0,
    "start_time": "2025-01-13T21:56:57.990Z"
   },
   {
    "duration": 0,
    "start_time": "2025-01-13T21:56:57.992Z"
   },
   {
    "duration": 0,
    "start_time": "2025-01-13T21:56:57.993Z"
   },
   {
    "duration": 0,
    "start_time": "2025-01-13T21:56:57.994Z"
   },
   {
    "duration": 0,
    "start_time": "2025-01-13T21:56:57.996Z"
   },
   {
    "duration": 1,
    "start_time": "2025-01-13T21:56:57.996Z"
   },
   {
    "duration": 0,
    "start_time": "2025-01-13T21:56:57.998Z"
   },
   {
    "duration": 0,
    "start_time": "2025-01-13T21:56:57.999Z"
   },
   {
    "duration": 0,
    "start_time": "2025-01-13T21:56:58.000Z"
   },
   {
    "duration": 0,
    "start_time": "2025-01-13T21:56:58.001Z"
   },
   {
    "duration": 0,
    "start_time": "2025-01-13T21:56:58.002Z"
   },
   {
    "duration": 0,
    "start_time": "2025-01-13T21:56:58.004Z"
   },
   {
    "duration": 0,
    "start_time": "2025-01-13T21:56:58.005Z"
   },
   {
    "duration": 0,
    "start_time": "2025-01-13T21:56:58.006Z"
   },
   {
    "duration": 0,
    "start_time": "2025-01-13T21:56:58.007Z"
   },
   {
    "duration": 0,
    "start_time": "2025-01-13T21:56:58.008Z"
   },
   {
    "duration": 0,
    "start_time": "2025-01-13T21:56:58.009Z"
   },
   {
    "duration": 0,
    "start_time": "2025-01-13T21:56:58.010Z"
   },
   {
    "duration": 3,
    "start_time": "2025-01-13T21:57:07.987Z"
   },
   {
    "duration": 1265,
    "start_time": "2025-01-13T21:57:08.154Z"
   },
   {
    "duration": 9,
    "start_time": "2025-01-13T21:57:09.422Z"
   },
   {
    "duration": 0,
    "start_time": "2025-01-13T21:57:09.432Z"
   },
   {
    "duration": 11,
    "start_time": "2025-01-13T21:57:10.155Z"
   },
   {
    "duration": 3,
    "start_time": "2025-01-13T21:57:46.244Z"
   },
   {
    "duration": 1264,
    "start_time": "2025-01-13T21:57:47.055Z"
   },
   {
    "duration": 9,
    "start_time": "2025-01-13T21:57:49.122Z"
   },
   {
    "duration": 6,
    "start_time": "2025-01-13T21:57:58.706Z"
   },
   {
    "duration": 10,
    "start_time": "2025-01-13T21:58:00.208Z"
   },
   {
    "duration": 79,
    "start_time": "2025-01-13T21:59:35.541Z"
   },
   {
    "duration": 65,
    "start_time": "2025-01-13T21:59:51.789Z"
   },
   {
    "duration": 3,
    "start_time": "2025-01-13T22:00:02.273Z"
   },
   {
    "duration": 1220,
    "start_time": "2025-01-13T22:00:04.123Z"
   },
   {
    "duration": 32,
    "start_time": "2025-01-13T22:00:05.592Z"
   },
   {
    "duration": 7,
    "start_time": "2025-01-13T22:00:08.888Z"
   },
   {
    "duration": 2004,
    "start_time": "2025-01-13T22:00:10.155Z"
   },
   {
    "duration": 4,
    "start_time": "2025-01-13T22:00:12.162Z"
   },
   {
    "duration": 169,
    "start_time": "2025-01-13T22:00:12.555Z"
   },
   {
    "duration": 15,
    "start_time": "2025-01-13T22:00:13.309Z"
   },
   {
    "duration": 288,
    "start_time": "2025-01-13T22:00:14.009Z"
   },
   {
    "duration": 272,
    "start_time": "2025-01-13T22:00:43.705Z"
   },
   {
    "duration": 791,
    "start_time": "2025-01-13T22:00:44.272Z"
   },
   {
    "duration": 5,
    "start_time": "2025-01-13T22:00:45.065Z"
   },
   {
    "duration": 328,
    "start_time": "2025-01-13T22:00:45.239Z"
   },
   {
    "duration": 368,
    "start_time": "2025-01-13T22:00:47.721Z"
   },
   {
    "duration": 105,
    "start_time": "2025-01-13T22:00:48.910Z"
   },
   {
    "duration": 97,
    "start_time": "2025-01-13T22:00:49.972Z"
   },
   {
    "duration": 63,
    "start_time": "2025-01-13T22:00:50.722Z"
   },
   {
    "duration": 246,
    "start_time": "2025-01-13T22:00:51.559Z"
   },
   {
    "duration": 26,
    "start_time": "2025-01-13T22:00:54.009Z"
   },
   {
    "duration": 1083,
    "start_time": "2025-01-13T22:00:54.743Z"
   },
   {
    "duration": 992,
    "start_time": "2025-01-13T22:00:57.537Z"
   },
   {
    "duration": 68,
    "start_time": "2025-01-13T22:00:58.617Z"
   },
   {
    "duration": 94,
    "start_time": "2025-01-13T22:00:59.539Z"
   },
   {
    "duration": 1353,
    "start_time": "2025-01-13T22:01:00.375Z"
   },
   {
    "duration": 64,
    "start_time": "2025-01-13T22:01:02.139Z"
   },
   {
    "duration": 392,
    "start_time": "2025-01-13T22:01:13.307Z"
   },
   {
    "duration": 72,
    "start_time": "2025-01-13T22:01:13.701Z"
   },
   {
    "duration": 0,
    "start_time": "2025-01-13T22:01:13.776Z"
   },
   {
    "duration": 0,
    "start_time": "2025-01-13T22:01:13.777Z"
   },
   {
    "duration": 0,
    "start_time": "2025-01-13T22:01:13.779Z"
   },
   {
    "duration": 0,
    "start_time": "2025-01-13T22:01:13.780Z"
   },
   {
    "duration": 0,
    "start_time": "2025-01-13T22:01:13.782Z"
   },
   {
    "duration": 0,
    "start_time": "2025-01-13T22:01:13.783Z"
   },
   {
    "duration": 0,
    "start_time": "2025-01-13T22:01:13.785Z"
   },
   {
    "duration": 0,
    "start_time": "2025-01-13T22:01:13.787Z"
   },
   {
    "duration": 0,
    "start_time": "2025-01-13T22:01:13.788Z"
   },
   {
    "duration": 0,
    "start_time": "2025-01-13T22:01:13.790Z"
   },
   {
    "duration": 0,
    "start_time": "2025-01-13T22:01:13.791Z"
   },
   {
    "duration": 0,
    "start_time": "2025-01-13T22:01:13.793Z"
   },
   {
    "duration": 0,
    "start_time": "2025-01-13T22:01:13.794Z"
   },
   {
    "duration": 0,
    "start_time": "2025-01-13T22:01:13.796Z"
   },
   {
    "duration": 0,
    "start_time": "2025-01-13T22:01:13.798Z"
   },
   {
    "duration": 0,
    "start_time": "2025-01-13T22:01:13.799Z"
   },
   {
    "duration": 0,
    "start_time": "2025-01-13T22:01:13.801Z"
   },
   {
    "duration": 0,
    "start_time": "2025-01-13T22:01:13.802Z"
   },
   {
    "duration": 0,
    "start_time": "2025-01-13T22:01:13.804Z"
   },
   {
    "duration": 0,
    "start_time": "2025-01-13T22:01:13.805Z"
   },
   {
    "duration": 0,
    "start_time": "2025-01-13T22:01:13.807Z"
   },
   {
    "duration": 0,
    "start_time": "2025-01-13T22:01:13.808Z"
   },
   {
    "duration": 0,
    "start_time": "2025-01-13T22:01:13.809Z"
   },
   {
    "duration": 0,
    "start_time": "2025-01-13T22:01:13.860Z"
   },
   {
    "duration": 3,
    "start_time": "2025-01-13T22:02:33.122Z"
   },
   {
    "duration": 1309,
    "start_time": "2025-01-13T22:02:33.643Z"
   },
   {
    "duration": 8,
    "start_time": "2025-01-13T22:02:34.954Z"
   },
   {
    "duration": 27,
    "start_time": "2025-01-13T22:02:39.693Z"
   },
   {
    "duration": 7,
    "start_time": "2025-01-13T22:02:44.172Z"
   },
   {
    "duration": 2090,
    "start_time": "2025-01-13T22:02:45.942Z"
   },
   {
    "duration": 4,
    "start_time": "2025-01-13T22:02:48.034Z"
   },
   {
    "duration": 219,
    "start_time": "2025-01-13T22:02:48.605Z"
   },
   {
    "duration": 13,
    "start_time": "2025-01-13T22:02:49.375Z"
   },
   {
    "duration": 241,
    "start_time": "2025-01-13T22:02:50.126Z"
   },
   {
    "duration": 443,
    "start_time": "2025-01-13T22:02:57.816Z"
   },
   {
    "duration": 1377,
    "start_time": "2025-01-13T22:02:58.261Z"
   },
   {
    "duration": 3,
    "start_time": "2025-01-13T22:02:59.640Z"
   },
   {
    "duration": 37,
    "start_time": "2025-01-13T22:02:59.645Z"
   },
   {
    "duration": 7,
    "start_time": "2025-01-13T22:02:59.685Z"
   },
   {
    "duration": 1979,
    "start_time": "2025-01-13T22:02:59.694Z"
   },
   {
    "duration": 4,
    "start_time": "2025-01-13T22:03:01.675Z"
   },
   {
    "duration": 253,
    "start_time": "2025-01-13T22:03:01.680Z"
   },
   {
    "duration": 26,
    "start_time": "2025-01-13T22:03:01.935Z"
   },
   {
    "duration": 252,
    "start_time": "2025-01-13T22:03:01.963Z"
   },
   {
    "duration": 285,
    "start_time": "2025-01-13T22:03:02.217Z"
   },
   {
    "duration": 755,
    "start_time": "2025-01-13T22:03:02.504Z"
   },
   {
    "duration": 5,
    "start_time": "2025-01-13T22:03:03.261Z"
   },
   {
    "duration": 326,
    "start_time": "2025-01-13T22:03:03.268Z"
   },
   {
    "duration": 333,
    "start_time": "2025-01-13T22:03:03.595Z"
   },
   {
    "duration": 114,
    "start_time": "2025-01-13T22:03:03.929Z"
   },
   {
    "duration": 107,
    "start_time": "2025-01-13T22:03:04.045Z"
   },
   {
    "duration": 64,
    "start_time": "2025-01-13T22:03:04.154Z"
   },
   {
    "duration": 230,
    "start_time": "2025-01-13T22:03:04.220Z"
   },
   {
    "duration": 31,
    "start_time": "2025-01-13T22:03:04.452Z"
   },
   {
    "duration": 1220,
    "start_time": "2025-01-13T22:03:04.484Z"
   },
   {
    "duration": 879,
    "start_time": "2025-01-13T22:03:05.706Z"
   },
   {
    "duration": 56,
    "start_time": "2025-01-13T22:03:06.587Z"
   },
   {
    "duration": 115,
    "start_time": "2025-01-13T22:03:06.645Z"
   },
   {
    "duration": 1368,
    "start_time": "2025-01-13T22:03:06.762Z"
   },
   {
    "duration": 72,
    "start_time": "2025-01-13T22:03:08.131Z"
   },
   {
    "duration": 364,
    "start_time": "2025-01-14T10:21:51.483Z"
   },
   {
    "duration": 1640,
    "start_time": "2025-01-14T10:21:51.849Z"
   },
   {
    "duration": 3,
    "start_time": "2025-01-14T10:21:53.491Z"
   },
   {
    "duration": 60,
    "start_time": "2025-01-14T10:21:53.496Z"
   },
   {
    "duration": 6,
    "start_time": "2025-01-14T10:21:53.558Z"
   },
   {
    "duration": 1691,
    "start_time": "2025-01-14T10:21:53.566Z"
   },
   {
    "duration": 5,
    "start_time": "2025-01-14T10:21:55.259Z"
   },
   {
    "duration": 209,
    "start_time": "2025-01-14T10:21:55.265Z"
   },
   {
    "duration": 11,
    "start_time": "2025-01-14T10:21:55.476Z"
   },
   {
    "duration": 249,
    "start_time": "2025-01-14T10:21:55.490Z"
   },
   {
    "duration": 297,
    "start_time": "2025-01-14T10:21:55.741Z"
   },
   {
    "duration": 610,
    "start_time": "2025-01-14T10:21:56.040Z"
   },
   {
    "duration": 5,
    "start_time": "2025-01-14T10:21:56.651Z"
   },
   {
    "duration": 294,
    "start_time": "2025-01-14T10:21:56.657Z"
   },
   {
    "duration": 285,
    "start_time": "2025-01-14T10:21:56.953Z"
   },
   {
    "duration": 101,
    "start_time": "2025-01-14T10:21:57.239Z"
   },
   {
    "duration": 20,
    "start_time": "2025-01-14T10:22:06.828Z"
   },
   {
    "duration": 77,
    "start_time": "2025-01-14T10:22:27.331Z"
   },
   {
    "duration": 21,
    "start_time": "2025-01-14T10:22:32.139Z"
   },
   {
    "duration": 90,
    "start_time": "2025-01-14T10:23:20.235Z"
   },
   {
    "duration": 21,
    "start_time": "2025-01-14T10:23:20.443Z"
   },
   {
    "duration": 10,
    "start_time": "2025-01-14T10:23:39.411Z"
   },
   {
    "duration": 22,
    "start_time": "2025-01-14T10:26:23.515Z"
   },
   {
    "duration": 60,
    "start_time": "2025-01-14T10:30:26.771Z"
   },
   {
    "duration": 3,
    "start_time": "2025-01-14T10:48:08.318Z"
   },
   {
    "duration": 1063,
    "start_time": "2025-01-14T10:48:08.323Z"
   },
   {
    "duration": 20,
    "start_time": "2025-01-14T10:48:09.388Z"
   },
   {
    "duration": 40,
    "start_time": "2025-01-14T10:48:09.410Z"
   },
   {
    "duration": 6,
    "start_time": "2025-01-14T10:48:09.452Z"
   },
   {
    "duration": 1741,
    "start_time": "2025-01-14T10:48:09.460Z"
   },
   {
    "duration": 4,
    "start_time": "2025-01-14T10:48:11.202Z"
   },
   {
    "duration": 165,
    "start_time": "2025-01-14T10:48:11.208Z"
   },
   {
    "duration": 14,
    "start_time": "2025-01-14T10:48:11.374Z"
   },
   {
    "duration": 297,
    "start_time": "2025-01-14T10:48:11.390Z"
   },
   {
    "duration": 2,
    "start_time": "2025-01-14T10:48:11.690Z"
   },
   {
    "duration": 607,
    "start_time": "2025-01-14T10:48:11.694Z"
   },
   {
    "duration": 4,
    "start_time": "2025-01-14T10:48:12.303Z"
   },
   {
    "duration": 310,
    "start_time": "2025-01-14T10:48:12.308Z"
   },
   {
    "duration": 270,
    "start_time": "2025-01-14T10:48:12.620Z"
   },
   {
    "duration": 81,
    "start_time": "2025-01-14T10:48:12.892Z"
   },
   {
    "duration": 86,
    "start_time": "2025-01-14T10:48:12.975Z"
   },
   {
    "duration": 54,
    "start_time": "2025-01-14T10:48:13.063Z"
   },
   {
    "duration": 203,
    "start_time": "2025-01-14T10:48:13.131Z"
   },
   {
    "duration": 24,
    "start_time": "2025-01-14T10:48:13.336Z"
   },
   {
    "duration": 914,
    "start_time": "2025-01-14T10:48:13.361Z"
   },
   {
    "duration": 749,
    "start_time": "2025-01-14T10:48:14.276Z"
   },
   {
    "duration": 63,
    "start_time": "2025-01-14T10:48:15.030Z"
   },
   {
    "duration": 102,
    "start_time": "2025-01-14T10:48:15.095Z"
   },
   {
    "duration": 1210,
    "start_time": "2025-01-14T10:48:15.198Z"
   },
   {
    "duration": 69,
    "start_time": "2025-01-14T10:48:16.409Z"
   },
   {
    "duration": 1282,
    "start_time": "2025-01-14T17:39:42.957Z"
   },
   {
    "duration": 1552,
    "start_time": "2025-01-14T17:39:46.460Z"
   },
   {
    "duration": 2006,
    "start_time": "2025-01-14T17:41:16.790Z"
   },
   {
    "duration": 4,
    "start_time": "2025-01-14T17:44:39.391Z"
   },
   {
    "duration": 6,
    "start_time": "2025-01-14T17:46:23.648Z"
   },
   {
    "duration": 1703,
    "start_time": "2025-01-14T17:46:27.877Z"
   },
   {
    "duration": 4,
    "start_time": "2025-01-14T17:46:34.538Z"
   },
   {
    "duration": 146,
    "start_time": "2025-01-14T17:46:56.453Z"
   },
   {
    "duration": 5,
    "start_time": "2025-01-14T17:50:43.075Z"
   },
   {
    "duration": 256,
    "start_time": "2025-01-14T17:50:58.619Z"
   },
   {
    "duration": 123,
    "start_time": "2025-01-14T17:56:22.379Z"
   },
   {
    "duration": 15,
    "start_time": "2025-01-14T17:56:41.463Z"
   },
   {
    "duration": 10,
    "start_time": "2025-01-14T17:57:46.068Z"
   },
   {
    "duration": 9,
    "start_time": "2025-01-14T17:58:04.290Z"
   },
   {
    "duration": 510,
    "start_time": "2025-01-14T18:00:56.502Z"
   },
   {
    "duration": 522,
    "start_time": "2025-01-14T18:01:36.024Z"
   },
   {
    "duration": 510,
    "start_time": "2025-01-14T18:01:41.506Z"
   },
   {
    "duration": 216,
    "start_time": "2025-01-14T18:01:45.343Z"
   },
   {
    "duration": 49,
    "start_time": "2025-01-14T18:15:09.343Z"
   },
   {
    "duration": 49,
    "start_time": "2025-01-14T18:16:13.166Z"
   },
   {
    "duration": 109,
    "start_time": "2025-01-14T18:16:55.173Z"
   },
   {
    "duration": 49,
    "start_time": "2025-01-14T18:17:18.064Z"
   },
   {
    "duration": 50,
    "start_time": "2025-01-14T18:17:30.597Z"
   },
   {
    "duration": 68,
    "start_time": "2025-01-16T19:42:57.989Z"
   },
   {
    "duration": 1639,
    "start_time": "2025-01-16T19:43:43.848Z"
   },
   {
    "duration": 2616,
    "start_time": "2025-01-16T19:43:45.489Z"
   },
   {
    "duration": 3,
    "start_time": "2025-01-16T19:43:49.007Z"
   },
   {
    "duration": 49,
    "start_time": "2025-01-16T19:43:50.622Z"
   },
   {
    "duration": 52,
    "start_time": "2025-01-16T19:43:51.393Z"
   },
   {
    "duration": 6,
    "start_time": "2025-01-16T19:43:53.875Z"
   },
   {
    "duration": 2221,
    "start_time": "2025-01-16T19:43:55.095Z"
   },
   {
    "duration": 4,
    "start_time": "2025-01-16T19:43:57.318Z"
   },
   {
    "duration": 1440,
    "start_time": "2025-01-16T19:44:02.055Z"
   },
   {
    "duration": 165,
    "start_time": "2025-01-16T19:44:28.050Z"
   },
   {
    "duration": 5,
    "start_time": "2025-01-16T19:48:32.561Z"
   },
   {
    "duration": 471,
    "start_time": "2025-01-16T19:48:42.842Z"
   },
   {
    "duration": 2202,
    "start_time": "2025-01-16T19:49:00.455Z"
   },
   {
    "duration": 2184,
    "start_time": "2025-01-16T19:49:03.408Z"
   },
   {
    "duration": 23,
    "start_time": "2025-01-16T19:49:05.594Z"
   },
   {
    "duration": 66,
    "start_time": "2025-01-16T19:49:05.619Z"
   },
   {
    "duration": 58,
    "start_time": "2025-01-16T19:49:05.687Z"
   },
   {
    "duration": 32,
    "start_time": "2025-01-16T19:49:05.751Z"
   },
   {
    "duration": 2074,
    "start_time": "2025-01-16T19:49:05.834Z"
   },
   {
    "duration": 4,
    "start_time": "2025-01-16T19:49:07.910Z"
   },
   {
    "duration": 132,
    "start_time": "2025-01-16T19:49:08.974Z"
   },
   {
    "duration": 96,
    "start_time": "2025-01-16T19:49:10.750Z"
   },
   {
    "duration": 104,
    "start_time": "2025-01-16T19:50:10.054Z"
   },
   {
    "duration": 14,
    "start_time": "2025-01-16T19:50:20.755Z"
   },
   {
    "duration": 683,
    "start_time": "2025-01-16T19:50:21.410Z"
   },
   {
    "duration": 274,
    "start_time": "2025-01-16T19:50:23.324Z"
   },
   {
    "duration": 4,
    "start_time": "2025-01-16T19:51:55.584Z"
   },
   {
    "duration": 314,
    "start_time": "2025-01-16T19:52:00.259Z"
   },
   {
    "duration": 707,
    "start_time": "2025-01-16T19:52:26.145Z"
   },
   {
    "duration": 277,
    "start_time": "2025-01-16T19:52:27.493Z"
   },
   {
    "duration": 500,
    "start_time": "2025-01-16T20:03:00.157Z"
   },
   {
    "duration": 372,
    "start_time": "2025-01-16T20:03:04.886Z"
   },
   {
    "duration": 104,
    "start_time": "2025-01-16T20:03:05.674Z"
   },
   {
    "duration": 15,
    "start_time": "2025-01-16T20:05:15.947Z"
   },
   {
    "duration": 197,
    "start_time": "2025-01-16T20:05:28.505Z"
   },
   {
    "duration": 10,
    "start_time": "2025-01-16T20:06:30.972Z"
   },
   {
    "duration": 37,
    "start_time": "2025-01-16T20:06:41.839Z"
   },
   {
    "duration": 6,
    "start_time": "2025-01-16T20:07:21.057Z"
   },
   {
    "duration": 4,
    "start_time": "2025-01-16T20:07:42.807Z"
   },
   {
    "duration": 2331,
    "start_time": "2025-01-16T20:07:45.208Z"
   },
   {
    "duration": 19,
    "start_time": "2025-01-16T20:07:47.542Z"
   },
   {
    "duration": 33,
    "start_time": "2025-01-16T20:07:47.563Z"
   },
   {
    "duration": 49,
    "start_time": "2025-01-16T20:07:47.632Z"
   },
   {
    "duration": 11,
    "start_time": "2025-01-16T20:07:47.682Z"
   },
   {
    "duration": 1944,
    "start_time": "2025-01-16T20:07:47.755Z"
   },
   {
    "duration": 4,
    "start_time": "2025-01-16T20:07:49.700Z"
   },
   {
    "duration": 129,
    "start_time": "2025-01-16T20:07:50.041Z"
   },
   {
    "duration": 159,
    "start_time": "2025-01-16T20:07:50.990Z"
   },
   {
    "duration": 16,
    "start_time": "2025-01-16T20:07:52.673Z"
   },
   {
    "duration": 183,
    "start_time": "2025-01-16T20:07:53.242Z"
   },
   {
    "duration": 42,
    "start_time": "2025-01-16T20:07:53.838Z"
   },
   {
    "duration": 35,
    "start_time": "2025-01-16T20:09:41.498Z"
   },
   {
    "duration": 11,
    "start_time": "2025-01-16T20:12:48.220Z"
   },
   {
    "duration": 49,
    "start_time": "2025-01-16T20:12:58.239Z"
   },
   {
    "duration": 3,
    "start_time": "2025-01-16T20:13:26.508Z"
   },
   {
    "duration": 57,
    "start_time": "2025-01-16T20:13:27.324Z"
   },
   {
    "duration": 45,
    "start_time": "2025-01-16T20:17:24.977Z"
   },
   {
    "duration": 1208,
    "start_time": "2025-01-16T20:23:22.477Z"
   },
   {
    "duration": 2295,
    "start_time": "2025-01-16T20:23:23.687Z"
   },
   {
    "duration": 4,
    "start_time": "2025-01-16T20:23:25.983Z"
   },
   {
    "duration": 47,
    "start_time": "2025-01-16T20:23:25.989Z"
   },
   {
    "duration": 38,
    "start_time": "2025-01-16T20:23:26.037Z"
   },
   {
    "duration": 7,
    "start_time": "2025-01-16T20:23:26.076Z"
   },
   {
    "duration": 1856,
    "start_time": "2025-01-16T20:23:26.084Z"
   },
   {
    "duration": 4,
    "start_time": "2025-01-16T20:23:27.942Z"
   },
   {
    "duration": 165,
    "start_time": "2025-01-16T20:23:27.948Z"
   },
   {
    "duration": 102,
    "start_time": "2025-01-16T20:23:28.117Z"
   },
   {
    "duration": 21,
    "start_time": "2025-01-16T20:23:28.221Z"
   },
   {
    "duration": 228,
    "start_time": "2025-01-16T20:23:28.244Z"
   },
   {
    "duration": 5,
    "start_time": "2025-01-16T20:23:28.474Z"
   },
   {
    "duration": 65,
    "start_time": "2025-01-16T20:23:28.481Z"
   },
   {
    "duration": 250,
    "start_time": "2025-01-16T20:23:28.548Z"
   },
   {
    "duration": 32,
    "start_time": "2025-01-16T20:23:28.800Z"
   },
   {
    "duration": 284,
    "start_time": "2025-01-16T20:23:28.833Z"
   },
   {
    "duration": 326,
    "start_time": "2025-01-16T20:23:29.119Z"
   },
   {
    "duration": 108,
    "start_time": "2025-01-16T20:23:29.447Z"
   },
   {
    "duration": 109,
    "start_time": "2025-01-16T20:23:29.557Z"
   },
   {
    "duration": 66,
    "start_time": "2025-01-16T20:23:29.668Z"
   },
   {
    "duration": 224,
    "start_time": "2025-01-16T20:23:29.736Z"
   },
   {
    "duration": 25,
    "start_time": "2025-01-16T20:23:29.962Z"
   },
   {
    "duration": 1243,
    "start_time": "2025-01-16T20:23:29.989Z"
   },
   {
    "duration": 798,
    "start_time": "2025-01-16T20:23:31.234Z"
   },
   {
    "duration": 51,
    "start_time": "2025-01-16T20:23:32.034Z"
   },
   {
    "duration": 111,
    "start_time": "2025-01-16T20:23:32.087Z"
   },
   {
    "duration": 1321,
    "start_time": "2025-01-16T20:23:32.202Z"
   },
   {
    "duration": 66,
    "start_time": "2025-01-16T20:23:33.525Z"
   },
   {
    "duration": 3,
    "start_time": "2025-01-16T20:23:33.593Z"
   },
   {
    "duration": 2809,
    "start_time": "2025-01-16T20:23:33.599Z"
   },
   {
    "duration": 41,
    "start_time": "2025-01-16T20:23:36.411Z"
   },
   {
    "duration": 84,
    "start_time": "2025-01-16T20:23:36.454Z"
   },
   {
    "duration": 51,
    "start_time": "2025-01-16T20:23:36.842Z"
   },
   {
    "duration": 7,
    "start_time": "2025-01-16T20:23:40.223Z"
   },
   {
    "duration": 1701,
    "start_time": "2025-01-16T20:23:40.658Z"
   },
   {
    "duration": 4,
    "start_time": "2025-01-16T20:23:42.361Z"
   },
   {
    "duration": 127,
    "start_time": "2025-01-16T20:23:45.303Z"
   },
   {
    "duration": 96,
    "start_time": "2025-01-16T20:23:47.406Z"
   },
   {
    "duration": 14,
    "start_time": "2025-01-16T20:23:49.323Z"
   },
   {
    "duration": 170,
    "start_time": "2025-01-16T20:23:49.903Z"
   },
   {
    "duration": 3,
    "start_time": "2025-01-16T20:23:50.688Z"
   },
   {
    "duration": 49,
    "start_time": "2025-01-16T20:23:51.871Z"
   },
   {
    "duration": 332,
    "start_time": "2025-01-16T20:23:54.441Z"
   },
   {
    "duration": 271,
    "start_time": "2025-01-16T20:24:44.932Z"
   },
   {
    "duration": 126,
    "start_time": "2025-01-16T20:27:23.387Z"
   },
   {
    "duration": 232,
    "start_time": "2025-01-16T20:27:40.324Z"
   },
   {
    "duration": 239,
    "start_time": "2025-01-16T20:32:18.544Z"
   },
   {
    "duration": 235,
    "start_time": "2025-01-16T20:32:26.870Z"
   },
   {
    "duration": 234,
    "start_time": "2025-01-16T20:32:31.225Z"
   },
   {
    "duration": 14,
    "start_time": "2025-01-16T20:35:13.710Z"
   },
   {
    "duration": 66,
    "start_time": "2025-01-16T20:35:44.958Z"
   },
   {
    "duration": 64,
    "start_time": "2025-01-16T20:36:12.425Z"
   },
   {
    "duration": 67,
    "start_time": "2025-01-16T20:36:20.171Z"
   },
   {
    "duration": 13,
    "start_time": "2025-01-16T20:36:49.459Z"
   },
   {
    "duration": 65,
    "start_time": "2025-01-16T20:36:57.106Z"
   },
   {
    "duration": 13,
    "start_time": "2025-01-16T20:37:08.122Z"
   },
   {
    "duration": 14,
    "start_time": "2025-01-16T20:39:18.810Z"
   },
   {
    "duration": 94,
    "start_time": "2025-01-16T20:39:36.588Z"
   },
   {
    "duration": 67,
    "start_time": "2025-01-16T20:39:40.592Z"
   },
   {
    "duration": 308,
    "start_time": "2025-01-16T20:39:51.784Z"
   },
   {
    "duration": 98,
    "start_time": "2025-01-16T20:39:52.926Z"
   },
   {
    "duration": 12,
    "start_time": "2025-01-16T20:40:28.428Z"
   },
   {
    "duration": 95,
    "start_time": "2025-01-16T20:40:39.360Z"
   },
   {
    "duration": 14,
    "start_time": "2025-01-16T20:40:43.642Z"
   },
   {
    "duration": 13,
    "start_time": "2025-01-16T20:41:18.723Z"
   },
   {
    "duration": 130,
    "start_time": "2025-01-16T20:41:46.807Z"
   },
   {
    "duration": 142,
    "start_time": "2025-01-16T20:41:49.177Z"
   },
   {
    "duration": 27,
    "start_time": "2025-01-16T20:41:55.991Z"
   },
   {
    "duration": 130,
    "start_time": "2025-01-16T20:42:12.289Z"
   },
   {
    "duration": 75,
    "start_time": "2025-01-16T20:42:13.908Z"
   },
   {
    "duration": 43,
    "start_time": "2025-01-16T20:44:27.423Z"
   },
   {
    "duration": 55,
    "start_time": "2025-01-16T20:44:39.951Z"
   },
   {
    "duration": 26,
    "start_time": "2025-01-16T20:44:42.239Z"
   },
   {
    "duration": 239,
    "start_time": "2025-01-16T20:44:51.939Z"
   },
   {
    "duration": 280,
    "start_time": "2025-01-16T20:46:09.971Z"
   },
   {
    "duration": 275,
    "start_time": "2025-01-16T20:47:46.905Z"
   },
   {
    "duration": 409,
    "start_time": "2025-01-16T20:48:02.156Z"
   },
   {
    "duration": 21,
    "start_time": "2025-01-16T20:48:34.277Z"
   },
   {
    "duration": 57,
    "start_time": "2025-01-16T20:50:23.489Z"
   },
   {
    "duration": 30,
    "start_time": "2025-01-16T20:50:24.915Z"
   },
   {
    "duration": 239,
    "start_time": "2025-01-16T20:50:39.652Z"
   },
   {
    "duration": 248,
    "start_time": "2025-01-16T20:52:45.354Z"
   },
   {
    "duration": 109,
    "start_time": "2025-01-16T20:53:42.641Z"
   },
   {
    "duration": 27,
    "start_time": "2025-01-16T20:59:53.856Z"
   },
   {
    "duration": 979,
    "start_time": "2025-01-16T20:59:54.661Z"
   },
   {
    "duration": 779,
    "start_time": "2025-01-16T21:06:55.753Z"
   },
   {
    "duration": 49,
    "start_time": "2025-01-16T21:06:56.534Z"
   },
   {
    "duration": 108,
    "start_time": "2025-01-16T21:06:58.286Z"
   },
   {
    "duration": 1332,
    "start_time": "2025-01-16T21:06:59.061Z"
   },
   {
    "duration": 2984,
    "start_time": "2025-01-16T21:13:12.769Z"
   },
   {
    "duration": 2939,
    "start_time": "2025-01-16T21:14:10.276Z"
   },
   {
    "duration": 32,
    "start_time": "2025-01-16T21:15:53.344Z"
   },
   {
    "duration": 2770,
    "start_time": "2025-01-16T21:16:26.076Z"
   },
   {
    "duration": 3088,
    "start_time": "2025-01-16T21:17:25.778Z"
   },
   {
    "duration": 2934,
    "start_time": "2025-01-16T21:17:43.005Z"
   },
   {
    "duration": 2778,
    "start_time": "2025-01-16T21:18:25.421Z"
   },
   {
    "duration": 2863,
    "start_time": "2025-01-16T21:20:27.623Z"
   },
   {
    "duration": 22,
    "start_time": "2025-01-16T21:20:30.488Z"
   },
   {
    "duration": 91,
    "start_time": "2025-01-16T21:20:55.457Z"
   },
   {
    "duration": 3091,
    "start_time": "2025-01-16T21:21:12.973Z"
   },
   {
    "duration": 91,
    "start_time": "2025-01-16T21:21:16.066Z"
   },
   {
    "duration": 1385,
    "start_time": "2025-01-16T21:23:59.065Z"
   },
   {
    "duration": 436,
    "start_time": "2025-01-16T21:24:18.986Z"
   },
   {
    "duration": 341,
    "start_time": "2025-01-16T21:24:42.519Z"
   },
   {
    "duration": 345,
    "start_time": "2025-01-16T21:26:36.143Z"
   },
   {
    "duration": 371,
    "start_time": "2025-01-16T21:26:53.819Z"
   },
   {
    "duration": 473,
    "start_time": "2025-01-16T21:27:00.135Z"
   },
   {
    "duration": 357,
    "start_time": "2025-01-16T21:27:14.196Z"
   },
   {
    "duration": 138,
    "start_time": "2025-01-16T21:32:54.407Z"
   },
   {
    "duration": 14,
    "start_time": "2025-01-16T21:39:47.757Z"
   },
   {
    "duration": 14,
    "start_time": "2025-01-16T21:40:15.325Z"
   },
   {
    "duration": 15,
    "start_time": "2025-01-16T21:40:57.307Z"
   },
   {
    "duration": 14,
    "start_time": "2025-01-16T21:41:03.316Z"
   },
   {
    "duration": 16,
    "start_time": "2025-01-16T21:41:10.111Z"
   },
   {
    "duration": 13,
    "start_time": "2025-01-16T21:41:37.758Z"
   },
   {
    "duration": 2988,
    "start_time": "2025-01-16T21:45:06.365Z"
   },
   {
    "duration": 95,
    "start_time": "2025-01-16T21:45:09.356Z"
   },
   {
    "duration": 61,
    "start_time": "2025-01-16T21:45:11.107Z"
   },
   {
    "duration": 14,
    "start_time": "2025-01-16T21:45:15.428Z"
   },
   {
    "duration": 303,
    "start_time": "2025-01-16T21:45:50.095Z"
   },
   {
    "duration": 93,
    "start_time": "2025-01-16T21:45:51.091Z"
   },
   {
    "duration": 60,
    "start_time": "2025-01-16T21:45:52.194Z"
   },
   {
    "duration": 14,
    "start_time": "2025-01-16T21:45:56.155Z"
   },
   {
    "duration": 14,
    "start_time": "2025-01-16T21:47:57.159Z"
   },
   {
    "duration": 16,
    "start_time": "2025-01-16T21:48:06.495Z"
   },
   {
    "duration": 753,
    "start_time": "2025-01-16T21:49:50.709Z"
   },
   {
    "duration": 2600,
    "start_time": "2025-01-16T21:49:53.146Z"
   },
   {
    "duration": 103,
    "start_time": "2025-01-16T21:49:58.512Z"
   },
   {
    "duration": 62,
    "start_time": "2025-01-16T21:50:00.229Z"
   },
   {
    "duration": 25,
    "start_time": "2025-01-16T21:50:05.112Z"
   },
   {
    "duration": 31,
    "start_time": "2025-01-16T21:50:53.449Z"
   },
   {
    "duration": 31,
    "start_time": "2025-01-16T21:52:52.625Z"
   },
   {
    "duration": 31,
    "start_time": "2025-01-16T21:53:04.145Z"
   },
   {
    "duration": 14,
    "start_time": "2025-01-16T21:53:44.396Z"
   },
   {
    "duration": 13,
    "start_time": "2025-01-16T21:54:11.686Z"
   },
   {
    "duration": 14,
    "start_time": "2025-01-16T21:54:34.338Z"
   },
   {
    "duration": 12,
    "start_time": "2025-01-16T21:54:51.854Z"
   },
   {
    "duration": 13,
    "start_time": "2025-01-16T21:55:55.124Z"
   },
   {
    "duration": 14,
    "start_time": "2025-01-16T21:56:04.191Z"
   },
   {
    "duration": 13,
    "start_time": "2025-01-16T21:56:13.141Z"
   },
   {
    "duration": 212,
    "start_time": "2025-01-16T21:56:20.322Z"
   },
   {
    "duration": 80,
    "start_time": "2025-01-16T21:57:48.846Z"
   },
   {
    "duration": 1479,
    "start_time": "2025-01-16T21:58:11.492Z"
   },
   {
    "duration": 1324,
    "start_time": "2025-01-16T21:58:24.247Z"
   },
   {
    "duration": 1400,
    "start_time": "2025-01-16T21:58:36.788Z"
   },
   {
    "duration": 282,
    "start_time": "2025-01-16T21:59:10.023Z"
   },
   {
    "duration": 63,
    "start_time": "2025-01-16T22:02:35.025Z"
   },
   {
    "duration": 62,
    "start_time": "2025-01-16T22:02:43.361Z"
   },
   {
    "duration": 263,
    "start_time": "2025-01-16T22:02:50.989Z"
   },
   {
    "duration": 63,
    "start_time": "2025-01-16T22:03:51.125Z"
   },
   {
    "duration": 39,
    "start_time": "2025-01-16T22:09:06.582Z"
   },
   {
    "duration": 2655,
    "start_time": "2025-01-16T22:09:45.136Z"
   },
   {
    "duration": 69,
    "start_time": "2025-01-16T22:10:31.117Z"
   },
   {
    "duration": 15,
    "start_time": "2025-01-16T22:11:06.782Z"
   },
   {
    "duration": 16,
    "start_time": "2025-01-16T22:11:43.039Z"
   },
   {
    "duration": 268,
    "start_time": "2025-01-16T22:12:13.848Z"
   },
   {
    "duration": 205,
    "start_time": "2025-01-16T22:22:02.949Z"
   },
   {
    "duration": 11,
    "start_time": "2025-01-16T22:22:33.864Z"
   },
   {
    "duration": 1337,
    "start_time": "2025-01-16T22:22:45.830Z"
   },
   {
    "duration": 0,
    "start_time": "2025-01-16T22:22:47.169Z"
   },
   {
    "duration": 3,
    "start_time": "2025-01-16T22:23:02.788Z"
   },
   {
    "duration": 2463,
    "start_time": "2025-01-16T22:23:04.344Z"
   },
   {
    "duration": 28,
    "start_time": "2025-01-16T22:23:06.809Z"
   },
   {
    "duration": 43,
    "start_time": "2025-01-16T22:23:08.397Z"
   },
   {
    "duration": 35,
    "start_time": "2025-01-16T22:23:09.494Z"
   },
   {
    "duration": 6,
    "start_time": "2025-01-16T22:23:11.597Z"
   },
   {
    "duration": 1706,
    "start_time": "2025-01-16T22:23:12.831Z"
   },
   {
    "duration": 4,
    "start_time": "2025-01-16T22:23:14.539Z"
   },
   {
    "duration": 124,
    "start_time": "2025-01-16T22:23:17.663Z"
   },
   {
    "duration": 85,
    "start_time": "2025-01-16T22:23:19.710Z"
   },
   {
    "duration": 13,
    "start_time": "2025-01-16T22:23:22.797Z"
   },
   {
    "duration": 168,
    "start_time": "2025-01-16T22:23:23.911Z"
   },
   {
    "duration": 3,
    "start_time": "2025-01-16T22:23:24.530Z"
   },
   {
    "duration": 47,
    "start_time": "2025-01-16T22:23:25.344Z"
   },
   {
    "duration": 46,
    "start_time": "2025-01-16T22:23:26.497Z"
   },
   {
    "duration": 231,
    "start_time": "2025-01-16T22:23:28.099Z"
   },
   {
    "duration": 4,
    "start_time": "2025-01-16T22:23:32.579Z"
   },
   {
    "duration": 253,
    "start_time": "2025-01-16T22:23:32.810Z"
   },
   {
    "duration": 303,
    "start_time": "2025-01-16T22:23:35.177Z"
   },
   {
    "duration": 95,
    "start_time": "2025-01-16T22:23:35.621Z"
   },
   {
    "duration": 134,
    "start_time": "2025-01-16T22:23:36.812Z"
   },
   {
    "duration": 57,
    "start_time": "2025-01-16T22:23:37.747Z"
   },
   {
    "duration": 211,
    "start_time": "2025-01-16T22:23:39.042Z"
   },
   {
    "duration": 235,
    "start_time": "2025-01-16T22:23:40.461Z"
   },
   {
    "duration": 27,
    "start_time": "2025-01-16T22:23:44.245Z"
   },
   {
    "duration": 943,
    "start_time": "2025-01-16T22:23:45.376Z"
   },
   {
    "duration": 773,
    "start_time": "2025-01-16T22:23:49.528Z"
   },
   {
    "duration": 2731,
    "start_time": "2025-01-16T22:23:50.440Z"
   },
   {
    "duration": 122,
    "start_time": "2025-01-16T22:23:53.173Z"
   },
   {
    "duration": 63,
    "start_time": "2025-01-16T22:23:53.582Z"
   },
   {
    "duration": 222,
    "start_time": "2025-01-16T22:23:58.010Z"
   },
   {
    "duration": 1277,
    "start_time": "2025-01-16T22:26:03.865Z"
   },
   {
    "duration": 1292,
    "start_time": "2025-01-16T22:27:31.428Z"
   },
   {
    "duration": 1328,
    "start_time": "2025-01-16T22:28:46.008Z"
   },
   {
    "duration": 82,
    "start_time": "2025-01-16T22:30:53.867Z"
   },
   {
    "duration": 15,
    "start_time": "2025-01-16T22:32:15.529Z"
   },
   {
    "duration": 7,
    "start_time": "2025-01-16T22:32:44.709Z"
   },
   {
    "duration": 3,
    "start_time": "2025-01-16T22:33:05.977Z"
   },
   {
    "duration": 2569,
    "start_time": "2025-01-16T22:33:06.964Z"
   },
   {
    "duration": 20,
    "start_time": "2025-01-16T22:33:09.535Z"
   },
   {
    "duration": 97,
    "start_time": "2025-01-16T22:33:09.558Z"
   },
   {
    "duration": 35,
    "start_time": "2025-01-16T22:33:10.298Z"
   },
   {
    "duration": 7,
    "start_time": "2025-01-16T22:33:12.246Z"
   },
   {
    "duration": 1773,
    "start_time": "2025-01-16T22:33:13.608Z"
   },
   {
    "duration": 5,
    "start_time": "2025-01-16T22:33:15.383Z"
   },
   {
    "duration": 122,
    "start_time": "2025-01-16T22:33:17.197Z"
   },
   {
    "duration": 218,
    "start_time": "2025-01-16T22:33:18.380Z"
   },
   {
    "duration": 13,
    "start_time": "2025-01-16T22:33:20.143Z"
   },
   {
    "duration": 177,
    "start_time": "2025-01-16T22:33:20.697Z"
   },
   {
    "duration": 3,
    "start_time": "2025-01-16T22:33:21.280Z"
   },
   {
    "duration": 49,
    "start_time": "2025-01-16T22:33:22.026Z"
   },
   {
    "duration": 45,
    "start_time": "2025-01-16T22:33:22.676Z"
   },
   {
    "duration": 233,
    "start_time": "2025-01-16T22:33:23.359Z"
   },
   {
    "duration": 4,
    "start_time": "2025-01-16T22:33:28.225Z"
   },
   {
    "duration": 248,
    "start_time": "2025-01-16T22:33:28.725Z"
   },
   {
    "duration": 300,
    "start_time": "2025-01-16T22:33:31.622Z"
   },
   {
    "duration": 98,
    "start_time": "2025-01-16T22:33:32.159Z"
   },
   {
    "duration": 134,
    "start_time": "2025-01-16T22:33:33.423Z"
   },
   {
    "duration": 57,
    "start_time": "2025-01-16T22:33:35.308Z"
   },
   {
    "duration": 212,
    "start_time": "2025-01-16T22:33:36.730Z"
   },
   {
    "duration": 231,
    "start_time": "2025-01-16T22:33:38.062Z"
   },
   {
    "duration": 31,
    "start_time": "2025-01-16T22:33:42.109Z"
   },
   {
    "duration": 910,
    "start_time": "2025-01-16T22:33:42.897Z"
   },
   {
    "duration": 748,
    "start_time": "2025-01-16T22:33:51.462Z"
   },
   {
    "duration": 2683,
    "start_time": "2025-01-16T22:33:53.213Z"
   },
   {
    "duration": 120,
    "start_time": "2025-01-16T22:33:55.899Z"
   },
   {
    "duration": 61,
    "start_time": "2025-01-16T22:33:58.911Z"
   },
   {
    "duration": 209,
    "start_time": "2025-01-16T22:34:04.397Z"
   },
   {
    "duration": 216,
    "start_time": "2025-01-16T22:34:07.744Z"
   },
   {
    "duration": 1257,
    "start_time": "2025-01-16T22:34:10.363Z"
   },
   {
    "duration": 87,
    "start_time": "2025-01-16T22:34:13.313Z"
   },
   {
    "duration": 1393,
    "start_time": "2025-01-16T22:38:37.492Z"
   },
   {
    "duration": 1317,
    "start_time": "2025-01-16T22:44:01.320Z"
   },
   {
    "duration": 3,
    "start_time": "2025-01-16T22:44:30.490Z"
   },
   {
    "duration": 2334,
    "start_time": "2025-01-16T22:44:31.363Z"
   },
   {
    "duration": 21,
    "start_time": "2025-01-16T22:44:33.699Z"
   },
   {
    "duration": 29,
    "start_time": "2025-01-16T22:44:34.965Z"
   },
   {
    "duration": 36,
    "start_time": "2025-01-16T22:44:36.180Z"
   },
   {
    "duration": 6,
    "start_time": "2025-01-16T22:44:38.210Z"
   },
   {
    "duration": 1764,
    "start_time": "2025-01-16T22:44:39.380Z"
   },
   {
    "duration": 4,
    "start_time": "2025-01-16T22:44:41.146Z"
   },
   {
    "duration": 125,
    "start_time": "2025-01-16T22:44:43.044Z"
   },
   {
    "duration": 81,
    "start_time": "2025-01-16T22:44:44.195Z"
   },
   {
    "duration": 16,
    "start_time": "2025-01-16T22:44:45.946Z"
   },
   {
    "duration": 170,
    "start_time": "2025-01-16T22:44:46.530Z"
   },
   {
    "duration": 3,
    "start_time": "2025-01-16T22:44:47.130Z"
   },
   {
    "duration": 51,
    "start_time": "2025-01-16T22:44:47.782Z"
   },
   {
    "duration": 45,
    "start_time": "2025-01-16T22:44:48.398Z"
   },
   {
    "duration": 256,
    "start_time": "2025-01-16T22:44:49.031Z"
   },
   {
    "duration": 5,
    "start_time": "2025-01-16T22:44:54.280Z"
   },
   {
    "duration": 249,
    "start_time": "2025-01-16T22:44:54.981Z"
   },
   {
    "duration": 347,
    "start_time": "2025-01-16T22:45:10.392Z"
   },
   {
    "duration": 228,
    "start_time": "2025-01-16T22:45:17.678Z"
   },
   {
    "duration": 302,
    "start_time": "2025-01-16T22:45:21.214Z"
   },
   {
    "duration": 96,
    "start_time": "2025-01-16T22:45:22.181Z"
   },
   {
    "duration": 125,
    "start_time": "2025-01-16T22:45:23.364Z"
   },
   {
    "duration": 55,
    "start_time": "2025-01-16T22:45:24.947Z"
   },
   {
    "duration": 208,
    "start_time": "2025-01-16T22:45:26.746Z"
   },
   {
    "duration": 239,
    "start_time": "2025-01-16T22:45:28.163Z"
   },
   {
    "duration": 27,
    "start_time": "2025-01-16T22:45:31.730Z"
   },
   {
    "duration": 937,
    "start_time": "2025-01-16T22:45:32.594Z"
   },
   {
    "duration": 781,
    "start_time": "2025-01-16T22:45:35.680Z"
   },
   {
    "duration": 2668,
    "start_time": "2025-01-16T22:45:36.462Z"
   },
   {
    "duration": 127,
    "start_time": "2025-01-16T22:45:39.132Z"
   },
   {
    "duration": 78,
    "start_time": "2025-01-16T22:45:39.261Z"
   },
   {
    "duration": 208,
    "start_time": "2025-01-16T22:45:43.263Z"
   },
   {
    "duration": 1252,
    "start_time": "2025-01-16T22:45:46.598Z"
   },
   {
    "duration": 1394,
    "start_time": "2025-01-16T22:45:51.413Z"
   },
   {
    "duration": 30,
    "start_time": "2025-01-16T22:46:08.844Z"
   },
   {
    "duration": 14,
    "start_time": "2025-01-16T22:46:14.260Z"
   },
   {
    "duration": 5,
    "start_time": "2025-01-16T22:46:16.095Z"
   },
   {
    "duration": 39,
    "start_time": "2025-01-16T22:49:35.706Z"
   },
   {
    "duration": 41,
    "start_time": "2025-01-16T22:50:18.640Z"
   },
   {
    "duration": 171,
    "start_time": "2025-01-16T22:53:53.342Z"
   },
   {
    "duration": 175,
    "start_time": "2025-01-16T22:56:11.562Z"
   },
   {
    "duration": 1234,
    "start_time": "2025-01-16T23:03:14.941Z"
   },
   {
    "duration": 2454,
    "start_time": "2025-01-16T23:03:16.177Z"
   },
   {
    "duration": 3,
    "start_time": "2025-01-16T23:03:18.633Z"
   },
   {
    "duration": 34,
    "start_time": "2025-01-16T23:03:18.638Z"
   },
   {
    "duration": 66,
    "start_time": "2025-01-16T23:03:18.674Z"
   },
   {
    "duration": 7,
    "start_time": "2025-01-16T23:03:18.742Z"
   },
   {
    "duration": 2391,
    "start_time": "2025-01-16T23:03:18.750Z"
   },
   {
    "duration": 4,
    "start_time": "2025-01-16T23:03:21.143Z"
   },
   {
    "duration": 224,
    "start_time": "2025-01-16T23:03:21.148Z"
   },
   {
    "duration": 115,
    "start_time": "2025-01-16T23:03:21.375Z"
   },
   {
    "duration": 13,
    "start_time": "2025-01-16T23:03:21.491Z"
   },
   {
    "duration": 202,
    "start_time": "2025-01-16T23:03:21.505Z"
   },
   {
    "duration": 5,
    "start_time": "2025-01-16T23:03:21.709Z"
   },
   {
    "duration": 55,
    "start_time": "2025-01-16T23:03:21.716Z"
   },
   {
    "duration": 165,
    "start_time": "2025-01-16T23:03:21.773Z"
   },
   {
    "duration": 601,
    "start_time": "2025-01-16T23:03:21.940Z"
   },
   {
    "duration": 4,
    "start_time": "2025-01-16T23:03:22.543Z"
   },
   {
    "duration": 510,
    "start_time": "2025-01-16T23:03:22.549Z"
   },
   {
    "duration": 781,
    "start_time": "2025-01-16T23:03:23.061Z"
   },
   {
    "duration": 200,
    "start_time": "2025-01-16T23:03:23.844Z"
   },
   {
    "duration": 236,
    "start_time": "2025-01-16T23:03:24.046Z"
   },
   {
    "duration": 73,
    "start_time": "2025-01-16T23:03:24.283Z"
   },
   {
    "duration": 238,
    "start_time": "2025-01-16T23:03:24.358Z"
   },
   {
    "duration": 439,
    "start_time": "2025-01-16T23:03:24.599Z"
   },
   {
    "duration": 28,
    "start_time": "2025-01-16T23:03:25.040Z"
   },
   {
    "duration": 1892,
    "start_time": "2025-01-16T23:03:25.070Z"
   },
   {
    "duration": 1468,
    "start_time": "2025-01-16T23:03:26.963Z"
   },
   {
    "duration": 4680,
    "start_time": "2025-01-16T23:03:28.434Z"
   },
   {
    "duration": 218,
    "start_time": "2025-01-16T23:03:33.116Z"
   },
   {
    "duration": 213,
    "start_time": "2025-01-16T23:03:33.336Z"
   },
   {
    "duration": 0,
    "start_time": "2025-01-16T23:03:33.551Z"
   },
   {
    "duration": 0,
    "start_time": "2025-01-16T23:03:33.552Z"
   },
   {
    "duration": 0,
    "start_time": "2025-01-16T23:03:33.553Z"
   },
   {
    "duration": 0,
    "start_time": "2025-01-16T23:03:33.555Z"
   },
   {
    "duration": 0,
    "start_time": "2025-01-16T23:03:33.556Z"
   },
   {
    "duration": 0,
    "start_time": "2025-01-16T23:03:33.557Z"
   },
   {
    "duration": 0,
    "start_time": "2025-01-16T23:03:33.558Z"
   },
   {
    "duration": 1209,
    "start_time": "2025-01-16T23:06:01.369Z"
   },
   {
    "duration": 2690,
    "start_time": "2025-01-16T23:06:04.849Z"
   },
   {
    "duration": 3,
    "start_time": "2025-01-16T23:06:10.063Z"
   },
   {
    "duration": 27,
    "start_time": "2025-01-16T23:06:12.281Z"
   },
   {
    "duration": 38,
    "start_time": "2025-01-16T23:06:13.249Z"
   },
   {
    "duration": 8,
    "start_time": "2025-01-16T23:06:15.630Z"
   },
   {
    "duration": 1804,
    "start_time": "2025-01-16T23:06:17.282Z"
   },
   {
    "duration": 4,
    "start_time": "2025-01-16T23:06:19.088Z"
   },
   {
    "duration": 148,
    "start_time": "2025-01-16T23:06:22.925Z"
   },
   {
    "duration": 84,
    "start_time": "2025-01-16T23:06:24.797Z"
   },
   {
    "duration": 14,
    "start_time": "2025-01-16T23:06:27.097Z"
   },
   {
    "duration": 172,
    "start_time": "2025-01-16T23:06:27.948Z"
   },
   {
    "duration": 7,
    "start_time": "2025-01-16T23:06:28.845Z"
   },
   {
    "duration": 48,
    "start_time": "2025-01-16T23:06:32.343Z"
   },
   {
    "duration": 45,
    "start_time": "2025-01-16T23:06:37.161Z"
   },
   {
    "duration": 221,
    "start_time": "2025-01-16T23:06:38.079Z"
   },
   {
    "duration": 4,
    "start_time": "2025-01-16T23:06:45.794Z"
   },
   {
    "duration": 262,
    "start_time": "2025-01-16T23:06:46.860Z"
   },
   {
    "duration": 319,
    "start_time": "2025-01-16T23:06:58.863Z"
   },
   {
    "duration": 94,
    "start_time": "2025-01-16T23:06:59.915Z"
   },
   {
    "duration": 143,
    "start_time": "2025-01-16T23:07:02.209Z"
   },
   {
    "duration": 59,
    "start_time": "2025-01-16T23:07:03.648Z"
   },
   {
    "duration": 205,
    "start_time": "2025-01-16T23:07:05.164Z"
   },
   {
    "duration": 241,
    "start_time": "2025-01-16T23:07:06.611Z"
   },
   {
    "duration": 25,
    "start_time": "2025-01-16T23:07:11.015Z"
   },
   {
    "duration": 985,
    "start_time": "2025-01-16T23:07:11.795Z"
   },
   {
    "duration": 762,
    "start_time": "2025-01-16T23:07:15.948Z"
   },
   {
    "duration": 2812,
    "start_time": "2025-01-16T23:07:17.315Z"
   },
   {
    "duration": 126,
    "start_time": "2025-01-16T23:07:20.129Z"
   },
   {
    "duration": 112,
    "start_time": "2025-01-16T23:07:20.531Z"
   },
   {
    "duration": 205,
    "start_time": "2025-01-16T23:07:45.981Z"
   },
   {
    "duration": 1263,
    "start_time": "2025-01-16T23:07:50.147Z"
   },
   {
    "duration": 28,
    "start_time": "2025-01-16T23:07:52.715Z"
   },
   {
    "duration": 14,
    "start_time": "2025-01-16T23:07:54.061Z"
   },
   {
    "duration": 5,
    "start_time": "2025-01-16T23:07:54.928Z"
   },
   {
    "duration": 49,
    "start_time": "2025-01-16T23:07:56.660Z"
   },
   {
    "duration": 246,
    "start_time": "2025-01-16T23:07:58.859Z"
   },
   {
    "duration": 1271,
    "start_time": "2025-01-16T23:08:13.102Z"
   },
   {
    "duration": 1970,
    "start_time": "2025-01-16T23:08:14.375Z"
   },
   {
    "duration": 4,
    "start_time": "2025-01-16T23:08:16.347Z"
   },
   {
    "duration": 79,
    "start_time": "2025-01-16T23:08:16.353Z"
   },
   {
    "duration": 46,
    "start_time": "2025-01-16T23:08:16.434Z"
   },
   {
    "duration": 48,
    "start_time": "2025-01-16T23:08:16.482Z"
   },
   {
    "duration": 1800,
    "start_time": "2025-01-16T23:08:16.533Z"
   },
   {
    "duration": 5,
    "start_time": "2025-01-16T23:08:18.335Z"
   },
   {
    "duration": 172,
    "start_time": "2025-01-16T23:08:18.342Z"
   },
   {
    "duration": 93,
    "start_time": "2025-01-16T23:08:18.517Z"
   },
   {
    "duration": 25,
    "start_time": "2025-01-16T23:08:18.612Z"
   },
   {
    "duration": 196,
    "start_time": "2025-01-16T23:08:18.639Z"
   },
   {
    "duration": 7,
    "start_time": "2025-01-16T23:08:18.837Z"
   },
   {
    "duration": 49,
    "start_time": "2025-01-16T23:08:18.847Z"
   },
   {
    "duration": 75,
    "start_time": "2025-01-16T23:08:18.898Z"
   },
   {
    "duration": 278,
    "start_time": "2025-01-16T23:08:18.975Z"
   },
   {
    "duration": 5,
    "start_time": "2025-01-16T23:08:19.255Z"
   },
   {
    "duration": 295,
    "start_time": "2025-01-16T23:08:19.261Z"
   },
   {
    "duration": 319,
    "start_time": "2025-01-16T23:08:19.558Z"
   },
   {
    "duration": 100,
    "start_time": "2025-01-16T23:08:19.879Z"
   },
   {
    "duration": 156,
    "start_time": "2025-01-16T23:08:19.981Z"
   },
   {
    "duration": 57,
    "start_time": "2025-01-16T23:08:20.139Z"
   },
   {
    "duration": 232,
    "start_time": "2025-01-16T23:08:20.198Z"
   },
   {
    "duration": 239,
    "start_time": "2025-01-16T23:08:20.431Z"
   },
   {
    "duration": 24,
    "start_time": "2025-01-16T23:08:20.672Z"
   },
   {
    "duration": 1006,
    "start_time": "2025-01-16T23:08:20.698Z"
   },
   {
    "duration": 836,
    "start_time": "2025-01-16T23:08:21.706Z"
   },
   {
    "duration": 2684,
    "start_time": "2025-01-16T23:08:22.546Z"
   },
   {
    "duration": 126,
    "start_time": "2025-01-16T23:08:25.232Z"
   },
   {
    "duration": 245,
    "start_time": "2025-01-16T23:08:25.359Z"
   },
   {
    "duration": 1293,
    "start_time": "2025-01-16T23:08:25.606Z"
   },
   {
    "duration": 35,
    "start_time": "2025-01-16T23:08:26.901Z"
   },
   {
    "duration": 34,
    "start_time": "2025-01-16T23:08:26.937Z"
   },
   {
    "duration": 5,
    "start_time": "2025-01-16T23:08:26.973Z"
   },
   {
    "duration": 58,
    "start_time": "2025-01-16T23:08:26.979Z"
   },
   {
    "duration": 263,
    "start_time": "2025-01-16T23:08:27.039Z"
   },
   {
    "duration": 7,
    "start_time": "2025-01-16T23:08:43.446Z"
   },
   {
    "duration": 1249,
    "start_time": "2025-01-16T23:08:51.838Z"
   },
   {
    "duration": 2695,
    "start_time": "2025-01-16T23:08:53.089Z"
   },
   {
    "duration": 3,
    "start_time": "2025-01-16T23:08:55.786Z"
   },
   {
    "duration": 56,
    "start_time": "2025-01-16T23:08:55.792Z"
   },
   {
    "duration": 84,
    "start_time": "2025-01-16T23:08:55.851Z"
   },
   {
    "duration": 7,
    "start_time": "2025-01-16T23:08:55.937Z"
   },
   {
    "duration": 1800,
    "start_time": "2025-01-16T23:08:55.945Z"
   },
   {
    "duration": 4,
    "start_time": "2025-01-16T23:08:57.747Z"
   },
   {
    "duration": 165,
    "start_time": "2025-01-16T23:08:57.753Z"
   },
   {
    "duration": 86,
    "start_time": "2025-01-16T23:08:57.929Z"
   },
   {
    "duration": 22,
    "start_time": "2025-01-16T23:08:58.017Z"
   },
   {
    "duration": 199,
    "start_time": "2025-01-16T23:08:58.041Z"
   },
   {
    "duration": 6,
    "start_time": "2025-01-16T23:08:58.243Z"
   },
   {
    "duration": 51,
    "start_time": "2025-01-16T23:08:58.251Z"
   },
   {
    "duration": 69,
    "start_time": "2025-01-16T23:08:58.304Z"
   },
   {
    "duration": 288,
    "start_time": "2025-01-16T23:08:58.375Z"
   },
   {
    "duration": 5,
    "start_time": "2025-01-16T23:08:58.665Z"
   },
   {
    "duration": 305,
    "start_time": "2025-01-16T23:08:58.672Z"
   },
   {
    "duration": 326,
    "start_time": "2025-01-16T23:08:58.979Z"
   },
   {
    "duration": 103,
    "start_time": "2025-01-16T23:08:59.307Z"
   },
   {
    "duration": 154,
    "start_time": "2025-01-16T23:08:59.412Z"
   },
   {
    "duration": 72,
    "start_time": "2025-01-16T23:08:59.567Z"
   },
   {
    "duration": 222,
    "start_time": "2025-01-16T23:08:59.640Z"
   },
   {
    "duration": 249,
    "start_time": "2025-01-16T23:08:59.864Z"
   },
   {
    "duration": 30,
    "start_time": "2025-01-16T23:09:00.115Z"
   },
   {
    "duration": 1067,
    "start_time": "2025-01-16T23:09:00.147Z"
   },
   {
    "duration": 797,
    "start_time": "2025-01-16T23:09:01.216Z"
   },
   {
    "duration": 1269,
    "start_time": "2025-01-17T08:39:24.455Z"
   },
   {
    "duration": 2556,
    "start_time": "2025-01-17T08:39:25.727Z"
   },
   {
    "duration": 4,
    "start_time": "2025-01-17T08:39:28.285Z"
   },
   {
    "duration": 63,
    "start_time": "2025-01-17T08:39:28.292Z"
   },
   {
    "duration": 76,
    "start_time": "2025-01-17T08:39:28.356Z"
   },
   {
    "duration": 10,
    "start_time": "2025-01-17T08:39:28.435Z"
   },
   {
    "duration": 1903,
    "start_time": "2025-01-17T08:39:28.447Z"
   },
   {
    "duration": 4,
    "start_time": "2025-01-17T08:39:30.352Z"
   },
   {
    "duration": 271,
    "start_time": "2025-01-17T08:39:30.358Z"
   },
   {
    "duration": 108,
    "start_time": "2025-01-17T08:39:30.633Z"
   },
   {
    "duration": 19,
    "start_time": "2025-01-17T08:39:30.743Z"
   },
   {
    "duration": 219,
    "start_time": "2025-01-17T08:39:30.764Z"
   },
   {
    "duration": 8,
    "start_time": "2025-01-17T08:39:30.985Z"
   },
   {
    "duration": 78,
    "start_time": "2025-01-17T08:39:30.994Z"
   },
   {
    "duration": 247,
    "start_time": "2025-01-17T08:39:47.023Z"
   },
   {
    "duration": 3,
    "start_time": "2025-01-17T08:50:43.473Z"
   },
   {
    "duration": 2043,
    "start_time": "2025-01-17T08:50:43.479Z"
   },
   {
    "duration": 17,
    "start_time": "2025-01-17T08:50:45.524Z"
   },
   {
    "duration": 92,
    "start_time": "2025-01-17T08:50:45.545Z"
   },
   {
    "duration": 65,
    "start_time": "2025-01-17T08:50:45.641Z"
   },
   {
    "duration": 21,
    "start_time": "2025-01-17T08:50:45.708Z"
   },
   {
    "duration": 1904,
    "start_time": "2025-01-17T08:50:45.731Z"
   },
   {
    "duration": 10,
    "start_time": "2025-01-17T08:50:47.641Z"
   },
   {
    "duration": 134,
    "start_time": "2025-01-17T08:50:47.653Z"
   },
   {
    "duration": 90,
    "start_time": "2025-01-17T08:50:47.789Z"
   },
   {
    "duration": 12,
    "start_time": "2025-01-17T08:50:47.881Z"
   },
   {
    "duration": 228,
    "start_time": "2025-01-17T08:50:47.895Z"
   },
   {
    "duration": 7,
    "start_time": "2025-01-17T08:50:48.125Z"
   },
   {
    "duration": 57,
    "start_time": "2025-01-17T08:50:48.136Z"
   },
   {
    "duration": 51,
    "start_time": "2025-01-17T08:50:48.194Z"
   },
   {
    "duration": 248,
    "start_time": "2025-01-17T08:50:48.247Z"
   },
   {
    "duration": 4,
    "start_time": "2025-01-17T08:50:48.497Z"
   },
   {
    "duration": 291,
    "start_time": "2025-01-17T08:50:48.503Z"
   },
   {
    "duration": 472,
    "start_time": "2025-01-17T08:50:48.796Z"
   },
   {
    "duration": 91,
    "start_time": "2025-01-17T08:50:49.269Z"
   },
   {
    "duration": 139,
    "start_time": "2025-01-17T08:50:49.361Z"
   },
   {
    "duration": 64,
    "start_time": "2025-01-17T08:50:49.502Z"
   },
   {
    "duration": 222,
    "start_time": "2025-01-17T08:50:49.568Z"
   },
   {
    "duration": 320,
    "start_time": "2025-01-17T08:50:49.792Z"
   },
   {
    "duration": 37,
    "start_time": "2025-01-17T08:50:50.113Z"
   },
   {
    "duration": 1234,
    "start_time": "2025-01-17T08:50:50.152Z"
   },
   {
    "duration": 840,
    "start_time": "2025-01-17T08:50:51.387Z"
   },
   {
    "duration": 2966,
    "start_time": "2025-01-17T08:50:52.228Z"
   },
   {
    "duration": 120,
    "start_time": "2025-01-17T08:50:57.842Z"
   },
   {
    "duration": 20,
    "start_time": "2025-01-17T08:51:13.744Z"
   },
   {
    "duration": 113,
    "start_time": "2025-01-17T08:52:06.234Z"
   },
   {
    "duration": 43,
    "start_time": "2025-01-17T08:52:55.104Z"
   },
   {
    "duration": 45,
    "start_time": "2025-01-17T08:53:13.808Z"
   },
   {
    "duration": 51,
    "start_time": "2025-01-17T10:44:14.256Z"
   },
   {
    "duration": 1428,
    "start_time": "2025-01-17T10:44:31.143Z"
   },
   {
    "duration": 2816,
    "start_time": "2025-01-17T10:44:32.777Z"
   },
   {
    "duration": 3,
    "start_time": "2025-01-17T10:44:38.043Z"
   },
   {
    "duration": 24,
    "start_time": "2025-01-17T10:44:40.025Z"
   },
   {
    "duration": 36,
    "start_time": "2025-01-17T10:44:40.844Z"
   },
   {
    "duration": 6,
    "start_time": "2025-01-17T10:44:42.876Z"
   },
   {
    "duration": 1610,
    "start_time": "2025-01-17T10:44:44.443Z"
   },
   {
    "duration": 4,
    "start_time": "2025-01-17T10:44:46.055Z"
   },
   {
    "duration": 132,
    "start_time": "2025-01-17T10:44:49.923Z"
   },
   {
    "duration": 78,
    "start_time": "2025-01-17T10:44:51.572Z"
   },
   {
    "duration": 14,
    "start_time": "2025-01-17T10:44:53.376Z"
   },
   {
    "duration": 175,
    "start_time": "2025-01-17T10:44:53.928Z"
   },
   {
    "duration": 5,
    "start_time": "2025-01-17T10:44:54.476Z"
   },
   {
    "duration": 46,
    "start_time": "2025-01-17T10:44:55.043Z"
   },
   {
    "duration": 40,
    "start_time": "2025-01-17T10:44:56.509Z"
   },
   {
    "duration": 231,
    "start_time": "2025-01-17T10:44:57.160Z"
   },
   {
    "duration": 4,
    "start_time": "2025-01-17T10:45:03.059Z"
   },
   {
    "duration": 284,
    "start_time": "2025-01-17T10:45:03.607Z"
   },
   {
    "duration": 445,
    "start_time": "2025-01-17T10:45:06.822Z"
   },
   {
    "duration": 84,
    "start_time": "2025-01-17T10:45:07.417Z"
   },
   {
    "duration": 132,
    "start_time": "2025-01-17T10:45:08.505Z"
   },
   {
    "duration": 58,
    "start_time": "2025-01-17T10:45:09.926Z"
   },
   {
    "duration": 200,
    "start_time": "2025-01-17T10:45:11.104Z"
   },
   {
    "duration": 223,
    "start_time": "2025-01-17T10:45:12.407Z"
   },
   {
    "duration": 25,
    "start_time": "2025-01-17T10:45:29.769Z"
   },
   {
    "duration": 1130,
    "start_time": "2025-01-17T10:45:30.242Z"
   },
   {
    "duration": 740,
    "start_time": "2025-01-17T10:45:35.360Z"
   },
   {
    "duration": 2569,
    "start_time": "2025-01-17T10:45:36.102Z"
   },
   {
    "duration": 122,
    "start_time": "2025-01-17T10:45:38.673Z"
   },
   {
    "duration": 199,
    "start_time": "2025-01-17T10:45:42.727Z"
   },
   {
    "duration": 1270,
    "start_time": "2025-01-17T10:45:56.308Z"
   },
   {
    "duration": 114,
    "start_time": "2025-01-17T10:48:08.392Z"
   },
   {
    "duration": 203,
    "start_time": "2025-01-17T10:57:03.512Z"
   },
   {
    "duration": 212,
    "start_time": "2025-01-17T11:04:19.472Z"
   },
   {
    "duration": 212,
    "start_time": "2025-01-17T11:04:58.605Z"
   },
   {
    "duration": 211,
    "start_time": "2025-01-17T11:05:07.084Z"
   },
   {
    "duration": 266,
    "start_time": "2025-01-17T11:09:43.618Z"
   },
   {
    "duration": 209,
    "start_time": "2025-01-17T11:09:54.628Z"
   },
   {
    "duration": 221,
    "start_time": "2025-01-17T11:10:04.306Z"
   },
   {
    "duration": 63,
    "start_time": "2025-01-17T11:11:54.394Z"
   },
   {
    "duration": 748,
    "start_time": "2025-01-17T11:12:02.656Z"
   },
   {
    "duration": 2777,
    "start_time": "2025-01-17T11:12:04.868Z"
   },
   {
    "duration": 114,
    "start_time": "2025-01-17T11:12:07.647Z"
   },
   {
    "duration": 216,
    "start_time": "2025-01-17T11:12:10.005Z"
   },
   {
    "duration": 1254,
    "start_time": "2025-01-17T11:12:14.824Z"
   },
   {
    "duration": 215,
    "start_time": "2025-01-17T11:12:53.924Z"
   },
   {
    "duration": 86,
    "start_time": "2025-01-17T11:15:39.532Z"
   },
   {
    "duration": 8861,
    "start_time": "2025-01-17T11:16:35.390Z"
   },
   {
    "duration": 74,
    "start_time": "2025-01-17T11:16:46.474Z"
   },
   {
    "duration": 2763,
    "start_time": "2025-01-17T11:16:48.652Z"
   },
   {
    "duration": 65,
    "start_time": "2025-01-17T11:18:19.019Z"
   },
   {
    "duration": 2561,
    "start_time": "2025-01-17T11:25:20.766Z"
   },
   {
    "duration": 2631,
    "start_time": "2025-01-17T11:25:34.689Z"
   },
   {
    "duration": 2608,
    "start_time": "2025-01-17T11:26:35.436Z"
   },
   {
    "duration": 2650,
    "start_time": "2025-01-17T11:26:48.574Z"
   },
   {
    "duration": 2582,
    "start_time": "2025-01-17T11:26:57.534Z"
   },
   {
    "duration": 3998,
    "start_time": "2025-01-17T11:27:50.636Z"
   },
   {
    "duration": 19,
    "start_time": "2025-01-17T11:28:20.519Z"
   },
   {
    "duration": 69,
    "start_time": "2025-01-17T11:28:28.788Z"
   },
   {
    "duration": 4073,
    "start_time": "2025-01-17T11:28:34.853Z"
   },
   {
    "duration": 7,
    "start_time": "2025-01-17T11:30:05.635Z"
   },
   {
    "duration": 94,
    "start_time": "2025-01-17T11:30:06.457Z"
   },
   {
    "duration": 134,
    "start_time": "2025-01-17T11:30:07.868Z"
   },
   {
    "duration": 58,
    "start_time": "2025-01-17T11:30:09.440Z"
   },
   {
    "duration": 199,
    "start_time": "2025-01-17T11:30:11.405Z"
   },
   {
    "duration": 218,
    "start_time": "2025-01-17T11:30:13.003Z"
   },
   {
    "duration": 26,
    "start_time": "2025-01-17T11:30:18.538Z"
   },
   {
    "duration": 64,
    "start_time": "2025-01-17T11:30:19.656Z"
   },
   {
    "duration": 4165,
    "start_time": "2025-01-17T11:30:28.061Z"
   },
   {
    "duration": 1399,
    "start_time": "2025-01-17T11:35:52.137Z"
   },
   {
    "duration": 16,
    "start_time": "2025-01-17T11:35:54.987Z"
   },
   {
    "duration": 3,
    "start_time": "2025-01-17T11:36:06.614Z"
   },
   {
    "duration": 2043,
    "start_time": "2025-01-17T11:36:08.535Z"
   },
   {
    "duration": 42,
    "start_time": "2025-01-17T11:36:13.868Z"
   },
   {
    "duration": 34,
    "start_time": "2025-01-17T11:36:15.823Z"
   },
   {
    "duration": 36,
    "start_time": "2025-01-17T11:36:16.890Z"
   },
   {
    "duration": 6,
    "start_time": "2025-01-17T11:36:19.334Z"
   },
   {
    "duration": 1658,
    "start_time": "2025-01-17T11:36:35.257Z"
   },
   {
    "duration": 4,
    "start_time": "2025-01-17T11:36:38.973Z"
   },
   {
    "duration": 125,
    "start_time": "2025-01-17T11:36:48.022Z"
   },
   {
    "duration": 79,
    "start_time": "2025-01-17T11:36:52.151Z"
   },
   {
    "duration": 14,
    "start_time": "2025-01-17T11:36:55.322Z"
   },
   {
    "duration": 164,
    "start_time": "2025-01-17T11:36:56.456Z"
   },
   {
    "duration": 3,
    "start_time": "2025-01-17T11:36:57.424Z"
   },
   {
    "duration": 48,
    "start_time": "2025-01-17T11:36:59.007Z"
   },
   {
    "duration": 41,
    "start_time": "2025-01-17T11:37:07.848Z"
   },
   {
    "duration": 226,
    "start_time": "2025-01-17T11:37:10.757Z"
   },
   {
    "duration": 4,
    "start_time": "2025-01-17T11:37:24.469Z"
   },
   {
    "duration": 247,
    "start_time": "2025-01-17T11:37:26.155Z"
   },
   {
    "duration": 6,
    "start_time": "2025-01-17T11:37:40.950Z"
   },
   {
    "duration": 88,
    "start_time": "2025-01-17T11:37:43.059Z"
   },
   {
    "duration": 129,
    "start_time": "2025-01-17T11:37:45.091Z"
   },
   {
    "duration": 45,
    "start_time": "2025-01-17T11:37:47.351Z"
   },
   {
    "duration": 40,
    "start_time": "2025-01-17T11:37:51.945Z"
   },
   {
    "duration": 294,
    "start_time": "2025-01-17T11:37:53.348Z"
   },
   {
    "duration": 251,
    "start_time": "2025-01-17T11:37:55.576Z"
   },
   {
    "duration": 25,
    "start_time": "2025-01-17T11:38:08.121Z"
   },
   {
    "duration": 2769,
    "start_time": "2025-01-17T11:38:19.649Z"
   },
   {
    "duration": 53,
    "start_time": "2025-01-17T11:47:20.805Z"
   },
   {
    "duration": 40,
    "start_time": "2025-01-17T11:48:42.418Z"
   },
   {
    "duration": 306,
    "start_time": "2025-01-17T11:48:51.104Z"
   },
   {
    "duration": 3667,
    "start_time": "2025-01-17T11:48:59.169Z"
   },
   {
    "duration": 736,
    "start_time": "2025-01-17T11:49:15.739Z"
   },
   {
    "duration": 40,
    "start_time": "2025-01-17T11:49:16.614Z"
   },
   {
    "duration": 101,
    "start_time": "2025-01-17T11:49:18.256Z"
   },
   {
    "duration": 206,
    "start_time": "2025-01-17T11:49:25.472Z"
   },
   {
    "duration": 37,
    "start_time": "2025-01-17T11:49:44.373Z"
   },
   {
    "duration": 3,
    "start_time": "2025-01-17T11:50:07.671Z"
   },
   {
    "duration": 3,
    "start_time": "2025-01-17T11:50:19.968Z"
   },
   {
    "duration": 2040,
    "start_time": "2025-01-17T11:50:22.068Z"
   },
   {
    "duration": 20,
    "start_time": "2025-01-17T11:50:26.439Z"
   },
   {
    "duration": 33,
    "start_time": "2025-01-17T11:50:28.504Z"
   },
   {
    "duration": 36,
    "start_time": "2025-01-17T11:50:29.574Z"
   },
   {
    "duration": 6,
    "start_time": "2025-01-17T11:50:31.573Z"
   },
   {
    "duration": 1629,
    "start_time": "2025-01-17T11:50:32.775Z"
   },
   {
    "duration": 4,
    "start_time": "2025-01-17T11:50:34.406Z"
   },
   {
    "duration": 131,
    "start_time": "2025-01-17T11:50:38.323Z"
   },
   {
    "duration": 93,
    "start_time": "2025-01-17T11:50:40.117Z"
   },
   {
    "duration": 17,
    "start_time": "2025-01-17T11:50:41.773Z"
   },
   {
    "duration": 167,
    "start_time": "2025-01-17T11:50:42.290Z"
   },
   {
    "duration": 3,
    "start_time": "2025-01-17T11:50:43.172Z"
   },
   {
    "duration": 48,
    "start_time": "2025-01-17T11:50:43.706Z"
   },
   {
    "duration": 52,
    "start_time": "2025-01-17T11:50:44.907Z"
   },
   {
    "duration": 267,
    "start_time": "2025-01-17T11:50:45.654Z"
   },
   {
    "duration": 4,
    "start_time": "2025-01-17T11:50:51.972Z"
   },
   {
    "duration": 230,
    "start_time": "2025-01-17T11:50:53.405Z"
   },
   {
    "duration": 5,
    "start_time": "2025-01-17T11:50:58.352Z"
   },
   {
    "duration": 91,
    "start_time": "2025-01-17T11:50:58.957Z"
   },
   {
    "duration": 135,
    "start_time": "2025-01-17T11:51:00.522Z"
   },
   {
    "duration": 48,
    "start_time": "2025-01-17T11:51:02.323Z"
   },
   {
    "duration": 199,
    "start_time": "2025-01-17T11:51:04.586Z"
   },
   {
    "duration": 231,
    "start_time": "2025-01-17T11:51:06.120Z"
   },
   {
    "duration": 24,
    "start_time": "2025-01-17T11:51:18.323Z"
   },
   {
    "duration": 17,
    "start_time": "2025-01-17T11:51:19.872Z"
   },
   {
    "duration": 116,
    "start_time": "2025-01-17T11:51:31.886Z"
   },
   {
    "duration": 2688,
    "start_time": "2025-01-17T11:51:37.506Z"
   },
   {
    "duration": 708,
    "start_time": "2025-01-17T11:51:44.672Z"
   },
   {
    "duration": 127,
    "start_time": "2025-01-17T11:52:21.677Z"
   },
   {
    "duration": 169,
    "start_time": "2025-01-17T11:52:23.239Z"
   },
   {
    "duration": 131,
    "start_time": "2025-01-17T11:52:24.054Z"
   },
   {
    "duration": 198,
    "start_time": "2025-01-17T11:52:30.291Z"
   },
   {
    "duration": 1322,
    "start_time": "2025-01-17T11:52:33.452Z"
   },
   {
    "duration": 183,
    "start_time": "2025-01-17T11:52:45.868Z"
   },
   {
    "duration": 15,
    "start_time": "2025-01-17T11:53:04.956Z"
   },
   {
    "duration": 140,
    "start_time": "2025-01-17T11:53:25.409Z"
   },
   {
    "duration": 24,
    "start_time": "2025-01-17T11:54:11.957Z"
   },
   {
    "duration": 17,
    "start_time": "2025-01-17T11:54:13.357Z"
   },
   {
    "duration": 4166,
    "start_time": "2025-01-17T11:54:14.939Z"
   },
   {
    "duration": 1176,
    "start_time": "2025-01-17T11:54:29.826Z"
   },
   {
    "duration": 3089,
    "start_time": "2025-01-17T11:54:31.005Z"
   },
   {
    "duration": 4,
    "start_time": "2025-01-17T11:54:34.097Z"
   },
   {
    "duration": 70,
    "start_time": "2025-01-17T11:54:34.103Z"
   },
   {
    "duration": 41,
    "start_time": "2025-01-17T11:54:34.176Z"
   },
   {
    "duration": 6,
    "start_time": "2025-01-17T11:54:34.219Z"
   },
   {
    "duration": 1631,
    "start_time": "2025-01-17T11:54:34.226Z"
   },
   {
    "duration": 13,
    "start_time": "2025-01-17T11:54:35.858Z"
   },
   {
    "duration": 151,
    "start_time": "2025-01-17T11:54:35.873Z"
   },
   {
    "duration": 90,
    "start_time": "2025-01-17T11:54:36.027Z"
   },
   {
    "duration": 55,
    "start_time": "2025-01-17T11:54:36.119Z"
   },
   {
    "duration": 209,
    "start_time": "2025-01-17T11:54:36.176Z"
   },
   {
    "duration": 22,
    "start_time": "2025-01-17T11:54:36.386Z"
   },
   {
    "duration": 68,
    "start_time": "2025-01-17T11:54:36.409Z"
   },
   {
    "duration": 74,
    "start_time": "2025-01-17T11:54:36.478Z"
   },
   {
    "duration": 266,
    "start_time": "2025-01-17T11:54:36.554Z"
   },
   {
    "duration": 5,
    "start_time": "2025-01-17T11:54:36.822Z"
   },
   {
    "duration": 285,
    "start_time": "2025-01-17T11:54:36.829Z"
   },
   {
    "duration": 6,
    "start_time": "2025-01-17T11:54:37.116Z"
   },
   {
    "duration": 112,
    "start_time": "2025-01-17T11:54:37.124Z"
   },
   {
    "duration": 132,
    "start_time": "2025-01-17T11:54:37.238Z"
   },
   {
    "duration": 47,
    "start_time": "2025-01-17T11:54:37.372Z"
   },
   {
    "duration": 211,
    "start_time": "2025-01-17T11:54:37.421Z"
   },
   {
    "duration": 229,
    "start_time": "2025-01-17T11:54:37.634Z"
   },
   {
    "duration": 24,
    "start_time": "2025-01-17T11:54:37.865Z"
   },
   {
    "duration": 135,
    "start_time": "2025-01-17T11:54:37.891Z"
   },
   {
    "duration": 3344,
    "start_time": "2025-01-17T11:54:38.028Z"
   },
   {
    "duration": 206,
    "start_time": "2025-01-17T11:54:41.377Z"
   },
   {
    "duration": 5234,
    "start_time": "2025-01-17T11:54:41.585Z"
   },
   {
    "duration": 284,
    "start_time": "2025-01-17T11:54:46.822Z"
   },
   {
    "duration": 391,
    "start_time": "2025-01-17T11:54:47.108Z"
   },
   {
    "duration": 2695,
    "start_time": "2025-01-17T11:54:47.501Z"
   },
   {
    "duration": 73,
    "start_time": "2025-01-17T11:54:50.198Z"
   },
   {
    "duration": 12,
    "start_time": "2025-01-17T11:54:50.273Z"
   },
   {
    "duration": 21,
    "start_time": "2025-01-17T11:54:50.287Z"
   },
   {
    "duration": 162,
    "start_time": "2025-01-17T11:54:50.310Z"
   },
   {
    "duration": 414,
    "start_time": "2025-01-17T11:54:50.474Z"
   },
   {
    "duration": 1158,
    "start_time": "2025-01-17T12:01:21.040Z"
   },
   {
    "duration": 2080,
    "start_time": "2025-01-17T12:01:24.819Z"
   },
   {
    "duration": 3,
    "start_time": "2025-01-17T12:01:30.224Z"
   },
   {
    "duration": 26,
    "start_time": "2025-01-17T12:01:32.189Z"
   },
   {
    "duration": 39,
    "start_time": "2025-01-17T12:01:32.925Z"
   },
   {
    "duration": 7,
    "start_time": "2025-01-17T12:01:34.620Z"
   },
   {
    "duration": 1738,
    "start_time": "2025-01-17T12:01:35.693Z"
   },
   {
    "duration": 5,
    "start_time": "2025-01-17T12:01:37.433Z"
   },
   {
    "duration": 134,
    "start_time": "2025-01-17T12:01:39.687Z"
   },
   {
    "duration": 81,
    "start_time": "2025-01-17T12:01:41.652Z"
   },
   {
    "duration": 13,
    "start_time": "2025-01-17T12:01:43.370Z"
   },
   {
    "duration": 172,
    "start_time": "2025-01-17T12:01:43.941Z"
   },
   {
    "duration": 6,
    "start_time": "2025-01-17T12:01:44.458Z"
   },
   {
    "duration": 44,
    "start_time": "2025-01-17T12:01:45.109Z"
   },
   {
    "duration": 43,
    "start_time": "2025-01-17T12:01:47.072Z"
   },
   {
    "duration": 348,
    "start_time": "2025-01-17T12:01:47.758Z"
   },
   {
    "duration": 4,
    "start_time": "2025-01-17T12:01:53.990Z"
   },
   {
    "duration": 268,
    "start_time": "2025-01-17T12:01:54.614Z"
   },
   {
    "duration": 6,
    "start_time": "2025-01-17T12:01:58.356Z"
   },
   {
    "duration": 86,
    "start_time": "2025-01-17T12:01:59.237Z"
   },
   {
    "duration": 136,
    "start_time": "2025-01-17T12:02:00.557Z"
   },
   {
    "duration": 45,
    "start_time": "2025-01-17T12:02:01.992Z"
   },
   {
    "duration": 197,
    "start_time": "2025-01-17T12:02:03.824Z"
   },
   {
    "duration": 223,
    "start_time": "2025-01-17T12:02:05.055Z"
   },
   {
    "duration": 25,
    "start_time": "2025-01-17T12:02:10.605Z"
   },
   {
    "duration": 112,
    "start_time": "2025-01-17T12:02:11.487Z"
   },
   {
    "duration": 2779,
    "start_time": "2025-01-17T12:02:13.187Z"
   },
   {
    "duration": 133,
    "start_time": "2025-01-17T12:02:19.657Z"
   },
   {
    "duration": 3393,
    "start_time": "2025-01-17T12:02:21.690Z"
   },
   {
    "duration": 103,
    "start_time": "2025-01-17T12:02:26.291Z"
   },
   {
    "duration": 180,
    "start_time": "2025-01-17T12:02:37.972Z"
   },
   {
    "duration": 111,
    "start_time": "2025-01-17T12:03:42.892Z"
   },
   {
    "duration": 198,
    "start_time": "2025-01-17T12:04:06.307Z"
   },
   {
    "duration": 3528,
    "start_time": "2025-01-17T12:05:58.456Z"
   },
   {
    "duration": 122,
    "start_time": "2025-01-17T12:06:02.258Z"
   },
   {
    "duration": 205,
    "start_time": "2025-01-17T12:06:06.565Z"
   },
   {
    "duration": 1447,
    "start_time": "2025-01-17T12:06:11.529Z"
   },
   {
    "duration": 177,
    "start_time": "2025-01-17T12:07:25.346Z"
   },
   {
    "duration": 185,
    "start_time": "2025-01-17T12:08:00.457Z"
   },
   {
    "duration": 191,
    "start_time": "2025-01-17T12:08:08.203Z"
   },
   {
    "duration": 50,
    "start_time": "2025-01-17T12:08:59.156Z"
   },
   {
    "duration": 198,
    "start_time": "2025-01-17T12:09:08.174Z"
   },
   {
    "duration": 187,
    "start_time": "2025-01-17T12:11:40.555Z"
   },
   {
    "duration": 173,
    "start_time": "2025-01-17T12:12:11.701Z"
   },
   {
    "duration": 201,
    "start_time": "2025-01-17T12:12:17.537Z"
   },
   {
    "duration": 125,
    "start_time": "2025-01-17T12:12:27.185Z"
   },
   {
    "duration": 126,
    "start_time": "2025-01-17T12:12:40.924Z"
   },
   {
    "duration": 134,
    "start_time": "2025-01-17T12:12:52.822Z"
   },
   {
    "duration": 108,
    "start_time": "2025-01-17T12:13:00.432Z"
   },
   {
    "duration": 130,
    "start_time": "2025-01-17T12:13:06.908Z"
   },
   {
    "duration": 786,
    "start_time": "2025-01-17T12:13:18.384Z"
   },
   {
    "duration": 125,
    "start_time": "2025-01-17T12:13:45.340Z"
   },
   {
    "duration": 141,
    "start_time": "2025-01-17T12:14:40.460Z"
   },
   {
    "duration": 86,
    "start_time": "2025-01-17T12:14:59.038Z"
   },
   {
    "duration": 171,
    "start_time": "2025-01-17T12:15:15.948Z"
   },
   {
    "duration": 146,
    "start_time": "2025-01-17T12:15:25.424Z"
   },
   {
    "duration": 130,
    "start_time": "2025-01-17T12:15:33.237Z"
   },
   {
    "duration": 143,
    "start_time": "2025-01-17T12:16:06.780Z"
   },
   {
    "duration": 128,
    "start_time": "2025-01-17T12:16:26.553Z"
   },
   {
    "duration": 130,
    "start_time": "2025-01-17T12:16:45.020Z"
   },
   {
    "duration": 134,
    "start_time": "2025-01-17T12:19:45.744Z"
   },
   {
    "duration": 128,
    "start_time": "2025-01-17T12:20:12.289Z"
   },
   {
    "duration": 53,
    "start_time": "2025-01-17T15:13:58.637Z"
   },
   {
    "duration": 1595,
    "start_time": "2025-01-17T15:14:14.045Z"
   },
   {
    "duration": 2677,
    "start_time": "2025-01-17T15:14:15.642Z"
   },
   {
    "duration": 4,
    "start_time": "2025-01-17T15:14:18.320Z"
   },
   {
    "duration": 48,
    "start_time": "2025-01-17T15:14:18.325Z"
   },
   {
    "duration": 39,
    "start_time": "2025-01-17T15:14:18.375Z"
   },
   {
    "duration": 8,
    "start_time": "2025-01-17T15:14:18.415Z"
   },
   {
    "duration": 1878,
    "start_time": "2025-01-17T15:14:18.425Z"
   },
   {
    "duration": 4,
    "start_time": "2025-01-17T15:14:20.305Z"
   },
   {
    "duration": 180,
    "start_time": "2025-01-17T15:14:20.311Z"
   },
   {
    "duration": 100,
    "start_time": "2025-01-17T15:14:20.493Z"
   },
   {
    "duration": 16,
    "start_time": "2025-01-17T15:14:20.595Z"
   },
   {
    "duration": 201,
    "start_time": "2025-01-17T15:14:20.614Z"
   },
   {
    "duration": 8,
    "start_time": "2025-01-17T15:14:20.817Z"
   },
   {
    "duration": 67,
    "start_time": "2025-01-17T15:14:20.830Z"
   },
   {
    "duration": 61,
    "start_time": "2025-01-17T15:14:20.899Z"
   },
   {
    "duration": 264,
    "start_time": "2025-01-17T15:14:20.962Z"
   },
   {
    "duration": 33,
    "start_time": "2025-01-17T15:14:21.229Z"
   },
   {
    "duration": 298,
    "start_time": "2025-01-17T15:14:21.265Z"
   },
   {
    "duration": 6,
    "start_time": "2025-01-17T15:14:21.565Z"
   },
   {
    "duration": 126,
    "start_time": "2025-01-17T15:14:21.572Z"
   },
   {
    "duration": 160,
    "start_time": "2025-01-17T15:14:21.700Z"
   },
   {
    "duration": 51,
    "start_time": "2025-01-17T15:14:21.862Z"
   },
   {
    "duration": 226,
    "start_time": "2025-01-17T15:14:21.915Z"
   },
   {
    "duration": 241,
    "start_time": "2025-01-17T15:14:22.143Z"
   },
   {
    "duration": 24,
    "start_time": "2025-01-17T15:14:22.386Z"
   },
   {
    "duration": 166,
    "start_time": "2025-01-17T15:14:22.412Z"
   },
   {
    "duration": 9447,
    "start_time": "2025-01-17T15:14:22.580Z"
   },
   {
    "duration": 139,
    "start_time": "2025-01-17T15:14:32.030Z"
   },
   {
    "duration": 3709,
    "start_time": "2025-01-17T15:14:32.171Z"
   },
   {
    "duration": 105,
    "start_time": "2025-01-17T15:14:35.882Z"
   },
   {
    "duration": 174,
    "start_time": "2025-01-17T15:14:35.989Z"
   },
   {
    "duration": 0,
    "start_time": "2025-01-17T15:14:36.164Z"
   },
   {
    "duration": 0,
    "start_time": "2025-01-17T15:14:36.166Z"
   },
   {
    "duration": 0,
    "start_time": "2025-01-17T15:14:36.167Z"
   },
   {
    "duration": 0,
    "start_time": "2025-01-17T15:14:36.168Z"
   },
   {
    "duration": 0,
    "start_time": "2025-01-17T15:14:36.169Z"
   },
   {
    "duration": 0,
    "start_time": "2025-01-17T15:14:36.171Z"
   },
   {
    "duration": 0,
    "start_time": "2025-01-17T15:14:36.172Z"
   },
   {
    "duration": 4,
    "start_time": "2025-01-17T15:14:38.976Z"
   },
   {
    "duration": 2295,
    "start_time": "2025-01-17T15:14:41.780Z"
   },
   {
    "duration": 14,
    "start_time": "2025-01-17T15:14:47.581Z"
   },
   {
    "duration": 36,
    "start_time": "2025-01-17T15:14:51.010Z"
   },
   {
    "duration": 41,
    "start_time": "2025-01-17T15:14:51.912Z"
   },
   {
    "duration": 7,
    "start_time": "2025-01-17T15:14:53.845Z"
   },
   {
    "duration": 1885,
    "start_time": "2025-01-17T15:14:55.115Z"
   },
   {
    "duration": 6,
    "start_time": "2025-01-17T15:14:57.002Z"
   },
   {
    "duration": 137,
    "start_time": "2025-01-17T15:14:58.897Z"
   },
   {
    "duration": 194,
    "start_time": "2025-01-17T15:15:00.496Z"
   },
   {
    "duration": 15,
    "start_time": "2025-01-17T15:15:02.145Z"
   },
   {
    "duration": 184,
    "start_time": "2025-01-17T15:15:03.498Z"
   },
   {
    "duration": 3,
    "start_time": "2025-01-17T15:15:04.355Z"
   },
   {
    "duration": 52,
    "start_time": "2025-01-17T15:15:05.113Z"
   },
   {
    "duration": 47,
    "start_time": "2025-01-17T15:15:06.744Z"
   },
   {
    "duration": 219,
    "start_time": "2025-01-17T15:15:07.393Z"
   },
   {
    "duration": 4,
    "start_time": "2025-01-17T15:15:14.128Z"
   },
   {
    "duration": 264,
    "start_time": "2025-01-17T15:15:15.498Z"
   },
   {
    "duration": 6,
    "start_time": "2025-01-17T15:15:19.531Z"
   },
   {
    "duration": 101,
    "start_time": "2025-01-17T15:15:22.666Z"
   },
   {
    "duration": 143,
    "start_time": "2025-01-17T15:15:24.447Z"
   },
   {
    "duration": 56,
    "start_time": "2025-01-17T15:15:26.346Z"
   },
   {
    "duration": 208,
    "start_time": "2025-01-17T15:15:28.746Z"
   },
   {
    "duration": 233,
    "start_time": "2025-01-17T15:15:30.148Z"
   },
   {
    "duration": 28,
    "start_time": "2025-01-17T15:15:35.831Z"
   },
   {
    "duration": 156,
    "start_time": "2025-01-17T15:15:36.753Z"
   },
   {
    "duration": 2831,
    "start_time": "2025-01-17T15:15:39.079Z"
   },
   {
    "duration": 133,
    "start_time": "2025-01-17T15:15:55.413Z"
   },
   {
    "duration": 3130,
    "start_time": "2025-01-17T15:15:57.112Z"
   },
   {
    "duration": 117,
    "start_time": "2025-01-17T15:16:00.244Z"
   },
   {
    "duration": 76,
    "start_time": "2025-01-17T15:16:05.195Z"
   },
   {
    "duration": 133,
    "start_time": "2025-01-17T15:16:38.166Z"
   },
   {
    "duration": 145,
    "start_time": "2025-01-17T15:17:31.235Z"
   },
   {
    "duration": 141,
    "start_time": "2025-01-17T15:18:06.051Z"
   },
   {
    "duration": 104,
    "start_time": "2025-01-17T15:22:00.999Z"
   },
   {
    "duration": 1306,
    "start_time": "2025-01-17T15:34:12.715Z"
   },
   {
    "duration": 20,
    "start_time": "2025-01-17T15:34:23.826Z"
   },
   {
    "duration": 15,
    "start_time": "2025-01-17T15:34:25.446Z"
   },
   {
    "duration": 9,
    "start_time": "2025-01-17T15:34:27.398Z"
   },
   {
    "duration": 54,
    "start_time": "2025-01-17T15:34:35.434Z"
   },
   {
    "duration": 199,
    "start_time": "2025-01-17T15:34:47.824Z"
   },
   {
    "duration": 18,
    "start_time": "2025-01-17T15:50:48.709Z"
   },
   {
    "duration": 17,
    "start_time": "2025-01-17T15:51:07.730Z"
   },
   {
    "duration": 16,
    "start_time": "2025-01-17T15:52:51.145Z"
   },
   {
    "duration": 17,
    "start_time": "2025-01-17T15:52:57.096Z"
   },
   {
    "duration": 19,
    "start_time": "2025-01-17T15:53:01.408Z"
   },
   {
    "duration": 256,
    "start_time": "2025-01-17T15:53:13.329Z"
   },
   {
    "duration": 5,
    "start_time": "2025-01-17T15:53:18.329Z"
   },
   {
    "duration": 102,
    "start_time": "2025-01-17T15:53:18.928Z"
   },
   {
    "duration": 142,
    "start_time": "2025-01-17T15:53:20.088Z"
   },
   {
    "duration": 49,
    "start_time": "2025-01-17T15:53:21.467Z"
   },
   {
    "duration": 326,
    "start_time": "2025-01-17T15:53:22.763Z"
   },
   {
    "duration": 231,
    "start_time": "2025-01-17T15:53:24.328Z"
   },
   {
    "duration": 43,
    "start_time": "2025-01-17T15:53:50.160Z"
   },
   {
    "duration": 253,
    "start_time": "2025-01-17T15:54:03.406Z"
   },
   {
    "duration": 64,
    "start_time": "2025-01-17T16:00:26.176Z"
   },
   {
    "duration": 44,
    "start_time": "2025-01-17T16:00:53.639Z"
   },
   {
    "duration": 57,
    "start_time": "2025-01-17T16:01:01.771Z"
   },
   {
    "duration": 56,
    "start_time": "2025-01-17T16:02:06.365Z"
   },
   {
    "duration": 54,
    "start_time": "2025-01-17T16:07:40.873Z"
   },
   {
    "duration": 240,
    "start_time": "2025-01-17T16:08:44.390Z"
   },
   {
    "duration": 278,
    "start_time": "2025-01-17T16:09:07.294Z"
   },
   {
    "duration": 255,
    "start_time": "2025-01-17T16:09:20.409Z"
   },
   {
    "duration": 57,
    "start_time": "2025-01-17T16:10:08.808Z"
   },
   {
    "duration": 227,
    "start_time": "2025-01-17T16:11:14.798Z"
   },
   {
    "duration": 41,
    "start_time": "2025-01-17T16:12:08.597Z"
   },
   {
    "duration": 254,
    "start_time": "2025-01-17T16:12:32.745Z"
   },
   {
    "duration": 58,
    "start_time": "2025-01-17T16:13:15.695Z"
   },
   {
    "duration": 255,
    "start_time": "2025-01-17T16:14:09.260Z"
   },
   {
    "duration": 38,
    "start_time": "2025-01-17T16:14:34.029Z"
   },
   {
    "duration": 229,
    "start_time": "2025-01-17T16:14:46.255Z"
   },
   {
    "duration": 40,
    "start_time": "2025-01-17T16:15:00.999Z"
   },
   {
    "duration": 228,
    "start_time": "2025-01-17T16:15:24.465Z"
   },
   {
    "duration": 384,
    "start_time": "2025-01-17T16:18:30.706Z"
   },
   {
    "duration": 230,
    "start_time": "2025-01-17T16:18:47.681Z"
   },
   {
    "duration": 198,
    "start_time": "2025-01-17T16:19:00.626Z"
   },
   {
    "duration": 186,
    "start_time": "2025-01-17T16:22:16.667Z"
   },
   {
    "duration": 55,
    "start_time": "2025-01-17T16:23:30.314Z"
   },
   {
    "duration": 201,
    "start_time": "2025-01-17T16:23:37.103Z"
   },
   {
    "duration": 191,
    "start_time": "2025-01-17T16:24:26.599Z"
   },
   {
    "duration": 176,
    "start_time": "2025-01-17T16:25:40.745Z"
   },
   {
    "duration": 187,
    "start_time": "2025-01-17T16:25:59.541Z"
   },
   {
    "duration": 54,
    "start_time": "2025-01-17T16:27:02.012Z"
   },
   {
    "duration": 54,
    "start_time": "2025-01-17T16:27:48.047Z"
   },
   {
    "duration": 193,
    "start_time": "2025-01-17T16:28:00.801Z"
   },
   {
    "duration": 212,
    "start_time": "2025-01-17T16:29:09.522Z"
   },
   {
    "duration": 52,
    "start_time": "2025-01-17T16:29:41.440Z"
   },
   {
    "duration": 79,
    "start_time": "2025-01-17T16:29:55.756Z"
   },
   {
    "duration": 242,
    "start_time": "2025-01-17T16:34:44.329Z"
   },
   {
    "duration": 117,
    "start_time": "2025-01-17T16:39:33.501Z"
   },
   {
    "duration": 154,
    "start_time": "2025-01-17T16:39:58.878Z"
   },
   {
    "duration": 256,
    "start_time": "2025-01-17T16:41:15.538Z"
   },
   {
    "duration": 229,
    "start_time": "2025-01-17T16:41:38.841Z"
   },
   {
    "duration": 201,
    "start_time": "2025-01-17T16:43:16.237Z"
   },
   {
    "duration": 198,
    "start_time": "2025-01-17T16:44:43.303Z"
   },
   {
    "duration": 205,
    "start_time": "2025-01-17T16:45:01.286Z"
   },
   {
    "duration": 45,
    "start_time": "2025-01-17T16:45:14.871Z"
   },
   {
    "duration": 45,
    "start_time": "2025-01-17T16:45:26.470Z"
   },
   {
    "duration": 1341,
    "start_time": "2025-01-17T16:46:03.283Z"
   },
   {
    "duration": 2800,
    "start_time": "2025-01-17T16:46:04.626Z"
   },
   {
    "duration": 3,
    "start_time": "2025-01-17T16:46:07.428Z"
   },
   {
    "duration": 45,
    "start_time": "2025-01-17T16:46:07.433Z"
   },
   {
    "duration": 79,
    "start_time": "2025-01-17T16:46:07.480Z"
   },
   {
    "duration": 8,
    "start_time": "2025-01-17T16:46:07.562Z"
   },
   {
    "duration": 1987,
    "start_time": "2025-01-17T16:46:07.572Z"
   },
   {
    "duration": 4,
    "start_time": "2025-01-17T16:46:09.561Z"
   },
   {
    "duration": 165,
    "start_time": "2025-01-17T16:46:09.567Z"
   },
   {
    "duration": 96,
    "start_time": "2025-01-17T16:46:09.735Z"
   },
   {
    "duration": 27,
    "start_time": "2025-01-17T16:46:09.833Z"
   },
   {
    "duration": 189,
    "start_time": "2025-01-17T16:46:09.862Z"
   },
   {
    "duration": 11,
    "start_time": "2025-01-17T16:46:10.052Z"
   },
   {
    "duration": 53,
    "start_time": "2025-01-17T16:46:10.064Z"
   },
   {
    "duration": 64,
    "start_time": "2025-01-17T16:46:10.119Z"
   },
   {
    "duration": 240,
    "start_time": "2025-01-17T16:46:10.185Z"
   },
   {
    "duration": 4,
    "start_time": "2025-01-17T16:46:10.426Z"
   },
   {
    "duration": 272,
    "start_time": "2025-01-17T16:46:10.461Z"
   },
   {
    "duration": 5,
    "start_time": "2025-01-17T16:46:10.735Z"
   },
   {
    "duration": 118,
    "start_time": "2025-01-17T16:46:10.742Z"
   },
   {
    "duration": 158,
    "start_time": "2025-01-17T16:46:10.862Z"
   },
   {
    "duration": 53,
    "start_time": "2025-01-17T16:46:11.022Z"
   },
   {
    "duration": 215,
    "start_time": "2025-01-17T16:46:11.077Z"
   },
   {
    "duration": 146,
    "start_time": "2025-01-17T16:46:11.295Z"
   },
   {
    "duration": 0,
    "start_time": "2025-01-17T16:46:11.443Z"
   },
   {
    "duration": 0,
    "start_time": "2025-01-17T16:46:11.444Z"
   },
   {
    "duration": 0,
    "start_time": "2025-01-17T16:46:11.445Z"
   },
   {
    "duration": 0,
    "start_time": "2025-01-17T16:46:11.447Z"
   },
   {
    "duration": 1,
    "start_time": "2025-01-17T16:46:11.460Z"
   },
   {
    "duration": 0,
    "start_time": "2025-01-17T16:46:11.462Z"
   },
   {
    "duration": 0,
    "start_time": "2025-01-17T16:46:11.463Z"
   },
   {
    "duration": 0,
    "start_time": "2025-01-17T16:46:11.464Z"
   },
   {
    "duration": 0,
    "start_time": "2025-01-17T16:46:11.465Z"
   },
   {
    "duration": 0,
    "start_time": "2025-01-17T16:46:11.466Z"
   },
   {
    "duration": 1,
    "start_time": "2025-01-17T16:46:11.467Z"
   },
   {
    "duration": 0,
    "start_time": "2025-01-17T16:46:11.469Z"
   },
   {
    "duration": 0,
    "start_time": "2025-01-17T16:46:11.470Z"
   },
   {
    "duration": 3,
    "start_time": "2025-01-17T16:46:14.446Z"
   },
   {
    "duration": 499,
    "start_time": "2025-01-17T16:46:37.554Z"
   },
   {
    "duration": 203,
    "start_time": "2025-01-17T16:48:24.839Z"
   },
   {
    "duration": 484,
    "start_time": "2025-01-17T16:49:14.562Z"
   },
   {
    "duration": 395,
    "start_time": "2025-01-17T16:49:41.637Z"
   },
   {
    "duration": 374,
    "start_time": "2025-01-17T16:49:55.757Z"
   },
   {
    "duration": 366,
    "start_time": "2025-01-17T16:50:57.580Z"
   },
   {
    "duration": 217,
    "start_time": "2025-01-17T16:52:21.096Z"
   },
   {
    "duration": 39,
    "start_time": "2025-01-17T16:52:50.760Z"
   },
   {
    "duration": 380,
    "start_time": "2025-01-17T16:52:57.979Z"
   },
   {
    "duration": 462,
    "start_time": "2025-01-17T16:53:05.789Z"
   },
   {
    "duration": 228,
    "start_time": "2025-01-17T16:54:12.286Z"
   },
   {
    "duration": 227,
    "start_time": "2025-01-17T16:54:32.233Z"
   },
   {
    "duration": 220,
    "start_time": "2025-01-17T16:54:50.755Z"
   },
   {
    "duration": 46,
    "start_time": "2025-01-17T16:55:10.838Z"
   },
   {
    "duration": 216,
    "start_time": "2025-01-17T16:55:23.178Z"
   },
   {
    "duration": 374,
    "start_time": "2025-01-17T16:55:38.775Z"
   },
   {
    "duration": 201,
    "start_time": "2025-01-17T16:57:05.875Z"
   },
   {
    "duration": 693,
    "start_time": "2025-01-17T16:58:55.062Z"
   },
   {
    "duration": 209,
    "start_time": "2025-01-17T16:59:20.947Z"
   },
   {
    "duration": 69,
    "start_time": "2025-01-17T17:00:28.092Z"
   },
   {
    "duration": 1303,
    "start_time": "2025-01-17T17:03:21.952Z"
   },
   {
    "duration": 2948,
    "start_time": "2025-01-17T17:03:23.257Z"
   },
   {
    "duration": 3,
    "start_time": "2025-01-17T17:03:26.207Z"
   },
   {
    "duration": 55,
    "start_time": "2025-01-17T17:03:26.213Z"
   },
   {
    "duration": 41,
    "start_time": "2025-01-17T17:03:26.270Z"
   },
   {
    "duration": 7,
    "start_time": "2025-01-17T17:03:26.313Z"
   },
   {
    "duration": 2242,
    "start_time": "2025-01-17T17:03:26.322Z"
   },
   {
    "duration": 5,
    "start_time": "2025-01-17T17:03:28.567Z"
   },
   {
    "duration": 398,
    "start_time": "2025-01-17T17:03:28.574Z"
   },
   {
    "duration": 191,
    "start_time": "2025-01-17T17:03:28.975Z"
   },
   {
    "duration": 14,
    "start_time": "2025-01-17T17:03:29.167Z"
   },
   {
    "duration": 188,
    "start_time": "2025-01-17T17:03:29.183Z"
   },
   {
    "duration": 5,
    "start_time": "2025-01-17T17:03:29.373Z"
   },
   {
    "duration": 43,
    "start_time": "2025-01-17T17:03:29.380Z"
   },
   {
    "duration": 83,
    "start_time": "2025-01-17T17:03:29.425Z"
   },
   {
    "duration": 227,
    "start_time": "2025-01-17T17:03:29.509Z"
   },
   {
    "duration": 4,
    "start_time": "2025-01-17T17:03:29.761Z"
   },
   {
    "duration": 286,
    "start_time": "2025-01-17T17:03:29.766Z"
   },
   {
    "duration": 9,
    "start_time": "2025-01-17T17:03:30.054Z"
   },
   {
    "duration": 187,
    "start_time": "2025-01-17T17:03:30.065Z"
   },
   {
    "duration": 154,
    "start_time": "2025-01-17T17:03:30.254Z"
   },
   {
    "duration": 59,
    "start_time": "2025-01-17T17:03:30.410Z"
   },
   {
    "duration": 212,
    "start_time": "2025-01-17T17:03:30.470Z"
   },
   {
    "duration": 218,
    "start_time": "2025-01-17T17:03:30.683Z"
   },
   {
    "duration": 26,
    "start_time": "2025-01-17T17:03:30.903Z"
   },
   {
    "duration": 181,
    "start_time": "2025-01-17T17:03:30.931Z"
   },
   {
    "duration": 3093,
    "start_time": "2025-01-17T17:03:31.113Z"
   },
   {
    "duration": 148,
    "start_time": "2025-01-17T17:03:34.211Z"
   },
   {
    "duration": 3129,
    "start_time": "2025-01-17T17:03:34.362Z"
   },
   {
    "duration": 116,
    "start_time": "2025-01-17T17:03:37.493Z"
   },
   {
    "duration": 125,
    "start_time": "2025-01-17T17:03:37.611Z"
   },
   {
    "duration": 1507,
    "start_time": "2025-01-17T17:03:37.738Z"
   },
   {
    "duration": 22,
    "start_time": "2025-01-17T17:03:39.247Z"
   },
   {
    "duration": 13,
    "start_time": "2025-01-17T17:03:39.270Z"
   },
   {
    "duration": 9,
    "start_time": "2025-01-17T17:03:39.285Z"
   },
   {
    "duration": 81,
    "start_time": "2025-01-17T17:03:39.296Z"
   },
   {
    "duration": 188,
    "start_time": "2025-01-17T17:03:39.379Z"
   },
   {
    "duration": 1310,
    "start_time": "2025-01-17T17:04:03.049Z"
   },
   {
    "duration": 2212,
    "start_time": "2025-01-17T17:04:04.362Z"
   },
   {
    "duration": 4,
    "start_time": "2025-01-17T17:04:06.576Z"
   },
   {
    "duration": 71,
    "start_time": "2025-01-17T17:04:06.582Z"
   },
   {
    "duration": 58,
    "start_time": "2025-01-17T17:04:06.655Z"
   },
   {
    "duration": 52,
    "start_time": "2025-01-17T17:04:06.715Z"
   },
   {
    "duration": 1280,
    "start_time": "2025-01-17T17:50:13.909Z"
   },
   {
    "duration": 2460,
    "start_time": "2025-01-17T17:50:15.191Z"
   },
   {
    "duration": 3,
    "start_time": "2025-01-17T17:50:17.654Z"
   },
   {
    "duration": 76,
    "start_time": "2025-01-17T17:50:17.660Z"
   },
   {
    "duration": 45,
    "start_time": "2025-01-17T17:50:17.739Z"
   },
   {
    "duration": 7,
    "start_time": "2025-01-17T17:50:17.785Z"
   },
   {
    "duration": 1875,
    "start_time": "2025-01-17T17:50:17.793Z"
   },
   {
    "duration": 4,
    "start_time": "2025-01-17T17:50:19.670Z"
   },
   {
    "duration": 169,
    "start_time": "2025-01-17T17:50:19.675Z"
   },
   {
    "duration": 104,
    "start_time": "2025-01-17T17:50:19.849Z"
   },
   {
    "duration": 12,
    "start_time": "2025-01-17T17:50:19.955Z"
   },
   {
    "duration": 178,
    "start_time": "2025-01-17T17:50:19.969Z"
   },
   {
    "duration": 7,
    "start_time": "2025-01-17T17:50:20.149Z"
   },
   {
    "duration": 44,
    "start_time": "2025-01-17T17:50:20.158Z"
   },
   {
    "duration": 81,
    "start_time": "2025-01-17T17:50:20.203Z"
   },
   {
    "duration": 265,
    "start_time": "2025-01-17T17:50:20.286Z"
   },
   {
    "duration": 4,
    "start_time": "2025-01-17T17:50:20.552Z"
   },
   {
    "duration": 288,
    "start_time": "2025-01-17T17:50:20.558Z"
   },
   {
    "duration": 6,
    "start_time": "2025-01-17T17:50:20.848Z"
   },
   {
    "duration": 116,
    "start_time": "2025-01-17T17:50:20.856Z"
   },
   {
    "duration": 150,
    "start_time": "2025-01-17T17:50:20.974Z"
   },
   {
    "duration": 59,
    "start_time": "2025-01-17T17:50:21.125Z"
   },
   {
    "duration": 230,
    "start_time": "2025-01-17T17:50:21.186Z"
   },
   {
    "duration": 230,
    "start_time": "2025-01-17T17:50:21.418Z"
   },
   {
    "duration": 25,
    "start_time": "2025-01-17T17:50:21.651Z"
   },
   {
    "duration": 167,
    "start_time": "2025-01-17T17:50:21.678Z"
   },
   {
    "duration": 9034,
    "start_time": "2025-01-17T17:50:21.847Z"
   },
   {
    "duration": 129,
    "start_time": "2025-01-17T17:50:30.885Z"
   },
   {
    "duration": 2997,
    "start_time": "2025-01-17T17:50:31.015Z"
   },
   {
    "duration": 94,
    "start_time": "2025-01-17T17:50:34.014Z"
   },
   {
    "duration": 96,
    "start_time": "2025-01-17T17:50:34.109Z"
   },
   {
    "duration": 1310,
    "start_time": "2025-01-17T17:50:34.207Z"
   },
   {
    "duration": 24,
    "start_time": "2025-01-17T17:50:35.519Z"
   },
   {
    "duration": 52,
    "start_time": "2025-01-17T17:50:35.545Z"
   },
   {
    "duration": 20,
    "start_time": "2025-01-17T17:50:35.599Z"
   },
   {
    "duration": 67,
    "start_time": "2025-01-17T17:50:35.622Z"
   },
   {
    "duration": 155,
    "start_time": "2025-01-17T17:50:35.691Z"
   },
   {
    "duration": 236,
    "start_time": "2025-01-17T17:52:58.237Z"
   },
   {
    "duration": 162,
    "start_time": "2025-01-17T17:54:00.964Z"
   },
   {
    "duration": 20,
    "start_time": "2025-01-17T17:57:01.534Z"
   },
   {
    "duration": 8,
    "start_time": "2025-01-17T17:57:17.980Z"
   },
   {
    "duration": 4,
    "start_time": "2025-01-17T17:57:26.092Z"
   },
   {
    "duration": 2168,
    "start_time": "2025-01-17T17:57:26.099Z"
   },
   {
    "duration": 22,
    "start_time": "2025-01-17T17:57:28.269Z"
   },
   {
    "duration": 71,
    "start_time": "2025-01-17T17:57:28.293Z"
   },
   {
    "duration": 68,
    "start_time": "2025-01-17T17:57:28.367Z"
   },
   {
    "duration": 10,
    "start_time": "2025-01-17T17:57:28.437Z"
   },
   {
    "duration": 1883,
    "start_time": "2025-01-17T17:57:28.449Z"
   },
   {
    "duration": 7,
    "start_time": "2025-01-17T17:57:30.335Z"
   },
   {
    "duration": 164,
    "start_time": "2025-01-17T17:57:30.345Z"
   },
   {
    "duration": 99,
    "start_time": "2025-01-17T17:57:30.511Z"
   },
   {
    "duration": 30,
    "start_time": "2025-01-17T17:57:30.614Z"
   },
   {
    "duration": 209,
    "start_time": "2025-01-17T17:57:30.647Z"
   },
   {
    "duration": 3,
    "start_time": "2025-01-17T17:57:30.857Z"
   },
   {
    "duration": 62,
    "start_time": "2025-01-17T17:57:30.862Z"
   },
   {
    "duration": 48,
    "start_time": "2025-01-17T17:57:30.926Z"
   },
   {
    "duration": 281,
    "start_time": "2025-01-17T17:57:30.977Z"
   },
   {
    "duration": 5,
    "start_time": "2025-01-17T17:57:31.259Z"
   },
   {
    "duration": 292,
    "start_time": "2025-01-17T17:57:31.265Z"
   },
   {
    "duration": 5,
    "start_time": "2025-01-17T17:57:31.559Z"
   },
   {
    "duration": 115,
    "start_time": "2025-01-17T17:57:31.566Z"
   },
   {
    "duration": 152,
    "start_time": "2025-01-17T17:57:31.683Z"
   },
   {
    "duration": 56,
    "start_time": "2025-01-17T17:57:31.838Z"
   },
   {
    "duration": 283,
    "start_time": "2025-01-17T17:57:31.896Z"
   },
   {
    "duration": 228,
    "start_time": "2025-01-17T17:57:32.181Z"
   },
   {
    "duration": 22,
    "start_time": "2025-01-17T17:57:44.756Z"
   },
   {
    "duration": 4,
    "start_time": "2025-01-17T18:03:49.156Z"
   },
   {
    "duration": 2142,
    "start_time": "2025-01-17T18:03:49.162Z"
   },
   {
    "duration": 24,
    "start_time": "2025-01-17T18:03:51.306Z"
   },
   {
    "duration": 30,
    "start_time": "2025-01-17T18:03:51.332Z"
   },
   {
    "duration": 75,
    "start_time": "2025-01-17T18:03:51.364Z"
   },
   {
    "duration": 7,
    "start_time": "2025-01-17T18:03:51.441Z"
   },
   {
    "duration": 1873,
    "start_time": "2025-01-17T18:03:51.450Z"
   },
   {
    "duration": 4,
    "start_time": "2025-01-17T18:03:53.331Z"
   },
   {
    "duration": 274,
    "start_time": "2025-01-17T18:03:53.337Z"
   },
   {
    "duration": 217,
    "start_time": "2025-01-17T18:03:53.613Z"
   },
   {
    "duration": 14,
    "start_time": "2025-01-17T18:03:53.834Z"
   },
   {
    "duration": 190,
    "start_time": "2025-01-17T18:03:53.849Z"
   },
   {
    "duration": 2,
    "start_time": "2025-01-17T18:03:54.041Z"
   },
   {
    "duration": 59,
    "start_time": "2025-01-17T18:03:54.045Z"
   },
   {
    "duration": 64,
    "start_time": "2025-01-17T18:03:54.105Z"
   },
   {
    "duration": 270,
    "start_time": "2025-01-17T18:03:54.171Z"
   },
   {
    "duration": 5,
    "start_time": "2025-01-17T18:03:54.442Z"
   },
   {
    "duration": 274,
    "start_time": "2025-01-17T18:03:54.449Z"
   },
   {
    "duration": 6,
    "start_time": "2025-01-17T18:03:54.730Z"
   },
   {
    "duration": 113,
    "start_time": "2025-01-17T18:03:54.738Z"
   },
   {
    "duration": 134,
    "start_time": "2025-01-17T18:03:54.853Z"
   },
   {
    "duration": 56,
    "start_time": "2025-01-17T18:03:54.989Z"
   },
   {
    "duration": 211,
    "start_time": "2025-01-17T18:03:55.047Z"
   },
   {
    "duration": 212,
    "start_time": "2025-01-17T18:03:55.260Z"
   },
   {
    "duration": 177,
    "start_time": "2025-01-17T18:03:55.474Z"
   },
   {
    "duration": 25,
    "start_time": "2025-01-17T18:03:55.653Z"
   },
   {
    "duration": 168,
    "start_time": "2025-01-17T18:03:55.680Z"
   },
   {
    "duration": 2952,
    "start_time": "2025-01-17T18:03:55.850Z"
   },
   {
    "duration": 153,
    "start_time": "2025-01-17T18:03:58.807Z"
   },
   {
    "duration": 3314,
    "start_time": "2025-01-17T18:03:58.963Z"
   },
   {
    "duration": 117,
    "start_time": "2025-01-17T18:04:02.279Z"
   },
   {
    "duration": 121,
    "start_time": "2025-01-17T18:04:02.397Z"
   },
   {
    "duration": 1313,
    "start_time": "2025-01-17T18:04:02.520Z"
   },
   {
    "duration": 20,
    "start_time": "2025-01-17T18:04:03.835Z"
   },
   {
    "duration": 67,
    "start_time": "2025-01-17T18:04:03.857Z"
   },
   {
    "duration": 30,
    "start_time": "2025-01-17T18:04:17.500Z"
   },
   {
    "duration": 19,
    "start_time": "2025-01-17T18:05:16.684Z"
   },
   {
    "duration": 1226,
    "start_time": "2025-01-17T18:13:17.150Z"
   },
   {
    "duration": 2675,
    "start_time": "2025-01-17T18:13:18.378Z"
   },
   {
    "duration": 3,
    "start_time": "2025-01-17T18:13:21.055Z"
   },
   {
    "duration": 23,
    "start_time": "2025-01-17T18:13:21.060Z"
   },
   {
    "duration": 48,
    "start_time": "2025-01-17T18:13:21.084Z"
   },
   {
    "duration": 6,
    "start_time": "2025-01-17T18:13:21.134Z"
   },
   {
    "duration": 55,
    "start_time": "2025-01-17T18:37:14.409Z"
   },
   {
    "duration": 1374,
    "start_time": "2025-01-17T18:38:13.504Z"
   },
   {
    "duration": 2424,
    "start_time": "2025-01-17T18:38:18.124Z"
   },
   {
    "duration": 4,
    "start_time": "2025-01-17T18:38:23.638Z"
   },
   {
    "duration": 41,
    "start_time": "2025-01-17T18:38:27.005Z"
   },
   {
    "duration": 38,
    "start_time": "2025-01-17T18:38:27.867Z"
   },
   {
    "duration": 6,
    "start_time": "2025-01-17T18:38:30.567Z"
   },
   {
    "duration": 1801,
    "start_time": "2025-01-17T18:38:31.479Z"
   },
   {
    "duration": 4,
    "start_time": "2025-01-17T18:38:33.283Z"
   },
   {
    "duration": 136,
    "start_time": "2025-01-17T18:38:37.979Z"
   },
   {
    "duration": 91,
    "start_time": "2025-01-17T18:38:40.151Z"
   },
   {
    "duration": 18,
    "start_time": "2025-01-17T18:38:47.431Z"
   },
   {
    "duration": 162,
    "start_time": "2025-01-17T18:38:48.353Z"
   },
   {
    "duration": 5,
    "start_time": "2025-01-17T18:38:48.949Z"
   },
   {
    "duration": 51,
    "start_time": "2025-01-17T18:38:51.214Z"
   },
   {
    "duration": 46,
    "start_time": "2025-01-17T18:38:53.596Z"
   },
   {
    "duration": 244,
    "start_time": "2025-01-17T18:38:54.301Z"
   },
   {
    "duration": 4,
    "start_time": "2025-01-17T18:39:09.768Z"
   },
   {
    "duration": 271,
    "start_time": "2025-01-17T18:39:10.734Z"
   },
   {
    "duration": 5,
    "start_time": "2025-01-17T18:42:37.947Z"
   },
   {
    "duration": 96,
    "start_time": "2025-01-17T18:42:39.146Z"
   },
   {
    "duration": 140,
    "start_time": "2025-01-17T18:43:19.342Z"
   },
   {
    "duration": 51,
    "start_time": "2025-01-17T18:43:21.017Z"
   },
   {
    "duration": 212,
    "start_time": "2025-01-17T18:43:24.621Z"
   },
   {
    "duration": 219,
    "start_time": "2025-01-17T18:43:27.315Z"
   },
   {
    "duration": 187,
    "start_time": "2025-01-17T18:43:34.651Z"
   },
   {
    "duration": 24,
    "start_time": "2025-01-17T18:44:52.653Z"
   },
   {
    "duration": 118,
    "start_time": "2025-01-17T18:44:53.571Z"
   },
   {
    "duration": 8923,
    "start_time": "2025-01-17T18:44:54.387Z"
   },
   {
    "duration": 129,
    "start_time": "2025-01-17T18:45:08.831Z"
   },
   {
    "duration": 3374,
    "start_time": "2025-01-17T18:45:10.019Z"
   },
   {
    "duration": 94,
    "start_time": "2025-01-17T18:45:13.395Z"
   },
   {
    "duration": 87,
    "start_time": "2025-01-17T18:45:17.869Z"
   },
   {
    "duration": 1185,
    "start_time": "2025-01-17T18:45:35.781Z"
   },
   {
    "duration": 77,
    "start_time": "2025-01-17T18:47:18.087Z"
   },
   {
    "duration": 23,
    "start_time": "2025-01-17T18:47:33.966Z"
   },
   {
    "duration": 20,
    "start_time": "2025-01-17T18:47:44.670Z"
   },
   {
    "duration": 1310,
    "start_time": "2025-01-17T18:47:53.878Z"
   },
   {
    "duration": 1335,
    "start_time": "2025-01-17T18:48:57.633Z"
   },
   {
    "duration": 1559,
    "start_time": "2025-01-17T18:49:46.915Z"
   },
   {
    "duration": 1395,
    "start_time": "2025-01-17T18:49:53.966Z"
   },
   {
    "duration": 1293,
    "start_time": "2025-01-17T18:50:02.262Z"
   },
   {
    "duration": 1414,
    "start_time": "2025-01-17T18:50:12.456Z"
   },
   {
    "duration": 1322,
    "start_time": "2025-01-17T18:53:19.656Z"
   },
   {
    "duration": 1248,
    "start_time": "2025-01-17T18:55:29.158Z"
   },
   {
    "duration": 1625,
    "start_time": "2025-01-17T18:56:22.953Z"
   },
   {
    "duration": 1773,
    "start_time": "2025-01-17T18:56:35.990Z"
   },
   {
    "duration": 1757,
    "start_time": "2025-01-17T18:56:53.088Z"
   },
   {
    "duration": 1842,
    "start_time": "2025-01-17T19:00:28.485Z"
   },
   {
    "duration": 1827,
    "start_time": "2025-01-17T19:01:12.484Z"
   },
   {
    "duration": 155,
    "start_time": "2025-01-17T19:02:36.861Z"
   },
   {
    "duration": 14,
    "start_time": "2025-01-17T19:03:51.228Z"
   },
   {
    "duration": 1719,
    "start_time": "2025-01-17T19:03:58.061Z"
   },
   {
    "duration": 28,
    "start_time": "2025-01-17T19:04:24.480Z"
   },
   {
    "duration": 29,
    "start_time": "2025-01-17T19:04:41.026Z"
   },
   {
    "duration": 12,
    "start_time": "2025-01-17T19:04:42.507Z"
   },
   {
    "duration": 8,
    "start_time": "2025-01-17T19:04:45.499Z"
   },
   {
    "duration": 10,
    "start_time": "2025-01-17T19:05:38.039Z"
   },
   {
    "duration": 116,
    "start_time": "2025-01-17T19:10:26.901Z"
   },
   {
    "duration": 65,
    "start_time": "2025-01-17T19:10:44.221Z"
   },
   {
    "duration": 83,
    "start_time": "2025-01-17T19:13:28.887Z"
   },
   {
    "duration": 16,
    "start_time": "2025-01-17T19:13:32.164Z"
   },
   {
    "duration": 12,
    "start_time": "2025-01-17T19:13:46.643Z"
   },
   {
    "duration": 10,
    "start_time": "2025-01-17T19:13:48.661Z"
   },
   {
    "duration": 6,
    "start_time": "2025-01-17T19:14:04.500Z"
   },
   {
    "duration": 30,
    "start_time": "2025-01-17T19:14:36.244Z"
   },
   {
    "duration": 30,
    "start_time": "2025-01-17T19:15:03.396Z"
   },
   {
    "duration": 135,
    "start_time": "2025-01-17T19:15:36.340Z"
   },
   {
    "duration": 211,
    "start_time": "2025-01-17T19:16:14.620Z"
   },
   {
    "duration": 1229,
    "start_time": "2025-01-17T19:21:10.632Z"
   },
   {
    "duration": 2360,
    "start_time": "2025-01-17T19:21:11.863Z"
   },
   {
    "duration": 5,
    "start_time": "2025-01-17T19:21:14.225Z"
   },
   {
    "duration": 26,
    "start_time": "2025-01-17T19:21:14.232Z"
   },
   {
    "duration": 88,
    "start_time": "2025-01-17T19:21:14.259Z"
   },
   {
    "duration": 7,
    "start_time": "2025-01-17T19:21:14.348Z"
   },
   {
    "duration": 1743,
    "start_time": "2025-01-17T19:21:14.356Z"
   },
   {
    "duration": 6,
    "start_time": "2025-01-17T19:21:16.101Z"
   },
   {
    "duration": 161,
    "start_time": "2025-01-17T19:21:16.108Z"
   },
   {
    "duration": 88,
    "start_time": "2025-01-17T19:21:16.272Z"
   },
   {
    "duration": 13,
    "start_time": "2025-01-17T19:21:16.362Z"
   },
   {
    "duration": 184,
    "start_time": "2025-01-17T19:21:16.377Z"
   },
   {
    "duration": 6,
    "start_time": "2025-01-17T19:21:16.562Z"
   },
   {
    "duration": 60,
    "start_time": "2025-01-17T19:21:16.570Z"
   },
   {
    "duration": 43,
    "start_time": "2025-01-17T19:21:16.632Z"
   },
   {
    "duration": 254,
    "start_time": "2025-01-17T19:21:16.677Z"
   },
   {
    "duration": 4,
    "start_time": "2025-01-17T19:21:16.933Z"
   },
   {
    "duration": 294,
    "start_time": "2025-01-17T19:21:16.939Z"
   },
   {
    "duration": 6,
    "start_time": "2025-01-17T19:21:17.235Z"
   },
   {
    "duration": 105,
    "start_time": "2025-01-17T19:21:17.242Z"
   },
   {
    "duration": 155,
    "start_time": "2025-01-17T19:21:17.348Z"
   },
   {
    "duration": 50,
    "start_time": "2025-01-17T19:21:17.506Z"
   },
   {
    "duration": 209,
    "start_time": "2025-01-17T19:21:17.558Z"
   },
   {
    "duration": 234,
    "start_time": "2025-01-17T19:21:17.769Z"
   },
   {
    "duration": 190,
    "start_time": "2025-01-17T19:21:18.005Z"
   },
   {
    "duration": 36,
    "start_time": "2025-01-17T19:21:18.196Z"
   },
   {
    "duration": 137,
    "start_time": "2025-01-17T19:21:18.235Z"
   },
   {
    "duration": 2708,
    "start_time": "2025-01-17T19:21:18.376Z"
   },
   {
    "duration": 157,
    "start_time": "2025-01-17T19:21:21.087Z"
   },
   {
    "duration": 3239,
    "start_time": "2025-01-17T19:21:21.246Z"
   },
   {
    "duration": 151,
    "start_time": "2025-01-17T19:21:24.487Z"
   },
   {
    "duration": 127,
    "start_time": "2025-01-17T19:21:24.640Z"
   },
   {
    "duration": 2049,
    "start_time": "2025-01-17T19:21:24.769Z"
   },
   {
    "duration": 60,
    "start_time": "2025-01-17T19:21:26.820Z"
   },
   {
    "duration": 8,
    "start_time": "2025-01-17T19:21:26.882Z"
   },
   {
    "duration": 27,
    "start_time": "2025-01-17T19:21:26.891Z"
   },
   {
    "duration": 71,
    "start_time": "2025-01-17T19:21:26.920Z"
   },
   {
    "duration": 178,
    "start_time": "2025-01-17T19:21:26.993Z"
   },
   {
    "duration": 1245,
    "start_time": "2025-01-17T19:22:44.120Z"
   },
   {
    "duration": 2166,
    "start_time": "2025-01-17T19:22:45.367Z"
   },
   {
    "duration": 4,
    "start_time": "2025-01-17T19:22:47.534Z"
   },
   {
    "duration": 26,
    "start_time": "2025-01-17T19:22:47.540Z"
   },
   {
    "duration": 79,
    "start_time": "2025-01-17T19:22:47.567Z"
   },
   {
    "duration": 7,
    "start_time": "2025-01-17T19:22:47.647Z"
   },
   {
    "duration": 1727,
    "start_time": "2025-01-17T19:22:47.656Z"
   },
   {
    "duration": 4,
    "start_time": "2025-01-17T19:22:49.385Z"
   },
   {
    "duration": 167,
    "start_time": "2025-01-17T19:22:49.391Z"
   },
   {
    "duration": 93,
    "start_time": "2025-01-17T19:22:49.561Z"
   },
   {
    "duration": 13,
    "start_time": "2025-01-17T19:22:49.656Z"
   },
   {
    "duration": 187,
    "start_time": "2025-01-17T19:22:49.671Z"
   },
   {
    "duration": 5,
    "start_time": "2025-01-17T19:22:49.860Z"
   },
   {
    "duration": 68,
    "start_time": "2025-01-17T19:22:49.867Z"
   },
   {
    "duration": 74,
    "start_time": "2025-01-17T19:22:49.937Z"
   },
   {
    "duration": 229,
    "start_time": "2025-01-17T19:22:50.012Z"
   },
   {
    "duration": 4,
    "start_time": "2025-01-17T19:22:50.243Z"
   },
   {
    "duration": 284,
    "start_time": "2025-01-17T19:22:50.249Z"
   },
   {
    "duration": 6,
    "start_time": "2025-01-17T19:22:50.534Z"
   },
   {
    "duration": 106,
    "start_time": "2025-01-17T19:22:50.541Z"
   },
   {
    "duration": 138,
    "start_time": "2025-01-17T19:22:50.649Z"
   },
   {
    "duration": 54,
    "start_time": "2025-01-17T19:22:50.789Z"
   },
   {
    "duration": 200,
    "start_time": "2025-01-17T19:22:50.845Z"
   },
   {
    "duration": 197,
    "start_time": "2025-01-17T19:22:51.047Z"
   },
   {
    "duration": 174,
    "start_time": "2025-01-17T19:22:51.246Z"
   },
   {
    "duration": 29,
    "start_time": "2025-01-17T19:22:51.421Z"
   },
   {
    "duration": 145,
    "start_time": "2025-01-17T19:22:51.452Z"
   },
   {
    "duration": 2720,
    "start_time": "2025-01-17T19:22:51.600Z"
   },
   {
    "duration": 137,
    "start_time": "2025-01-17T19:22:54.322Z"
   },
   {
    "duration": 3144,
    "start_time": "2025-01-17T19:22:54.461Z"
   },
   {
    "duration": 99,
    "start_time": "2025-01-17T19:22:57.607Z"
   },
   {
    "duration": 99,
    "start_time": "2025-01-17T19:22:57.708Z"
   },
   {
    "duration": 1884,
    "start_time": "2025-01-17T19:22:57.809Z"
   },
   {
    "duration": 71,
    "start_time": "2025-01-17T19:22:59.697Z"
   },
   {
    "duration": 42,
    "start_time": "2025-01-17T19:22:59.770Z"
   },
   {
    "duration": 7,
    "start_time": "2025-01-17T19:22:59.814Z"
   },
   {
    "duration": 28,
    "start_time": "2025-01-17T19:22:59.823Z"
   },
   {
    "duration": 186,
    "start_time": "2025-01-17T19:22:59.852Z"
   },
   {
    "duration": 466,
    "start_time": "2025-01-17T19:29:34.861Z"
   },
   {
    "duration": 413,
    "start_time": "2025-01-17T19:30:15.230Z"
   },
   {
    "duration": 1207,
    "start_time": "2025-01-17T19:32:52.257Z"
   },
   {
    "duration": 2285,
    "start_time": "2025-01-17T19:32:53.467Z"
   },
   {
    "duration": 3,
    "start_time": "2025-01-17T19:32:55.754Z"
   },
   {
    "duration": 42,
    "start_time": "2025-01-17T19:32:55.760Z"
   },
   {
    "duration": 35,
    "start_time": "2025-01-17T19:32:55.829Z"
   },
   {
    "duration": 7,
    "start_time": "2025-01-17T19:32:55.866Z"
   },
   {
    "duration": 1755,
    "start_time": "2025-01-17T19:32:55.875Z"
   },
   {
    "duration": 4,
    "start_time": "2025-01-17T19:32:57.631Z"
   },
   {
    "duration": 165,
    "start_time": "2025-01-17T19:32:57.636Z"
   },
   {
    "duration": 86,
    "start_time": "2025-01-17T19:32:57.804Z"
   },
   {
    "duration": 12,
    "start_time": "2025-01-17T19:32:57.891Z"
   },
   {
    "duration": 194,
    "start_time": "2025-01-17T19:32:57.904Z"
   },
   {
    "duration": 5,
    "start_time": "2025-01-17T19:32:58.100Z"
   },
   {
    "duration": 50,
    "start_time": "2025-01-17T19:32:58.107Z"
   },
   {
    "duration": 44,
    "start_time": "2025-01-17T19:32:58.158Z"
   },
   {
    "duration": 261,
    "start_time": "2025-01-17T19:32:58.204Z"
   },
   {
    "duration": 5,
    "start_time": "2025-01-17T19:32:58.466Z"
   },
   {
    "duration": 281,
    "start_time": "2025-01-17T19:32:58.472Z"
   },
   {
    "duration": 7,
    "start_time": "2025-01-17T19:32:58.754Z"
   },
   {
    "duration": 111,
    "start_time": "2025-01-17T19:32:58.763Z"
   },
   {
    "duration": 141,
    "start_time": "2025-01-17T19:32:58.875Z"
   },
   {
    "duration": 49,
    "start_time": "2025-01-17T19:32:59.018Z"
   },
   {
    "duration": 207,
    "start_time": "2025-01-17T19:32:59.069Z"
   },
   {
    "duration": 204,
    "start_time": "2025-01-17T19:32:59.279Z"
   },
   {
    "duration": 190,
    "start_time": "2025-01-17T19:32:59.485Z"
   },
   {
    "duration": 26,
    "start_time": "2025-01-17T19:32:59.677Z"
   },
   {
    "duration": 179,
    "start_time": "2025-01-17T19:32:59.705Z"
   },
   {
    "duration": 3012,
    "start_time": "2025-01-17T19:32:59.887Z"
   },
   {
    "duration": 186,
    "start_time": "2025-01-17T19:33:02.901Z"
   },
   {
    "duration": 3899,
    "start_time": "2025-01-17T19:33:03.088Z"
   },
   {
    "duration": 98,
    "start_time": "2025-01-17T19:33:06.988Z"
   },
   {
    "duration": 109,
    "start_time": "2025-01-17T19:33:07.087Z"
   },
   {
    "duration": 1877,
    "start_time": "2025-01-17T19:33:07.198Z"
   },
   {
    "duration": 65,
    "start_time": "2025-01-17T19:33:09.076Z"
   },
   {
    "duration": 7,
    "start_time": "2025-01-17T19:33:09.143Z"
   },
   {
    "duration": 6,
    "start_time": "2025-01-17T19:33:09.152Z"
   },
   {
    "duration": 28,
    "start_time": "2025-01-17T19:33:09.160Z"
   },
   {
    "duration": 344,
    "start_time": "2025-01-17T19:33:09.190Z"
   },
   {
    "duration": 1146,
    "start_time": "2025-01-18T07:26:13.763Z"
   },
   {
    "duration": 2007,
    "start_time": "2025-01-18T07:26:14.911Z"
   },
   {
    "duration": 3,
    "start_time": "2025-01-18T07:26:16.919Z"
   },
   {
    "duration": 42,
    "start_time": "2025-01-18T07:26:16.924Z"
   },
   {
    "duration": 72,
    "start_time": "2025-01-18T07:26:16.968Z"
   },
   {
    "duration": 38,
    "start_time": "2025-01-18T07:26:17.042Z"
   },
   {
    "duration": 1646,
    "start_time": "2025-01-18T07:26:17.081Z"
   },
   {
    "duration": 4,
    "start_time": "2025-01-18T07:26:18.728Z"
   },
   {
    "duration": 144,
    "start_time": "2025-01-18T07:26:18.733Z"
   },
   {
    "duration": 81,
    "start_time": "2025-01-18T07:26:18.880Z"
   },
   {
    "duration": 12,
    "start_time": "2025-01-18T07:26:18.963Z"
   },
   {
    "duration": 183,
    "start_time": "2025-01-18T07:26:18.976Z"
   },
   {
    "duration": 5,
    "start_time": "2025-01-18T07:26:19.161Z"
   },
   {
    "duration": 54,
    "start_time": "2025-01-18T07:26:19.168Z"
   },
   {
    "duration": 39,
    "start_time": "2025-01-18T07:26:19.224Z"
   },
   {
    "duration": 251,
    "start_time": "2025-01-18T07:26:19.265Z"
   },
   {
    "duration": 4,
    "start_time": "2025-01-18T07:26:19.517Z"
   },
   {
    "duration": 257,
    "start_time": "2025-01-18T07:26:19.522Z"
   },
   {
    "duration": 5,
    "start_time": "2025-01-18T07:26:19.781Z"
   },
   {
    "duration": 101,
    "start_time": "2025-01-18T07:26:19.788Z"
   },
   {
    "duration": 136,
    "start_time": "2025-01-18T07:26:19.890Z"
   },
   {
    "duration": 42,
    "start_time": "2025-01-18T07:26:20.028Z"
   },
   {
    "duration": 200,
    "start_time": "2025-01-18T07:26:20.072Z"
   },
   {
    "duration": 187,
    "start_time": "2025-01-18T07:26:20.273Z"
   },
   {
    "duration": 170,
    "start_time": "2025-01-18T07:26:20.462Z"
   },
   {
    "duration": 25,
    "start_time": "2025-01-18T07:26:20.634Z"
   },
   {
    "duration": 147,
    "start_time": "2025-01-18T07:26:20.661Z"
   },
   {
    "duration": 8558,
    "start_time": "2025-01-18T07:26:20.814Z"
   },
   {
    "duration": 127,
    "start_time": "2025-01-18T07:26:29.375Z"
   },
   {
    "duration": 3503,
    "start_time": "2025-01-18T07:26:29.504Z"
   },
   {
    "duration": 117,
    "start_time": "2025-01-18T07:26:33.008Z"
   },
   {
    "duration": 100,
    "start_time": "2025-01-18T07:26:33.127Z"
   },
   {
    "duration": 1818,
    "start_time": "2025-01-18T07:26:59.717Z"
   },
   {
    "duration": 2068,
    "start_time": "2025-01-18T07:27:10.348Z"
   },
   {
    "duration": 2567,
    "start_time": "2025-01-18T07:27:21.397Z"
   },
   {
    "duration": 4049,
    "start_time": "2025-01-18T07:27:36.669Z"
   },
   {
    "duration": 25354,
    "start_time": "2025-01-18T07:27:54.189Z"
   },
   {
    "duration": 4603,
    "start_time": "2025-01-18T07:28:30.845Z"
   },
   {
    "duration": 1172,
    "start_time": "2025-01-18T07:30:19.181Z"
   },
   {
    "duration": 1443,
    "start_time": "2025-01-18T07:31:06.492Z"
   },
   {
    "duration": 102,
    "start_time": "2025-01-18T07:33:05.446Z"
   },
   {
    "duration": 22,
    "start_time": "2025-01-18T07:33:11.869Z"
   },
   {
    "duration": 174,
    "start_time": "2025-01-18T07:33:30.005Z"
   },
   {
    "duration": 52,
    "start_time": "2025-01-18T07:33:59.141Z"
   },
   {
    "duration": 1259,
    "start_time": "2025-01-18T07:39:21.059Z"
   },
   {
    "duration": 2349,
    "start_time": "2025-01-18T07:39:22.320Z"
   },
   {
    "duration": 3,
    "start_time": "2025-01-18T07:39:24.671Z"
   },
   {
    "duration": 55,
    "start_time": "2025-01-18T07:39:24.676Z"
   },
   {
    "duration": 41,
    "start_time": "2025-01-18T07:39:24.733Z"
   },
   {
    "duration": 43,
    "start_time": "2025-01-18T07:39:24.775Z"
   },
   {
    "duration": 1795,
    "start_time": "2025-01-18T07:39:24.820Z"
   },
   {
    "duration": 11,
    "start_time": "2025-01-18T07:39:26.617Z"
   },
   {
    "duration": 141,
    "start_time": "2025-01-18T07:39:26.630Z"
   },
   {
    "duration": 85,
    "start_time": "2025-01-18T07:39:26.774Z"
   },
   {
    "duration": 15,
    "start_time": "2025-01-18T07:39:26.861Z"
   },
   {
    "duration": 237,
    "start_time": "2025-01-18T07:39:26.878Z"
   },
   {
    "duration": 7,
    "start_time": "2025-01-18T07:39:27.116Z"
   },
   {
    "duration": 103,
    "start_time": "2025-01-18T07:39:27.125Z"
   },
   {
    "duration": 57,
    "start_time": "2025-01-18T07:39:27.231Z"
   },
   {
    "duration": 269,
    "start_time": "2025-01-18T07:39:27.290Z"
   },
   {
    "duration": 4,
    "start_time": "2025-01-18T07:39:27.561Z"
   },
   {
    "duration": 285,
    "start_time": "2025-01-18T07:39:27.566Z"
   },
   {
    "duration": 6,
    "start_time": "2025-01-18T07:39:27.853Z"
   },
   {
    "duration": 114,
    "start_time": "2025-01-18T07:39:27.861Z"
   },
   {
    "duration": 142,
    "start_time": "2025-01-18T07:39:27.977Z"
   },
   {
    "duration": 46,
    "start_time": "2025-01-18T07:39:28.121Z"
   },
   {
    "duration": 226,
    "start_time": "2025-01-18T07:39:28.169Z"
   },
   {
    "duration": 194,
    "start_time": "2025-01-18T07:39:28.397Z"
   },
   {
    "duration": 176,
    "start_time": "2025-01-18T07:39:28.593Z"
   },
   {
    "duration": 25,
    "start_time": "2025-01-18T07:39:28.771Z"
   },
   {
    "duration": 159,
    "start_time": "2025-01-18T07:39:28.797Z"
   },
   {
    "duration": 2677,
    "start_time": "2025-01-18T07:39:28.959Z"
   },
   {
    "duration": 126,
    "start_time": "2025-01-18T07:39:31.638Z"
   },
   {
    "duration": 3558,
    "start_time": "2025-01-18T07:39:31.766Z"
   },
   {
    "duration": 101,
    "start_time": "2025-01-18T07:39:35.326Z"
   },
   {
    "duration": 104,
    "start_time": "2025-01-18T07:39:35.429Z"
   },
   {
    "duration": 3394,
    "start_time": "2025-01-18T07:39:35.535Z"
   },
   {
    "duration": 1189,
    "start_time": "2025-01-18T07:39:38.931Z"
   },
   {
    "duration": 61,
    "start_time": "2025-01-18T07:39:40.122Z"
   },
   {
    "duration": 31,
    "start_time": "2025-01-18T07:39:40.185Z"
   },
   {
    "duration": 8,
    "start_time": "2025-01-18T07:39:40.218Z"
   },
   {
    "duration": 27,
    "start_time": "2025-01-18T07:39:40.228Z"
   },
   {
    "duration": 484,
    "start_time": "2025-01-18T07:39:40.256Z"
   },
   {
    "duration": 53,
    "start_time": "2025-01-18T08:58:10.720Z"
   },
   {
    "duration": 1303,
    "start_time": "2025-01-18T08:58:30.796Z"
   },
   {
    "duration": 1866,
    "start_time": "2025-01-18T08:58:33.791Z"
   },
   {
    "duration": 3,
    "start_time": "2025-01-18T08:58:37.805Z"
   },
   {
    "duration": 30,
    "start_time": "2025-01-18T08:58:38.190Z"
   },
   {
    "duration": 33,
    "start_time": "2025-01-18T08:58:38.858Z"
   },
   {
    "duration": 6,
    "start_time": "2025-01-18T08:58:40.242Z"
   },
   {
    "duration": 1293,
    "start_time": "2025-01-18T08:58:41.344Z"
   },
   {
    "duration": 3,
    "start_time": "2025-01-18T08:58:42.639Z"
   },
   {
    "duration": 133,
    "start_time": "2025-01-18T08:58:44.889Z"
   },
   {
    "duration": 70,
    "start_time": "2025-01-18T08:58:46.399Z"
   },
   {
    "duration": 11,
    "start_time": "2025-01-18T08:58:47.725Z"
   },
   {
    "duration": 138,
    "start_time": "2025-01-18T08:58:48.324Z"
   },
   {
    "duration": 5,
    "start_time": "2025-01-18T08:58:48.771Z"
   },
   {
    "duration": 43,
    "start_time": "2025-01-18T08:58:49.339Z"
   },
   {
    "duration": 38,
    "start_time": "2025-01-18T08:58:50.553Z"
   },
   {
    "duration": 169,
    "start_time": "2025-01-18T08:58:51.080Z"
   },
   {
    "duration": 4,
    "start_time": "2025-01-18T08:58:56.333Z"
   },
   {
    "duration": 240,
    "start_time": "2025-01-18T08:58:57.298Z"
   },
   {
    "duration": 6,
    "start_time": "2025-01-18T08:59:00.524Z"
   },
   {
    "duration": 74,
    "start_time": "2025-01-18T08:59:02.007Z"
   },
   {
    "duration": 118,
    "start_time": "2025-01-18T08:59:03.140Z"
   },
   {
    "duration": 42,
    "start_time": "2025-01-18T08:59:04.373Z"
   },
   {
    "duration": 190,
    "start_time": "2025-01-18T08:59:05.540Z"
   },
   {
    "duration": 176,
    "start_time": "2025-01-18T08:59:06.758Z"
   },
   {
    "duration": 152,
    "start_time": "2025-01-18T08:59:12.155Z"
   },
   {
    "duration": 21,
    "start_time": "2025-01-18T08:59:14.353Z"
   },
   {
    "duration": 88,
    "start_time": "2025-01-18T08:59:14.973Z"
   },
   {
    "duration": 8839,
    "start_time": "2025-01-18T08:59:15.907Z"
   },
   {
    "duration": 119,
    "start_time": "2025-01-18T08:59:25.441Z"
   },
   {
    "duration": 3063,
    "start_time": "2025-01-18T08:59:26.307Z"
   },
   {
    "duration": 104,
    "start_time": "2025-01-18T08:59:29.371Z"
   },
   {
    "duration": 77,
    "start_time": "2025-01-18T08:59:31.834Z"
   },
   {
    "duration": 2494,
    "start_time": "2025-01-18T08:59:36.540Z"
   },
   {
    "duration": 1150,
    "start_time": "2025-01-18T09:00:50.138Z"
   },
   {
    "duration": 1296,
    "start_time": "2025-01-18T09:01:17.875Z"
   },
   {
    "duration": 1161,
    "start_time": "2025-01-18T09:01:29.270Z"
   },
   {
    "duration": 1146,
    "start_time": "2025-01-18T09:01:39.577Z"
   },
   {
    "duration": 1070,
    "start_time": "2025-01-18T09:01:48.197Z"
   },
   {
    "duration": 1164,
    "start_time": "2025-01-18T09:01:57.203Z"
   },
   {
    "duration": 73,
    "start_time": "2025-01-18T09:02:36.194Z"
   },
   {
    "duration": 28,
    "start_time": "2025-01-18T09:02:44.869Z"
   },
   {
    "duration": 8,
    "start_time": "2025-01-18T09:14:27.914Z"
   },
   {
    "duration": 10,
    "start_time": "2025-01-18T09:14:35.576Z"
   },
   {
    "duration": 9,
    "start_time": "2025-01-18T09:14:53.468Z"
   },
   {
    "duration": 9,
    "start_time": "2025-01-18T09:14:58.169Z"
   },
   {
    "duration": 11,
    "start_time": "2025-01-18T09:16:23.121Z"
   },
   {
    "duration": 8,
    "start_time": "2025-01-18T09:19:15.770Z"
   },
   {
    "duration": 9,
    "start_time": "2025-01-18T09:19:41.227Z"
   },
   {
    "duration": 8,
    "start_time": "2025-01-18T09:19:46.734Z"
   },
   {
    "duration": 1335,
    "start_time": "2025-01-18T09:25:29.740Z"
   },
   {
    "duration": 1217,
    "start_time": "2025-01-18T09:25:43.116Z"
   },
   {
    "duration": 12,
    "start_time": "2025-01-18T09:26:03.889Z"
   },
   {
    "duration": 101,
    "start_time": "2025-01-18T09:26:52.597Z"
   },
   {
    "duration": 74,
    "start_time": "2025-01-18T09:26:59.586Z"
   },
   {
    "duration": 12,
    "start_time": "2025-01-18T09:27:24.799Z"
   },
   {
    "duration": 12,
    "start_time": "2025-01-18T09:28:12.208Z"
   },
   {
    "duration": 12,
    "start_time": "2025-01-18T09:28:22.601Z"
   },
   {
    "duration": 1226,
    "start_time": "2025-01-18T09:28:29.378Z"
   },
   {
    "duration": 8,
    "start_time": "2025-01-18T09:29:26.657Z"
   },
   {
    "duration": 8,
    "start_time": "2025-01-18T09:29:44.926Z"
   },
   {
    "duration": 24,
    "start_time": "2025-01-18T09:33:15.341Z"
   },
   {
    "duration": 29,
    "start_time": "2025-01-18T09:33:36.390Z"
   },
   {
    "duration": 20,
    "start_time": "2025-01-18T09:35:00.625Z"
   },
   {
    "duration": 26,
    "start_time": "2025-01-18T09:35:05.357Z"
   },
   {
    "duration": 23,
    "start_time": "2025-01-18T09:36:26.313Z"
   },
   {
    "duration": 289,
    "start_time": "2025-01-18T09:36:37.496Z"
   },
   {
    "duration": 1115,
    "start_time": "2025-01-18T09:37:51.454Z"
   },
   {
    "duration": 2362,
    "start_time": "2025-01-18T09:37:52.571Z"
   },
   {
    "duration": 3,
    "start_time": "2025-01-18T09:37:54.934Z"
   },
   {
    "duration": 49,
    "start_time": "2025-01-18T09:37:54.938Z"
   },
   {
    "duration": 33,
    "start_time": "2025-01-18T09:37:54.989Z"
   },
   {
    "duration": 6,
    "start_time": "2025-01-18T09:37:55.023Z"
   },
   {
    "duration": 2036,
    "start_time": "2025-01-18T09:37:55.030Z"
   },
   {
    "duration": 4,
    "start_time": "2025-01-18T09:37:57.068Z"
   },
   {
    "duration": 141,
    "start_time": "2025-01-18T09:37:57.086Z"
   },
   {
    "duration": 79,
    "start_time": "2025-01-18T09:37:57.228Z"
   },
   {
    "duration": 11,
    "start_time": "2025-01-18T09:37:57.309Z"
   },
   {
    "duration": 159,
    "start_time": "2025-01-18T09:37:57.321Z"
   },
   {
    "duration": 4,
    "start_time": "2025-01-18T09:37:57.486Z"
   },
   {
    "duration": 43,
    "start_time": "2025-01-18T09:37:57.493Z"
   },
   {
    "duration": 54,
    "start_time": "2025-01-18T09:37:57.538Z"
   },
   {
    "duration": 216,
    "start_time": "2025-01-18T09:37:57.593Z"
   },
   {
    "duration": 4,
    "start_time": "2025-01-18T09:37:57.811Z"
   },
   {
    "duration": 252,
    "start_time": "2025-01-18T09:37:57.816Z"
   },
   {
    "duration": 5,
    "start_time": "2025-01-18T09:37:58.069Z"
   },
   {
    "duration": 76,
    "start_time": "2025-01-18T09:37:58.086Z"
   },
   {
    "duration": 130,
    "start_time": "2025-01-18T09:37:58.164Z"
   },
   {
    "duration": 41,
    "start_time": "2025-01-18T09:37:58.296Z"
   },
   {
    "duration": 192,
    "start_time": "2025-01-18T09:37:58.339Z"
   },
   {
    "duration": 178,
    "start_time": "2025-01-18T09:37:58.533Z"
   },
   {
    "duration": 161,
    "start_time": "2025-01-18T09:37:58.712Z"
   },
   {
    "duration": 24,
    "start_time": "2025-01-18T09:37:58.874Z"
   },
   {
    "duration": 99,
    "start_time": "2025-01-18T09:37:58.900Z"
   },
   {
    "duration": 2938,
    "start_time": "2025-01-18T09:37:59.000Z"
   },
   {
    "duration": 114,
    "start_time": "2025-01-18T09:38:01.939Z"
   },
   {
    "duration": 3155,
    "start_time": "2025-01-18T09:38:02.055Z"
   },
   {
    "duration": 83,
    "start_time": "2025-01-18T09:38:05.211Z"
   },
   {
    "duration": 77,
    "start_time": "2025-01-18T09:38:05.295Z"
   },
   {
    "duration": 1271,
    "start_time": "2025-01-18T09:38:05.374Z"
   },
   {
    "duration": 1132,
    "start_time": "2025-01-18T09:38:06.646Z"
   },
   {
    "duration": 33,
    "start_time": "2025-01-18T09:38:07.780Z"
   },
   {
    "duration": 9,
    "start_time": "2025-01-18T09:38:07.815Z"
   },
   {
    "duration": 7,
    "start_time": "2025-01-18T09:38:07.826Z"
   },
   {
    "duration": 59,
    "start_time": "2025-01-18T09:38:07.834Z"
   },
   {
    "duration": 364,
    "start_time": "2025-01-18T09:38:07.895Z"
   },
   {
    "duration": 1153,
    "start_time": "2025-01-18T12:43:41.488Z"
   },
   {
    "duration": 1797,
    "start_time": "2025-01-18T12:43:42.642Z"
   },
   {
    "duration": 3,
    "start_time": "2025-01-18T12:43:44.441Z"
   },
   {
    "duration": 24,
    "start_time": "2025-01-18T12:43:44.445Z"
   },
   {
    "duration": 69,
    "start_time": "2025-01-18T12:43:44.470Z"
   },
   {
    "duration": 6,
    "start_time": "2025-01-18T12:43:44.540Z"
   },
   {
    "duration": 1552,
    "start_time": "2025-01-18T12:43:44.548Z"
   },
   {
    "duration": 4,
    "start_time": "2025-01-18T12:43:46.102Z"
   },
   {
    "duration": 144,
    "start_time": "2025-01-18T12:43:46.123Z"
   },
   {
    "duration": 82,
    "start_time": "2025-01-18T12:43:46.270Z"
   },
   {
    "duration": 12,
    "start_time": "2025-01-18T12:43:46.353Z"
   },
   {
    "duration": 202,
    "start_time": "2025-01-18T12:43:46.367Z"
   },
   {
    "duration": 6,
    "start_time": "2025-01-18T12:43:46.571Z"
   },
   {
    "duration": 56,
    "start_time": "2025-01-18T12:43:46.578Z"
   },
   {
    "duration": 41,
    "start_time": "2025-01-18T12:43:46.636Z"
   },
   {
    "duration": 272,
    "start_time": "2025-01-18T12:43:46.678Z"
   },
   {
    "duration": 4,
    "start_time": "2025-01-18T12:43:46.952Z"
   },
   {
    "duration": 298,
    "start_time": "2025-01-18T12:43:46.958Z"
   },
   {
    "duration": 6,
    "start_time": "2025-01-18T12:43:47.258Z"
   },
   {
    "duration": 113,
    "start_time": "2025-01-18T12:43:47.266Z"
   },
   {
    "duration": 155,
    "start_time": "2025-01-18T12:43:47.382Z"
   },
   {
    "duration": 42,
    "start_time": "2025-01-18T12:43:47.539Z"
   },
   {
    "duration": 201,
    "start_time": "2025-01-18T12:43:47.583Z"
   },
   {
    "duration": 193,
    "start_time": "2025-01-18T12:43:47.785Z"
   },
   {
    "duration": 178,
    "start_time": "2025-01-18T12:43:47.979Z"
   },
   {
    "duration": 24,
    "start_time": "2025-01-18T12:43:48.158Z"
   },
   {
    "duration": 154,
    "start_time": "2025-01-18T12:43:48.183Z"
   },
   {
    "duration": 8271,
    "start_time": "2025-01-18T12:43:48.340Z"
   },
   {
    "duration": 123,
    "start_time": "2025-01-18T12:43:56.613Z"
   },
   {
    "duration": 3398,
    "start_time": "2025-01-18T12:43:56.738Z"
   },
   {
    "duration": 96,
    "start_time": "2025-01-18T12:44:00.138Z"
   },
   {
    "duration": 98,
    "start_time": "2025-01-18T12:44:00.236Z"
   },
   {
    "duration": 1270,
    "start_time": "2025-01-18T12:44:00.335Z"
   },
   {
    "duration": 1229,
    "start_time": "2025-01-18T12:44:01.607Z"
   },
   {
    "duration": 31,
    "start_time": "2025-01-18T12:44:02.838Z"
   },
   {
    "duration": 7,
    "start_time": "2025-01-18T12:44:02.870Z"
   },
   {
    "duration": 7,
    "start_time": "2025-01-18T12:44:11.592Z"
   },
   {
    "duration": 6,
    "start_time": "2025-01-18T12:44:26.361Z"
   },
   {
    "duration": 112,
    "start_time": "2025-01-18T12:59:10.380Z"
   },
   {
    "duration": 796,
    "start_time": "2025-01-18T12:59:16.852Z"
   },
   {
    "duration": 1423,
    "start_time": "2025-01-29T18:24:40.403Z"
   },
   {
    "duration": 3442,
    "start_time": "2025-01-29T18:24:41.828Z"
   },
   {
    "duration": 4,
    "start_time": "2025-01-29T18:24:45.272Z"
   },
   {
    "duration": 37,
    "start_time": "2025-01-29T18:24:45.278Z"
   },
   {
    "duration": 80,
    "start_time": "2025-01-29T18:24:45.318Z"
   },
   {
    "duration": 6,
    "start_time": "2025-01-29T18:24:45.400Z"
   },
   {
    "duration": 1679,
    "start_time": "2025-01-29T18:24:45.407Z"
   },
   {
    "duration": 4,
    "start_time": "2025-01-29T18:24:47.087Z"
   },
   {
    "duration": 148,
    "start_time": "2025-01-29T18:24:47.093Z"
   },
   {
    "duration": 88,
    "start_time": "2025-01-29T18:24:47.242Z"
   },
   {
    "duration": 31,
    "start_time": "2025-01-29T18:24:47.331Z"
   },
   {
    "duration": 185,
    "start_time": "2025-01-29T18:24:47.370Z"
   },
   {
    "duration": 18,
    "start_time": "2025-01-29T18:24:47.557Z"
   },
   {
    "duration": 44,
    "start_time": "2025-01-29T18:24:47.578Z"
   },
   {
    "duration": 63,
    "start_time": "2025-01-29T18:24:47.623Z"
   },
   {
    "duration": 231,
    "start_time": "2025-01-29T18:24:47.688Z"
   },
   {
    "duration": 4,
    "start_time": "2025-01-29T18:24:47.921Z"
   },
   {
    "duration": 296,
    "start_time": "2025-01-29T18:24:47.926Z"
   },
   {
    "duration": 5,
    "start_time": "2025-01-29T18:24:48.224Z"
   },
   {
    "duration": 108,
    "start_time": "2025-01-29T18:24:48.230Z"
   },
   {
    "duration": 151,
    "start_time": "2025-01-29T18:24:48.340Z"
   },
   {
    "duration": 43,
    "start_time": "2025-01-29T18:24:48.492Z"
   },
   {
    "duration": 224,
    "start_time": "2025-01-29T18:24:48.537Z"
   },
   {
    "duration": 203,
    "start_time": "2025-01-29T18:24:48.770Z"
   },
   {
    "duration": 173,
    "start_time": "2025-01-29T18:24:48.975Z"
   },
   {
    "duration": 35,
    "start_time": "2025-01-29T18:24:49.149Z"
   },
   {
    "duration": 137,
    "start_time": "2025-01-29T18:24:49.185Z"
   },
   {
    "duration": 54546,
    "start_time": "2025-01-29T18:24:49.324Z"
   },
   {
    "duration": 125,
    "start_time": "2025-01-29T18:25:43.872Z"
   },
   {
    "duration": 3704,
    "start_time": "2025-01-29T18:25:43.999Z"
   },
   {
    "duration": 112,
    "start_time": "2025-01-29T18:25:47.705Z"
   },
   {
    "duration": 93,
    "start_time": "2025-01-29T18:25:47.819Z"
   },
   {
    "duration": 1404,
    "start_time": "2025-01-29T18:25:47.914Z"
   },
   {
    "duration": 1207,
    "start_time": "2025-01-29T18:25:49.319Z"
   },
   {
    "duration": 49,
    "start_time": "2025-01-29T18:25:50.528Z"
   },
   {
    "duration": 10,
    "start_time": "2025-01-29T18:25:50.578Z"
   },
   {
    "duration": 7,
    "start_time": "2025-01-29T18:25:50.590Z"
   },
   {
    "duration": 25,
    "start_time": "2025-01-29T18:25:50.598Z"
   },
   {
    "duration": 454,
    "start_time": "2025-01-29T18:25:50.625Z"
   },
   {
    "duration": 1089,
    "start_time": "2025-04-24T21:31:04.959Z"
   },
   {
    "duration": 2163,
    "start_time": "2025-04-24T21:31:06.050Z"
   },
   {
    "duration": 3,
    "start_time": "2025-04-24T21:31:08.215Z"
   },
   {
    "duration": 41,
    "start_time": "2025-04-24T21:31:08.219Z"
   },
   {
    "duration": 78,
    "start_time": "2025-04-24T21:31:08.263Z"
   },
   {
    "duration": 7,
    "start_time": "2025-04-24T21:31:08.342Z"
   },
   {
    "duration": 1513,
    "start_time": "2025-04-24T21:31:08.351Z"
   },
   {
    "duration": 4,
    "start_time": "2025-04-24T21:31:09.865Z"
   },
   {
    "duration": 169,
    "start_time": "2025-04-24T21:31:09.870Z"
   },
   {
    "duration": 83,
    "start_time": "2025-04-24T21:31:10.041Z"
   },
   {
    "duration": 23,
    "start_time": "2025-04-24T21:31:10.126Z"
   },
   {
    "duration": 163,
    "start_time": "2025-04-24T21:31:10.150Z"
   },
   {
    "duration": 11,
    "start_time": "2025-04-24T21:31:10.315Z"
   },
   {
    "duration": 44,
    "start_time": "2025-04-24T21:31:10.329Z"
   },
   {
    "duration": 66,
    "start_time": "2025-04-24T21:31:10.375Z"
   },
   {
    "duration": 211,
    "start_time": "2025-04-24T21:31:10.443Z"
   },
   {
    "duration": 4,
    "start_time": "2025-04-24T21:31:10.655Z"
   },
   {
    "duration": 248,
    "start_time": "2025-04-24T21:31:10.660Z"
   },
   {
    "duration": 6,
    "start_time": "2025-04-24T21:31:10.910Z"
   },
   {
    "duration": 107,
    "start_time": "2025-04-24T21:31:10.918Z"
   },
   {
    "duration": 128,
    "start_time": "2025-04-24T21:31:11.027Z"
   },
   {
    "duration": 42,
    "start_time": "2025-04-24T21:31:11.156Z"
   },
   {
    "duration": 197,
    "start_time": "2025-04-24T21:31:11.200Z"
   },
   {
    "duration": 168,
    "start_time": "2025-04-24T21:31:11.399Z"
   },
   {
    "duration": 156,
    "start_time": "2025-04-24T21:31:11.569Z"
   },
   {
    "duration": 27,
    "start_time": "2025-04-24T21:31:11.727Z"
   },
   {
    "duration": 128,
    "start_time": "2025-04-24T21:31:11.755Z"
   },
   {
    "duration": 8287,
    "start_time": "2025-04-24T21:31:11.884Z"
   },
   {
    "duration": 109,
    "start_time": "2025-04-24T21:31:20.174Z"
   },
   {
    "duration": 3024,
    "start_time": "2025-04-24T21:31:20.285Z"
   },
   {
    "duration": 95,
    "start_time": "2025-04-24T21:31:23.311Z"
   },
   {
    "duration": 87,
    "start_time": "2025-04-24T21:31:23.407Z"
   },
   {
    "duration": 1306,
    "start_time": "2025-04-24T21:31:23.496Z"
   },
   {
    "duration": 1117,
    "start_time": "2025-04-24T21:31:24.804Z"
   },
   {
    "duration": 41,
    "start_time": "2025-04-24T21:31:25.923Z"
   },
   {
    "duration": 9,
    "start_time": "2025-04-24T21:31:25.966Z"
   },
   {
    "duration": 12,
    "start_time": "2025-04-24T21:31:25.977Z"
   },
   {
    "duration": 51,
    "start_time": "2025-04-24T21:31:25.990Z"
   },
   {
    "duration": 359,
    "start_time": "2025-04-24T21:31:26.042Z"
   }
  ],
  "colab": {
   "provenance": []
  },
  "kernelspec": {
   "display_name": "Python 3 (ipykernel)",
   "language": "python",
   "name": "python3"
  },
  "language_info": {
   "codemirror_mode": {
    "name": "ipython",
    "version": 3
   },
   "file_extension": ".py",
   "mimetype": "text/x-python",
   "name": "python",
   "nbconvert_exporter": "python",
   "pygments_lexer": "ipython3",
   "version": "3.9.5"
  },
  "toc": {
   "base_numbering": 1,
   "nav_menu": {},
   "number_sections": true,
   "sideBar": true,
   "skip_h1_title": true,
   "title_cell": "Table of Contents",
   "title_sidebar": "Contents",
   "toc_cell": false,
   "toc_position": {},
   "toc_section_display": true,
   "toc_window_display": true
  }
 },
 "nbformat": 4,
 "nbformat_minor": 1
}
