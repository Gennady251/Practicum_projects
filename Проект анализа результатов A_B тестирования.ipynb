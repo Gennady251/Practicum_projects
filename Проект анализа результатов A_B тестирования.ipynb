{
 "cells": [
  {
   "cell_type": "markdown",
   "metadata": {},
   "source": [
    "## Анализ результатов A/B-тестирования\n",
    "\n",
    "Теперь вам нужно проанализировать другие данные. Представьте, что к вам обратились представители интернет-магазина BitMotion Kit, в котором продаются геймифицированные товары для тех, кто ведёт здоровый образ жизни. У него есть своя целевая аудитория, даже появились хиты продаж: эспандер со счётчиком и напоминанием, так и подстольный велотренажёр с Bluetooth.\n",
    "\n",
    "В будущем компания хочет расширить ассортимент товаров. Но перед этим нужно решить одну проблему. Интерфейс онлайн-магазина слишком сложен для пользователей — об этом говорят отзывы.\n",
    "\n",
    "Чтобы привлечь новых клиентов и увеличить число продаж, владельцы магазина разработали новую версию сайта и протестировали его на части пользователей. По задумке, это решение доказуемо повысит количество пользователей, которые совершат покупку.\n",
    "\n",
    "Ваша задача — провести оценку результатов A/B-теста. В вашем распоряжении:\n",
    "\n",
    "* данные о действиях пользователей и распределении их на группы,\n",
    "\n",
    "* техническое задание.\n",
    "\n",
    "Оцените корректность проведения теста и проанализируйте его результаты."
   ]
  },
  {
   "cell_type": "markdown",
   "metadata": {},
   "source": [
    "### Техническое задание проведённого теста\n",
    "\n",
    "Предыдущий аналитик проверял полное обновление дизайна сайта. Гипотеза заключается в следующем: упрощение интерфейса приведёт к тому, что в течение семи дней после регистрации в системе конверсия зарегистрированных пользователей в покупателей увеличится как минимум на три процентных пункта.\n",
    "\n",
    "Параметры теста:\n",
    "\n",
    "- название теста: `interface_eu_test`;\n",
    "- группы: А (контрольная), B (новый интерфейс);\n",
    "- дата набора новых пользователей: с 2020-12-01 по 2020-12-21 включительно;\n",
    "- дата прохождения теста: с 2020-12-08 по 2020-12-29 включительно.\n",
    "\n",
    "Вам нужно:\n",
    "\n",
    "* загрузить данные теста;\n",
    "\n",
    "* проверить корректность его проведения;\n",
    "\n",
    "* проанализировать полученные результаты."
   ]
  },
  {
   "cell_type": "markdown",
   "metadata": {},
   "source": [
    "### Данные\n",
    "\n",
    "- `https://code.s3.yandex.net/datasets/ab_test_participants.csv` — таблица участников тестов.\n",
    "  Структура файла:\n",
    "\n",
    "  - `user_id` — идентификатор пользователя;\n",
    "  - `group` — группа пользователя;\n",
    "  - `ab_test` — название теста;\n",
    "  - `device` — устройство, с которого происходила регистрация.\n",
    "\n",
    "- `https://code.s3.yandex.net/datasets/ab_test_events.zip` — архив с одним `csv`-файлом, в котором собраны события 2020 года;\n",
    "  Структура файла:\n",
    "\n",
    "  - `user_id` — идентификатор пользователя;\n",
    "  - `event_dt` — дата и время события;\n",
    "  - `event_name` — тип события;\n",
    "  - `details` — дополнительные данные о событии."
   ]
  },
  {
   "cell_type": "markdown",
   "metadata": {},
   "source": [
    "\n",
    "### Как выполнить задание:\n",
    "\n",
    "1. Опишите цели исследования."
   ]
  },
  {
   "cell_type": "markdown",
   "metadata": {},
   "source": [
    "Проанализировать влияние нового интерфейса сайта на конверсию пользователей, зарегистрировавшихся в системе, с целью выявления статистически значимого увеличения конверсии по сравнению с контрольной группой."
   ]
  },
  {
   "cell_type": "markdown",
   "metadata": {},
   "source": [
    "2. Загрузите данные, оцените их целостность."
   ]
  },
  {
   "cell_type": "code",
   "execution_count": 1,
   "metadata": {},
   "outputs": [],
   "source": [
    "import pandas as pd\n",
    "import matplotlib.pyplot as plt\n",
    "import math\n",
    "from statsmodels.stats.proportion import proportions_ztest\n",
    "from scipy.stats import norm"
   ]
  },
  {
   "cell_type": "code",
   "execution_count": 2,
   "metadata": {},
   "outputs": [],
   "source": [
    "URL = 'https://code.s3.yandex.net/datasets/'\n",
    "participants = pd.read_csv(URL + 'ab_test_participants.csv')\n",
    "events = pd.read_csv(URL + 'ab_test_events.zip', parse_dates=['event_dt'], low_memory=False)"
   ]
  },
  {
   "cell_type": "code",
   "execution_count": 3,
   "metadata": {},
   "outputs": [
    {
     "data": {
      "text/plain": [
       "'Пропущенные значения в таблице участников:'"
      ]
     },
     "metadata": {},
     "output_type": "display_data"
    },
    {
     "data": {
      "text/plain": [
       "Series([], dtype: int64)"
      ]
     },
     "metadata": {},
     "output_type": "display_data"
    },
    {
     "data": {
      "text/plain": [
       "'Пропущенные значения в таблице событий:'"
      ]
     },
     "metadata": {},
     "output_type": "display_data"
    },
    {
     "data": {
      "text/plain": [
       "details    538264\n",
       "dtype: int64"
      ]
     },
     "metadata": {},
     "output_type": "display_data"
    }
   ],
   "source": [
    "# Проверка на пропущенные значения в таблице участников\n",
    "missing_participants = participants.isnull().sum()\n",
    "display(\"Пропущенные значения в таблице участников:\")\n",
    "display(missing_participants[missing_participants > 0])\n",
    "\n",
    "# Проверка на пропущенные значения в таблице событий\n",
    "missing_events = events.isnull().sum()\n",
    "display(\"Пропущенные значения в таблице событий:\")\n",
    "display(missing_events[missing_events > 0])"
   ]
  },
  {
   "cell_type": "code",
   "execution_count": 4,
   "metadata": {},
   "outputs": [
    {
     "data": {
      "text/plain": [
       "'Количество дубликатов в таблице участников: 0'"
      ]
     },
     "metadata": {},
     "output_type": "display_data"
    },
    {
     "data": {
      "text/plain": [
       "'Количество дубликатов в таблице событий: 0'"
      ]
     },
     "metadata": {},
     "output_type": "display_data"
    }
   ],
   "source": [
    "# Проверка на дубликаты в таблице участников\n",
    "participants = participants.drop_duplicates()\n",
    "duplicate_participants = participants.duplicated().sum()\n",
    "display(f\"Количество дубликатов в таблице участников: {duplicate_participants}\")\n",
    "\n",
    "# Проверка на дубликаты в таблице событий\n",
    "events = events.drop_duplicates()\n",
    "duplicate_events = events.duplicated().sum()\n",
    "display(f\"Количество дубликатов в таблице событий: {duplicate_events}\")\n"
   ]
  },
  {
   "cell_type": "code",
   "execution_count": 5,
   "metadata": {},
   "outputs": [
    {
     "data": {
      "text/plain": [
       "'Типы данных в таблице участников:'"
      ]
     },
     "metadata": {},
     "output_type": "display_data"
    },
    {
     "data": {
      "text/plain": [
       "user_id    object\n",
       "group      object\n",
       "ab_test    object\n",
       "device     object\n",
       "dtype: object"
      ]
     },
     "metadata": {},
     "output_type": "display_data"
    },
    {
     "data": {
      "text/html": [
       "<div>\n",
       "<style scoped>\n",
       "    .dataframe tbody tr th:only-of-type {\n",
       "        vertical-align: middle;\n",
       "    }\n",
       "\n",
       "    .dataframe tbody tr th {\n",
       "        vertical-align: top;\n",
       "    }\n",
       "\n",
       "    .dataframe thead th {\n",
       "        text-align: right;\n",
       "    }\n",
       "</style>\n",
       "<table border=\"1\" class=\"dataframe\">\n",
       "  <thead>\n",
       "    <tr style=\"text-align: right;\">\n",
       "      <th></th>\n",
       "      <th>user_id</th>\n",
       "      <th>group</th>\n",
       "      <th>ab_test</th>\n",
       "      <th>device</th>\n",
       "    </tr>\n",
       "  </thead>\n",
       "  <tbody>\n",
       "    <tr>\n",
       "      <th>0</th>\n",
       "      <td>0002CE61FF2C4011</td>\n",
       "      <td>B</td>\n",
       "      <td>interface_eu_test</td>\n",
       "      <td>Mac</td>\n",
       "    </tr>\n",
       "    <tr>\n",
       "      <th>1</th>\n",
       "      <td>001064FEAAB631A1</td>\n",
       "      <td>B</td>\n",
       "      <td>recommender_system_test</td>\n",
       "      <td>Android</td>\n",
       "    </tr>\n",
       "    <tr>\n",
       "      <th>2</th>\n",
       "      <td>001064FEAAB631A1</td>\n",
       "      <td>A</td>\n",
       "      <td>interface_eu_test</td>\n",
       "      <td>Android</td>\n",
       "    </tr>\n",
       "    <tr>\n",
       "      <th>3</th>\n",
       "      <td>0010A1C096941592</td>\n",
       "      <td>A</td>\n",
       "      <td>recommender_system_test</td>\n",
       "      <td>Android</td>\n",
       "    </tr>\n",
       "    <tr>\n",
       "      <th>4</th>\n",
       "      <td>001E72F50D1C48FA</td>\n",
       "      <td>A</td>\n",
       "      <td>interface_eu_test</td>\n",
       "      <td>Mac</td>\n",
       "    </tr>\n",
       "  </tbody>\n",
       "</table>\n",
       "</div>"
      ],
      "text/plain": [
       "            user_id group                  ab_test   device\n",
       "0  0002CE61FF2C4011     B        interface_eu_test      Mac\n",
       "1  001064FEAAB631A1     B  recommender_system_test  Android\n",
       "2  001064FEAAB631A1     A        interface_eu_test  Android\n",
       "3  0010A1C096941592     A  recommender_system_test  Android\n",
       "4  001E72F50D1C48FA     A        interface_eu_test      Mac"
      ]
     },
     "metadata": {},
     "output_type": "display_data"
    },
    {
     "data": {
      "text/plain": [
       "'Типы данных в таблице событий:'"
      ]
     },
     "metadata": {},
     "output_type": "display_data"
    },
    {
     "data": {
      "text/plain": [
       "user_id               object\n",
       "event_dt      datetime64[ns]\n",
       "event_name            object\n",
       "details               object\n",
       "dtype: object"
      ]
     },
     "metadata": {},
     "output_type": "display_data"
    },
    {
     "data": {
      "text/html": [
       "<div>\n",
       "<style scoped>\n",
       "    .dataframe tbody tr th:only-of-type {\n",
       "        vertical-align: middle;\n",
       "    }\n",
       "\n",
       "    .dataframe tbody tr th {\n",
       "        vertical-align: top;\n",
       "    }\n",
       "\n",
       "    .dataframe thead th {\n",
       "        text-align: right;\n",
       "    }\n",
       "</style>\n",
       "<table border=\"1\" class=\"dataframe\">\n",
       "  <thead>\n",
       "    <tr style=\"text-align: right;\">\n",
       "      <th></th>\n",
       "      <th>user_id</th>\n",
       "      <th>event_dt</th>\n",
       "      <th>event_name</th>\n",
       "      <th>details</th>\n",
       "    </tr>\n",
       "  </thead>\n",
       "  <tbody>\n",
       "    <tr>\n",
       "      <th>0</th>\n",
       "      <td>GLOBAL</td>\n",
       "      <td>2020-12-01 00:00:00</td>\n",
       "      <td>End of Black Friday Ads Campaign</td>\n",
       "      <td>ZONE_CODE15</td>\n",
       "    </tr>\n",
       "    <tr>\n",
       "      <th>1</th>\n",
       "      <td>CCBE9E7E99F94A08</td>\n",
       "      <td>2020-12-01 00:00:11</td>\n",
       "      <td>registration</td>\n",
       "      <td>0.0</td>\n",
       "    </tr>\n",
       "    <tr>\n",
       "      <th>2</th>\n",
       "      <td>GLOBAL</td>\n",
       "      <td>2020-12-01 00:00:25</td>\n",
       "      <td>product_page</td>\n",
       "      <td>NaN</td>\n",
       "    </tr>\n",
       "    <tr>\n",
       "      <th>3</th>\n",
       "      <td>CCBE9E7E99F94A08</td>\n",
       "      <td>2020-12-01 00:00:33</td>\n",
       "      <td>login</td>\n",
       "      <td>NaN</td>\n",
       "    </tr>\n",
       "    <tr>\n",
       "      <th>4</th>\n",
       "      <td>CCBE9E7E99F94A08</td>\n",
       "      <td>2020-12-01 00:00:52</td>\n",
       "      <td>product_page</td>\n",
       "      <td>NaN</td>\n",
       "    </tr>\n",
       "  </tbody>\n",
       "</table>\n",
       "</div>"
      ],
      "text/plain": [
       "            user_id            event_dt                        event_name  \\\n",
       "0            GLOBAL 2020-12-01 00:00:00  End of Black Friday Ads Campaign   \n",
       "1  CCBE9E7E99F94A08 2020-12-01 00:00:11                      registration   \n",
       "2            GLOBAL 2020-12-01 00:00:25                      product_page   \n",
       "3  CCBE9E7E99F94A08 2020-12-01 00:00:33                             login   \n",
       "4  CCBE9E7E99F94A08 2020-12-01 00:00:52                      product_page   \n",
       "\n",
       "       details  \n",
       "0  ZONE_CODE15  \n",
       "1          0.0  \n",
       "2          NaN  \n",
       "3          NaN  \n",
       "4          NaN  "
      ]
     },
     "metadata": {},
     "output_type": "display_data"
    }
   ],
   "source": [
    "# Проверка типов данных в таблице участников\n",
    "display(\"Типы данных в таблице участников:\")\n",
    "display(participants.dtypes)\n",
    "display(participants.head(5))\n",
    "\n",
    "# Проверка типов данных в таблице событий\n",
    "display(\"Типы данных в таблице событий:\")\n",
    "display(events.dtypes)\n",
    "display(events.head(5))"
   ]
  },
  {
   "cell_type": "markdown",
   "metadata": {},
   "source": [
    "<div class=\"alert alert-info\"> Проверили целостность данных, а именно проверили на дубликаты среди участников, типы данных в таблицах и пропущенные значения. В данных об участников отсутствуют дубликаты и пропуски, а в таблице событий, есть дубликаты и пропуски (один участник мог участвовать в разных событиях и тп).</div>"
   ]
  },
  {
   "cell_type": "markdown",
   "metadata": {},
   "source": [
    "3. По таблице `ab_test_participants` оцените корректность проведения теста:\n",
    "\n",
    "   3\\.1 Выделите пользователей, участвующих в тесте, и проверьте:\n",
    "\n",
    "   - соответствие требованиям технического задания,\n",
    "\n",
    "   - равномерность распределения пользователей по группам теста,\n",
    "\n",
    "   - отсутствие пересечений с конкурирующим тестом (нет пользователей, участвующих одновременно в двух тестовых группах)."
   ]
  },
  {
   "cell_type": "code",
   "execution_count": 6,
   "metadata": {},
   "outputs": [],
   "source": [
    "test_participants = participants[participants['ab_test'] == 'interface_eu_test']"
   ]
  },
  {
   "cell_type": "code",
   "execution_count": 7,
   "metadata": {},
   "outputs": [],
   "source": [
    "# Фильтрация участников по тесту и дате\n",
    "filtered_participants = participants[\n",
    "    (participants['ab_test'] == 'interface_eu_test') &\n",
    "    (participants['group'].isin(['A', 'B']))\n",
    "]\n",
    "\n",
    "# Фильтрация событий по дате\n",
    "filtered_events = events[\n",
    "    (events['event_dt'] >= '2020-12-07') &\n",
    "    (events['event_dt'] < '2020-12-30')\n",
    "]"
   ]
  },
  {
   "cell_type": "markdown",
   "metadata": {},
   "source": []
  },
  {
   "cell_type": "code",
   "execution_count": 8,
   "metadata": {},
   "outputs": [
    {
     "data": {
      "text/plain": [
       "'Распределение пользователей по группам:'"
      ]
     },
     "metadata": {},
     "output_type": "display_data"
    },
    {
     "data": {
      "text/plain": [
       "B    5467\n",
       "A    5383\n",
       "Name: group, dtype: int64"
      ]
     },
     "metadata": {},
     "output_type": "display_data"
    }
   ],
   "source": [
    "# Распределение пользователей по группам\n",
    "group_distribution = filtered_participants['group'].value_counts()\n",
    "display(\"Распределение пользователей по группам:\")\n",
    "display(group_distribution)"
   ]
  },
  {
   "cell_type": "code",
   "execution_count": 9,
   "metadata": {
    "scrolled": true
   },
   "outputs": [
    {
     "data": {
      "image/png": "[encoded data removed]",
      "text/plain": [
       "<Figure size 432x288 with 1 Axes>"
      ]
     },
     "metadata": {
      "needs_background": "light"
     },
     "output_type": "display_data"
    }
   ],
   "source": [
    "# Визуализация распределения пользователей по группам\n",
    "group_distribution.plot(kind='bar', title='Распределение пользователей по группам')\n",
    "plt.xlabel('Группа')\n",
    "plt.ylabel('Количество пользователей')\n",
    "plt.show()\n"
   ]
  },
  {
   "cell_type": "markdown",
   "metadata": {},
   "source": [
    "<div class=\"alert alert-info\">Из графика видно, что распределение равномерно c небольшим отклонением (1,5%).</div>"
   ]
  },
  {
   "cell_type": "code",
   "execution_count": 10,
   "metadata": {},
   "outputs": [],
   "source": [
    "# Проверка на пересечения в группах\n",
    "test_participants = participants[participants['ab_test'] == 'interface_eu_test']\n",
    "\n",
    "# Выделение пользователей из групп A и B\n",
    "group_a_users = set(test_participants[test_participants['group'] == 'A']['user_id'])\n",
    "group_b_users = set(test_participants[test_participants['group'] == 'B']['user_id'])\n"
   ]
  },
  {
   "cell_type": "code",
   "execution_count": 11,
   "metadata": {},
   "outputs": [
    {
     "data": {
      "text/plain": [
       "'Найдены пересечения: 887 пользователей участвуют в обоих тестах.'"
      ]
     },
     "metadata": {},
     "output_type": "display_data"
    }
   ],
   "source": [
    "# Выделение пользователей из других тестов\n",
    "other_tests = participants[participants['ab_test'] != 'interface_eu_test']\n",
    "\n",
    "# Получение уникальных user_id из других тестов\n",
    "other_test_users = set(other_tests['user_id'])\n",
    "\n",
    "# Получение уникальных user_id из теста interface_eu_test\n",
    "test_users = set(test_participants['user_id'])\n",
    "\n",
    "# Проверка пересечения\n",
    "intersection_users = test_users.intersection(other_test_users)\n",
    "\n",
    "if len(intersection_users) == 0:\n",
    "    display(\"Нет пользователей, участвующих одновременно в тесте interface_eu_test и других тестах.\")\n",
    "else:\n",
    "    display(f\"Найдены пересечения: {len(intersection_users)} пользователей участвуют в обоих тестах.\")"
   ]
  },
  {
   "cell_type": "code",
   "execution_count": 12,
   "metadata": {},
   "outputs": [
    {
     "data": {
      "text/plain": [
       "'Новое распределение пользователей по группам после исключения пересечений:'"
      ]
     },
     "metadata": {},
     "output_type": "display_data"
    },
    {
     "data": {
      "text/plain": [
       "B    5011\n",
       "A    4952\n",
       "Name: group, dtype: int64"
      ]
     },
     "metadata": {},
     "output_type": "display_data"
    }
   ],
   "source": [
    "# Исключение пересекающихся пользователей\n",
    "filtered_participants = filtered_participants[~filtered_participants['user_id'].isin(intersection_users)]\n",
    "\n",
    "# Проверка нового количества пользователей в тесте\n",
    "new_group_distribution = filtered_participants['group'].value_counts()\n",
    "display(\"Новое распределение пользователей по группам после исключения пересечений:\")\n",
    "display(new_group_distribution)"
   ]
  },
  {
   "cell_type": "code",
   "execution_count": 13,
   "metadata": {},
   "outputs": [
    {
     "data": {
      "text/plain": [
       "'Нет пользователей, участвующих одновременно в группах A и B.'"
      ]
     },
     "metadata": {},
     "output_type": "display_data"
    }
   ],
   "source": [
    "# Проверка пересечения\n",
    "intersection_users = group_a_users.intersection(group_b_users)\n",
    "\n",
    "if len(intersection_users) == 0:\n",
    "    display(\"Нет пользователей, участвующих одновременно в группах A и B.\")\n",
    "else:\n",
    "    display(f\"Найдены пересечения: {len(intersection_users)} пользователей участвуют в обеих группах.\")"
   ]
  },
  {
   "cell_type": "markdown",
   "metadata": {},
   "source": [
    "Оцените достаточность выборки для получения статистически значимых результатов A/B-теста. Заданные параметры: \n",
    "\n",
    "- базовый показатель конверсии — 30%,\n",
    "\n",
    "- мощность теста — 80%,\n",
    "\n",
    "- достоверность теста — 95%."
   ]
  },
  {
   "cell_type": "code",
   "execution_count": 14,
   "metadata": {},
   "outputs": [
    {
     "data": {
      "text/plain": [
       "'Необходимый размер выборки для каждой группы: 3760'"
      ]
     },
     "metadata": {},
     "output_type": "display_data"
    }
   ],
   "source": [
    "# Заданные параметры\n",
    "p1 = 0.3  # базовый показатель конверсии\n",
    "p2 = 0.33  # ожидаемое увеличение конверсии\n",
    "alpha = 0.05  # уровень значимости\n",
    "beta = 0.2  # мощность теста\n",
    "\n",
    "# Критические значения\n",
    "Z_alpha = norm.ppf(1 - alpha / 2)  # Z для α/2\n",
    "Z_beta = norm.ppf(1 - beta)  # Z для β\n",
    "\n",
    "# Расчет необходимого размера выборки\n",
    "n = ((Z_alpha + Z_beta) ** 2 * (p1 * (1 - p1) + p2 * (1 - p2))) / (p2 - p1) ** 2\n",
    "n = math.ceil(n)  # округляем до целого числа\n",
    "\n",
    "display(f\"Необходимый размер выборки для каждой группы: {n}\")"
   ]
  },
  {
   "cell_type": "markdown",
   "metadata": {},
   "source": [
    "3\\.2 Проанализируйте данные о пользовательской активности по таблице `ab_test_events`:\n",
    "\n",
    "- оставьте только события, связанные с участвующими в изучаемом тесте пользователями;"
   ]
  },
  {
   "cell_type": "code",
   "execution_count": 15,
   "metadata": {},
   "outputs": [
    {
     "data": {
      "text/plain": [
       "'Количество событий после фильтрации: 73545'"
      ]
     },
     "metadata": {},
     "output_type": "display_data"
    }
   ],
   "source": [
    "# Фильтрация участников теста\n",
    "test_participants = participants[participants['ab_test'] == 'interface_eu_test']\n",
    "\n",
    "# Получение уникальных user_id участников теста\n",
    "test_user_ids = set(test_participants['user_id'])\n",
    "\n",
    "# Фильтрация событий по user_id участников теста\n",
    "filtered_events = events[events['user_id'].isin(test_user_ids)]\n",
    "\n",
    "# Проверка результата\n",
    "display(f\"Количество событий после фильтрации: {filtered_events.shape[0]}\")"
   ]
  },
  {
   "cell_type": "markdown",
   "metadata": {},
   "source": [
    "- определите горизонт анализа: рассчитайте время (лайфтайм) совершения события пользователем после регистрации и оставьте только те события, которые были выполнены в течение первых семи дней с момента регистрации;"
   ]
  },
  {
   "cell_type": "code",
   "execution_count": 16,
   "metadata": {},
   "outputs": [],
   "source": [
    "# Определение даты регистрации (первого события) для каждого пользователя\n",
    "registration_dates = events.groupby('user_id')['event_dt'].min().reset_index()\n",
    "registration_dates.columns = ['user_id', 'registration_date']\n",
    "\n",
    "# Объединение с таблицей участников, чтобы получить только тех, кто участвовал в тесте\n",
    "registration_dates = registration_dates[registration_dates['user_id'].isin(test_user_ids)]"
   ]
  },
  {
   "cell_type": "code",
   "execution_count": 17,
   "metadata": {},
   "outputs": [],
   "source": [
    "# Объединение с событиями\n",
    "events_with_registration = filtered_events.merge(registration_dates, on='user_id')\n",
    "\n",
    "# Рассчет времени до события\n",
    "events_with_registration['time_since_registration'] = (events_with_registration['event_dt'] - events_with_registration['registration_date']).dt.days\n",
    "\n",
    "# Оставляем только события, произошедшие в течение первых 7 дней после регистрации\n",
    "events_within_7_days = events_with_registration[events_with_registration['time_since_registration'] <= 6]"
   ]
  },
  {
   "cell_type": "markdown",
   "metadata": {},
   "source": [
    "- рассчитайте для каждой группы количество посетителей, сделавших покупку, и общее количество посетителей."
   ]
  },
  {
   "cell_type": "code",
   "execution_count": 18,
   "metadata": {},
   "outputs": [
    {
     "data": {
      "text/plain": [
       "'Группа A: уникальные покупки = 1480, общее количество пользователей = 5383'"
      ]
     },
     "metadata": {},
     "output_type": "display_data"
    },
    {
     "data": {
      "text/plain": [
       "'Группа B: уникальные покупки = 1600, общее количество пользователей = 5467'"
      ]
     },
     "metadata": {},
     "output_type": "display_data"
    },
    {
     "data": {
      "text/plain": [
       "'Конверсия группы A: 27.49%'"
      ]
     },
     "metadata": {},
     "output_type": "display_data"
    },
    {
     "data": {
      "text/plain": [
       "'Конверсия группы B: 29.27%'"
      ]
     },
     "metadata": {},
     "output_type": "display_data"
    }
   ],
   "source": [
    "# Фильтрация событий, связанных с покупками\n",
    "purchase_events = events_within_7_days[events_within_7_days['event_name'] == 'purchase']\n",
    "\n",
    "# Получение уникальных пользователей, совершивших покупку в каждой группе\n",
    "purchases_a = purchase_events[purchase_events['user_id'].isin(test_participants[test_participants['group'] == 'A']['user_id'])]\n",
    "purchases_b = purchase_events[purchase_events['user_id'].isin(test_participants[test_participants['group'] == 'B']['user_id'])]\n",
    "\n",
    "# Подсчет уникальных пользователей, совершивших покупку\n",
    "unique_purchases_a = purchases_a['user_id'].nunique()\n",
    "unique_purchases_b = purchases_b['user_id'].nunique()\n",
    "\n",
    "# Общее количество пользователей в каждой группе\n",
    "total_users_a = test_participants[test_participants['group'] == 'A']['user_id'].nunique()\n",
    "total_users_b = test_participants[test_participants['group'] == 'B']['user_id'].nunique()\n",
    "\n",
    "# Результаты\n",
    "display(f\"Группа A: уникальные покупки = {unique_purchases_a}, общее количество пользователей = {total_users_a}\")\n",
    "display(f\"Группа B: уникальные покупки = {unique_purchases_b}, общее количество пользователей = {total_users_b}\")\n",
    "\n",
    "# Расчет конверсии\n",
    "conversion_a = unique_purchases_a / total_users_a\n",
    "conversion_b = unique_purchases_b / total_users_b\n",
    "\n",
    "display(f\"Конверсия группы A: {conversion_a:.2%}\")\n",
    "display(f\"Конверсия группы B: {conversion_b:.2%}\")"
   ]
  },
  {
   "cell_type": "markdown",
   "metadata": {},
   "source": [
    "- сделайте предварительный общий вывод об изменении пользовательской активности в тестовой группе по сравнению с контрольной."
   ]
  },
  {
   "cell_type": "markdown",
   "metadata": {},
   "source": [
    "4. Проведите оценку результатов A/B-тестирования:"
   ]
  },
  {
   "cell_type": "markdown",
   "metadata": {},
   "source": [
    "<div class=\"alert alert-info\">Тут поидее надо написать про гипотезы. \n",
    "\n",
    "    H₀ (нулевая гипотеза) — Активность тестовой группы по отношению к контрольной не изменилась.\n",
    "\n",
    "    H₁ (альтернативная гипотеза) — Активность тестовой группы по отношению к контрольной увеличилась.\n",
    "</div>"
   ]
  },
  {
   "cell_type": "markdown",
   "metadata": {},
   "source": [
    "- Проверьте изменение конверсии подходящим статистическим тестом, учитывая все этапы проверки гипотез."
   ]
  },
  {
   "cell_type": "code",
   "execution_count": 19,
   "metadata": {},
   "outputs": [
    {
     "data": {
      "text/plain": [
       "'p-value: 0.020306993983065475'"
      ]
     },
     "metadata": {},
     "output_type": "display_data"
    },
    {
     "data": {
      "text/plain": [
       "'Результаты статистически значимы, отвергаем нулевую гипотезу.'"
      ]
     },
     "metadata": {},
     "output_type": "display_data"
    }
   ],
   "source": [
    "success_a = unique_purchases_a  # Успешные события в группе A\n",
    "success_b = unique_purchases_b  # Успешные события в группе B\n",
    "n_a = total_users_a              # Общее количество пользователей в группе A\n",
    "n_b = total_users_b              # Общее количество пользователей в группе B\n",
    "\n",
    "# Проведение Z-теста для пропорций\n",
    "z_stat, p_value = proportions_ztest([success_a, success_b], [n_a, n_b], alternative='smaller')\n",
    "\n",
    "# Выводим p-value\n",
    "display(f'p-value: {p_value}')\n",
    "\n",
    "# Уровень значимости\n",
    "alpha = 0.05\n",
    "\n",
    "# Вывод результатов\n",
    "if p_value < alpha:\n",
    "    display(\"Результаты статистически значимы, отвергаем нулевую гипотезу.\")\n",
    "else:\n",
    "    display(\"Нет статистически значимого различия, не отвергаем нулевую гипотезу.\")"
   ]
  },
  {
   "cell_type": "markdown",
   "metadata": {},
   "source": [
    "- Опишите выводы по проведённой оценке результатов A/B-тестирования. Что можно сказать про результаты A/B-тестирования? Был ли достигнут ожидаемый эффект в изменении конверсии?"
   ]
  },
  {
   "cell_type": "markdown",
   "metadata": {},
   "source": [
    "<div class=\"alert alert-info\">  Из результатов теста видно, что альтернативная гипотеза про увеличение активности  подтвердилась, а это значит что улучшение интерфейса дало результаты, но больше чем ожидалось по прогнозам. Для принятия решения по исходам теста, было бы хорошо провести дополнительные исследования и возможно рассмотреть какие-то еще условия.</div>"
   ]
  }
 ],
 "metadata": {
  "ExecuteTimeLog": [
   {
    "duration": 47,
    "start_time": "2025-03-17T19:20:31.218Z"
   },
   {
    "duration": 1711,
    "start_time": "2025-03-17T19:20:37.015Z"
   },
   {
    "duration": 6,
    "start_time": "2025-03-17T19:20:39.791Z"
   },
   {
    "duration": 1042,
    "start_time": "2025-03-17T19:20:55.378Z"
   },
   {
    "duration": 25,
    "start_time": "2025-03-17T19:21:57.858Z"
   },
   {
    "duration": 6,
    "start_time": "2025-03-17T19:22:26.732Z"
   },
   {
    "duration": 6,
    "start_time": "2025-03-17T19:24:43.020Z"
   },
   {
    "duration": 567,
    "start_time": "2025-03-17T19:31:31.099Z"
   },
   {
    "duration": 505,
    "start_time": "2025-03-17T19:31:49.289Z"
   },
   {
    "duration": 539,
    "start_time": "2025-03-17T19:32:12.929Z"
   },
   {
    "duration": 1278,
    "start_time": "2025-03-17T19:49:50.896Z"
   },
   {
    "duration": 15,
    "start_time": "2025-03-17T19:50:28.652Z"
   },
   {
    "duration": 6,
    "start_time": "2025-03-17T19:50:49.815Z"
   },
   {
    "duration": 6,
    "start_time": "2025-03-17T19:50:57.617Z"
   },
   {
    "duration": 7,
    "start_time": "2025-03-17T19:51:25.027Z"
   },
   {
    "duration": 9,
    "start_time": "2025-03-17T19:51:42.269Z"
   },
   {
    "duration": 619,
    "start_time": "2025-03-17T19:52:04.416Z"
   },
   {
    "duration": 1676,
    "start_time": "2025-03-17T19:52:05.037Z"
   },
   {
    "duration": 531,
    "start_time": "2025-03-17T19:52:06.715Z"
   },
   {
    "duration": 20,
    "start_time": "2025-03-17T19:52:07.249Z"
   },
   {
    "duration": 6,
    "start_time": "2025-03-17T19:52:08.297Z"
   },
   {
    "duration": 7,
    "start_time": "2025-03-17T19:52:08.936Z"
   },
   {
    "duration": 59,
    "start_time": "2025-03-17T19:52:09.625Z"
   },
   {
    "duration": 10,
    "start_time": "2025-03-17T19:52:22.075Z"
   },
   {
    "duration": 54,
    "start_time": "2025-03-17T19:52:43.317Z"
   },
   {
    "duration": 1047,
    "start_time": "2025-03-17T19:52:54.294Z"
   },
   {
    "duration": 13,
    "start_time": "2025-03-17T19:55:04.750Z"
   },
   {
    "duration": 22,
    "start_time": "2025-03-17T19:55:58.348Z"
   },
   {
    "duration": 3,
    "start_time": "2025-03-17T20:03:17.716Z"
   },
   {
    "duration": 1675,
    "start_time": "2025-03-17T20:03:18.504Z"
   },
   {
    "duration": 1180,
    "start_time": "2025-03-18T19:25:03.738Z"
   },
   {
    "duration": 1613,
    "start_time": "2025-03-18T19:25:04.920Z"
   },
   {
    "duration": 2,
    "start_time": "2025-03-18T19:32:13.894Z"
   },
   {
    "duration": 1489,
    "start_time": "2025-03-18T19:32:15.567Z"
   },
   {
    "duration": 517,
    "start_time": "2025-03-18T19:36:01.994Z"
   },
   {
    "duration": 156,
    "start_time": "2025-03-18T19:37:32.805Z"
   },
   {
    "duration": 146,
    "start_time": "2025-03-18T19:38:37.767Z"
   },
   {
    "duration": 351,
    "start_time": "2025-03-18T19:39:05.268Z"
   },
   {
    "duration": 204,
    "start_time": "2025-03-18T19:39:28.967Z"
   },
   {
    "duration": 21,
    "start_time": "2025-03-18T19:39:53.303Z"
   },
   {
    "duration": 5,
    "start_time": "2025-03-18T19:40:35.892Z"
   },
   {
    "duration": 131,
    "start_time": "2025-03-18T19:46:47.545Z"
   },
   {
    "duration": 7,
    "start_time": "2025-03-18T19:47:01.612Z"
   },
   {
    "duration": 7,
    "start_time": "2025-03-18T19:47:14.375Z"
   },
   {
    "duration": 109,
    "start_time": "2025-03-18T19:47:33.376Z"
   },
   {
    "duration": 27,
    "start_time": "2025-03-18T19:48:31.808Z"
   },
   {
    "duration": 27,
    "start_time": "2025-03-18T19:48:54.699Z"
   },
   {
    "duration": 27,
    "start_time": "2025-03-18T19:49:11.502Z"
   },
   {
    "duration": 352,
    "start_time": "2025-03-18T19:49:28.471Z"
   },
   {
    "duration": 5,
    "start_time": "2025-03-18T19:51:10.284Z"
   },
   {
    "duration": 6,
    "start_time": "2025-03-18T19:51:12.894Z"
   },
   {
    "duration": 1493,
    "start_time": "2025-03-18T19:51:25.254Z"
   },
   {
    "duration": 1683,
    "start_time": "2025-03-18T19:51:55.451Z"
   },
   {
    "duration": 5,
    "start_time": "2025-03-18T19:53:56.209Z"
   },
   {
    "duration": 5,
    "start_time": "2025-03-18T19:54:04.730Z"
   },
   {
    "duration": 102,
    "start_time": "2025-03-18T19:54:07.571Z"
   },
   {
    "duration": 8,
    "start_time": "2025-03-18T19:54:13.411Z"
   },
   {
    "duration": 114,
    "start_time": "2025-03-18T19:54:21.876Z"
   },
   {
    "duration": 9,
    "start_time": "2025-03-18T19:54:23.236Z"
   },
   {
    "duration": 114,
    "start_time": "2025-03-18T19:54:27.573Z"
   },
   {
    "duration": 29,
    "start_time": "2025-03-18T19:54:30.285Z"
   },
   {
    "duration": 11,
    "start_time": "2025-03-18T19:55:32.708Z"
   },
   {
    "duration": 131,
    "start_time": "2025-03-18T19:56:52.583Z"
   },
   {
    "duration": 21,
    "start_time": "2025-03-18T19:57:14.849Z"
   },
   {
    "duration": 23,
    "start_time": "2025-03-18T19:59:04.951Z"
   },
   {
    "duration": 37,
    "start_time": "2025-03-18T20:01:43.876Z"
   },
   {
    "duration": 9,
    "start_time": "2025-03-18T20:01:45.124Z"
   },
   {
    "duration": 11,
    "start_time": "2025-03-18T20:01:45.875Z"
   },
   {
    "duration": 1350,
    "start_time": "2025-03-18T20:02:14.119Z"
   },
   {
    "duration": 46,
    "start_time": "2025-03-18T20:09:04.337Z"
   },
   {
    "duration": 9,
    "start_time": "2025-03-18T20:09:05.714Z"
   },
   {
    "duration": 7,
    "start_time": "2025-03-18T20:09:30.438Z"
   },
   {
    "duration": 91,
    "start_time": "2025-03-18T20:09:39.662Z"
   },
   {
    "duration": 357,
    "start_time": "2025-03-18T20:10:24.367Z"
   },
   {
    "duration": 10,
    "start_time": "2025-03-18T20:10:37.597Z"
   },
   {
    "duration": 50,
    "start_time": "2025-03-18T20:11:02.177Z"
   },
   {
    "duration": 11,
    "start_time": "2025-03-18T20:11:05.268Z"
   },
   {
    "duration": 9,
    "start_time": "2025-03-18T20:11:06.680Z"
   },
   {
    "duration": 105,
    "start_time": "2025-03-18T20:11:07.767Z"
   },
   {
    "duration": 129,
    "start_time": "2025-03-18T20:11:08.993Z"
   },
   {
    "duration": 55,
    "start_time": "2025-03-18T20:11:16.426Z"
   },
   {
    "duration": 13,
    "start_time": "2025-03-18T20:14:22.618Z"
   },
   {
    "duration": 4,
    "start_time": "2025-03-18T20:14:34.219Z"
   },
   {
    "duration": 12,
    "start_time": "2025-03-18T20:27:28.435Z"
   },
   {
    "duration": 13,
    "start_time": "2025-03-18T20:27:39.789Z"
   },
   {
    "duration": 4,
    "start_time": "2025-03-18T20:28:29.399Z"
   },
   {
    "duration": 6,
    "start_time": "2025-03-18T20:28:41.033Z"
   },
   {
    "duration": 4,
    "start_time": "2025-03-18T20:38:14.904Z"
   },
   {
    "duration": 4,
    "start_time": "2025-03-18T20:38:37.211Z"
   },
   {
    "duration": 110,
    "start_time": "2025-03-18T20:39:25.371Z"
   },
   {
    "duration": 118,
    "start_time": "2025-03-18T20:39:44.051Z"
   },
   {
    "duration": 1551,
    "start_time": "2025-03-18T20:43:34.265Z"
   },
   {
    "duration": 1689,
    "start_time": "2025-03-18T20:43:51.450Z"
   },
   {
    "duration": 1386,
    "start_time": "2025-03-18T20:44:40.336Z"
   },
   {
    "duration": 1504,
    "start_time": "2025-03-18T20:45:10.694Z"
   },
   {
    "duration": 336,
    "start_time": "2025-03-18T20:46:16.797Z"
   },
   {
    "duration": 295,
    "start_time": "2025-03-18T20:47:42.151Z"
   },
   {
    "duration": 262,
    "start_time": "2025-03-18T20:48:17.300Z"
   },
   {
    "duration": 274,
    "start_time": "2025-03-18T20:49:15.690Z"
   },
   {
    "duration": 346,
    "start_time": "2025-03-18T20:49:53.135Z"
   },
   {
    "duration": 341,
    "start_time": "2025-03-18T20:50:13.146Z"
   },
   {
    "duration": 361,
    "start_time": "2025-03-18T20:50:28.220Z"
   },
   {
    "duration": 343,
    "start_time": "2025-03-18T20:50:48.542Z"
   },
   {
    "duration": 1350,
    "start_time": "2025-03-18T20:52:23.066Z"
   },
   {
    "duration": 334,
    "start_time": "2025-03-18T20:52:42.004Z"
   },
   {
    "duration": 291,
    "start_time": "2025-03-18T20:53:15.041Z"
   },
   {
    "duration": 92,
    "start_time": "2025-03-18T20:55:40.298Z"
   },
   {
    "duration": 3,
    "start_time": "2025-03-18T20:55:55.916Z"
   },
   {
    "duration": 1551,
    "start_time": "2025-03-18T20:55:56.492Z"
   },
   {
    "duration": 149,
    "start_time": "2025-03-18T20:55:58.045Z"
   },
   {
    "duration": 341,
    "start_time": "2025-03-18T20:55:59.093Z"
   },
   {
    "duration": 19,
    "start_time": "2025-03-18T20:56:00.054Z"
   },
   {
    "duration": 7,
    "start_time": "2025-03-18T20:56:02.867Z"
   },
   {
    "duration": 44,
    "start_time": "2025-03-18T20:56:03.559Z"
   },
   {
    "duration": 13,
    "start_time": "2025-03-18T20:56:04.701Z"
   },
   {
    "duration": 11,
    "start_time": "2025-03-18T20:56:05.414Z"
   },
   {
    "duration": 115,
    "start_time": "2025-03-18T20:56:06.166Z"
   },
   {
    "duration": 136,
    "start_time": "2025-03-18T20:56:06.959Z"
   },
   {
    "duration": 13,
    "start_time": "2025-03-18T20:56:07.670Z"
   },
   {
    "duration": 6,
    "start_time": "2025-03-18T20:56:08.319Z"
   },
   {
    "duration": 8,
    "start_time": "2025-03-18T20:56:09.823Z"
   },
   {
    "duration": 109,
    "start_time": "2025-03-18T20:56:11.975Z"
   },
   {
    "duration": 269,
    "start_time": "2025-03-18T20:56:13.383Z"
   },
   {
    "duration": 19,
    "start_time": "2025-03-18T21:00:25.285Z"
   },
   {
    "duration": 6,
    "start_time": "2025-03-18T21:00:48.785Z"
   },
   {
    "duration": 3,
    "start_time": "2025-03-18T21:01:32.287Z"
   },
   {
    "duration": 1490,
    "start_time": "2025-03-18T21:01:33.310Z"
   },
   {
    "duration": 142,
    "start_time": "2025-03-18T21:01:34.802Z"
   },
   {
    "duration": 35,
    "start_time": "2025-03-18T21:03:10.154Z"
   },
   {
    "duration": 16,
    "start_time": "2025-03-18T21:03:14.578Z"
   },
   {
    "duration": 20,
    "start_time": "2025-03-18T21:03:20.884Z"
   },
   {
    "duration": 25,
    "start_time": "2025-03-18T21:03:40.563Z"
   },
   {
    "duration": 8,
    "start_time": "2025-03-18T21:03:44.286Z"
   },
   {
    "duration": 4,
    "start_time": "2025-03-18T21:06:23.242Z"
   },
   {
    "duration": 8,
    "start_time": "2025-03-18T21:06:42.116Z"
   },
   {
    "duration": 10,
    "start_time": "2025-03-18T21:06:53.335Z"
   },
   {
    "duration": 7,
    "start_time": "2025-03-18T21:07:01.768Z"
   },
   {
    "duration": 134,
    "start_time": "2025-03-18T21:07:38.731Z"
   },
   {
    "duration": 95,
    "start_time": "2025-03-18T21:08:12.030Z"
   },
   {
    "duration": 104,
    "start_time": "2025-03-18T21:08:46.968Z"
   },
   {
    "duration": 107,
    "start_time": "2025-03-18T21:09:23.225Z"
   },
   {
    "duration": 126,
    "start_time": "2025-03-18T21:09:30.250Z"
   },
   {
    "duration": 112,
    "start_time": "2025-03-18T21:09:57.869Z"
   },
   {
    "duration": 1528,
    "start_time": "2025-03-18T21:10:22.438Z"
   },
   {
    "duration": 155,
    "start_time": "2025-03-18T21:10:24.658Z"
   },
   {
    "duration": 376,
    "start_time": "2025-03-18T21:10:25.752Z"
   },
   {
    "duration": 13,
    "start_time": "2025-03-18T21:10:26.667Z"
   },
   {
    "duration": 5,
    "start_time": "2025-03-18T21:10:30.640Z"
   },
   {
    "duration": 48,
    "start_time": "2025-03-18T21:10:31.544Z"
   },
   {
    "duration": 16,
    "start_time": "2025-03-18T21:10:33.152Z"
   },
   {
    "duration": 9,
    "start_time": "2025-03-18T21:10:33.868Z"
   },
   {
    "duration": 110,
    "start_time": "2025-03-18T21:10:34.576Z"
   },
   {
    "duration": 154,
    "start_time": "2025-03-18T21:10:35.344Z"
   },
   {
    "duration": 13,
    "start_time": "2025-03-18T21:10:36.105Z"
   },
   {
    "duration": 4,
    "start_time": "2025-03-18T21:10:36.714Z"
   },
   {
    "duration": 8,
    "start_time": "2025-03-18T21:10:38.081Z"
   },
   {
    "duration": 133,
    "start_time": "2025-03-18T21:10:40.345Z"
   },
   {
    "duration": 118,
    "start_time": "2025-03-18T21:10:42.001Z"
   },
   {
    "duration": 108,
    "start_time": "2025-03-18T21:12:13.686Z"
   },
   {
    "duration": 106,
    "start_time": "2025-03-18T21:13:10.493Z"
   },
   {
    "duration": 35,
    "start_time": "2025-03-18T21:13:18.938Z"
   },
   {
    "duration": 6,
    "start_time": "2025-03-18T21:13:27.895Z"
   },
   {
    "duration": 1336,
    "start_time": "2025-03-19T18:43:41.375Z"
   },
   {
    "duration": 1378,
    "start_time": "2025-03-19T18:43:44.039Z"
   },
   {
    "duration": 128,
    "start_time": "2025-03-19T18:43:47.232Z"
   },
   {
    "duration": 348,
    "start_time": "2025-03-19T18:44:01.690Z"
   },
   {
    "duration": 17,
    "start_time": "2025-03-19T18:44:06.562Z"
   },
   {
    "duration": 5,
    "start_time": "2025-03-19T18:44:13.019Z"
   },
   {
    "duration": 65,
    "start_time": "2025-03-19T18:44:15.036Z"
   },
   {
    "duration": 10,
    "start_time": "2025-03-19T18:44:34.472Z"
   },
   {
    "duration": 88,
    "start_time": "2025-03-19T18:44:52.224Z"
   },
   {
    "duration": 42,
    "start_time": "2025-03-19T18:45:24.573Z"
   },
   {
    "duration": 37,
    "start_time": "2025-03-19T18:45:30.590Z"
   },
   {
    "duration": 93,
    "start_time": "2025-03-19T18:45:38.646Z"
   },
   {
    "duration": 10,
    "start_time": "2025-03-19T18:46:49.695Z"
   },
   {
    "duration": 9,
    "start_time": "2025-03-19T18:46:59.376Z"
   },
   {
    "duration": 7,
    "start_time": "2025-03-19T18:47:05.713Z"
   },
   {
    "duration": 96,
    "start_time": "2025-03-19T18:47:07.281Z"
   },
   {
    "duration": 126,
    "start_time": "2025-03-19T18:47:10.113Z"
   },
   {
    "duration": 10,
    "start_time": "2025-03-19T18:47:17.650Z"
   },
   {
    "duration": 4,
    "start_time": "2025-03-19T18:47:39.125Z"
   },
   {
    "duration": 6,
    "start_time": "2025-03-19T18:51:03.414Z"
   },
   {
    "duration": 6,
    "start_time": "2025-03-19T18:56:15.428Z"
   },
   {
    "duration": 7,
    "start_time": "2025-03-19T18:56:23.878Z"
   },
   {
    "duration": 115,
    "start_time": "2025-03-19T18:57:08.875Z"
   },
   {
    "duration": 10,
    "start_time": "2025-03-19T18:57:10.427Z"
   },
   {
    "duration": 5,
    "start_time": "2025-03-19T18:57:11.187Z"
   },
   {
    "duration": 6,
    "start_time": "2025-03-19T18:57:13.747Z"
   },
   {
    "duration": 130,
    "start_time": "2025-03-19T18:57:22.116Z"
   },
   {
    "duration": 103,
    "start_time": "2025-03-19T18:59:59.440Z"
   },
   {
    "duration": 13,
    "start_time": "2025-03-19T19:01:42.245Z"
   },
   {
    "duration": 117,
    "start_time": "2025-03-19T19:01:56.647Z"
   },
   {
    "duration": 17,
    "start_time": "2025-03-19T19:02:50.764Z"
   },
   {
    "duration": 14,
    "start_time": "2025-03-19T19:02:55.486Z"
   },
   {
    "duration": 1540,
    "start_time": "2025-03-19T19:03:39.138Z"
   },
   {
    "duration": 244,
    "start_time": "2025-03-19T19:03:51.549Z"
   },
   {
    "duration": 1576,
    "start_time": "2025-03-19T19:07:30.639Z"
   },
   {
    "duration": 258,
    "start_time": "2025-03-19T19:07:54.043Z"
   },
   {
    "duration": 1385,
    "start_time": "2025-03-19T19:14:34.124Z"
   },
   {
    "duration": 1383,
    "start_time": "2025-03-19T19:14:48.837Z"
   },
   {
    "duration": 59,
    "start_time": "2025-03-19T19:16:41.699Z"
   },
   {
    "duration": 55,
    "start_time": "2025-03-19T19:16:45.588Z"
   },
   {
    "duration": 8,
    "start_time": "2025-03-19T19:16:46.852Z"
   },
   {
    "duration": 122,
    "start_time": "2025-03-19T19:16:47.939Z"
   },
   {
    "duration": 13,
    "start_time": "2025-03-19T19:16:49.396Z"
   },
   {
    "duration": 6,
    "start_time": "2025-03-19T19:16:50.092Z"
   },
   {
    "duration": 7,
    "start_time": "2025-03-19T19:16:52.588Z"
   },
   {
    "duration": 92,
    "start_time": "2025-03-19T19:16:55.237Z"
   },
   {
    "duration": 1309,
    "start_time": "2025-03-19T19:16:57.080Z"
   },
   {
    "duration": 12,
    "start_time": "2025-03-19T19:17:10.447Z"
   },
   {
    "duration": 62,
    "start_time": "2025-03-19T19:17:44.411Z"
   },
   {
    "duration": 8,
    "start_time": "2025-03-19T19:17:46.532Z"
   },
   {
    "duration": 133,
    "start_time": "2025-03-19T19:17:47.147Z"
   },
   {
    "duration": 19,
    "start_time": "2025-03-19T19:17:48.252Z"
   },
   {
    "duration": 4,
    "start_time": "2025-03-19T19:17:48.756Z"
   },
   {
    "duration": 7,
    "start_time": "2025-03-19T19:17:49.860Z"
   },
   {
    "duration": 92,
    "start_time": "2025-03-19T19:17:51.588Z"
   },
   {
    "duration": 14,
    "start_time": "2025-03-19T19:17:53.411Z"
   },
   {
    "duration": 38,
    "start_time": "2025-03-19T19:19:25.520Z"
   },
   {
    "duration": 11,
    "start_time": "2025-03-19T19:19:28.160Z"
   },
   {
    "duration": 114,
    "start_time": "2025-03-19T19:19:30.593Z"
   },
   {
    "duration": 12,
    "start_time": "2025-03-19T19:19:31.913Z"
   },
   {
    "duration": 5,
    "start_time": "2025-03-19T19:19:32.400Z"
   },
   {
    "duration": 7,
    "start_time": "2025-03-19T19:19:34.137Z"
   },
   {
    "duration": 88,
    "start_time": "2025-03-19T19:19:36.425Z"
   },
   {
    "duration": 13,
    "start_time": "2025-03-19T19:19:45.211Z"
   },
   {
    "duration": 420,
    "start_time": "2025-03-19T19:20:39.961Z"
   },
   {
    "duration": 53,
    "start_time": "2025-03-19T19:20:53.619Z"
   },
   {
    "duration": 21,
    "start_time": "2025-03-19T19:21:15.862Z"
   },
   {
    "duration": 33,
    "start_time": "2025-03-19T19:22:41.184Z"
   },
   {
    "duration": 9,
    "start_time": "2025-03-19T19:22:42.808Z"
   },
   {
    "duration": 16,
    "start_time": "2025-03-19T19:23:09.860Z"
   },
   {
    "duration": 8,
    "start_time": "2025-03-19T19:28:17.689Z"
   },
   {
    "duration": 33,
    "start_time": "2025-03-19T19:30:32.594Z"
   },
   {
    "duration": 87,
    "start_time": "2025-03-19T19:45:26.015Z"
   },
   {
    "duration": 399,
    "start_time": "2025-03-19T19:45:27.526Z"
   },
   {
    "duration": 57,
    "start_time": "2025-03-19T19:45:28.095Z"
   },
   {
    "duration": 13,
    "start_time": "2025-03-19T19:45:55.068Z"
   },
   {
    "duration": 6,
    "start_time": "2025-03-19T19:46:07.637Z"
   },
   {
    "duration": 8,
    "start_time": "2025-03-19T19:46:20.205Z"
   },
   {
    "duration": 8,
    "start_time": "2025-03-19T19:46:45.336Z"
   },
   {
    "duration": 8,
    "start_time": "2025-03-19T19:46:55.914Z"
   },
   {
    "duration": 8,
    "start_time": "2025-03-19T19:47:00.923Z"
   },
   {
    "duration": 14,
    "start_time": "2025-03-19T19:47:14.636Z"
   },
   {
    "duration": 9,
    "start_time": "2025-03-19T19:47:19.197Z"
   },
   {
    "duration": 94,
    "start_time": "2025-03-19T19:48:13.139Z"
   },
   {
    "duration": 88,
    "start_time": "2025-03-19T19:48:21.796Z"
   },
   {
    "duration": 22,
    "start_time": "2025-03-19T19:48:52.856Z"
   },
   {
    "duration": 15,
    "start_time": "2025-03-19T19:49:20.579Z"
   },
   {
    "duration": 1182,
    "start_time": "2025-03-19T20:01:11.085Z"
   },
   {
    "duration": 1557,
    "start_time": "2025-03-19T20:01:12.271Z"
   },
   {
    "duration": 150,
    "start_time": "2025-03-19T20:01:13.829Z"
   },
   {
    "duration": 361,
    "start_time": "2025-03-19T20:01:13.982Z"
   },
   {
    "duration": 24,
    "start_time": "2025-03-19T20:01:14.345Z"
   },
   {
    "duration": 8,
    "start_time": "2025-03-19T20:01:14.371Z"
   },
   {
    "duration": 57,
    "start_time": "2025-03-19T20:01:14.381Z"
   },
   {
    "duration": 7,
    "start_time": "2025-03-19T20:01:14.440Z"
   },
   {
    "duration": 148,
    "start_time": "2025-03-19T20:01:14.448Z"
   },
   {
    "duration": 11,
    "start_time": "2025-03-19T20:01:14.598Z"
   },
   {
    "duration": 15,
    "start_time": "2025-03-19T20:01:14.610Z"
   },
   {
    "duration": 6,
    "start_time": "2025-03-19T20:01:14.627Z"
   },
   {
    "duration": 118,
    "start_time": "2025-03-19T20:01:14.635Z"
   },
   {
    "duration": 432,
    "start_time": "2025-03-19T20:01:14.754Z"
   },
   {
    "duration": 89,
    "start_time": "2025-03-19T20:01:15.187Z"
   },
   {
    "duration": 156,
    "start_time": "2025-03-19T20:01:15.281Z"
   },
   {
    "duration": 9,
    "start_time": "2025-03-19T20:01:15.439Z"
   },
   {
    "duration": 74,
    "start_time": "2025-03-19T20:01:15.450Z"
   },
   {
    "duration": 1391,
    "start_time": "2025-03-20T19:40:59.768Z"
   },
   {
    "duration": 1380,
    "start_time": "2025-03-20T19:41:01.171Z"
   },
   {
    "duration": 139,
    "start_time": "2025-03-20T19:41:02.552Z"
   },
   {
    "duration": 377,
    "start_time": "2025-03-20T19:41:02.693Z"
   },
   {
    "duration": 9,
    "start_time": "2025-03-20T19:41:03.072Z"
   },
   {
    "duration": 5,
    "start_time": "2025-03-20T19:41:03.082Z"
   },
   {
    "duration": 48,
    "start_time": "2025-03-20T19:41:03.088Z"
   },
   {
    "duration": 29,
    "start_time": "2025-03-20T19:41:03.138Z"
   },
   {
    "duration": 183,
    "start_time": "2025-03-20T19:41:03.170Z"
   },
   {
    "duration": 13,
    "start_time": "2025-03-20T19:41:03.359Z"
   },
   {
    "duration": 70,
    "start_time": "2025-03-20T19:41:03.373Z"
   },
   {
    "duration": 6,
    "start_time": "2025-03-20T19:41:03.445Z"
   },
   {
    "duration": 93,
    "start_time": "2025-03-20T19:41:03.453Z"
   },
   {
    "duration": 485,
    "start_time": "2025-03-20T19:41:03.547Z"
   },
   {
    "duration": 70,
    "start_time": "2025-03-20T19:41:04.033Z"
   },
   {
    "duration": 30,
    "start_time": "2025-03-20T19:41:04.105Z"
   },
   {
    "duration": 21,
    "start_time": "2025-03-20T19:41:04.137Z"
   },
   {
    "duration": 9,
    "start_time": "2025-03-20T19:41:04.162Z"
   },
   {
    "duration": 4,
    "start_time": "2025-03-20T19:51:20.595Z"
   },
   {
    "duration": 4,
    "start_time": "2025-03-20T19:51:23.722Z"
   },
   {
    "duration": 17,
    "start_time": "2025-03-20T19:51:57.432Z"
   },
   {
    "duration": 20,
    "start_time": "2025-03-20T19:52:18.536Z"
   },
   {
    "duration": 1205,
    "start_time": "2025-03-20T19:57:31.516Z"
   },
   {
    "duration": 1715,
    "start_time": "2025-03-20T19:57:32.723Z"
   },
   {
    "duration": 143,
    "start_time": "2025-03-20T19:57:34.439Z"
   },
   {
    "duration": 356,
    "start_time": "2025-03-20T19:57:34.584Z"
   },
   {
    "duration": 33,
    "start_time": "2025-03-20T19:57:34.942Z"
   },
   {
    "duration": 6,
    "start_time": "2025-03-20T19:57:34.977Z"
   },
   {
    "duration": 126,
    "start_time": "2025-03-20T19:57:34.984Z"
   },
   {
    "duration": 8,
    "start_time": "2025-03-20T19:57:35.111Z"
   },
   {
    "duration": 173,
    "start_time": "2025-03-20T19:57:35.120Z"
   },
   {
    "duration": 11,
    "start_time": "2025-03-20T19:57:35.296Z"
   },
   {
    "duration": 5,
    "start_time": "2025-03-20T19:57:35.308Z"
   },
   {
    "duration": 16,
    "start_time": "2025-03-20T19:57:35.315Z"
   },
   {
    "duration": 107,
    "start_time": "2025-03-20T19:57:35.333Z"
   },
   {
    "duration": 390,
    "start_time": "2025-03-20T19:57:35.442Z"
   },
   {
    "duration": 82,
    "start_time": "2025-03-20T19:57:35.833Z"
   },
   {
    "duration": 34,
    "start_time": "2025-03-20T19:57:35.917Z"
   },
   {
    "duration": 13,
    "start_time": "2025-03-20T19:57:35.966Z"
   },
   {
    "duration": 11,
    "start_time": "2025-03-20T19:57:35.981Z"
   },
   {
    "duration": 1200,
    "start_time": "2025-03-20T19:58:51.274Z"
   },
   {
    "duration": 1773,
    "start_time": "2025-03-20T19:58:52.476Z"
   },
   {
    "duration": 143,
    "start_time": "2025-03-20T19:58:54.251Z"
   },
   {
    "duration": 375,
    "start_time": "2025-03-20T19:58:54.396Z"
   },
   {
    "duration": 11,
    "start_time": "2025-03-20T19:58:54.772Z"
   },
   {
    "duration": 6,
    "start_time": "2025-03-20T19:58:54.785Z"
   },
   {
    "duration": 49,
    "start_time": "2025-03-20T19:58:54.792Z"
   },
   {
    "duration": 34,
    "start_time": "2025-03-20T19:58:54.843Z"
   },
   {
    "duration": 137,
    "start_time": "2025-03-20T19:58:54.878Z"
   },
   {
    "duration": 11,
    "start_time": "2025-03-20T19:58:55.018Z"
   },
   {
    "duration": 5,
    "start_time": "2025-03-20T19:58:55.031Z"
   },
   {
    "duration": 32,
    "start_time": "2025-03-20T19:58:55.038Z"
   },
   {
    "duration": 107,
    "start_time": "2025-03-20T19:58:55.072Z"
   },
   {
    "duration": 421,
    "start_time": "2025-03-20T19:58:55.180Z"
   },
   {
    "duration": 67,
    "start_time": "2025-03-20T19:58:55.603Z"
   },
   {
    "duration": 53,
    "start_time": "2025-03-20T19:58:55.672Z"
   },
   {
    "duration": 9,
    "start_time": "2025-03-20T19:58:55.727Z"
   },
   {
    "duration": 6,
    "start_time": "2025-03-20T19:58:55.738Z"
   },
   {
    "duration": 53,
    "start_time": "2025-03-20T20:36:30.057Z"
   },
   {
    "duration": 1231,
    "start_time": "2025-03-20T20:36:37.286Z"
   },
   {
    "duration": 1241,
    "start_time": "2025-03-20T20:36:38.806Z"
   },
   {
    "duration": 1419,
    "start_time": "2025-03-20T20:37:03.168Z"
   },
   {
    "duration": 134,
    "start_time": "2025-03-20T20:37:08.505Z"
   },
   {
    "duration": 285,
    "start_time": "2025-03-20T20:37:10.026Z"
   },
   {
    "duration": 1352,
    "start_time": "2025-03-20T20:37:28.803Z"
   },
   {
    "duration": 107,
    "start_time": "2025-03-20T20:37:32.644Z"
   },
   {
    "duration": 264,
    "start_time": "2025-03-20T20:37:34.861Z"
   },
   {
    "duration": 16,
    "start_time": "2025-03-20T20:37:47.061Z"
   },
   {
    "duration": 17,
    "start_time": "2025-03-20T20:38:10.833Z"
   },
   {
    "duration": 35,
    "start_time": "2025-03-20T20:39:04.199Z"
   },
   {
    "duration": 6,
    "start_time": "2025-03-20T20:39:08.943Z"
   },
   {
    "duration": 40,
    "start_time": "2025-03-20T20:39:10.104Z"
   },
   {
    "duration": 36,
    "start_time": "2025-03-20T20:40:12.871Z"
   },
   {
    "duration": 8,
    "start_time": "2025-03-20T20:40:19.751Z"
   },
   {
    "duration": 115,
    "start_time": "2025-03-20T20:40:20.568Z"
   },
   {
    "duration": 11,
    "start_time": "2025-03-20T20:40:34.490Z"
   },
   {
    "duration": 4,
    "start_time": "2025-03-20T20:40:35.322Z"
   },
   {
    "duration": 86,
    "start_time": "2025-03-20T20:41:09.311Z"
   },
   {
    "duration": 288,
    "start_time": "2025-03-20T20:41:10.575Z"
   },
   {
    "duration": 37,
    "start_time": "2025-03-20T20:41:12.031Z"
   },
   {
    "duration": 35,
    "start_time": "2025-03-20T20:41:50.235Z"
   },
   {
    "duration": 29,
    "start_time": "2025-03-20T20:42:38.994Z"
   },
   {
    "duration": 9,
    "start_time": "2025-03-20T20:42:40.418Z"
   },
   {
    "duration": 6,
    "start_time": "2025-03-20T20:43:06.014Z"
   },
   {
    "duration": 33,
    "start_time": "2025-03-20T20:47:58.474Z"
   },
   {
    "duration": 7,
    "start_time": "2025-03-20T20:48:00.466Z"
   },
   {
    "duration": 103,
    "start_time": "2025-03-20T20:48:01.866Z"
   },
   {
    "duration": 11,
    "start_time": "2025-03-20T20:48:03.539Z"
   },
   {
    "duration": 4,
    "start_time": "2025-03-20T20:48:04.722Z"
   },
   {
    "duration": 5,
    "start_time": "2025-03-20T20:48:07.931Z"
   },
   {
    "duration": 89,
    "start_time": "2025-03-20T20:48:10.515Z"
   },
   {
    "duration": 285,
    "start_time": "2025-03-20T20:48:12.163Z"
   },
   {
    "duration": 37,
    "start_time": "2025-03-20T20:48:15.059Z"
   },
   {
    "duration": 28,
    "start_time": "2025-03-20T20:48:17.428Z"
   },
   {
    "duration": 9,
    "start_time": "2025-03-20T20:48:19.108Z"
   },
   {
    "duration": 6,
    "start_time": "2025-03-20T20:48:25.349Z"
   },
   {
    "duration": 100,
    "start_time": "2025-03-20T20:52:48.967Z"
   },
   {
    "duration": 68,
    "start_time": "2025-03-20T20:54:53.270Z"
   },
   {
    "duration": 250,
    "start_time": "2025-03-20T20:55:37.644Z"
   },
   {
    "duration": 553,
    "start_time": "2025-03-20T20:56:03.551Z"
   },
   {
    "duration": 745,
    "start_time": "2025-03-20T20:56:34.379Z"
   },
   {
    "duration": 502,
    "start_time": "2025-03-20T20:57:10.112Z"
   },
   {
    "duration": 19,
    "start_time": "2025-03-20T20:57:16.257Z"
   },
   {
    "duration": 21,
    "start_time": "2025-03-20T20:57:53.124Z"
   },
   {
    "duration": 5,
    "start_time": "2025-03-20T20:57:56.269Z"
   },
   {
    "duration": 36,
    "start_time": "2025-03-20T20:57:57.709Z"
   },
   {
    "duration": 8,
    "start_time": "2025-03-20T20:58:02.478Z"
   },
   {
    "duration": 106,
    "start_time": "2025-03-20T20:58:05.054Z"
   },
   {
    "duration": 142,
    "start_time": "2025-03-20T21:00:23.599Z"
   },
   {
    "duration": 12,
    "start_time": "2025-03-20T21:00:37.137Z"
   },
   {
    "duration": 7,
    "start_time": "2025-03-20T21:00:49.731Z"
   },
   {
    "duration": 35,
    "start_time": "2025-03-20T21:01:07.709Z"
   },
   {
    "duration": 7,
    "start_time": "2025-03-20T21:01:11.253Z"
   },
   {
    "duration": 103,
    "start_time": "2025-03-20T21:01:12.085Z"
   },
   {
    "duration": 10,
    "start_time": "2025-03-20T21:01:14.150Z"
   },
   {
    "duration": 4,
    "start_time": "2025-03-20T21:01:15.943Z"
   },
   {
    "duration": 12,
    "start_time": "2025-03-20T21:06:33.518Z"
   },
   {
    "duration": 9,
    "start_time": "2025-03-20T21:07:14.323Z"
   },
   {
    "duration": 9,
    "start_time": "2025-03-20T21:07:38.510Z"
   },
   {
    "duration": 4,
    "start_time": "2025-03-20T21:07:41.766Z"
   },
   {
    "duration": 6,
    "start_time": "2025-03-20T21:07:44.821Z"
   },
   {
    "duration": 75,
    "start_time": "2025-03-20T21:07:48.415Z"
   },
   {
    "duration": 312,
    "start_time": "2025-03-20T21:07:51.118Z"
   },
   {
    "duration": 34,
    "start_time": "2025-03-20T21:07:52.543Z"
   },
   {
    "duration": 32,
    "start_time": "2025-03-20T21:07:54.591Z"
   },
   {
    "duration": 9,
    "start_time": "2025-03-20T21:07:56.223Z"
   },
   {
    "duration": 1334,
    "start_time": "2025-03-20T21:11:40.787Z"
   },
   {
    "duration": 69,
    "start_time": "2025-03-20T21:11:55.325Z"
   },
   {
    "duration": 286,
    "start_time": "2025-03-20T21:11:56.757Z"
   },
   {
    "duration": 34,
    "start_time": "2025-03-20T21:11:58.205Z"
   },
   {
    "duration": 30,
    "start_time": "2025-03-20T21:12:00.101Z"
   },
   {
    "duration": 1309,
    "start_time": "2025-03-20T21:12:02.830Z"
   },
   {
    "duration": 9,
    "start_time": "2025-03-20T21:12:24.785Z"
   },
   {
    "duration": 1600,
    "start_time": "2025-03-20T21:13:07.118Z"
   },
   {
    "duration": 3,
    "start_time": "2025-03-20T21:13:52.131Z"
   },
   {
    "duration": 1519,
    "start_time": "2025-03-20T21:13:53.196Z"
   },
   {
    "duration": 123,
    "start_time": "2025-03-20T21:13:58.405Z"
   },
   {
    "duration": 543,
    "start_time": "2025-03-20T21:13:59.700Z"
   },
   {
    "duration": 21,
    "start_time": "2025-03-20T21:14:03.755Z"
   },
   {
    "duration": 5,
    "start_time": "2025-03-20T21:14:08.181Z"
   },
   {
    "duration": 33,
    "start_time": "2025-03-20T21:14:08.982Z"
   },
   {
    "duration": 7,
    "start_time": "2025-03-20T21:14:12.150Z"
   },
   {
    "duration": 112,
    "start_time": "2025-03-20T21:14:17.030Z"
   },
   {
    "duration": 11,
    "start_time": "2025-03-20T21:14:19.310Z"
   },
   {
    "duration": 11,
    "start_time": "2025-03-20T21:14:20.239Z"
   },
   {
    "duration": 10,
    "start_time": "2025-03-20T21:14:22.239Z"
   },
   {
    "duration": 5,
    "start_time": "2025-03-20T21:14:24.256Z"
   },
   {
    "duration": 6,
    "start_time": "2025-03-20T21:14:28.720Z"
   },
   {
    "duration": 87,
    "start_time": "2025-03-20T21:14:32.400Z"
   },
   {
    "duration": 317,
    "start_time": "2025-03-20T21:14:34.969Z"
   },
   {
    "duration": 34,
    "start_time": "2025-03-20T21:14:36.849Z"
   },
   {
    "duration": 1389,
    "start_time": "2025-03-20T21:14:41.058Z"
   },
   {
    "duration": 32,
    "start_time": "2025-03-20T21:15:01.876Z"
   },
   {
    "duration": 9,
    "start_time": "2025-03-20T21:15:04.069Z"
   },
   {
    "duration": 28,
    "start_time": "2025-03-20T21:16:50.788Z"
   },
   {
    "duration": 1340,
    "start_time": "2025-03-20T21:18:03.005Z"
   },
   {
    "duration": 28,
    "start_time": "2025-03-20T21:18:12.559Z"
   },
   {
    "duration": 9,
    "start_time": "2025-03-20T21:18:37.073Z"
   },
   {
    "duration": 9,
    "start_time": "2025-03-20T21:19:27.393Z"
   },
   {
    "duration": 28,
    "start_time": "2025-03-20T21:20:35.857Z"
   },
   {
    "duration": 9,
    "start_time": "2025-03-20T21:20:37.657Z"
   },
   {
    "duration": 295,
    "start_time": "2025-03-20T21:22:45.603Z"
   },
   {
    "duration": 33,
    "start_time": "2025-03-20T21:22:47.346Z"
   },
   {
    "duration": 28,
    "start_time": "2025-03-20T21:22:53.355Z"
   },
   {
    "duration": 25,
    "start_time": "2025-03-20T21:24:44.547Z"
   },
   {
    "duration": 27,
    "start_time": "2025-03-20T21:24:50.338Z"
   },
   {
    "duration": 27,
    "start_time": "2025-03-20T21:25:59.996Z"
   },
   {
    "duration": 6,
    "start_time": "2025-03-20T21:26:30.639Z"
   },
   {
    "duration": 6,
    "start_time": "2025-03-20T21:27:02.524Z"
   },
   {
    "duration": 12,
    "start_time": "2025-03-20T21:27:17.870Z"
   },
   {
    "duration": 9,
    "start_time": "2025-03-20T21:27:32.848Z"
   },
   {
    "duration": 33,
    "start_time": "2025-03-20T21:27:39.928Z"
   },
   {
    "duration": 5,
    "start_time": "2025-03-20T21:28:38.744Z"
   },
   {
    "duration": 31,
    "start_time": "2025-03-20T21:28:47.049Z"
   },
   {
    "duration": 10,
    "start_time": "2025-03-20T21:28:50.377Z"
   },
   {
    "duration": 5,
    "start_time": "2025-03-20T21:29:02.443Z"
   },
   {
    "duration": 30,
    "start_time": "2025-03-20T21:30:41.346Z"
   },
   {
    "duration": 27,
    "start_time": "2025-03-20T21:30:44.208Z"
   },
   {
    "duration": 10,
    "start_time": "2025-03-20T21:30:47.056Z"
   },
   {
    "duration": 10,
    "start_time": "2025-03-20T21:32:40.655Z"
   },
   {
    "duration": 10,
    "start_time": "2025-03-20T21:33:02.017Z"
   },
   {
    "duration": 9,
    "start_time": "2025-03-20T21:33:05.706Z"
   },
   {
    "duration": 10,
    "start_time": "2025-03-20T21:34:26.276Z"
   },
   {
    "duration": 11,
    "start_time": "2025-03-20T21:34:36.101Z"
   },
   {
    "duration": 9,
    "start_time": "2025-03-20T21:34:40.629Z"
   },
   {
    "duration": 23,
    "start_time": "2025-03-20T21:36:03.800Z"
   },
   {
    "duration": 26,
    "start_time": "2025-03-20T21:36:37.556Z"
   },
   {
    "duration": 9,
    "start_time": "2025-03-20T21:36:45.885Z"
   },
   {
    "duration": 9,
    "start_time": "2025-03-20T21:37:12.025Z"
   },
   {
    "duration": 5,
    "start_time": "2025-03-20T21:38:24.058Z"
   },
   {
    "duration": 7,
    "start_time": "2025-03-20T21:40:58.597Z"
   },
   {
    "duration": 6,
    "start_time": "2025-03-20T21:41:38.355Z"
   },
   {
    "duration": 6,
    "start_time": "2025-03-20T21:41:59.869Z"
   },
   {
    "duration": 1109,
    "start_time": "2025-03-20T21:48:05.308Z"
   },
   {
    "duration": 1596,
    "start_time": "2025-03-20T21:48:06.420Z"
   },
   {
    "duration": 124,
    "start_time": "2025-03-20T21:48:08.018Z"
   },
   {
    "duration": 660,
    "start_time": "2025-03-20T21:48:08.144Z"
   },
   {
    "duration": 34,
    "start_time": "2025-03-20T21:48:08.807Z"
   },
   {
    "duration": 4,
    "start_time": "2025-03-20T21:48:08.843Z"
   },
   {
    "duration": 33,
    "start_time": "2025-03-20T21:48:08.849Z"
   },
   {
    "duration": 8,
    "start_time": "2025-03-20T21:48:08.883Z"
   },
   {
    "duration": 142,
    "start_time": "2025-03-20T21:48:08.892Z"
   },
   {
    "duration": 10,
    "start_time": "2025-03-20T21:48:09.035Z"
   },
   {
    "duration": 8,
    "start_time": "2025-03-20T21:48:09.047Z"
   },
   {
    "duration": 10,
    "start_time": "2025-03-20T21:48:09.056Z"
   },
   {
    "duration": 48,
    "start_time": "2025-03-20T21:48:09.067Z"
   },
   {
    "duration": 5,
    "start_time": "2025-03-20T21:48:09.118Z"
   },
   {
    "duration": 81,
    "start_time": "2025-03-20T21:48:09.125Z"
   },
   {
    "duration": 325,
    "start_time": "2025-03-20T21:48:09.207Z"
   },
   {
    "duration": 38,
    "start_time": "2025-03-20T21:48:09.534Z"
   },
   {
    "duration": 30,
    "start_time": "2025-03-20T21:48:09.573Z"
   },
   {
    "duration": 25,
    "start_time": "2025-03-20T21:48:09.605Z"
   },
   {
    "duration": 1029,
    "start_time": "2025-03-21T05:54:09.257Z"
   },
   {
    "duration": 1379,
    "start_time": "2025-03-21T05:54:10.288Z"
   },
   {
    "duration": 116,
    "start_time": "2025-03-21T05:54:11.671Z"
   },
   {
    "duration": 545,
    "start_time": "2025-03-21T05:54:11.789Z"
   },
   {
    "duration": 30,
    "start_time": "2025-03-21T05:54:12.335Z"
   },
   {
    "duration": 5,
    "start_time": "2025-03-21T05:54:12.366Z"
   },
   {
    "duration": 33,
    "start_time": "2025-03-21T05:54:12.373Z"
   },
   {
    "duration": 6,
    "start_time": "2025-03-21T05:54:12.408Z"
   },
   {
    "duration": 123,
    "start_time": "2025-03-21T05:54:12.415Z"
   },
   {
    "duration": 9,
    "start_time": "2025-03-21T05:54:12.540Z"
   },
   {
    "duration": 7,
    "start_time": "2025-03-21T05:54:12.556Z"
   },
   {
    "duration": 12,
    "start_time": "2025-03-21T05:54:12.565Z"
   },
   {
    "duration": 4,
    "start_time": "2025-03-21T05:54:12.578Z"
   },
   {
    "duration": 5,
    "start_time": "2025-03-21T05:54:12.583Z"
   },
   {
    "duration": 103,
    "start_time": "2025-03-21T05:54:12.589Z"
   },
   {
    "duration": 245,
    "start_time": "2025-03-21T05:54:12.693Z"
   },
   {
    "duration": 34,
    "start_time": "2025-03-21T05:54:12.939Z"
   },
   {
    "duration": 24,
    "start_time": "2025-03-21T05:54:12.974Z"
   },
   {
    "duration": 5,
    "start_time": "2025-03-21T05:54:12.999Z"
   },
   {
    "duration": 14,
    "start_time": "2025-03-21T05:56:39.472Z"
   },
   {
    "duration": 3,
    "start_time": "2025-03-21T06:03:41.881Z"
   },
   {
    "duration": 1180,
    "start_time": "2025-03-21T06:06:09.150Z"
   },
   {
    "duration": 1370,
    "start_time": "2025-03-21T06:06:10.332Z"
   },
   {
    "duration": 95,
    "start_time": "2025-03-21T06:06:11.704Z"
   },
   {
    "duration": 525,
    "start_time": "2025-03-21T06:06:11.800Z"
   },
   {
    "duration": 31,
    "start_time": "2025-03-21T06:06:12.326Z"
   },
   {
    "duration": 89,
    "start_time": "2025-03-21T06:06:12.358Z"
   },
   {
    "duration": 33,
    "start_time": "2025-03-21T06:06:12.448Z"
   },
   {
    "duration": 7,
    "start_time": "2025-03-21T06:06:12.482Z"
   },
   {
    "duration": 123,
    "start_time": "2025-03-21T06:06:12.490Z"
   },
   {
    "duration": 9,
    "start_time": "2025-03-21T06:06:12.616Z"
   },
   {
    "duration": 12,
    "start_time": "2025-03-21T06:06:12.626Z"
   },
   {
    "duration": 23,
    "start_time": "2025-03-21T06:06:12.639Z"
   },
   {
    "duration": 5,
    "start_time": "2025-03-21T06:06:12.663Z"
   },
   {
    "duration": 16,
    "start_time": "2025-03-21T06:06:12.669Z"
   },
   {
    "duration": 5,
    "start_time": "2025-03-21T06:06:12.687Z"
   },
   {
    "duration": 121,
    "start_time": "2025-03-21T06:06:12.693Z"
   },
   {
    "duration": 236,
    "start_time": "2025-03-21T06:06:12.815Z"
   },
   {
    "duration": 32,
    "start_time": "2025-03-21T06:06:13.055Z"
   },
   {
    "duration": 23,
    "start_time": "2025-03-21T06:06:13.088Z"
   },
   {
    "duration": 5,
    "start_time": "2025-03-21T06:06:13.112Z"
   },
   {
    "duration": 49,
    "start_time": "2025-03-21T14:02:26.247Z"
   },
   {
    "duration": 1322,
    "start_time": "2025-03-21T14:02:37.765Z"
   },
   {
    "duration": 2550,
    "start_time": "2025-03-21T14:02:39.089Z"
   },
   {
    "duration": 142,
    "start_time": "2025-03-21T14:02:41.641Z"
   },
   {
    "duration": 662,
    "start_time": "2025-03-21T14:02:41.785Z"
   },
   {
    "duration": 22,
    "start_time": "2025-03-21T14:02:42.449Z"
   },
   {
    "duration": 4,
    "start_time": "2025-03-21T14:02:42.473Z"
   },
   {
    "duration": 33,
    "start_time": "2025-03-21T14:02:42.506Z"
   },
   {
    "duration": 9,
    "start_time": "2025-03-21T14:02:42.541Z"
   },
   {
    "duration": 148,
    "start_time": "2025-03-21T14:02:42.551Z"
   },
   {
    "duration": 12,
    "start_time": "2025-03-21T14:02:42.701Z"
   },
   {
    "duration": 16,
    "start_time": "2025-03-21T14:02:42.715Z"
   },
   {
    "duration": 10,
    "start_time": "2025-03-21T14:02:42.733Z"
   },
   {
    "duration": 4,
    "start_time": "2025-03-21T14:02:42.744Z"
   },
   {
    "duration": 27,
    "start_time": "2025-03-21T14:02:42.751Z"
   },
   {
    "duration": 8,
    "start_time": "2025-03-21T14:02:42.779Z"
   },
   {
    "duration": 103,
    "start_time": "2025-03-21T14:02:42.788Z"
   },
   {
    "duration": 323,
    "start_time": "2025-03-21T14:02:42.893Z"
   },
   {
    "duration": 35,
    "start_time": "2025-03-21T14:02:43.218Z"
   },
   {
    "duration": 27,
    "start_time": "2025-03-21T14:02:43.254Z"
   },
   {
    "duration": 128,
    "start_time": "2025-03-21T14:02:43.282Z"
   },
   {
    "duration": 12,
    "start_time": "2025-03-21T14:02:51.614Z"
   },
   {
    "duration": 7,
    "start_time": "2025-03-21T14:05:10.048Z"
   },
   {
    "duration": 8,
    "start_time": "2025-03-21T14:06:11.935Z"
   },
   {
    "duration": 1149,
    "start_time": "2025-03-21T14:11:25.558Z"
   },
   {
    "duration": 1420,
    "start_time": "2025-03-21T14:11:26.708Z"
   },
   {
    "duration": 127,
    "start_time": "2025-03-21T14:11:28.129Z"
   },
   {
    "duration": 664,
    "start_time": "2025-03-21T14:11:28.258Z"
   },
   {
    "duration": 22,
    "start_time": "2025-03-21T14:11:28.924Z"
   },
   {
    "duration": 5,
    "start_time": "2025-03-21T14:11:28.947Z"
   },
   {
    "duration": 58,
    "start_time": "2025-03-21T14:11:28.954Z"
   },
   {
    "duration": 8,
    "start_time": "2025-03-21T14:11:29.014Z"
   },
   {
    "duration": 137,
    "start_time": "2025-03-21T14:11:29.023Z"
   },
   {
    "duration": 11,
    "start_time": "2025-03-21T14:11:29.162Z"
   },
   {
    "duration": 10,
    "start_time": "2025-03-21T14:11:29.174Z"
   },
   {
    "duration": 40,
    "start_time": "2025-03-21T14:11:29.185Z"
   },
   {
    "duration": 7,
    "start_time": "2025-03-21T14:11:29.226Z"
   },
   {
    "duration": 22,
    "start_time": "2025-03-21T14:11:29.235Z"
   },
   {
    "duration": 9,
    "start_time": "2025-03-21T14:11:29.259Z"
   },
   {
    "duration": 86,
    "start_time": "2025-03-21T14:11:29.269Z"
   },
   {
    "duration": 387,
    "start_time": "2025-03-21T14:11:29.356Z"
   },
   {
    "duration": 36,
    "start_time": "2025-03-21T14:11:29.744Z"
   },
   {
    "duration": 41,
    "start_time": "2025-03-21T14:11:29.782Z"
   },
   {
    "duration": 7,
    "start_time": "2025-03-21T14:11:29.825Z"
   },
   {
    "duration": 1230,
    "start_time": "2025-03-21T14:13:00.917Z"
   },
   {
    "duration": 2040,
    "start_time": "2025-03-21T14:13:02.150Z"
   },
   {
    "duration": 132,
    "start_time": "2025-03-21T14:13:04.192Z"
   },
   {
    "duration": 715,
    "start_time": "2025-03-21T14:13:04.326Z"
   },
   {
    "duration": 24,
    "start_time": "2025-03-21T14:13:05.043Z"
   },
   {
    "duration": 6,
    "start_time": "2025-03-21T14:13:05.068Z"
   },
   {
    "duration": 63,
    "start_time": "2025-03-21T14:13:05.075Z"
   },
   {
    "duration": 8,
    "start_time": "2025-03-21T14:13:05.140Z"
   },
   {
    "duration": 137,
    "start_time": "2025-03-21T14:13:05.149Z"
   },
   {
    "duration": 19,
    "start_time": "2025-03-21T14:13:05.288Z"
   },
   {
    "duration": 8,
    "start_time": "2025-03-21T14:13:05.309Z"
   },
   {
    "duration": 32,
    "start_time": "2025-03-21T14:13:05.319Z"
   },
   {
    "duration": 21,
    "start_time": "2025-03-21T14:13:05.353Z"
   },
   {
    "duration": 41,
    "start_time": "2025-03-21T14:13:05.377Z"
   },
   {
    "duration": 8,
    "start_time": "2025-03-21T14:13:05.419Z"
   },
   {
    "duration": 92,
    "start_time": "2025-03-21T14:13:05.429Z"
   },
   {
    "duration": 341,
    "start_time": "2025-03-21T14:13:05.523Z"
   },
   {
    "duration": 48,
    "start_time": "2025-03-21T14:13:05.866Z"
   },
   {
    "duration": 32,
    "start_time": "2025-03-21T14:13:05.916Z"
   },
   {
    "duration": 27,
    "start_time": "2025-03-21T14:13:05.950Z"
   },
   {
    "duration": 1316,
    "start_time": "2025-03-21T16:03:05.143Z"
   },
   {
    "duration": 1641,
    "start_time": "2025-03-21T16:03:06.461Z"
   },
   {
    "duration": 122,
    "start_time": "2025-03-21T16:03:08.103Z"
   },
   {
    "duration": 664,
    "start_time": "2025-03-21T16:03:08.227Z"
   },
   {
    "duration": 23,
    "start_time": "2025-03-21T16:03:08.893Z"
   },
   {
    "duration": 5,
    "start_time": "2025-03-21T16:03:08.917Z"
   },
   {
    "duration": 58,
    "start_time": "2025-03-21T16:03:08.924Z"
   },
   {
    "duration": 8,
    "start_time": "2025-03-21T16:03:08.984Z"
   },
   {
    "duration": 138,
    "start_time": "2025-03-21T16:03:08.994Z"
   },
   {
    "duration": 9,
    "start_time": "2025-03-21T16:03:09.135Z"
   },
   {
    "duration": 9,
    "start_time": "2025-03-21T16:03:09.145Z"
   },
   {
    "duration": 26,
    "start_time": "2025-03-21T16:03:09.156Z"
   },
   {
    "duration": 4,
    "start_time": "2025-03-21T16:03:09.184Z"
   },
   {
    "duration": 19,
    "start_time": "2025-03-21T16:03:09.190Z"
   },
   {
    "duration": 8,
    "start_time": "2025-03-21T16:03:09.210Z"
   },
   {
    "duration": 98,
    "start_time": "2025-03-21T16:03:09.220Z"
   },
   {
    "duration": 318,
    "start_time": "2025-03-21T16:03:09.320Z"
   },
   {
    "duration": 39,
    "start_time": "2025-03-21T16:03:09.639Z"
   },
   {
    "duration": 27,
    "start_time": "2025-03-21T16:03:09.679Z"
   },
   {
    "duration": 58,
    "start_time": "2025-03-21T16:03:09.708Z"
   },
   {
    "duration": 1305,
    "start_time": "2025-03-24T17:28:01.960Z"
   },
   {
    "duration": 1476,
    "start_time": "2025-03-24T17:28:03.267Z"
   },
   {
    "duration": 129,
    "start_time": "2025-03-24T17:28:04.744Z"
   },
   {
    "duration": 669,
    "start_time": "2025-03-24T17:28:04.874Z"
   },
   {
    "duration": 29,
    "start_time": "2025-03-24T17:28:05.544Z"
   },
   {
    "duration": 49,
    "start_time": "2025-03-24T17:28:05.574Z"
   },
   {
    "duration": 57,
    "start_time": "2025-03-24T17:28:05.625Z"
   },
   {
    "duration": 57,
    "start_time": "2025-03-24T17:28:05.684Z"
   },
   {
    "duration": 144,
    "start_time": "2025-03-24T17:28:05.742Z"
   },
   {
    "duration": 11,
    "start_time": "2025-03-24T17:28:05.888Z"
   },
   {
    "duration": 42,
    "start_time": "2025-03-24T17:28:05.900Z"
   },
   {
    "duration": 31,
    "start_time": "2025-03-24T17:28:05.944Z"
   },
   {
    "duration": 29,
    "start_time": "2025-03-24T17:28:05.976Z"
   },
   {
    "duration": 19,
    "start_time": "2025-03-24T17:28:06.007Z"
   },
   {
    "duration": 113,
    "start_time": "2025-03-24T17:28:06.027Z"
   },
   {
    "duration": 321,
    "start_time": "2025-03-24T17:28:06.141Z"
   },
   {
    "duration": 35,
    "start_time": "2025-03-24T17:28:06.464Z"
   },
   {
    "duration": 89,
    "start_time": "2025-03-24T17:28:06.500Z"
   },
   {
    "duration": 64,
    "start_time": "2025-03-24T17:28:06.590Z"
   },
   {
    "duration": 1061,
    "start_time": "2025-04-24T21:27:28.360Z"
   },
   {
    "duration": 2522,
    "start_time": "2025-04-24T21:27:29.423Z"
   },
   {
    "duration": 128,
    "start_time": "2025-04-24T21:27:31.947Z"
   },
   {
    "duration": 626,
    "start_time": "2025-04-24T21:27:32.077Z"
   },
   {
    "duration": 41,
    "start_time": "2025-04-24T21:27:32.706Z"
   },
   {
    "duration": 5,
    "start_time": "2025-04-24T21:27:32.749Z"
   },
   {
    "duration": 37,
    "start_time": "2025-04-24T21:27:32.756Z"
   },
   {
    "duration": 10,
    "start_time": "2025-04-24T21:27:32.795Z"
   },
   {
    "duration": 144,
    "start_time": "2025-04-24T21:27:32.807Z"
   },
   {
    "duration": 12,
    "start_time": "2025-04-24T21:27:32.953Z"
   },
   {
    "duration": 10,
    "start_time": "2025-04-24T21:27:32.966Z"
   },
   {
    "duration": 25,
    "start_time": "2025-04-24T21:27:32.978Z"
   },
   {
    "duration": 10,
    "start_time": "2025-04-24T21:27:33.005Z"
   },
   {
    "duration": 25,
    "start_time": "2025-04-24T21:27:33.017Z"
   },
   {
    "duration": 84,
    "start_time": "2025-04-24T21:27:33.044Z"
   },
   {
    "duration": 308,
    "start_time": "2025-04-24T21:27:33.139Z"
   },
   {
    "duration": 44,
    "start_time": "2025-04-24T21:27:33.448Z"
   },
   {
    "duration": 54,
    "start_time": "2025-04-24T21:27:33.494Z"
   },
   {
    "duration": 8,
    "start_time": "2025-04-24T21:27:33.550Z"
   }
  ],
  "kernelspec": {
   "display_name": "Python 3 (ipykernel)",
   "language": "python",
   "name": "python3"
  },
  "language_info": {
   "codemirror_mode": {
    "name": "ipython",
    "version": 3
   },
   "file_extension": ".py",
   "mimetype": "text/x-python",
   "name": "python",
   "nbconvert_exporter": "python",
   "pygments_lexer": "ipython3",
   "version": "3.9.5"
  },
  "toc": {
   "base_numbering": 1,
   "nav_menu": {},
   "number_sections": true,
   "sideBar": true,
   "skip_h1_title": true,
   "title_cell": "Table of Contents",
   "title_sidebar": "Contents",
   "toc_cell": false,
   "toc_position": {},
   "toc_section_display": true,
   "toc_window_display": false
  }
 },
 "nbformat": 4,
 "nbformat_minor": 2
}
